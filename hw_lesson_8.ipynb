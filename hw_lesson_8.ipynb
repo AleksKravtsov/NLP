{
  "cells": [
    {
      "cell_type": "markdown",
      "metadata": {
        "id": "JP4vZ7sExNv7"
      },
      "source": [
        "# Рекурентные сети для обработки последовательностей\n",
        "\n",
        "Выяснить какая архитектура больше подходит для задачи сентимент анализа на данных с вебинара\n",
        " \n",
        "1. построить свёрточную архитектуру\n",
        "2. построить различные архитектуры с RNN\n",
        "3. построить совместные архитектуры CNN -> RNN и/или (RNN -> CNN)\n",
        "4. сделать выводы что получилось лучше\n"
      ]
    },
    {
      "cell_type": "code",
      "execution_count": null,
      "metadata": {
        "id": "eMl32dDsxNwA"
      },
      "outputs": [],
      "source": [
        "import pandas as pd\n",
        "import numpy as np\n",
        "import matplotlib.pyplot as plt\n",
        "from string import punctuation\n",
        "from stop_words import get_stop_words\n",
        "from pymorphy2 import MorphAnalyzer\n",
        "import re\n",
        "from collections import Counter\n",
        "\n",
        "import nltk\n",
        "from nltk.stem import WordNetLemmatizer\n",
        "from tqdm import tqdm \n",
        "from multiprocessing import Pool\n",
        "from nltk.tokenize import word_tokenize\n",
        "from nltk.probability import FreqDist\n",
        "from razdel import tokenize\n",
        "from sklearn.metrics import accuracy_score\n",
        "\n",
        "import torch\n",
        "import torch.nn as nn\n",
        "import torch.nn.functional as F\n",
        "from torch.utils.data import DataLoader, Dataset\n",
        "from torchinfo import summary\n",
        "\n",
        "%matplotlib inline\n"
      ]
    },
    {
      "cell_type": "code",
      "source": [
        "RANDOM_STATE = 42"
      ],
      "metadata": {
        "id": "zSAMpHUIQl_N"
      },
      "execution_count": null,
      "outputs": []
    },
    {
      "cell_type": "markdown",
      "source": [
        "#Загрузка данных"
      ],
      "metadata": {
        "id": "0l6Sl_fpQppS"
      }
    },
    {
      "cell_type": "code",
      "source": [
        "from google.colab import drive\n",
        "drive.mount('/content/drive/')"
      ],
      "metadata": {
        "colab": {
          "base_uri": "https://localhost:8080/"
        },
        "id": "dKkEo3HHQrCY",
        "outputId": "dbda66a1-7910-4b32-bdf3-3693a5fe1c8d"
      },
      "execution_count": null,
      "outputs": [
        {
          "output_type": "stream",
          "name": "stdout",
          "text": [
            "Mounted at /content/drive/\n"
          ]
        }
      ]
    },
    {
      "cell_type": "code",
      "source": [
        "PATH = '/content/drive/MyDrive/Colab Notebooks/NLP/8 урок/data/'\n",
        "\n",
        "df_train = pd.read_csv(PATH + \"train.csv\", index_col='id')\n",
        "# df_test = pd.read_csv(PATH + \"test.csv\", index_col='id')\n",
        "df_val = pd.read_csv(PATH + \"val.csv\", index_col='id')"
      ],
      "metadata": {
        "id": "UsLYU5lmQ4B9"
      },
      "execution_count": null,
      "outputs": []
    },
    {
      "cell_type": "code",
      "source": [
        "df_train.head(5)"
      ],
      "metadata": {
        "colab": {
          "base_uri": "https://localhost:8080/",
          "height": 237
        },
        "id": "ZKNEUrfgvAI6",
        "outputId": "4c2ea37b-393e-40ac-d131-cc8bb420d241"
      },
      "execution_count": null,
      "outputs": [
        {
          "output_type": "execute_result",
          "data": {
            "text/plain": [
              "                                                 text  class\n",
              "id                                                          \n",
              "0   @alisachachka не уезжаааааааай. :(❤ я тоже не ...      0\n",
              "1   RT @GalyginVadim: Ребята и девчата!\\nВсе в кин...      1\n",
              "2   RT @ARTEM_KLYUSHIN: Кто ненавидит пробки ретви...      0\n",
              "3   RT @epupybobv: Хочется котлету по-киевски. Зап...      1\n",
              "4   @KarineKurganova @Yess__Boss босапопа есбоса н...      1"
            ],
            "text/html": [
              "\n",
              "  <div id=\"df-6774a57d-b23c-44fa-a8a9-3e7c5bd80ab1\">\n",
              "    <div class=\"colab-df-container\">\n",
              "      <div>\n",
              "<style scoped>\n",
              "    .dataframe tbody tr th:only-of-type {\n",
              "        vertical-align: middle;\n",
              "    }\n",
              "\n",
              "    .dataframe tbody tr th {\n",
              "        vertical-align: top;\n",
              "    }\n",
              "\n",
              "    .dataframe thead th {\n",
              "        text-align: right;\n",
              "    }\n",
              "</style>\n",
              "<table border=\"1\" class=\"dataframe\">\n",
              "  <thead>\n",
              "    <tr style=\"text-align: right;\">\n",
              "      <th></th>\n",
              "      <th>text</th>\n",
              "      <th>class</th>\n",
              "    </tr>\n",
              "    <tr>\n",
              "      <th>id</th>\n",
              "      <th></th>\n",
              "      <th></th>\n",
              "    </tr>\n",
              "  </thead>\n",
              "  <tbody>\n",
              "    <tr>\n",
              "      <th>0</th>\n",
              "      <td>@alisachachka не уезжаааааааай. :(❤ я тоже не ...</td>\n",
              "      <td>0</td>\n",
              "    </tr>\n",
              "    <tr>\n",
              "      <th>1</th>\n",
              "      <td>RT @GalyginVadim: Ребята и девчата!\\nВсе в кин...</td>\n",
              "      <td>1</td>\n",
              "    </tr>\n",
              "    <tr>\n",
              "      <th>2</th>\n",
              "      <td>RT @ARTEM_KLYUSHIN: Кто ненавидит пробки ретви...</td>\n",
              "      <td>0</td>\n",
              "    </tr>\n",
              "    <tr>\n",
              "      <th>3</th>\n",
              "      <td>RT @epupybobv: Хочется котлету по-киевски. Зап...</td>\n",
              "      <td>1</td>\n",
              "    </tr>\n",
              "    <tr>\n",
              "      <th>4</th>\n",
              "      <td>@KarineKurganova @Yess__Boss босапопа есбоса н...</td>\n",
              "      <td>1</td>\n",
              "    </tr>\n",
              "  </tbody>\n",
              "</table>\n",
              "</div>\n",
              "      <button class=\"colab-df-convert\" onclick=\"convertToInteractive('df-6774a57d-b23c-44fa-a8a9-3e7c5bd80ab1')\"\n",
              "              title=\"Convert this dataframe to an interactive table.\"\n",
              "              style=\"display:none;\">\n",
              "        \n",
              "  <svg xmlns=\"http://www.w3.org/2000/svg\" height=\"24px\"viewBox=\"0 0 24 24\"\n",
              "       width=\"24px\">\n",
              "    <path d=\"M0 0h24v24H0V0z\" fill=\"none\"/>\n",
              "    <path d=\"M18.56 5.44l.94 2.06.94-2.06 2.06-.94-2.06-.94-.94-2.06-.94 2.06-2.06.94zm-11 1L8.5 8.5l.94-2.06 2.06-.94-2.06-.94L8.5 2.5l-.94 2.06-2.06.94zm10 10l.94 2.06.94-2.06 2.06-.94-2.06-.94-.94-2.06-.94 2.06-2.06.94z\"/><path d=\"M17.41 7.96l-1.37-1.37c-.4-.4-.92-.59-1.43-.59-.52 0-1.04.2-1.43.59L10.3 9.45l-7.72 7.72c-.78.78-.78 2.05 0 2.83L4 21.41c.39.39.9.59 1.41.59.51 0 1.02-.2 1.41-.59l7.78-7.78 2.81-2.81c.8-.78.8-2.07 0-2.86zM5.41 20L4 18.59l7.72-7.72 1.47 1.35L5.41 20z\"/>\n",
              "  </svg>\n",
              "      </button>\n",
              "      \n",
              "  <style>\n",
              "    .colab-df-container {\n",
              "      display:flex;\n",
              "      flex-wrap:wrap;\n",
              "      gap: 12px;\n",
              "    }\n",
              "\n",
              "    .colab-df-convert {\n",
              "      background-color: #E8F0FE;\n",
              "      border: none;\n",
              "      border-radius: 50%;\n",
              "      cursor: pointer;\n",
              "      display: none;\n",
              "      fill: #1967D2;\n",
              "      height: 32px;\n",
              "      padding: 0 0 0 0;\n",
              "      width: 32px;\n",
              "    }\n",
              "\n",
              "    .colab-df-convert:hover {\n",
              "      background-color: #E2EBFA;\n",
              "      box-shadow: 0px 1px 2px rgba(60, 64, 67, 0.3), 0px 1px 3px 1px rgba(60, 64, 67, 0.15);\n",
              "      fill: #174EA6;\n",
              "    }\n",
              "\n",
              "    [theme=dark] .colab-df-convert {\n",
              "      background-color: #3B4455;\n",
              "      fill: #D2E3FC;\n",
              "    }\n",
              "\n",
              "    [theme=dark] .colab-df-convert:hover {\n",
              "      background-color: #434B5C;\n",
              "      box-shadow: 0px 1px 3px 1px rgba(0, 0, 0, 0.15);\n",
              "      filter: drop-shadow(0px 1px 2px rgba(0, 0, 0, 0.3));\n",
              "      fill: #FFFFFF;\n",
              "    }\n",
              "  </style>\n",
              "\n",
              "      <script>\n",
              "        const buttonEl =\n",
              "          document.querySelector('#df-6774a57d-b23c-44fa-a8a9-3e7c5bd80ab1 button.colab-df-convert');\n",
              "        buttonEl.style.display =\n",
              "          google.colab.kernel.accessAllowed ? 'block' : 'none';\n",
              "\n",
              "        async function convertToInteractive(key) {\n",
              "          const element = document.querySelector('#df-6774a57d-b23c-44fa-a8a9-3e7c5bd80ab1');\n",
              "          const dataTable =\n",
              "            await google.colab.kernel.invokeFunction('convertToInteractive',\n",
              "                                                     [key], {});\n",
              "          if (!dataTable) return;\n",
              "\n",
              "          const docLinkHtml = 'Like what you see? Visit the ' +\n",
              "            '<a target=\"_blank\" href=https://colab.research.google.com/notebooks/data_table.ipynb>data table notebook</a>'\n",
              "            + ' to learn more about interactive tables.';\n",
              "          element.innerHTML = '';\n",
              "          dataTable['output_type'] = 'display_data';\n",
              "          await google.colab.output.renderOutput(dataTable, element);\n",
              "          const docLink = document.createElement('div');\n",
              "          docLink.innerHTML = docLinkHtml;\n",
              "          element.appendChild(docLink);\n",
              "        }\n",
              "      </script>\n",
              "    </div>\n",
              "  </div>\n",
              "  "
            ]
          },
          "metadata": {},
          "execution_count": 10
        }
      ]
    },
    {
      "cell_type": "code",
      "source": [
        "df_val.head(5)"
      ],
      "metadata": {
        "colab": {
          "base_uri": "https://localhost:8080/",
          "height": 237
        },
        "id": "QR0k6zSlvIbK",
        "outputId": "14270e8b-2da9-401a-bf20-824a461b6d16"
      },
      "execution_count": null,
      "outputs": [
        {
          "output_type": "execute_result",
          "data": {
            "text/plain": [
              "                                                     text  class\n",
              "id                                                              \n",
              "181467  RT @TukvaSociopat: Максимальный репост! ))) #є...      1\n",
              "181468  чтоб у меня з.п. ежегодно индексировали на инд...      0\n",
              "181469        @chilyandlime нехуя мне не хорошо !!! :((((      0\n",
              "181470  @inafish нее , когда ногами ахахах когда?ахаха...      0\n",
              "181471  Хочу сделать как лучше,  а получаю как всегда. :(      0"
            ],
            "text/html": [
              "\n",
              "  <div id=\"df-1092d81a-4813-43e7-beac-279298ae382c\">\n",
              "    <div class=\"colab-df-container\">\n",
              "      <div>\n",
              "<style scoped>\n",
              "    .dataframe tbody tr th:only-of-type {\n",
              "        vertical-align: middle;\n",
              "    }\n",
              "\n",
              "    .dataframe tbody tr th {\n",
              "        vertical-align: top;\n",
              "    }\n",
              "\n",
              "    .dataframe thead th {\n",
              "        text-align: right;\n",
              "    }\n",
              "</style>\n",
              "<table border=\"1\" class=\"dataframe\">\n",
              "  <thead>\n",
              "    <tr style=\"text-align: right;\">\n",
              "      <th></th>\n",
              "      <th>text</th>\n",
              "      <th>class</th>\n",
              "    </tr>\n",
              "    <tr>\n",
              "      <th>id</th>\n",
              "      <th></th>\n",
              "      <th></th>\n",
              "    </tr>\n",
              "  </thead>\n",
              "  <tbody>\n",
              "    <tr>\n",
              "      <th>181467</th>\n",
              "      <td>RT @TukvaSociopat: Максимальный репост! ))) #є...</td>\n",
              "      <td>1</td>\n",
              "    </tr>\n",
              "    <tr>\n",
              "      <th>181468</th>\n",
              "      <td>чтоб у меня з.п. ежегодно индексировали на инд...</td>\n",
              "      <td>0</td>\n",
              "    </tr>\n",
              "    <tr>\n",
              "      <th>181469</th>\n",
              "      <td>@chilyandlime нехуя мне не хорошо !!! :((((</td>\n",
              "      <td>0</td>\n",
              "    </tr>\n",
              "    <tr>\n",
              "      <th>181470</th>\n",
              "      <td>@inafish нее , когда ногами ахахах когда?ахаха...</td>\n",
              "      <td>0</td>\n",
              "    </tr>\n",
              "    <tr>\n",
              "      <th>181471</th>\n",
              "      <td>Хочу сделать как лучше,  а получаю как всегда. :(</td>\n",
              "      <td>0</td>\n",
              "    </tr>\n",
              "  </tbody>\n",
              "</table>\n",
              "</div>\n",
              "      <button class=\"colab-df-convert\" onclick=\"convertToInteractive('df-1092d81a-4813-43e7-beac-279298ae382c')\"\n",
              "              title=\"Convert this dataframe to an interactive table.\"\n",
              "              style=\"display:none;\">\n",
              "        \n",
              "  <svg xmlns=\"http://www.w3.org/2000/svg\" height=\"24px\"viewBox=\"0 0 24 24\"\n",
              "       width=\"24px\">\n",
              "    <path d=\"M0 0h24v24H0V0z\" fill=\"none\"/>\n",
              "    <path d=\"M18.56 5.44l.94 2.06.94-2.06 2.06-.94-2.06-.94-.94-2.06-.94 2.06-2.06.94zm-11 1L8.5 8.5l.94-2.06 2.06-.94-2.06-.94L8.5 2.5l-.94 2.06-2.06.94zm10 10l.94 2.06.94-2.06 2.06-.94-2.06-.94-.94-2.06-.94 2.06-2.06.94z\"/><path d=\"M17.41 7.96l-1.37-1.37c-.4-.4-.92-.59-1.43-.59-.52 0-1.04.2-1.43.59L10.3 9.45l-7.72 7.72c-.78.78-.78 2.05 0 2.83L4 21.41c.39.39.9.59 1.41.59.51 0 1.02-.2 1.41-.59l7.78-7.78 2.81-2.81c.8-.78.8-2.07 0-2.86zM5.41 20L4 18.59l7.72-7.72 1.47 1.35L5.41 20z\"/>\n",
              "  </svg>\n",
              "      </button>\n",
              "      \n",
              "  <style>\n",
              "    .colab-df-container {\n",
              "      display:flex;\n",
              "      flex-wrap:wrap;\n",
              "      gap: 12px;\n",
              "    }\n",
              "\n",
              "    .colab-df-convert {\n",
              "      background-color: #E8F0FE;\n",
              "      border: none;\n",
              "      border-radius: 50%;\n",
              "      cursor: pointer;\n",
              "      display: none;\n",
              "      fill: #1967D2;\n",
              "      height: 32px;\n",
              "      padding: 0 0 0 0;\n",
              "      width: 32px;\n",
              "    }\n",
              "\n",
              "    .colab-df-convert:hover {\n",
              "      background-color: #E2EBFA;\n",
              "      box-shadow: 0px 1px 2px rgba(60, 64, 67, 0.3), 0px 1px 3px 1px rgba(60, 64, 67, 0.15);\n",
              "      fill: #174EA6;\n",
              "    }\n",
              "\n",
              "    [theme=dark] .colab-df-convert {\n",
              "      background-color: #3B4455;\n",
              "      fill: #D2E3FC;\n",
              "    }\n",
              "\n",
              "    [theme=dark] .colab-df-convert:hover {\n",
              "      background-color: #434B5C;\n",
              "      box-shadow: 0px 1px 3px 1px rgba(0, 0, 0, 0.15);\n",
              "      filter: drop-shadow(0px 1px 2px rgba(0, 0, 0, 0.3));\n",
              "      fill: #FFFFFF;\n",
              "    }\n",
              "  </style>\n",
              "\n",
              "      <script>\n",
              "        const buttonEl =\n",
              "          document.querySelector('#df-1092d81a-4813-43e7-beac-279298ae382c button.colab-df-convert');\n",
              "        buttonEl.style.display =\n",
              "          google.colab.kernel.accessAllowed ? 'block' : 'none';\n",
              "\n",
              "        async function convertToInteractive(key) {\n",
              "          const element = document.querySelector('#df-1092d81a-4813-43e7-beac-279298ae382c');\n",
              "          const dataTable =\n",
              "            await google.colab.kernel.invokeFunction('convertToInteractive',\n",
              "                                                     [key], {});\n",
              "          if (!dataTable) return;\n",
              "\n",
              "          const docLinkHtml = 'Like what you see? Visit the ' +\n",
              "            '<a target=\"_blank\" href=https://colab.research.google.com/notebooks/data_table.ipynb>data table notebook</a>'\n",
              "            + ' to learn more about interactive tables.';\n",
              "          element.innerHTML = '';\n",
              "          dataTable['output_type'] = 'display_data';\n",
              "          await google.colab.output.renderOutput(dataTable, element);\n",
              "          const docLink = document.createElement('div');\n",
              "          docLink.innerHTML = docLinkHtml;\n",
              "          element.appendChild(docLink);\n",
              "        }\n",
              "      </script>\n",
              "    </div>\n",
              "  </div>\n",
              "  "
            ]
          },
          "metadata": {},
          "execution_count": 11
        }
      ]
    },
    {
      "cell_type": "code",
      "source": [
        "df_train.shape, df_val.shape"
      ],
      "metadata": {
        "colab": {
          "base_uri": "https://localhost:8080/"
        },
        "id": "xFCbYrUGvStb",
        "outputId": "f0179fd5-cdb9-4222-e49e-a6c1eff6779a"
      },
      "execution_count": null,
      "outputs": [
        {
          "output_type": "execute_result",
          "data": {
            "text/plain": [
              "((181467, 2), (22683, 2))"
            ]
          },
          "metadata": {},
          "execution_count": 12
        }
      ]
    },
    {
      "cell_type": "markdown",
      "source": [
        "Распределение классов"
      ],
      "metadata": {
        "id": "FxK38qW3wnuY"
      }
    },
    {
      "cell_type": "code",
      "source": [
        "df_train['class'].value_counts()"
      ],
      "metadata": {
        "colab": {
          "base_uri": "https://localhost:8080/"
        },
        "id": "0CxILbPcwflb",
        "outputId": "b402c947-2bdd-4607-ad40-992ec69bcbd1"
      },
      "execution_count": null,
      "outputs": [
        {
          "output_type": "execute_result",
          "data": {
            "text/plain": [
              "1    92063\n",
              "0    89404\n",
              "Name: class, dtype: int64"
            ]
          },
          "metadata": {},
          "execution_count": 13
        }
      ]
    },
    {
      "cell_type": "markdown",
      "source": [
        "Дисбаланса нет, можно использовать метрику accuracy"
      ],
      "metadata": {
        "id": "Cajiy1pQxvZT"
      }
    },
    {
      "cell_type": "code",
      "source": [
        "df_train.info()"
      ],
      "metadata": {
        "colab": {
          "base_uri": "https://localhost:8080/"
        },
        "id": "aB17FEWYwkph",
        "outputId": "871f75b9-f733-400f-9978-5d991d012678"
      },
      "execution_count": null,
      "outputs": [
        {
          "output_type": "stream",
          "name": "stdout",
          "text": [
            "<class 'pandas.core.frame.DataFrame'>\n",
            "Int64Index: 181467 entries, 0 to 181466\n",
            "Data columns (total 2 columns):\n",
            " #   Column  Non-Null Count   Dtype \n",
            "---  ------  --------------   ----- \n",
            " 0   text    181467 non-null  object\n",
            " 1   class   181467 non-null  int64 \n",
            "dtypes: int64(1), object(1)\n",
            "memory usage: 4.2+ MB\n"
          ]
        }
      ]
    },
    {
      "cell_type": "markdown",
      "source": [
        "#Предобработка текста"
      ],
      "metadata": {
        "id": "fd3I-OI_0DRV"
      }
    },
    {
      "cell_type": "code",
      "source": [
        "sw = set(get_stop_words('ru'))\n",
        "lemmatize = WordNetLemmatizer()\n",
        "nltk.download('punkt')\n",
        "nltk.download('stopwords')\n",
        "nltk.download('wordnet')\n",
        "nltk.download('omw-1.4')"
      ],
      "metadata": {
        "colab": {
          "base_uri": "https://localhost:8080/"
        },
        "id": "xvwOtVMe0NJt",
        "outputId": "a818736e-172b-4a10-949e-14ee132f3cd5"
      },
      "execution_count": null,
      "outputs": [
        {
          "output_type": "stream",
          "name": "stderr",
          "text": [
            "[nltk_data] Downloading package punkt to /root/nltk_data...\n",
            "[nltk_data]   Unzipping tokenizers/punkt.zip.\n",
            "[nltk_data] Downloading package stopwords to /root/nltk_data...\n",
            "[nltk_data]   Unzipping corpora/stopwords.zip.\n",
            "[nltk_data] Downloading package wordnet to /root/nltk_data...\n",
            "[nltk_data] Downloading package omw-1.4 to /root/nltk_data...\n"
          ]
        },
        {
          "output_type": "execute_result",
          "data": {
            "text/plain": [
              "True"
            ]
          },
          "metadata": {},
          "execution_count": 16
        }
      ]
    },
    {
      "cell_type": "code",
      "source": [
        "def preprocess_txt(text):\n",
        "\n",
        "  # Убираем характерные для твиттера обращения с никами пользователей,  \n",
        "  # не хотим, чтобы модели переобучались на чьи-то ники\n",
        "  text = re.sub('@\\w+', '', text)\n",
        "\n",
        "  # Убираем символы переноса строки\n",
        "  text = re.sub(r'\\n', '', text)\n",
        "\n",
        "  # Убираем символы ретвита\n",
        "  text = re.sub(r'rt', '', text)\n",
        "\n",
        "  # Чистим пунктуацию\n",
        "  text = re.sub(fr'[{punctuation}]+', ' ', text)\n",
        "\n",
        "  # Убираем всё, не являющееся набором букв, + цифры\n",
        "  text = ' '.join(word for word in text.split() if word.isalpha())\n",
        "  # Приводим к общему регистру\n",
        "  text = text.lower().split()\n",
        "\n",
        "  # лемматизация + удаляем слова из стоп-листа\n",
        "  text = [lemmatize.lemmatize(word) for word in text if word not in sw]\n",
        "\n",
        "  # Возвращаем обработанный текст\n",
        "  return ' '.join(text)"
      ],
      "metadata": {
        "id": "_yxBo4idxJd4"
      },
      "execution_count": null,
      "outputs": []
    },
    {
      "cell_type": "code",
      "source": [
        "with Pool(12) as p:\n",
        "    df_train['processed'] = tqdm(p.imap(preprocess_txt, df_train['text']), total=len(df_train))\n",
        "    df_val['processed'] = tqdm(p.imap(preprocess_txt, df_val['text']), total=len(df_val))"
      ],
      "metadata": {
        "colab": {
          "base_uri": "https://localhost:8080/"
        },
        "id": "7nXoN5PW0wSL",
        "outputId": "f77e5197-bf50-42ae-f410-ba8e6b58e579"
      },
      "execution_count": null,
      "outputs": [
        {
          "output_type": "stream",
          "name": "stderr",
          "text": [
            "100%|██████████| 181467/181467 [00:36<00:00, 4914.91it/s]\n",
            "100%|██████████| 22683/22683 [00:02<00:00, 7778.01it/s]\n"
          ]
        }
      ]
    },
    {
      "cell_type": "code",
      "source": [
        "df_train['processed'].sample(10)"
      ],
      "metadata": {
        "colab": {
          "base_uri": "https://localhost:8080/"
        },
        "id": "90ILmljuxJYQ",
        "outputId": "80f91cc9-e50d-4bae-c20b-bb2213297504"
      },
      "execution_count": null,
      "outputs": [
        {
          "output_type": "execute_result",
          "data": {
            "text/plain": [
              "id\n",
              "107107                                 rt ленте своим аском\n",
              "72496     какое европейское светлое завтра украины скоро...\n",
              "177677                        ой чтоооо вообще пересмотрела\n",
              "44355     rt счастливым пей крайзи колу ночью бегай туал...\n",
              "45586     ищете процессе поиска куча никчёмных лентяев к...\n",
              "149065    осознала достаточно самодостаточна обожаю своб...\n",
              "11034     соседи сверху играют главную тему реквиема меч...\n",
              "137910                                                повод\n",
              "60405     внезапно planet war стартовал требует moonligh...\n",
              "142607    team viewer иной незаменимая программа портабе...\n",
              "Name: processed, dtype: object"
            ]
          },
          "metadata": {},
          "execution_count": 19
        }
      ]
    },
    {
      "cell_type": "markdown",
      "source": [
        "Для выбора длины последовательностей оценим распределение длин по датасету"
      ],
      "metadata": {
        "id": "E2imt7t650fS"
      }
    },
    {
      "cell_type": "code",
      "source": [
        "plt.figure(figsize=(4, 3))\n",
        "plt.hist(df_train['processed'].apply(lambda x: len(x.split(' '))), bins=30);"
      ],
      "metadata": {
        "colab": {
          "base_uri": "https://localhost:8080/",
          "height": 211
        },
        "id": "60QiWfrhxJKb",
        "outputId": "4cb60a19-223a-46c7-e245-bacb4ced8cd8"
      },
      "execution_count": null,
      "outputs": [
        {
          "output_type": "display_data",
          "data": {
            "text/plain": [
              "<Figure size 288x216 with 1 Axes>"
            ],
            "image/png": "[encoded data removed]"
          },
          "metadata": {
            "needs_background": "light"
          }
        }
      ]
    },
    {
      "cell_type": "code",
      "source": [
        "MAX_WORDS = 2000\n",
        "MAX_LEN = 20"
      ],
      "metadata": {
        "id": "_tvKgm7G6pGF"
      },
      "execution_count": null,
      "outputs": []
    },
    {
      "cell_type": "markdown",
      "source": [
        "Создадаю словарь:"
      ],
      "metadata": {
        "id": "4Ts-AM-K6tWW"
      }
    },
    {
      "cell_type": "code",
      "source": [
        "# корпус текста\n",
        "corpus = ' '.join(df_train['processed']).lower()\n",
        "corpus\n"
      ],
      "metadata": {
        "id": "K9OB4TeS6pA1"
      },
      "execution_count": null,
      "outputs": []
    },
    {
      "cell_type": "code",
      "source": [
        "# генерация токенов\n",
        "tokens = word_tokenize(corpus)\n",
        "tokens[:5]"
      ],
      "metadata": {
        "colab": {
          "base_uri": "https://localhost:8080/"
        },
        "id": "SKq-Hujk8Xhq",
        "outputId": "31b0dfd5-e60f-44b5-f28f-00fc46f00e3f"
      },
      "execution_count": null,
      "outputs": [
        {
          "output_type": "execute_result",
          "data": {
            "text/plain": [
              "['уезжаааааааай', 'хочу', 'уезжала', 'rt', 'ребята']"
            ]
          },
          "metadata": {},
          "execution_count": 23
        }
      ]
    },
    {
      "cell_type": "code",
      "source": [
        "dist = FreqDist(tokens)\n",
        "tokens_top = [pair[0] for pair in dist.most_common(MAX_WORDS-1)]  # вычитание 1 для padding\n",
        "len(tokens_top), tokens_top[:10]"
      ],
      "metadata": {
        "colab": {
          "base_uri": "https://localhost:8080/"
        },
        "id": "IGl_YPvp7wQa",
        "outputId": "2e8c6fd5-b40d-448c-9e61-eb606c54cb6b"
      },
      "execution_count": null,
      "outputs": [
        {
          "output_type": "execute_result",
          "data": {
            "text/plain": [
              "(1999,\n",
              " ['rt', 'http', 't', 'co', 'd', 'хочу', 'завтра', 'вообще', 'могу', 'блин'])"
            ]
          },
          "metadata": {},
          "execution_count": 24
        }
      ]
    },
    {
      "cell_type": "code",
      "source": [
        "vocabulary = {v: k for k, v in dict(enumerate(tokens_top, 1)).items()}\n",
        "# vocabulary"
      ],
      "metadata": {
        "id": "-wNM-v73-TDu"
      },
      "execution_count": null,
      "outputs": []
    },
    {
      "cell_type": "code",
      "source": [
        "len(vocabulary)"
      ],
      "metadata": {
        "colab": {
          "base_uri": "https://localhost:8080/"
        },
        "id": "-ZO0ItoV8D5I",
        "outputId": "fdc7cadb-fcab-4612-ffac-b41f01afc313"
      },
      "execution_count": null,
      "outputs": [
        {
          "output_type": "execute_result",
          "data": {
            "text/plain": [
              "1999"
            ]
          },
          "metadata": {},
          "execution_count": 28
        }
      ]
    },
    {
      "cell_type": "code",
      "source": [
        "VOCAB_SIZE = len(vocabulary) + 1"
      ],
      "metadata": {
        "id": "XXYMunX3H2fa"
      },
      "execution_count": null,
      "outputs": []
    },
    {
      "cell_type": "code",
      "source": [
        "# преобразование текста в последовательность\n",
        "def text_to_sequence(text, maxlen):\n",
        "    result = []\n",
        "    tokens = word_tokenize(text)\n",
        "    # tokens_filtered = [word for word in tokens if word.isalnum()]\n",
        "    for word in tokens:\n",
        "        if word in vocabulary:\n",
        "            result.append(vocabulary[word]) # если слово в топе токенов, то добавляем его индекс в результат\n",
        "\n",
        "    padding = [0] * (maxlen-len(result)) # нули дополняющие до maxlen\n",
        "    return result[-maxlen:] + padding"
      ],
      "metadata": {
        "id": "2pySufkD8D2U"
      },
      "execution_count": null,
      "outputs": []
    },
    {
      "cell_type": "code",
      "source": [
        "%%time\n",
        "x_train = np.asarray([text_to_sequence(text, MAX_LEN) for text in df_train['processed']])\n",
        "x_valid = np.asarray([text_to_sequence(text, MAX_LEN) for text in df_val['processed']])\n",
        "x_train.shape"
      ],
      "metadata": {
        "colab": {
          "base_uri": "https://localhost:8080/"
        },
        "id": "1KqbR6_G8Dzh",
        "outputId": "abebe75c-06d3-4aa6-8dd4-ef0f80240fc6"
      },
      "execution_count": null,
      "outputs": [
        {
          "output_type": "stream",
          "name": "stdout",
          "text": [
            "CPU times: user 17 s, sys: 0 ns, total: 17 s\n",
            "Wall time: 17 s\n"
          ]
        },
        {
          "output_type": "execute_result",
          "data": {
            "text/plain": [
              "(181467, 20)"
            ]
          },
          "metadata": {},
          "execution_count": 31
        }
      ]
    },
    {
      "cell_type": "code",
      "source": [
        "print(f\"Оригинальная строка: {df_train['processed'].iloc[8]}\")\n",
        "print(f\"Обработанная строка: {x_train[8]}\")"
      ],
      "metadata": {
        "colab": {
          "base_uri": "https://localhost:8080/"
        },
        "id": "4vLq5GXn8Dwt",
        "outputId": "dff5cf6f-8fa9-4940-e637-97694258094e"
      },
      "execution_count": null,
      "outputs": [
        {
          "output_type": "stream",
          "name": "stdout",
          "text": [
            "Оригинальная строка: неудачик поцарапал экран телефоне\n",
            "Обработанная строка: [704   0   0   0   0   0   0   0   0   0   0   0   0   0   0   0   0   0\n",
            "   0   0]\n"
          ]
        }
      ]
    },
    {
      "cell_type": "code",
      "source": [
        "# Training\n",
        "batch_size = 256"
      ],
      "metadata": {
        "id": "0SHtwj6nA4Qe"
      },
      "execution_count": null,
      "outputs": []
    },
    {
      "cell_type": "code",
      "source": [
        "class DataWrapper(Dataset):\n",
        "    def __init__(self, data, target, transform=None):\n",
        "        self.data = torch.from_numpy(data).long() # преобразуем в целочисленный тензор\n",
        "        self.target = torch.from_numpy(target).long() # преобразуем в целочисленный тензор\n",
        "        self.transform = transform\n",
        "        \n",
        "    def __getitem__(self, index):\n",
        "        x = self.data[index] # индексация данных\n",
        "        y = self.target[index] # индексация целевой переменной\n",
        "        \n",
        "        if self.transform:\n",
        "            x = self.transform(x)\n",
        "            \n",
        "        return x, y\n",
        "    \n",
        "    def __len__(self):\n",
        "        return len(self.data)"
      ],
      "metadata": {
        "id": "naopj58-8Dtv"
      },
      "execution_count": null,
      "outputs": []
    },
    {
      "cell_type": "code",
      "source": [
        "torch.random.manual_seed(RANDOM_STATE)\n",
        "\n",
        "train_dataset = DataWrapper(x_train, df_train['class'].values)\n",
        "train_loader = DataLoader(train_dataset, batch_size=batch_size, shuffle=True, drop_last=True)\n",
        "\n",
        "val_dataset = DataWrapper(x_valid, df_val['class'].values)\n",
        "val_loader = DataLoader(val_dataset, batch_size=batch_size, shuffle=True, drop_last=True)"
      ],
      "metadata": {
        "id": "DhuYEXVI8Dq9"
      },
      "execution_count": null,
      "outputs": []
    },
    {
      "cell_type": "code",
      "source": [
        "device = 'cuda' if torch.cuda.is_available() else 'cpu'\n",
        "device"
      ],
      "metadata": {
        "colab": {
          "base_uri": "https://localhost:8080/",
          "height": 36
        },
        "id": "c0ZSL-5UJ0fU",
        "outputId": "61a5ff13-5ebd-4390-81fa-58a89842ff0e"
      },
      "execution_count": null,
      "outputs": [
        {
          "output_type": "execute_result",
          "data": {
            "text/plain": [
              "'cuda'"
            ],
            "application/vnd.google.colaboratory.intrinsic+json": {
              "type": "string"
            }
          },
          "metadata": {},
          "execution_count": 42
        }
      ]
    },
    {
      "cell_type": "markdown",
      "source": [
        "#Построение моделей"
      ],
      "metadata": {
        "id": "i4pNvRe5UgdH"
      }
    },
    {
      "cell_type": "markdown",
      "source": [
        "CNN"
      ],
      "metadata": {
        "id": "n0INpGq2JQBK"
      }
    },
    {
      "cell_type": "code",
      "source": [
        "class ConvNet(nn.Module):\n",
        "    def __init__(self, embed_dim=128, conv_filters=128, kernel_size=3, conv_stride=1):\n",
        "        torch.random.manual_seed(RANDOM_STATE)\n",
        "        super().__init__()\n",
        "        \n",
        "        self.embedding = nn.Embedding(VOCAB_SIZE, embed_dim, padding_idx=0)\n",
        "        \n",
        "        self.conv = nn.Sequential(nn.Conv1d(embed_dim, conv_filters, kernel_size=kernel_size, stride=conv_stride),\n",
        "                                  nn.MaxPool1d(MAX_LEN // conv_stride - kernel_size + 1),\n",
        "                                  nn.ReLU())\n",
        "        \n",
        "        self.fc1 = nn.Sequential(nn.Linear(conv_filters, conv_filters // 2),\n",
        "                                 nn.ReLU())\n",
        "        \n",
        "        self.dp02 = nn.Dropout(0.2)\n",
        "        self.dp05 = nn.Dropout(0.5)\n",
        "        self.fc2 = nn.Linear(conv_filters // 2, 1)\n",
        "        \n",
        "    def forward(self, x):\n",
        "        x = self.embedding(x)\n",
        "        x = self.dp02(x)\n",
        "        x = x.permute(0, 2 ,1)\n",
        "        x = torch.squeeze(self.conv(x))\n",
        "        x = self.fc1(x)\n",
        "        x = self.dp05(x)\n",
        "        x = self.fc2(x)\n",
        "        x = torch.sigmoid(x)\n",
        "        return x"
      ],
      "metadata": {
        "id": "EqWQ7Ff5I7EJ"
      },
      "execution_count": null,
      "outputs": []
    },
    {
      "cell_type": "code",
      "source": [
        "summary(ConvNet())"
      ],
      "metadata": {
        "colab": {
          "base_uri": "https://localhost:8080/"
        },
        "id": "YT7uHPU1I7Ay",
        "outputId": "06fe20fb-d8c9-4916-e2cf-b733ec565428"
      },
      "execution_count": null,
      "outputs": [
        {
          "output_type": "execute_result",
          "data": {
            "text/plain": [
              "=================================================================\n",
              "Layer (type:depth-idx)                   Param #\n",
              "=================================================================\n",
              "ConvNet                                  --\n",
              "├─Embedding: 1-1                         256,000\n",
              "├─Sequential: 1-2                        --\n",
              "│    └─Conv1d: 2-1                       49,280\n",
              "│    └─MaxPool1d: 2-2                    --\n",
              "│    └─ReLU: 2-3                         --\n",
              "├─Sequential: 1-3                        --\n",
              "│    └─Linear: 2-4                       8,256\n",
              "│    └─ReLU: 2-5                         --\n",
              "├─Dropout: 1-4                           --\n",
              "├─Dropout: 1-5                           --\n",
              "├─Linear: 1-6                            65\n",
              "=================================================================\n",
              "Total params: 313,601\n",
              "Trainable params: 313,601\n",
              "Non-trainable params: 0\n",
              "================================================================="
            ]
          },
          "metadata": {},
          "execution_count": 39
        }
      ]
    },
    {
      "cell_type": "code",
      "source": [
        "# Функция для обучения сетей\n",
        "def train_nn(net, epochs=5, lr=1e-3):\n",
        "    \n",
        "    torch.random.manual_seed(RANDOM_STATE)\n",
        "    torch.backends.cudnn.deterministic = True\n",
        "\n",
        "    net = net.to(device)\n",
        "\n",
        "    optimizer = torch.optim.Adam(net.parameters(), lr=lr)\n",
        "    criterion = nn.BCELoss()\n",
        "\n",
        "    for epoch in range(epochs):\n",
        "        train_losses = np.array([])\n",
        "        test_losses = np.array([])\n",
        "        train_metrics = np.array([])\n",
        "        test_metrics = np.array([])\n",
        "\n",
        "        for i, (inputs, labels) in enumerate(train_loader):\n",
        "            net.train()\n",
        "            inputs, labels = inputs.to(device), labels.to(device)\n",
        "\n",
        "            optimizer.zero_grad()\n",
        "            outputs = net(inputs)\n",
        "            \n",
        "            loss = criterion(outputs, labels.float().view(-1, 1))\n",
        "            loss.backward()\n",
        "            optimizer.step()\n",
        "\n",
        "            train_losses = np.append(train_losses, loss.item())\n",
        "\n",
        "            net.eval()\n",
        "            outputs = net(inputs)\n",
        "            train_metrics = np.append(train_metrics, accuracy_score(labels.cpu(), torch.squeeze(outputs > 0.5).cpu()))\n",
        "\n",
        "        print(f'Epoch [{epoch + 1}/{epochs}]. ' \\\n",
        "              f'Train Loss: {train_losses.mean():.3f}. ' \\\n",
        "              f'Train Accuracy: {train_metrics.mean():.3f}', end='. ')\n",
        "\n",
        "\n",
        "        with torch.no_grad():\n",
        "            for i, (inputs, labels) in enumerate(val_loader):\n",
        "\n",
        "                inputs, labels = inputs.to(device), labels.to(device)\n",
        "                outputs = net(inputs)\n",
        "\n",
        "                loss = criterion(outputs, labels.float().view(-1, 1))\n",
        "                test_losses = np.append(test_losses, loss.item())\n",
        "                test_metrics = np.append(test_metrics, accuracy_score(labels.cpu(), torch.squeeze(outputs > 0.5).cpu()))\n",
        "                \n",
        "        print(f'Test loss: {test_losses.mean():.3f}. Test Accuracy: {test_metrics.mean():.3f}')\n",
        "\n",
        "    print('Training is finished!')"
      ],
      "metadata": {
        "id": "gbmpGVQnI69s"
      },
      "execution_count": null,
      "outputs": []
    },
    {
      "cell_type": "code",
      "source": [
        "conv_model = ConvNet(embed_dim=128, conv_filters=128, kernel_size=5, conv_stride=1)\n",
        "CNN = train_nn(conv_model, epochs=40, lr=1e-3)"
      ],
      "metadata": {
        "colab": {
          "base_uri": "https://localhost:8080/"
        },
        "id": "oJ8B3jRcI67M",
        "outputId": "88e3ef76-3b88-436c-fa07-4c5b0064864d"
      },
      "execution_count": null,
      "outputs": [
        {
          "output_type": "stream",
          "name": "stdout",
          "text": [
            "Epoch [1/40]. Train Loss: 0.594. Train Accuracy: 0.671. Test loss: 0.560. Test Accuracy: 0.687\n",
            "Epoch [2/40]. Train Loss: 0.550. Train Accuracy: 0.714. Test loss: 0.544. Test Accuracy: 0.703\n",
            "Epoch [3/40]. Train Loss: 0.535. Train Accuracy: 0.727. Test loss: 0.541. Test Accuracy: 0.705\n",
            "Epoch [4/40]. Train Loss: 0.522. Train Accuracy: 0.737. Test loss: 0.543. Test Accuracy: 0.704\n",
            "Epoch [5/40]. Train Loss: 0.512. Train Accuracy: 0.745. Test loss: 0.545. Test Accuracy: 0.704\n",
            "Epoch [6/40]. Train Loss: 0.502. Train Accuracy: 0.754. Test loss: 0.545. Test Accuracy: 0.705\n",
            "Epoch [7/40]. Train Loss: 0.494. Train Accuracy: 0.761. Test loss: 0.547. Test Accuracy: 0.702\n",
            "Epoch [8/40]. Train Loss: 0.485. Train Accuracy: 0.767. Test loss: 0.552. Test Accuracy: 0.704\n",
            "Epoch [9/40]. Train Loss: 0.476. Train Accuracy: 0.774. Test loss: 0.556. Test Accuracy: 0.704\n",
            "Epoch [10/40]. Train Loss: 0.469. Train Accuracy: 0.779. Test loss: 0.564. Test Accuracy: 0.702\n",
            "Epoch [11/40]. Train Loss: 0.462. Train Accuracy: 0.784. Test loss: 0.572. Test Accuracy: 0.706\n",
            "Epoch [12/40]. Train Loss: 0.456. Train Accuracy: 0.788. Test loss: 0.570. Test Accuracy: 0.702\n",
            "Epoch [13/40]. Train Loss: 0.449. Train Accuracy: 0.793. Test loss: 0.576. Test Accuracy: 0.701\n",
            "Epoch [14/40]. Train Loss: 0.444. Train Accuracy: 0.797. Test loss: 0.591. Test Accuracy: 0.704\n",
            "Epoch [15/40]. Train Loss: 0.437. Train Accuracy: 0.800. Test loss: 0.579. Test Accuracy: 0.701\n",
            "Epoch [16/40]. Train Loss: 0.433. Train Accuracy: 0.803. Test loss: 0.591. Test Accuracy: 0.701\n",
            "Epoch [17/40]. Train Loss: 0.428. Train Accuracy: 0.806. Test loss: 0.592. Test Accuracy: 0.699\n",
            "Epoch [18/40]. Train Loss: 0.422. Train Accuracy: 0.809. Test loss: 0.605. Test Accuracy: 0.700\n",
            "Epoch [19/40]. Train Loss: 0.418. Train Accuracy: 0.812. Test loss: 0.600. Test Accuracy: 0.699\n",
            "Epoch [20/40]. Train Loss: 0.415. Train Accuracy: 0.814. Test loss: 0.614. Test Accuracy: 0.702\n",
            "Epoch [21/40]. Train Loss: 0.411. Train Accuracy: 0.817. Test loss: 0.619. Test Accuracy: 0.703\n",
            "Epoch [22/40]. Train Loss: 0.407. Train Accuracy: 0.819. Test loss: 0.615. Test Accuracy: 0.700\n",
            "Epoch [23/40]. Train Loss: 0.404. Train Accuracy: 0.821. Test loss: 0.623. Test Accuracy: 0.698\n",
            "Epoch [24/40]. Train Loss: 0.401. Train Accuracy: 0.824. Test loss: 0.636. Test Accuracy: 0.699\n",
            "Epoch [25/40]. Train Loss: 0.398. Train Accuracy: 0.825. Test loss: 0.637. Test Accuracy: 0.699\n",
            "Epoch [26/40]. Train Loss: 0.394. Train Accuracy: 0.827. Test loss: 0.636. Test Accuracy: 0.702\n",
            "Epoch [27/40]. Train Loss: 0.391. Train Accuracy: 0.828. Test loss: 0.647. Test Accuracy: 0.700\n",
            "Epoch [28/40]. Train Loss: 0.387. Train Accuracy: 0.831. Test loss: 0.658. Test Accuracy: 0.696\n",
            "Epoch [29/40]. Train Loss: 0.386. Train Accuracy: 0.832. Test loss: 0.668. Test Accuracy: 0.698\n",
            "Epoch [30/40]. Train Loss: 0.382. Train Accuracy: 0.835. Test loss: 0.670. Test Accuracy: 0.697\n",
            "Epoch [31/40]. Train Loss: 0.380. Train Accuracy: 0.836. Test loss: 0.662. Test Accuracy: 0.694\n",
            "Epoch [32/40]. Train Loss: 0.378. Train Accuracy: 0.838. Test loss: 0.682. Test Accuracy: 0.695\n",
            "Epoch [33/40]. Train Loss: 0.375. Train Accuracy: 0.840. Test loss: 0.671. Test Accuracy: 0.692\n",
            "Epoch [34/40]. Train Loss: 0.371. Train Accuracy: 0.841. Test loss: 0.672. Test Accuracy: 0.695\n",
            "Epoch [35/40]. Train Loss: 0.370. Train Accuracy: 0.842. Test loss: 0.690. Test Accuracy: 0.695\n",
            "Epoch [36/40]. Train Loss: 0.366. Train Accuracy: 0.844. Test loss: 0.697. Test Accuracy: 0.697\n",
            "Epoch [37/40]. Train Loss: 0.364. Train Accuracy: 0.845. Test loss: 0.689. Test Accuracy: 0.692\n",
            "Epoch [38/40]. Train Loss: 0.361. Train Accuracy: 0.846. Test loss: 0.684. Test Accuracy: 0.694\n",
            "Epoch [39/40]. Train Loss: 0.359. Train Accuracy: 0.847. Test loss: 0.681. Test Accuracy: 0.695\n",
            "Epoch [40/40]. Train Loss: 0.358. Train Accuracy: 0.849. Test loss: 0.690. Test Accuracy: 0.694\n",
            "Training is finished!\n"
          ]
        }
      ]
    },
    {
      "cell_type": "markdown",
      "source": [
        "Свёрточная модель показала точность чуть ниже 70%."
      ],
      "metadata": {
        "id": "a8G0AT4mPMus"
      }
    },
    {
      "cell_type": "markdown",
      "source": [
        "RNN"
      ],
      "metadata": {
        "id": "qHpUTr2fPDfC"
      }
    },
    {
      "cell_type": "code",
      "source": [
        "class GRUFixedLen(nn.Module) :\n",
        "    def __init__(self, embed_dim=128, hidden_dim=128, use_last=True):\n",
        "        super().__init__()\n",
        "        self.use_last = use_last\n",
        "        self.embeddings = nn.Embedding(VOCAB_SIZE, embed_dim, padding_idx=0)\n",
        "        self.gru = nn.GRU( embed_dim, hidden_dim, num_layers=2, batch_first=True)\n",
        "        self.linear = nn.Linear(hidden_dim, 1)\n",
        "        self.dropout = nn.Dropout(0.2)\n",
        "        \n",
        "    def forward(self, x):\n",
        "        x = self.embeddings(x)\n",
        "        x = self.dropout(x)\n",
        "        gru_out, ht = self.gru(x)\n",
        "       \n",
        "        if self.use_last:\n",
        "            last_tensor = gru_out[:,-1,:]\n",
        "        else:\n",
        "            # use mean\n",
        "            last_tensor = torch.mean(gru_out[:,:], dim=1)\n",
        "    \n",
        "        out = self.linear(last_tensor)\n",
        "        return torch.sigmoid(out)"
      ],
      "metadata": {
        "id": "7yYxDsJz8DlW"
      },
      "execution_count": null,
      "outputs": []
    },
    {
      "cell_type": "code",
      "source": [
        "summary(GRUFixedLen())"
      ],
      "metadata": {
        "colab": {
          "base_uri": "https://localhost:8080/"
        },
        "id": "Lh3WnW-oMMXE",
        "outputId": "923bdf31-692b-4003-c373-e40900c39dc2"
      },
      "execution_count": null,
      "outputs": [
        {
          "output_type": "execute_result",
          "data": {
            "text/plain": [
              "=================================================================\n",
              "Layer (type:depth-idx)                   Param #\n",
              "=================================================================\n",
              "GRUFixedLen                              --\n",
              "├─Embedding: 1-1                         256,000\n",
              "├─GRU: 1-2                               198,144\n",
              "├─Linear: 1-3                            129\n",
              "├─Dropout: 1-4                           --\n",
              "=================================================================\n",
              "Total params: 454,273\n",
              "Trainable params: 454,273\n",
              "Non-trainable params: 0\n",
              "================================================================="
            ]
          },
          "metadata": {},
          "execution_count": 51
        }
      ]
    },
    {
      "cell_type": "code",
      "source": [
        "rnn_model = GRUFixedLen(embed_dim=128, hidden_dim=128, use_last=True)\n",
        "rnn = train_nn(rnn_model, epochs=40, lr=5e-4)"
      ],
      "metadata": {
        "colab": {
          "base_uri": "https://localhost:8080/"
        },
        "id": "a9F_sl51MMUz",
        "outputId": "cf7efec9-b1a7-4196-e74b-df4a4a759d46"
      },
      "execution_count": null,
      "outputs": [
        {
          "output_type": "stream",
          "name": "stdout",
          "text": [
            "Epoch [1/40]. Train Loss: 0.593. Train Accuracy: 0.665. Test loss: 0.556. Test Accuracy: 0.692\n",
            "Epoch [2/40]. Train Loss: 0.550. Train Accuracy: 0.710. Test loss: 0.546. Test Accuracy: 0.702\n",
            "Epoch [3/40]. Train Loss: 0.541. Train Accuracy: 0.717. Test loss: 0.543. Test Accuracy: 0.704\n",
            "Epoch [4/40]. Train Loss: 0.535. Train Accuracy: 0.719. Test loss: 0.540. Test Accuracy: 0.704\n",
            "Epoch [5/40]. Train Loss: 0.530. Train Accuracy: 0.723. Test loss: 0.543. Test Accuracy: 0.705\n",
            "Epoch [6/40]. Train Loss: 0.526. Train Accuracy: 0.726. Test loss: 0.538. Test Accuracy: 0.706\n",
            "Epoch [7/40]. Train Loss: 0.522. Train Accuracy: 0.728. Test loss: 0.537. Test Accuracy: 0.708\n",
            "Epoch [8/40]. Train Loss: 0.518. Train Accuracy: 0.731. Test loss: 0.538. Test Accuracy: 0.706\n",
            "Epoch [9/40]. Train Loss: 0.515. Train Accuracy: 0.735. Test loss: 0.538. Test Accuracy: 0.710\n",
            "Epoch [10/40]. Train Loss: 0.510. Train Accuracy: 0.738. Test loss: 0.537. Test Accuracy: 0.707\n",
            "Epoch [11/40]. Train Loss: 0.506. Train Accuracy: 0.742. Test loss: 0.546. Test Accuracy: 0.707\n",
            "Epoch [12/40]. Train Loss: 0.502. Train Accuracy: 0.745. Test loss: 0.545. Test Accuracy: 0.708\n",
            "Epoch [13/40]. Train Loss: 0.497. Train Accuracy: 0.749. Test loss: 0.544. Test Accuracy: 0.709\n",
            "Epoch [14/40]. Train Loss: 0.493. Train Accuracy: 0.753. Test loss: 0.550. Test Accuracy: 0.709\n",
            "Epoch [15/40]. Train Loss: 0.488. Train Accuracy: 0.757. Test loss: 0.546. Test Accuracy: 0.703\n",
            "Epoch [16/40]. Train Loss: 0.484. Train Accuracy: 0.761. Test loss: 0.554. Test Accuracy: 0.706\n",
            "Epoch [17/40]. Train Loss: 0.479. Train Accuracy: 0.765. Test loss: 0.556. Test Accuracy: 0.708\n",
            "Epoch [18/40]. Train Loss: 0.475. Train Accuracy: 0.768. Test loss: 0.564. Test Accuracy: 0.708\n",
            "Epoch [19/40]. Train Loss: 0.471. Train Accuracy: 0.773. Test loss: 0.554. Test Accuracy: 0.706\n",
            "Epoch [20/40]. Train Loss: 0.466. Train Accuracy: 0.777. Test loss: 0.567. Test Accuracy: 0.709\n",
            "Epoch [21/40]. Train Loss: 0.462. Train Accuracy: 0.781. Test loss: 0.564. Test Accuracy: 0.709\n",
            "Epoch [22/40]. Train Loss: 0.459. Train Accuracy: 0.785. Test loss: 0.574. Test Accuracy: 0.707\n",
            "Epoch [23/40]. Train Loss: 0.455. Train Accuracy: 0.787. Test loss: 0.570. Test Accuracy: 0.708\n",
            "Epoch [24/40]. Train Loss: 0.452. Train Accuracy: 0.791. Test loss: 0.579. Test Accuracy: 0.707\n",
            "Epoch [25/40]. Train Loss: 0.446. Train Accuracy: 0.794. Test loss: 0.574. Test Accuracy: 0.707\n",
            "Epoch [26/40]. Train Loss: 0.442. Train Accuracy: 0.797. Test loss: 0.593. Test Accuracy: 0.704\n",
            "Epoch [27/40]. Train Loss: 0.439. Train Accuracy: 0.800. Test loss: 0.581. Test Accuracy: 0.708\n",
            "Epoch [28/40]. Train Loss: 0.436. Train Accuracy: 0.804. Test loss: 0.603. Test Accuracy: 0.706\n",
            "Epoch [29/40]. Train Loss: 0.433. Train Accuracy: 0.806. Test loss: 0.603. Test Accuracy: 0.704\n",
            "Epoch [30/40]. Train Loss: 0.428. Train Accuracy: 0.809. Test loss: 0.602. Test Accuracy: 0.705\n",
            "Epoch [31/40]. Train Loss: 0.427. Train Accuracy: 0.812. Test loss: 0.611. Test Accuracy: 0.702\n",
            "Epoch [32/40]. Train Loss: 0.422. Train Accuracy: 0.814. Test loss: 0.616. Test Accuracy: 0.704\n",
            "Epoch [33/40]. Train Loss: 0.419. Train Accuracy: 0.817. Test loss: 0.610. Test Accuracy: 0.701\n",
            "Epoch [34/40]. Train Loss: 0.416. Train Accuracy: 0.820. Test loss: 0.627. Test Accuracy: 0.702\n",
            "Epoch [35/40]. Train Loss: 0.412. Train Accuracy: 0.823. Test loss: 0.627. Test Accuracy: 0.703\n",
            "Epoch [36/40]. Train Loss: 0.409. Train Accuracy: 0.825. Test loss: 0.630. Test Accuracy: 0.704\n",
            "Epoch [37/40]. Train Loss: 0.408. Train Accuracy: 0.827. Test loss: 0.618. Test Accuracy: 0.704\n",
            "Epoch [38/40]. Train Loss: 0.402. Train Accuracy: 0.830. Test loss: 0.624. Test Accuracy: 0.701\n",
            "Epoch [39/40]. Train Loss: 0.400. Train Accuracy: 0.831. Test loss: 0.642. Test Accuracy: 0.702\n",
            "Epoch [40/40]. Train Loss: 0.398. Train Accuracy: 0.833. Test loss: 0.641. Test Accuracy: 0.702\n",
            "Training is finished!\n"
          ]
        }
      ]
    },
    {
      "cell_type": "markdown",
      "source": [
        "У рекуррентной модели точность уже повыше, чуть больше 70%"
      ],
      "metadata": {
        "id": "Qrq74KTvPfpX"
      }
    },
    {
      "cell_type": "markdown",
      "source": [
        "RNN + CNN\n",
        "\n",
        "Выходы рекуррентной сети будут эмбеддингами свёрточной\n",
        "сети. Поэтому из рекуррентной сети берём не только вектор последнего\n",
        "скрытого состояния, а все вектора скрытого состояния, на каждом временном\n",
        "отрезке t"
      ],
      "metadata": {
        "id": "i9PTjk3SQIac"
      }
    },
    {
      "cell_type": "code",
      "source": [
        "class RnnConvNet(nn.Module):\n",
        "    def __init__(self, embed_dim=128, hidden_dim=128, conv_filters=128, kernel_size=3, conv_stride=1):\n",
        "        torch.random.manual_seed(RANDOM_STATE)\n",
        "        super().__init__()\n",
        "        \n",
        "        self.embedding = nn.Embedding(VOCAB_SIZE, embed_dim, padding_idx=0)\n",
        "        \n",
        "        self.gru = nn.GRU(embed_dim, hidden_dim, batch_first=True)\n",
        "        \n",
        "        self.conv = nn.Sequential(nn.Conv1d(hidden_dim, conv_filters, kernel_size=kernel_size, stride=conv_stride),\n",
        "                                  nn.MaxPool1d(MAX_LEN // conv_stride - kernel_size + 1),\n",
        "                                  nn.ReLU())\n",
        "        \n",
        "        self.fc1 = nn.Sequential(nn.Linear(conv_filters, conv_filters // 2),\n",
        "                                 nn.ReLU())\n",
        "        \n",
        "        self.dp02 = nn.Dropout(0.2)\n",
        "        self.dp05 = nn.Dropout(0.5)\n",
        "        self.fc2 = nn.Linear(conv_filters // 2, 1)\n",
        "        \n",
        "    def forward(self, x):\n",
        "        x = self.embedding(x)\n",
        "        x = self.dp02(x)\n",
        "        \n",
        "        # Берём все векторы h\n",
        "        x, _ = self.gru(x)\n",
        "        \n",
        "        x = x.permute(0, 2 ,1)\n",
        "        x = torch.squeeze(self.conv(x))\n",
        "        x = self.fc1(x)\n",
        "        x = self.dp05(x)\n",
        "        x = self.fc2(x)\n",
        "        x = torch.sigmoid(x)\n",
        "        return x"
      ],
      "metadata": {
        "id": "6GZg_IIPNUGZ"
      },
      "execution_count": null,
      "outputs": []
    },
    {
      "cell_type": "code",
      "source": [
        "summary(RnnConvNet())"
      ],
      "metadata": {
        "colab": {
          "base_uri": "https://localhost:8080/"
        },
        "id": "dy3_Fgg8NUEK",
        "outputId": "e7f13b9d-9ba2-45ea-c673-3a2184db3aef"
      },
      "execution_count": null,
      "outputs": [
        {
          "output_type": "execute_result",
          "data": {
            "text/plain": [
              "=================================================================\n",
              "Layer (type:depth-idx)                   Param #\n",
              "=================================================================\n",
              "RnnConvNet                               --\n",
              "├─Embedding: 1-1                         256,000\n",
              "├─GRU: 1-2                               99,072\n",
              "├─Sequential: 1-3                        --\n",
              "│    └─Conv1d: 2-1                       49,280\n",
              "│    └─MaxPool1d: 2-2                    --\n",
              "│    └─ReLU: 2-3                         --\n",
              "├─Sequential: 1-4                        --\n",
              "│    └─Linear: 2-4                       8,256\n",
              "│    └─ReLU: 2-5                         --\n",
              "├─Dropout: 1-5                           --\n",
              "├─Dropout: 1-6                           --\n",
              "├─Linear: 1-7                            65\n",
              "=================================================================\n",
              "Total params: 412,673\n",
              "Trainable params: 412,673\n",
              "Non-trainable params: 0\n",
              "================================================================="
            ]
          },
          "metadata": {},
          "execution_count": 56
        }
      ]
    },
    {
      "cell_type": "code",
      "source": [
        "rnn_conv_model = RnnConvNet(kernel_size=5)\n",
        "rnn_cnn = train_nn(rnn_conv_model, epochs=15, lr=5e-4)"
      ],
      "metadata": {
        "colab": {
          "base_uri": "https://localhost:8080/"
        },
        "id": "B6gpC4LtNUBC",
        "outputId": "8842cbfc-182c-402f-eb30-33d2ae02058f"
      },
      "execution_count": null,
      "outputs": [
        {
          "output_type": "stream",
          "name": "stdout",
          "text": [
            "Epoch [1/15]. Train Loss: 0.593. Train Accuracy: 0.669. Test loss: 0.557. Test Accuracy: 0.690\n",
            "Epoch [2/15]. Train Loss: 0.553. Train Accuracy: 0.708. Test loss: 0.546. Test Accuracy: 0.704\n",
            "Epoch [3/15]. Train Loss: 0.542. Train Accuracy: 0.718. Test loss: 0.541. Test Accuracy: 0.706\n",
            "Epoch [4/15]. Train Loss: 0.534. Train Accuracy: 0.724. Test loss: 0.541. Test Accuracy: 0.706\n",
            "Epoch [5/15]. Train Loss: 0.527. Train Accuracy: 0.729. Test loss: 0.542. Test Accuracy: 0.708\n",
            "Epoch [6/15]. Train Loss: 0.520. Train Accuracy: 0.736. Test loss: 0.539. Test Accuracy: 0.707\n",
            "Epoch [7/15]. Train Loss: 0.513. Train Accuracy: 0.742. Test loss: 0.541. Test Accuracy: 0.706\n",
            "Epoch [8/15]. Train Loss: 0.506. Train Accuracy: 0.750. Test loss: 0.544. Test Accuracy: 0.707\n",
            "Epoch [9/15]. Train Loss: 0.498. Train Accuracy: 0.757. Test loss: 0.545. Test Accuracy: 0.707\n",
            "Epoch [10/15]. Train Loss: 0.490. Train Accuracy: 0.764. Test loss: 0.546. Test Accuracy: 0.710\n",
            "Epoch [11/15]. Train Loss: 0.482. Train Accuracy: 0.770. Test loss: 0.561. Test Accuracy: 0.705\n",
            "Epoch [12/15]. Train Loss: 0.475. Train Accuracy: 0.777. Test loss: 0.558. Test Accuracy: 0.707\n",
            "Epoch [13/15]. Train Loss: 0.468. Train Accuracy: 0.783. Test loss: 0.567. Test Accuracy: 0.705\n",
            "Epoch [14/15]. Train Loss: 0.460. Train Accuracy: 0.789. Test loss: 0.568. Test Accuracy: 0.704\n",
            "Epoch [15/15]. Train Loss: 0.455. Train Accuracy: 0.794. Test loss: 0.571. Test Accuracy: 0.703\n",
            "Training is finished!\n"
          ]
        }
      ]
    },
    {
      "cell_type": "markdown",
      "source": [
        "Такой же результат как и у рекуррентной модели"
      ],
      "metadata": {
        "id": "7ZVaAaPqRtzM"
      }
    },
    {
      "cell_type": "markdown",
      "source": [
        "CNN + RNN\n",
        "\n",
        "Тут, в отличие от CNN сети, просто добавлю\n",
        "пулинг после свёртки, так как нужно всё получившееся пространство,\n",
        "которое будет эмбеддингом для рекуррентной сети:\n"
      ],
      "metadata": {
        "id": "tAjsyiLBR5Fz"
      }
    },
    {
      "cell_type": "code",
      "source": [
        "class ConvRnnNet(nn.Module):\n",
        "    def __init__(self, embed_dim=128, hidden_dim=128, conv_filters=128, kernel_size=3, conv_stride=1):\n",
        "        torch.random.manual_seed(RANDOM_STATE)\n",
        "        super().__init__()\n",
        "        \n",
        "        self.embedding = nn.Embedding(VOCAB_SIZE, embed_dim, padding_idx=0)\n",
        "        \n",
        "        self.conv = nn.Sequential(nn.Conv1d(embed_dim, conv_filters, kernel_size=kernel_size, stride=conv_stride),\n",
        "                                  nn.ReLU())\n",
        "        \n",
        "        self.gru = nn.GRU(conv_filters, hidden_dim, batch_first=True)\n",
        "        \n",
        "        self.fc1 = nn.Sequential(nn.Linear(hidden_dim, hidden_dim // 2),\n",
        "                                 nn.ReLU())\n",
        "        \n",
        "        self.fc2 = nn.Linear(hidden_dim // 2, 1)\n",
        "        self.dp02 = nn.Dropout(0.2)\n",
        "        self.dp05 = nn.Dropout(0.5)\n",
        "    \n",
        "    def forward(self, x):\n",
        "        x = self.embedding(x)\n",
        "        x = self.dp02(x)\n",
        "        x = x.permute(0, 2 ,1)\n",
        "        x = self.conv(x)\n",
        "        x = x.permute(0, 2, 1)\n",
        "        _, x = self.gru(x)\n",
        "        x = self.fc1(torch.squeeze(x))\n",
        "        x = self.dp05(x)\n",
        "        x = self.fc2(x)\n",
        "        x = torch.sigmoid(x)\n",
        "        return x"
      ],
      "metadata": {
        "id": "LAvRer0wNT_M"
      },
      "execution_count": null,
      "outputs": []
    },
    {
      "cell_type": "code",
      "source": [
        "summary(ConvRnnNet())"
      ],
      "metadata": {
        "colab": {
          "base_uri": "https://localhost:8080/"
        },
        "id": "pc2fsZvUNT78",
        "outputId": "576dd939-b2aa-4eb9-ab66-a775423a983d"
      },
      "execution_count": null,
      "outputs": [
        {
          "output_type": "execute_result",
          "data": {
            "text/plain": [
              "=================================================================\n",
              "Layer (type:depth-idx)                   Param #\n",
              "=================================================================\n",
              "ConvRnnNet                               --\n",
              "├─Embedding: 1-1                         256,000\n",
              "├─Sequential: 1-2                        --\n",
              "│    └─Conv1d: 2-1                       49,280\n",
              "│    └─ReLU: 2-2                         --\n",
              "├─GRU: 1-3                               99,072\n",
              "├─Sequential: 1-4                        --\n",
              "│    └─Linear: 2-3                       8,256\n",
              "│    └─ReLU: 2-4                         --\n",
              "├─Linear: 1-5                            65\n",
              "├─Dropout: 1-6                           --\n",
              "├─Dropout: 1-7                           --\n",
              "=================================================================\n",
              "Total params: 412,673\n",
              "Trainable params: 412,673\n",
              "Non-trainable params: 0\n",
              "================================================================="
            ]
          },
          "metadata": {},
          "execution_count": 60
        }
      ]
    },
    {
      "cell_type": "code",
      "source": [
        "conv_rnn_model = ConvRnnNet(kernel_size=5)\n",
        "cnn_rnn = train_nn(conv_rnn_model, epochs=30, lr=5e-4)"
      ],
      "metadata": {
        "colab": {
          "base_uri": "https://localhost:8080/"
        },
        "id": "WwAOWaduNT4z",
        "outputId": "4e18b99a-a8a0-4f01-ef45-b3ac615c9b42"
      },
      "execution_count": null,
      "outputs": [
        {
          "output_type": "stream",
          "name": "stdout",
          "text": [
            "Epoch [1/30]. Train Loss: 0.609. Train Accuracy: 0.648. Test loss: 0.567. Test Accuracy: 0.682\n",
            "Epoch [2/30]. Train Loss: 0.561. Train Accuracy: 0.704. Test loss: 0.551. Test Accuracy: 0.697\n",
            "Epoch [3/30]. Train Loss: 0.542. Train Accuracy: 0.721. Test loss: 0.545. Test Accuracy: 0.701\n",
            "Epoch [4/30]. Train Loss: 0.529. Train Accuracy: 0.732. Test loss: 0.545. Test Accuracy: 0.702\n",
            "Epoch [5/30]. Train Loss: 0.518. Train Accuracy: 0.740. Test loss: 0.549. Test Accuracy: 0.703\n",
            "Epoch [6/30]. Train Loss: 0.509. Train Accuracy: 0.748. Test loss: 0.548. Test Accuracy: 0.703\n",
            "Epoch [7/30]. Train Loss: 0.502. Train Accuracy: 0.755. Test loss: 0.550. Test Accuracy: 0.702\n",
            "Epoch [8/30]. Train Loss: 0.493. Train Accuracy: 0.762. Test loss: 0.556. Test Accuracy: 0.702\n",
            "Epoch [9/30]. Train Loss: 0.484. Train Accuracy: 0.768. Test loss: 0.554. Test Accuracy: 0.705\n",
            "Epoch [10/30]. Train Loss: 0.477. Train Accuracy: 0.773. Test loss: 0.557. Test Accuracy: 0.701\n",
            "Epoch [11/30]. Train Loss: 0.470. Train Accuracy: 0.778. Test loss: 0.578. Test Accuracy: 0.704\n",
            "Epoch [12/30]. Train Loss: 0.463. Train Accuracy: 0.784. Test loss: 0.579. Test Accuracy: 0.704\n",
            "Epoch [13/30]. Train Loss: 0.456. Train Accuracy: 0.789. Test loss: 0.578. Test Accuracy: 0.702\n",
            "Epoch [14/30]. Train Loss: 0.452. Train Accuracy: 0.793. Test loss: 0.601. Test Accuracy: 0.703\n",
            "Epoch [15/30]. Train Loss: 0.445. Train Accuracy: 0.797. Test loss: 0.583. Test Accuracy: 0.701\n",
            "Epoch [16/30]. Train Loss: 0.442. Train Accuracy: 0.800. Test loss: 0.599. Test Accuracy: 0.699\n",
            "Epoch [17/30]. Train Loss: 0.434. Train Accuracy: 0.805. Test loss: 0.607. Test Accuracy: 0.701\n",
            "Epoch [18/30]. Train Loss: 0.430. Train Accuracy: 0.807. Test loss: 0.610. Test Accuracy: 0.698\n",
            "Epoch [19/30]. Train Loss: 0.425. Train Accuracy: 0.811. Test loss: 0.603. Test Accuracy: 0.700\n",
            "Epoch [20/30]. Train Loss: 0.422. Train Accuracy: 0.814. Test loss: 0.621. Test Accuracy: 0.699\n",
            "Epoch [21/30]. Train Loss: 0.417. Train Accuracy: 0.817. Test loss: 0.635. Test Accuracy: 0.699\n",
            "Epoch [22/30]. Train Loss: 0.413. Train Accuracy: 0.819. Test loss: 0.649. Test Accuracy: 0.700\n",
            "Epoch [23/30]. Train Loss: 0.408. Train Accuracy: 0.823. Test loss: 0.642. Test Accuracy: 0.696\n",
            "Epoch [24/30]. Train Loss: 0.404. Train Accuracy: 0.825. Test loss: 0.643. Test Accuracy: 0.698\n",
            "Epoch [25/30]. Train Loss: 0.402. Train Accuracy: 0.827. Test loss: 0.648. Test Accuracy: 0.701\n",
            "Epoch [26/30]. Train Loss: 0.398. Train Accuracy: 0.829. Test loss: 0.677. Test Accuracy: 0.697\n",
            "Epoch [27/30]. Train Loss: 0.394. Train Accuracy: 0.832. Test loss: 0.644. Test Accuracy: 0.700\n",
            "Epoch [28/30]. Train Loss: 0.391. Train Accuracy: 0.834. Test loss: 0.675. Test Accuracy: 0.696\n",
            "Epoch [29/30]. Train Loss: 0.388. Train Accuracy: 0.835. Test loss: 0.693. Test Accuracy: 0.697\n",
            "Epoch [30/30]. Train Loss: 0.385. Train Accuracy: 0.838. Test loss: 0.699. Test Accuracy: 0.694\n",
            "Training is finished!\n"
          ]
        }
      ]
    },
    {
      "cell_type": "markdown",
      "source": [
        "Тут вообще результат хуже остальных моделей. Думаю для улучшения работы моделей нужно детальнее сделать предобработку, подобрать оптимальные параметры у моделей коэффициент обучения, количество эпох, поиграться с архитекрутой сети. Можно так же попробовать сделать токенизацию по символам.\n",
        "\n",
        "На данном этапе лучшей моделью оказалась комбинация RNN + CNN"
      ],
      "metadata": {
        "id": "BTEv579VS8i7"
      }
    }
  ],
  "metadata": {
    "kernelspec": {
      "display_name": "Python 3 (ipykernel)",
      "language": "python",
      "name": "python3"
    },
    "language_info": {
      "codemirror_mode": {
        "name": "ipython",
        "version": 3
      },
      "file_extension": ".py",
      "mimetype": "text/x-python",
      "name": "python",
      "nbconvert_exporter": "python",
      "pygments_lexer": "ipython3",
      "version": "3.8.8"
    },
    "colab": {
      "provenance": []
    },
    "accelerator": "GPU",
    "gpuClass": "standard"
  },
  "nbformat": 4,
  "nbformat_minor": 0
}
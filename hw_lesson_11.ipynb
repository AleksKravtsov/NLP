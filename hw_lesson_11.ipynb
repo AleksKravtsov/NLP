{
  "nbformat": 4,
  "nbformat_minor": 0,
  "metadata": {
    "accelerator": "GPU",
    "colab": {
      "provenance": [],
      "toc_visible": true
    },
    "kernelspec": {
      "display_name": "Python 3",
      "name": "python3"
    }
  },
  "cells": [
    {
      "cell_type": "markdown",
      "metadata": {
        "id": "J0Qjg6vuaHNt"
      },
      "source": [
        "# Тема “Перевод с механизмом внимания”\n",
        "\n",
        "Разобраться с моделькой перевода (с механизмом внимания) как она устроена, запустить для перевода с русского на английский (при желании можно взять другие пары языков)\n"
      ]
    },
    {
      "cell_type": "code",
      "metadata": {
        "id": "tnxXKDjq3jEL"
      },
      "source": [
        "import tensorflow as tf\n",
        "\n",
        "import matplotlib.pyplot as plt\n",
        "import matplotlib.ticker as ticker\n",
        "from sklearn.model_selection import train_test_split\n",
        "\n",
        "import unicodedata\n",
        "import re\n",
        "import numpy as np\n",
        "import os\n",
        "import io\n",
        "import time"
      ],
      "execution_count": null,
      "outputs": []
    },
    {
      "cell_type": "markdown",
      "metadata": {
        "id": "wfodePkj3jEa"
      },
      "source": [
        "## Download and prepare the dataset\n",
        "\n",
        "We'll use a language dataset provided by http://www.manythings.org/anki/"
      ]
    },
    {
      "cell_type": "code",
      "metadata": {
        "id": "CNvjhDyAKk3U",
        "colab": {
          "base_uri": "https://localhost:8080/"
        },
        "outputId": "c056c106-e8ea-4587-e10c-c5a2a016970f"
      },
      "source": [
        "!wget http://www.manythings.org/anki/rus-eng.zip"
      ],
      "execution_count": null,
      "outputs": [
        {
          "output_type": "stream",
          "name": "stdout",
          "text": [
            "--2023-01-10 12:44:19--  http://www.manythings.org/anki/rus-eng.zip\n",
            "Resolving www.manythings.org (www.manythings.org)... 173.254.30.110\n",
            "Connecting to www.manythings.org (www.manythings.org)|173.254.30.110|:80... connected.\n",
            "HTTP request sent, awaiting response... 200 OK\n",
            "Length: 15011848 (14M) [application/zip]\n",
            "Saving to: ‘rus-eng.zip’\n",
            "\n",
            "rus-eng.zip         100%[===================>]  14.32M  6.53MB/s    in 2.2s    \n",
            "\n",
            "2023-01-10 12:44:22 (6.53 MB/s) - ‘rus-eng.zip’ saved [15011848/15011848]\n",
            "\n"
          ]
        }
      ]
    },
    {
      "cell_type": "code",
      "metadata": {
        "id": "83bg17Lr-7XK",
        "colab": {
          "base_uri": "https://localhost:8080/"
        },
        "outputId": "012ccedf-8120-4a90-89b9-e212c5a7d9aa"
      },
      "source": [
        "!mkdir rus-eng\n",
        "!unzip rus-eng.zip -d rus-eng/"
      ],
      "execution_count": null,
      "outputs": [
        {
          "output_type": "stream",
          "name": "stdout",
          "text": [
            "Archive:  rus-eng.zip\n",
            "  inflating: rus-eng/rus.txt         \n",
            "  inflating: rus-eng/_about.txt      \n"
          ]
        }
      ]
    },
    {
      "cell_type": "code",
      "metadata": {
        "id": "7o5L92efMMhf",
        "colab": {
          "base_uri": "https://localhost:8080/"
        },
        "outputId": "141f2bb2-dbc0-4484-d46b-8b079dd9aa46"
      },
      "source": [
        "!ls /content/rus-eng/ -lah"
      ],
      "execution_count": null,
      "outputs": [
        {
          "output_type": "stream",
          "name": "stdout",
          "text": [
            "total 72M\n",
            "drwxr-xr-x 2 root root 4.0K Jan 10 12:44 .\n",
            "drwxr-xr-x 1 root root 4.0K Jan 10 12:44 ..\n",
            "-rw-r--r-- 1 root root 1.5K Sep  6 03:10 _about.txt\n",
            "-rw-r--r-- 1 root root  72M Sep  6 03:10 rus.txt\n"
          ]
        }
      ]
    },
    {
      "cell_type": "code",
      "metadata": {
        "id": "kRVATYOgJs1b"
      },
      "source": [
        "# Download the file\n",
        "path_to_file = \"/content/rus-eng/rus.txt\""
      ],
      "execution_count": null,
      "outputs": []
    },
    {
      "cell_type": "code",
      "metadata": {
        "id": "rd0jw-eC3jEh"
      },
      "source": [
        "def preprocess_sentence(w):\n",
        "  w = w.lower().strip()\n",
        "\n",
        "  # creating a space between a word and the punctuation following it\n",
        "  # eg: \"he is a boy.\" => \"he is a boy .\"\n",
        "  # Reference:- https://stackoverflow.com/questions/3645931/python-padding-punctuation-with-white-spaces-keeping-punctuation\n",
        "  w = re.sub(r\"([?.!,])\", r\" \\1 \", w)\n",
        "  w = re.sub(r'[\" \"]+', \" \", w)\n",
        "\n",
        "  # replacing everything with space except (a-z, A-Z, \".\", \"?\", \"!\", \",\")\n",
        "  w = re.sub(r\"[^a-zA-Zа-яА-Я?.!,']+\", \" \", w)\n",
        "\n",
        "  w = w.strip()\n",
        "\n",
        "  # adding a start and an end token to the sentence\n",
        "  # so that the model know when to start and stop predicting.\n",
        "  w = '<start> ' + w + ' <end>'\n",
        "  return w"
      ],
      "execution_count": null,
      "outputs": []
    },
    {
      "cell_type": "code",
      "metadata": {
        "id": "yV9lZXQXNbnH",
        "colab": {
          "base_uri": "https://localhost:8080/",
          "height": 35
        },
        "outputId": "60c7a61e-9488-4c32-da28-156db4a97489"
      },
      "source": [
        "preprocess_sentence(\"I can't go.\")"
      ],
      "execution_count": null,
      "outputs": [
        {
          "output_type": "execute_result",
          "data": {
            "text/plain": [
              "\"<start> i can't go . <end>\""
            ],
            "application/vnd.google.colaboratory.intrinsic+json": {
              "type": "string"
            }
          },
          "metadata": {},
          "execution_count": 7
        }
      ]
    },
    {
      "cell_type": "code",
      "metadata": {
        "id": "OHn4Dct23jEm"
      },
      "source": [
        "# 1. Remove the accents\n",
        "# 2. Clean the sentences\n",
        "# 3. Return word pairs in the format: [ENG, RUS]\n",
        "def create_dataset(path, num_examples):\n",
        "  lines = io.open(path, encoding='UTF-8').read().strip().split('\\n')\n",
        "\n",
        "  word_pairs = [[preprocess_sentence(w) for w in l.split('\\t')[:2]]  for l in lines[:num_examples]]\n",
        "\n",
        "  return zip(*word_pairs)"
      ],
      "execution_count": null,
      "outputs": []
    },
    {
      "cell_type": "code",
      "metadata": {
        "id": "cTbSbBz55QtF",
        "colab": {
          "base_uri": "https://localhost:8080/"
        },
        "outputId": "df072cab-8c58-490b-c08c-94bc81ab7700"
      },
      "source": [
        "en, ru = create_dataset(path_to_file, None)\n",
        "print(en[-1])\n",
        "print(ru[-1])"
      ],
      "execution_count": null,
      "outputs": [
        {
          "output_type": "stream",
          "name": "stdout",
          "text": [
            "<start> doubtless there exists in this world precisely the right woman for any given man to marry and vice versa but when you consider that a human being has the opportunity of being acquainted with only a few hundred people , and out of the few hundred that there are but a dozen or less whom he knows intimately , and out of the dozen , one or two friends at most , it will easily be seen , when we remember the number of millions who inhabit this world , that probably , since the earth was created , the right man has never yet met the right woman . <end>\n",
            "<start> несомненно , для каждого мужчины в этом мире где то есть подходящая женщина , которая может стать ему женой , обратное верно и для женщин . но если учесть , что у человека может быть максимум несколько сотен знакомых , из которых лишь дюжина , а то и меньше , тех , кого он знает близко , а из этой дюжины у него один или от силы два друга , то можно легко увидеть , что с уч том миллионов живущих на земле людей , ни один подходящий мужчина , возможно , ещ не встретил подходящую женщину . <end>\n"
          ]
        }
      ]
    },
    {
      "cell_type": "code",
      "metadata": {
        "id": "bIOn8RCNDJXG"
      },
      "source": [
        "def tokenize(lang):\n",
        "  lang_tokenizer = tf.keras.preprocessing.text.Tokenizer(\n",
        "      filters='')\n",
        "  lang_tokenizer.fit_on_texts(lang)\n",
        "\n",
        "  tensor = lang_tokenizer.texts_to_sequences(lang)\n",
        "\n",
        "  tensor = tf.keras.preprocessing.sequence.pad_sequences(tensor,\n",
        "                                                         padding='post')\n",
        "\n",
        "  return tensor, lang_tokenizer"
      ],
      "execution_count": null,
      "outputs": []
    },
    {
      "cell_type": "code",
      "metadata": {
        "id": "eAY9k49G3jE_"
      },
      "source": [
        "def load_dataset(path, num_examples=None):\n",
        "  # creating cleaned input, output pairs\n",
        "  targ_lang, inp_lang = create_dataset(path, num_examples)\n",
        "\n",
        "  input_tensor, inp_lang_tokenizer = tokenize(inp_lang)\n",
        "  target_tensor, targ_lang_tokenizer = tokenize(targ_lang)\n",
        "\n",
        "  return input_tensor, target_tensor, inp_lang_tokenizer, targ_lang_tokenizer"
      ],
      "execution_count": null,
      "outputs": []
    },
    {
      "cell_type": "markdown",
      "metadata": {
        "id": "GOi42V79Ydlr"
      },
      "source": [
        "### Limit the size of the dataset to experiment faster (optional)\n"
      ]
    },
    {
      "cell_type": "code",
      "metadata": {
        "id": "C8j9g9AnIeZV",
        "colab": {
          "base_uri": "https://localhost:8080/"
        },
        "outputId": "0c1a5efe-ded1-47c3-de15-acdfa4cbe7ba"
      },
      "source": [
        "len(en), len(ru)"
      ],
      "execution_count": null,
      "outputs": [
        {
          "output_type": "execute_result",
          "data": {
            "text/plain": [
              "(451436, 451436)"
            ]
          },
          "metadata": {},
          "execution_count": 12
        }
      ]
    },
    {
      "cell_type": "code",
      "metadata": {
        "id": "cnxC7q-j3jFD"
      },
      "source": [
        "# Try experimenting with the size of that dataset\n",
        "num_examples = 100000\n",
        "input_tensor, target_tensor, inp_lang, targ_lang = load_dataset(path_to_file, num_examples)\n",
        "\n",
        "# Calculate max_length of the target tensors\n",
        "max_length_targ, max_length_inp = target_tensor.shape[1], input_tensor.shape[1]"
      ],
      "execution_count": null,
      "outputs": []
    },
    {
      "cell_type": "code",
      "metadata": {
        "id": "4QILQkOs3jFG",
        "colab": {
          "base_uri": "https://localhost:8080/"
        },
        "outputId": "25091ef9-e8c5-492b-f36b-be9c8c287808"
      },
      "source": [
        "# Creating training and validation sets using an 80-20 split\n",
        "input_tensor_train, input_tensor_val, target_tensor_train, target_tensor_val = train_test_split(input_tensor, target_tensor, test_size=0.2)\n",
        "\n",
        "# Show length\n",
        "print(len(input_tensor_train), len(target_tensor_train), len(input_tensor_val), len(target_tensor_val))"
      ],
      "execution_count": null,
      "outputs": [
        {
          "output_type": "stream",
          "name": "stdout",
          "text": [
            "80000 80000 20000 20000\n"
          ]
        }
      ]
    },
    {
      "cell_type": "code",
      "metadata": {
        "id": "lJPmLZGMeD5q"
      },
      "source": [
        "def convert(lang, tensor):\n",
        "  for t in tensor:\n",
        "    if t!=0:\n",
        "      print (\"%d ----> %s\" % (t, lang.index_word[t]))"
      ],
      "execution_count": null,
      "outputs": []
    },
    {
      "cell_type": "code",
      "metadata": {
        "id": "VXukARTDd7MT",
        "colab": {
          "base_uri": "https://localhost:8080/"
        },
        "outputId": "e1467b54-e4b0-4b8e-a523-da68b2491fd8"
      },
      "source": [
        "print (\"Input Language; index to word mapping\")\n",
        "convert(inp_lang, input_tensor_train[0])\n",
        "print ()\n",
        "print (\"Target Language; index to word mapping\")\n",
        "convert(targ_lang, target_tensor_train[0])"
      ],
      "execution_count": null,
      "outputs": [
        {
          "output_type": "stream",
          "name": "stdout",
          "text": [
            "Input Language; index to word mapping\n",
            "1 ----> <start>\n",
            "1065 ----> забудь\n",
            "18 ----> тома\n",
            "3 ----> .\n",
            "2 ----> <end>\n",
            "\n",
            "Target Language; index to word mapping\n",
            "1 ----> <start>\n",
            "300 ----> forget\n",
            "5 ----> tom\n",
            "3 ----> .\n",
            "2 ----> <end>\n"
          ]
        }
      ]
    },
    {
      "cell_type": "markdown",
      "metadata": {
        "id": "rgCLkfv5uO3d"
      },
      "source": [
        "### Create a tf.data dataset"
      ]
    },
    {
      "cell_type": "code",
      "metadata": {
        "id": "TqHsArVZ3jFS"
      },
      "source": [
        "BUFFER_SIZE = len(input_tensor_train)\n",
        "BATCH_SIZE = 64\n",
        "steps_per_epoch = len(input_tensor_train)//BATCH_SIZE\n",
        "embedding_dim = 256\n",
        "units = 1024\n",
        "vocab_inp_size = len(inp_lang.word_index)+1\n",
        "vocab_tar_size = len(targ_lang.word_index)+1\n",
        "\n",
        "dataset = tf.data.Dataset.from_tensor_slices((input_tensor_train, target_tensor_train)).shuffle(BUFFER_SIZE)\n",
        "dataset = dataset.batch(BATCH_SIZE, drop_remainder=True)"
      ],
      "execution_count": null,
      "outputs": []
    },
    {
      "cell_type": "code",
      "metadata": {
        "id": "qc6-NK1GtWQt",
        "colab": {
          "base_uri": "https://localhost:8080/"
        },
        "outputId": "87023299-8d24-4789-8c5c-6e02949d6576"
      },
      "source": [
        "example_input_batch, example_target_batch = next(iter(dataset))\n",
        "example_input_batch.shape, example_target_batch.shape"
      ],
      "execution_count": null,
      "outputs": [
        {
          "output_type": "execute_result",
          "data": {
            "text/plain": [
              "(TensorShape([64, 15]), TensorShape([64, 11]))"
            ]
          },
          "metadata": {},
          "execution_count": 18
        }
      ]
    },
    {
      "cell_type": "code",
      "metadata": {
        "id": "nZ2rI24i3jFg"
      },
      "source": [
        "class Encoder(tf.keras.Model):\n",
        "  def __init__(self, vocab_size, embedding_dim, enc_units, batch_sz):\n",
        "    super(Encoder, self).__init__()\n",
        "    self.batch_sz = batch_sz\n",
        "    self.enc_units = enc_units\n",
        "    self.embedding = tf.keras.layers.Embedding(vocab_size, embedding_dim)\n",
        "    self.gru = tf.keras.layers.GRU(self.enc_units,\n",
        "                                   return_sequences=True,\n",
        "                                   return_state=True,\n",
        "                                   recurrent_initializer='glorot_uniform')\n",
        "\n",
        "  def call(self, x, hidden):\n",
        "    x = self.embedding(x)\n",
        "    output, state = self.gru(x, initial_state = hidden)\n",
        "    return output, state\n",
        "\n",
        "  def initialize_hidden_state(self):\n",
        "    return tf.zeros((self.batch_sz, self.enc_units))"
      ],
      "execution_count": null,
      "outputs": []
    },
    {
      "cell_type": "code",
      "metadata": {
        "id": "60gSVh05Jl6l",
        "colab": {
          "base_uri": "https://localhost:8080/"
        },
        "outputId": "9a176175-4979-48b6-95b9-74f40a311d22"
      },
      "source": [
        "encoder = Encoder(vocab_inp_size, embedding_dim, units, BATCH_SIZE)\n",
        "\n",
        "# sample input\n",
        "sample_hidden = encoder.initialize_hidden_state()\n",
        "sample_output, sample_hidden = encoder(example_input_batch, sample_hidden)\n",
        "print ('Encoder output shape: (batch size, sequence length, units) {}'.format(sample_output.shape))\n",
        "print ('Encoder Hidden state shape: (batch size, units) {}'.format(sample_hidden.shape))"
      ],
      "execution_count": null,
      "outputs": [
        {
          "output_type": "stream",
          "name": "stdout",
          "text": [
            "Encoder output shape: (batch size, sequence length, units) (64, 15, 1024)\n",
            "Encoder Hidden state shape: (batch size, units) (64, 1024)\n"
          ]
        }
      ]
    },
    {
      "cell_type": "code",
      "metadata": {
        "id": "YTyhL28Niqk1"
      },
      "source": [
        "class BahdanauAttention(tf.keras.layers.Layer):\n",
        "  def __init__(self, units):\n",
        "    super(BahdanauAttention, self).__init__()\n",
        "    self.W1 = tf.keras.layers.Dense(units)\n",
        "    self.W2 = tf.keras.layers.Dense(units)\n",
        "    self.V = tf.keras.layers.Dense(1)\n",
        "\n",
        "  def call(self, query, values):\n",
        "    # query hidden state shape == (batch_size, hidden size)\n",
        "    # query_with_time_axis shape == (batch_size, 1, hidden size)\n",
        "    # values shape == (batch_size, max_len, hidden size)\n",
        "    # we are doing this to broadcast addition along the time axis to calculate the score\n",
        "    query_with_time_axis = tf.expand_dims(query, 1)\n",
        "\n",
        "    # score shape == (batch_size, max_length, 1)\n",
        "    # we get 1 at the last axis because we are applying score to self.V\n",
        "    # the shape of the tensor before applying self.V is (batch_size, max_length, units)\n",
        "    score = self.V(tf.nn.tanh(\n",
        "        self.W1(query_with_time_axis) + self.W2(values)))\n",
        "\n",
        "    # attention_weights shape == (batch_size, max_length, 1)\n",
        "    attention_weights = tf.nn.softmax(score, axis=1)\n",
        "\n",
        "    # context_vector shape after sum == (batch_size, hidden_size)\n",
        "    context_vector = attention_weights * values\n",
        "    context_vector = tf.reduce_sum(context_vector, axis=1)\n",
        "\n",
        "    return context_vector, attention_weights"
      ],
      "execution_count": null,
      "outputs": []
    },
    {
      "cell_type": "code",
      "metadata": {
        "colab": {
          "base_uri": "https://localhost:8080/"
        },
        "id": "XUqssWcci1XJ",
        "outputId": "ba99e657-abb8-4b97-e45a-5e144706cb63"
      },
      "source": [
        "attention_layer = BahdanauAttention(10)\n",
        "attention_result, attention_weights = attention_layer(sample_hidden, sample_output)\n",
        "\n",
        "print(\"Attention result shape: (batch size, units) {}\".format(attention_result.shape))\n",
        "print(\"Attention weights shape: (batch_size, sequence_length, 1) {}\".format(attention_weights.shape))"
      ],
      "execution_count": null,
      "outputs": [
        {
          "output_type": "stream",
          "name": "stdout",
          "text": [
            "Attention result shape: (batch size, units) (64, 1024)\n",
            "Attention weights shape: (batch_size, sequence_length, 1) (64, 15, 1)\n"
          ]
        }
      ]
    },
    {
      "cell_type": "code",
      "metadata": {
        "id": "yJ_B3mhW3jFk"
      },
      "source": [
        "class Decoder(tf.keras.Model):\n",
        "  def __init__(self, vocab_size, embedding_dim, dec_units, batch_sz):\n",
        "    super(Decoder, self).__init__()\n",
        "    self.batch_sz = batch_sz\n",
        "    self.dec_units = dec_units\n",
        "    self.embedding = tf.keras.layers.Embedding(vocab_size, embedding_dim)\n",
        "    self.gru = tf.keras.layers.GRU(self.dec_units,\n",
        "                                   return_sequences=True,\n",
        "                                   return_state=True,\n",
        "                                   recurrent_initializer='glorot_uniform')\n",
        "    self.fc = tf.keras.layers.Dense(vocab_size)\n",
        "\n",
        "    # used for attention\n",
        "    self.attention = BahdanauAttention(self.dec_units)\n",
        "\n",
        "  def call(self, x, hidden, enc_output):\n",
        "    # enc_output shape == (batch_size, max_length, hidden_size)\n",
        "    context_vector, attention_weights = self.attention(hidden, enc_output)\n",
        "\n",
        "    # x shape after passing through embedding == (batch_size, 1, embedding_dim)\n",
        "    x = self.embedding(x)\n",
        "\n",
        "    # x shape after concatenation == (batch_size, 1, embedding_dim + hidden_size)\n",
        "    x = tf.concat([tf.expand_dims(context_vector, 1), x], axis=-1)\n",
        "\n",
        "    # passing the concatenated vector to the GRU\n",
        "    output, state = self.gru(x)\n",
        "\n",
        "    # output shape == (batch_size * 1, hidden_size)\n",
        "    output = tf.reshape(output, (-1, output.shape[2]))\n",
        "\n",
        "    # output shape == (batch_size, vocab)\n",
        "    x = self.fc(output)\n",
        "\n",
        "    return x, state, attention_weights"
      ],
      "execution_count": null,
      "outputs": []
    },
    {
      "cell_type": "code",
      "metadata": {
        "id": "P5UY8wko3jFp",
        "colab": {
          "base_uri": "https://localhost:8080/"
        },
        "outputId": "cae34629-dd9d-4e02-fdf7-73286ea90564"
      },
      "source": [
        "decoder = Decoder(vocab_tar_size, embedding_dim, units, BATCH_SIZE)\n",
        "\n",
        "sample_decoder_output, _, _ = decoder(tf.random.uniform((BATCH_SIZE, 1)),\n",
        "                                      sample_hidden, sample_output)\n",
        "\n",
        "print ('Decoder output shape: (batch_size, vocab size) {}'.format(sample_decoder_output.shape))"
      ],
      "execution_count": null,
      "outputs": [
        {
          "output_type": "stream",
          "name": "stdout",
          "text": [
            "Decoder output shape: (batch_size, vocab size) (64, 7335)\n"
          ]
        }
      ]
    },
    {
      "cell_type": "markdown",
      "metadata": {
        "id": "_ch_71VbIRfK"
      },
      "source": [
        "## Define the optimizer and the loss function"
      ]
    },
    {
      "cell_type": "code",
      "metadata": {
        "id": "WmTHr5iV3jFr"
      },
      "source": [
        "optimizer = tf.keras.optimizers.Adam()\n",
        "loss_object = tf.keras.losses.SparseCategoricalCrossentropy(\n",
        "    from_logits=True, reduction='none')\n",
        "\n",
        "def loss_function(real, pred):\n",
        "  mask = tf.math.logical_not(tf.math.equal(real, 0))\n",
        "  loss_ = loss_object(real, pred)\n",
        "\n",
        "  mask = tf.cast(mask, dtype=loss_.dtype)\n",
        "  loss_ *= mask\n",
        "\n",
        "  return tf.reduce_mean(loss_)"
      ],
      "execution_count": null,
      "outputs": []
    },
    {
      "cell_type": "markdown",
      "metadata": {
        "id": "DMVWzzsfNl4e"
      },
      "source": [
        "## Checkpoints (Object-based saving)"
      ]
    },
    {
      "cell_type": "code",
      "metadata": {
        "id": "Zj8bXQTgNwrF"
      },
      "source": [
        "checkpoint_dir = './training_attention_checkpoints'\n",
        "checkpoint_prefix = os.path.join(checkpoint_dir, \"ckpt\")\n",
        "checkpoint = tf.train.Checkpoint(optimizer=optimizer,\n",
        "                                 encoder=encoder,\n",
        "                                 decoder=decoder)"
      ],
      "execution_count": null,
      "outputs": []
    },
    {
      "cell_type": "code",
      "metadata": {
        "id": "sC9ArXSsVfqn"
      },
      "source": [
        "@tf.function\n",
        "def train_step(inp, targ, enc_hidden):\n",
        "  loss = 0\n",
        "\n",
        "  with tf.GradientTape() as tape:\n",
        "    enc_output, enc_hidden = encoder(inp, enc_hidden)\n",
        "\n",
        "    dec_hidden = enc_hidden\n",
        "\n",
        "    dec_input = tf.expand_dims([targ_lang.word_index['<start>']] * BATCH_SIZE, 1)\n",
        "\n",
        "    # Teacher forcing - feeding the target as the next input\n",
        "    for t in range(1, targ.shape[1]):\n",
        "      # passing enc_output to the decoder\n",
        "      predictions, dec_hidden, _ = decoder(dec_input, dec_hidden, enc_output)\n",
        "\n",
        "      loss += loss_function(targ[:, t], predictions)\n",
        "\n",
        "      # using teacher forcing\n",
        "      dec_input = tf.expand_dims(targ[:, t], 1)\n",
        "\n",
        "  batch_loss = (loss / int(targ.shape[1]))\n",
        "\n",
        "  variables = encoder.trainable_variables + decoder.trainable_variables\n",
        "\n",
        "  gradients = tape.gradient(loss, variables)\n",
        "\n",
        "  optimizer.apply_gradients(zip(gradients, variables))\n",
        "\n",
        "  return batch_loss"
      ],
      "execution_count": null,
      "outputs": []
    },
    {
      "cell_type": "code",
      "metadata": {
        "id": "ddefjBMa3jF0",
        "colab": {
          "base_uri": "https://localhost:8080/"
        },
        "outputId": "a7ddc2d6-ef80-4cbc-fd7b-1342d67e2607"
      },
      "source": [
        "EPOCHS = 50\n",
        "\n",
        "for epoch in range(EPOCHS):\n",
        "  start = time.time()\n",
        "\n",
        "  enc_hidden = encoder.initialize_hidden_state()\n",
        "  total_loss = 0\n",
        "\n",
        "  for (batch, (inp, targ)) in enumerate(dataset.take(steps_per_epoch)):\n",
        "    batch_loss = train_step(inp, targ, enc_hidden)\n",
        "    total_loss += batch_loss\n",
        "\n",
        "    if batch % 100 == 0:\n",
        "      print('Epoch {} Batch {} Loss {:.4f}'.format(epoch + 1,\n",
        "                                                   batch,\n",
        "                                                   batch_loss.numpy()))\n",
        "  # saving (checkpoint) the model every 2 epochs\n",
        "  if (epoch + 1) % 2 == 0:\n",
        "    checkpoint.save(file_prefix = checkpoint_prefix)\n",
        "\n",
        "  print('Epoch {} Loss {:.4f}'.format(epoch + 1,\n",
        "                                      total_loss / steps_per_epoch))\n",
        "  print('Time taken for 1 epoch {} sec\\n'.format(time.time() - start))"
      ],
      "execution_count": null,
      "outputs": [
        {
          "output_type": "stream",
          "name": "stdout",
          "text": [
            "Epoch 1 Batch 0 Loss 4.3743\n",
            "Epoch 1 Batch 100 Loss 2.1439\n",
            "Epoch 1 Batch 200 Loss 1.9943\n",
            "Epoch 1 Batch 300 Loss 1.6836\n",
            "Epoch 1 Batch 400 Loss 1.5290\n",
            "Epoch 1 Batch 500 Loss 1.4606\n",
            "Epoch 1 Batch 600 Loss 1.4076\n",
            "Epoch 1 Batch 700 Loss 1.2551\n",
            "Epoch 1 Batch 800 Loss 1.1613\n",
            "Epoch 1 Batch 900 Loss 1.1804\n",
            "Epoch 1 Batch 1000 Loss 1.1217\n",
            "Epoch 1 Batch 1100 Loss 1.0548\n",
            "Epoch 1 Batch 1200 Loss 0.9787\n",
            "Epoch 1 Loss 1.4668\n",
            "Time taken for 1 epoch 114.25678181648254 sec\n",
            "\n",
            "Epoch 2 Batch 0 Loss 0.8826\n",
            "Epoch 2 Batch 100 Loss 0.7776\n",
            "Epoch 2 Batch 200 Loss 0.7179\n",
            "Epoch 2 Batch 300 Loss 0.8249\n",
            "Epoch 2 Batch 400 Loss 0.8594\n",
            "Epoch 2 Batch 500 Loss 0.6696\n",
            "Epoch 2 Batch 600 Loss 0.6746\n",
            "Epoch 2 Batch 700 Loss 0.6862\n",
            "Epoch 2 Batch 800 Loss 0.6878\n",
            "Epoch 2 Batch 900 Loss 0.6260\n",
            "Epoch 2 Batch 1000 Loss 0.6641\n",
            "Epoch 2 Batch 1100 Loss 0.6143\n",
            "Epoch 2 Batch 1200 Loss 0.5061\n",
            "Epoch 2 Loss 0.6985\n",
            "Time taken for 1 epoch 101.92213606834412 sec\n",
            "\n",
            "Epoch 3 Batch 0 Loss 0.4034\n",
            "Epoch 3 Batch 100 Loss 0.4738\n",
            "Epoch 3 Batch 200 Loss 0.5252\n",
            "Epoch 3 Batch 300 Loss 0.4163\n",
            "Epoch 3 Batch 400 Loss 0.4137\n",
            "Epoch 3 Batch 500 Loss 0.3964\n",
            "Epoch 3 Batch 600 Loss 0.3278\n",
            "Epoch 3 Batch 700 Loss 0.3671\n",
            "Epoch 3 Batch 800 Loss 0.2725\n",
            "Epoch 3 Batch 900 Loss 0.3216\n",
            "Epoch 3 Batch 1000 Loss 0.2809\n",
            "Epoch 3 Batch 1100 Loss 0.3423\n",
            "Epoch 3 Batch 1200 Loss 0.2776\n",
            "Epoch 3 Loss 0.3673\n",
            "Time taken for 1 epoch 100.84528136253357 sec\n",
            "\n",
            "Epoch 4 Batch 0 Loss 0.1880\n",
            "Epoch 4 Batch 100 Loss 0.2187\n",
            "Epoch 4 Batch 200 Loss 0.1740\n",
            "Epoch 4 Batch 300 Loss 0.2324\n",
            "Epoch 4 Batch 400 Loss 0.2617\n",
            "Epoch 4 Batch 500 Loss 0.1728\n",
            "Epoch 4 Batch 600 Loss 0.2425\n",
            "Epoch 4 Batch 700 Loss 0.1754\n",
            "Epoch 4 Batch 800 Loss 0.2098\n",
            "Epoch 4 Batch 900 Loss 0.2394\n",
            "Epoch 4 Batch 1000 Loss 0.2136\n",
            "Epoch 4 Batch 1100 Loss 0.1837\n",
            "Epoch 4 Batch 1200 Loss 0.2463\n",
            "Epoch 4 Loss 0.2213\n",
            "Time taken for 1 epoch 101.59459829330444 sec\n",
            "\n",
            "Epoch 5 Batch 0 Loss 0.1316\n",
            "Epoch 5 Batch 100 Loss 0.1306\n",
            "Epoch 5 Batch 200 Loss 0.1417\n",
            "Epoch 5 Batch 300 Loss 0.0883\n",
            "Epoch 5 Batch 400 Loss 0.1850\n",
            "Epoch 5 Batch 500 Loss 0.1458\n",
            "Epoch 5 Batch 600 Loss 0.1050\n",
            "Epoch 5 Batch 700 Loss 0.1306\n",
            "Epoch 5 Batch 800 Loss 0.1682\n",
            "Epoch 5 Batch 900 Loss 0.2294\n",
            "Epoch 5 Batch 1000 Loss 0.1246\n",
            "Epoch 5 Batch 1100 Loss 0.1532\n",
            "Epoch 5 Batch 1200 Loss 0.2494\n",
            "Epoch 5 Loss 0.1528\n",
            "Time taken for 1 epoch 100.76427006721497 sec\n",
            "\n",
            "Epoch 6 Batch 0 Loss 0.0948\n",
            "Epoch 6 Batch 100 Loss 0.1031\n",
            "Epoch 6 Batch 200 Loss 0.1124\n",
            "Epoch 6 Batch 300 Loss 0.0728\n",
            "Epoch 6 Batch 400 Loss 0.1622\n",
            "Epoch 6 Batch 500 Loss 0.1046\n",
            "Epoch 6 Batch 600 Loss 0.1564\n",
            "Epoch 6 Batch 700 Loss 0.1166\n",
            "Epoch 6 Batch 800 Loss 0.1385\n",
            "Epoch 6 Batch 900 Loss 0.1095\n",
            "Epoch 6 Batch 1000 Loss 0.1475\n",
            "Epoch 6 Batch 1100 Loss 0.1244\n",
            "Epoch 6 Batch 1200 Loss 0.1284\n",
            "Epoch 6 Loss 0.1182\n",
            "Time taken for 1 epoch 101.61776328086853 sec\n",
            "\n",
            "Epoch 7 Batch 0 Loss 0.0866\n",
            "Epoch 7 Batch 100 Loss 0.1059\n",
            "Epoch 7 Batch 200 Loss 0.1080\n",
            "Epoch 7 Batch 300 Loss 0.1150\n",
            "Epoch 7 Batch 400 Loss 0.0987\n",
            "Epoch 7 Batch 500 Loss 0.1038\n",
            "Epoch 7 Batch 600 Loss 0.0901\n",
            "Epoch 7 Batch 700 Loss 0.0968\n",
            "Epoch 7 Batch 800 Loss 0.1424\n",
            "Epoch 7 Batch 900 Loss 0.1221\n",
            "Epoch 7 Batch 1000 Loss 0.1285\n",
            "Epoch 7 Batch 1100 Loss 0.1116\n",
            "Epoch 7 Batch 1200 Loss 0.0875\n",
            "Epoch 7 Loss 0.1004\n",
            "Time taken for 1 epoch 100.73341202735901 sec\n",
            "\n",
            "Epoch 8 Batch 0 Loss 0.0793\n",
            "Epoch 8 Batch 100 Loss 0.0821\n",
            "Epoch 8 Batch 200 Loss 0.0466\n",
            "Epoch 8 Batch 300 Loss 0.0797\n",
            "Epoch 8 Batch 400 Loss 0.0875\n",
            "Epoch 8 Batch 500 Loss 0.0717\n",
            "Epoch 8 Batch 600 Loss 0.0844\n",
            "Epoch 8 Batch 700 Loss 0.0839\n",
            "Epoch 8 Batch 800 Loss 0.0667\n",
            "Epoch 8 Batch 900 Loss 0.1071\n",
            "Epoch 8 Batch 1000 Loss 0.1074\n",
            "Epoch 8 Batch 1100 Loss 0.1248\n",
            "Epoch 8 Batch 1200 Loss 0.0876\n",
            "Epoch 8 Loss 0.0900\n",
            "Time taken for 1 epoch 101.44181299209595 sec\n",
            "\n",
            "Epoch 9 Batch 0 Loss 0.0874\n",
            "Epoch 9 Batch 100 Loss 0.0683\n",
            "Epoch 9 Batch 200 Loss 0.0851\n",
            "Epoch 9 Batch 300 Loss 0.0556\n",
            "Epoch 9 Batch 400 Loss 0.0653\n",
            "Epoch 9 Batch 500 Loss 0.0760\n",
            "Epoch 9 Batch 600 Loss 0.0801\n",
            "Epoch 9 Batch 700 Loss 0.0541\n",
            "Epoch 9 Batch 800 Loss 0.1044\n",
            "Epoch 9 Batch 900 Loss 0.0771\n",
            "Epoch 9 Batch 1000 Loss 0.0811\n",
            "Epoch 9 Batch 1100 Loss 0.0919\n",
            "Epoch 9 Batch 1200 Loss 0.0653\n",
            "Epoch 9 Loss 0.0829\n",
            "Time taken for 1 epoch 100.55900454521179 sec\n",
            "\n",
            "Epoch 10 Batch 0 Loss 0.0617\n",
            "Epoch 10 Batch 100 Loss 0.0731\n",
            "Epoch 10 Batch 200 Loss 0.0892\n",
            "Epoch 10 Batch 300 Loss 0.0914\n",
            "Epoch 10 Batch 400 Loss 0.0724\n",
            "Epoch 10 Batch 500 Loss 0.1065\n",
            "Epoch 10 Batch 600 Loss 0.0814\n",
            "Epoch 10 Batch 700 Loss 0.0704\n",
            "Epoch 10 Batch 800 Loss 0.0600\n",
            "Epoch 10 Batch 900 Loss 0.0505\n",
            "Epoch 10 Batch 1000 Loss 0.0993\n",
            "Epoch 10 Batch 1100 Loss 0.0753\n",
            "Epoch 10 Batch 1200 Loss 0.0986\n",
            "Epoch 10 Loss 0.0778\n",
            "Time taken for 1 epoch 101.39757943153381 sec\n",
            "\n",
            "Epoch 11 Batch 0 Loss 0.0706\n",
            "Epoch 11 Batch 100 Loss 0.0338\n",
            "Epoch 11 Batch 200 Loss 0.0943\n",
            "Epoch 11 Batch 300 Loss 0.0726\n",
            "Epoch 11 Batch 400 Loss 0.0646\n",
            "Epoch 11 Batch 500 Loss 0.0434\n",
            "Epoch 11 Batch 600 Loss 0.0644\n",
            "Epoch 11 Batch 700 Loss 0.0816\n",
            "Epoch 11 Batch 800 Loss 0.0802\n",
            "Epoch 11 Batch 900 Loss 0.0489\n",
            "Epoch 11 Batch 1000 Loss 0.0750\n",
            "Epoch 11 Batch 1100 Loss 0.0976\n",
            "Epoch 11 Batch 1200 Loss 0.0901\n",
            "Epoch 11 Loss 0.0737\n",
            "Time taken for 1 epoch 100.70351004600525 sec\n",
            "\n",
            "Epoch 12 Batch 0 Loss 0.0355\n",
            "Epoch 12 Batch 100 Loss 0.0965\n",
            "Epoch 12 Batch 200 Loss 0.0572\n",
            "Epoch 12 Batch 300 Loss 0.1014\n",
            "Epoch 12 Batch 400 Loss 0.0868\n",
            "Epoch 12 Batch 500 Loss 0.0596\n",
            "Epoch 12 Batch 600 Loss 0.0863\n",
            "Epoch 12 Batch 700 Loss 0.0677\n",
            "Epoch 12 Batch 800 Loss 0.0552\n",
            "Epoch 12 Batch 900 Loss 0.0754\n",
            "Epoch 12 Batch 1000 Loss 0.0973\n",
            "Epoch 12 Batch 1100 Loss 0.0565\n",
            "Epoch 12 Batch 1200 Loss 0.0927\n",
            "Epoch 12 Loss 0.0702\n",
            "Time taken for 1 epoch 101.68635106086731 sec\n",
            "\n",
            "Epoch 13 Batch 0 Loss 0.0695\n",
            "Epoch 13 Batch 100 Loss 0.0503\n",
            "Epoch 13 Batch 200 Loss 0.0716\n",
            "Epoch 13 Batch 300 Loss 0.0705\n",
            "Epoch 13 Batch 400 Loss 0.0384\n",
            "Epoch 13 Batch 500 Loss 0.0591\n",
            "Epoch 13 Batch 600 Loss 0.0300\n",
            "Epoch 13 Batch 700 Loss 0.0413\n",
            "Epoch 13 Batch 800 Loss 0.0918\n",
            "Epoch 13 Batch 900 Loss 0.0977\n",
            "Epoch 13 Batch 1000 Loss 0.1139\n",
            "Epoch 13 Batch 1100 Loss 0.1119\n",
            "Epoch 13 Batch 1200 Loss 0.0640\n",
            "Epoch 13 Loss 0.0687\n",
            "Time taken for 1 epoch 100.82850456237793 sec\n",
            "\n",
            "Epoch 14 Batch 0 Loss 0.0609\n",
            "Epoch 14 Batch 100 Loss 0.0531\n",
            "Epoch 14 Batch 200 Loss 0.0315\n",
            "Epoch 14 Batch 300 Loss 0.0364\n",
            "Epoch 14 Batch 400 Loss 0.0578\n",
            "Epoch 14 Batch 500 Loss 0.0544\n",
            "Epoch 14 Batch 600 Loss 0.0850\n",
            "Epoch 14 Batch 700 Loss 0.0912\n",
            "Epoch 14 Batch 800 Loss 0.0752\n",
            "Epoch 14 Batch 900 Loss 0.0765\n",
            "Epoch 14 Batch 1000 Loss 0.0714\n",
            "Epoch 14 Batch 1100 Loss 0.0549\n",
            "Epoch 14 Batch 1200 Loss 0.0870\n",
            "Epoch 14 Loss 0.0653\n",
            "Time taken for 1 epoch 101.68780446052551 sec\n",
            "\n",
            "Epoch 15 Batch 0 Loss 0.0364\n",
            "Epoch 15 Batch 100 Loss 0.0191\n",
            "Epoch 15 Batch 200 Loss 0.0541\n",
            "Epoch 15 Batch 300 Loss 0.0495\n",
            "Epoch 15 Batch 400 Loss 0.0744\n",
            "Epoch 15 Batch 500 Loss 0.0252\n",
            "Epoch 15 Batch 600 Loss 0.0568\n",
            "Epoch 15 Batch 700 Loss 0.0628\n",
            "Epoch 15 Batch 800 Loss 0.0567\n",
            "Epoch 15 Batch 900 Loss 0.0531\n",
            "Epoch 15 Batch 1000 Loss 0.0773\n",
            "Epoch 15 Batch 1100 Loss 0.0602\n",
            "Epoch 15 Batch 1200 Loss 0.0766\n",
            "Epoch 15 Loss 0.0633\n",
            "Time taken for 1 epoch 100.77150750160217 sec\n",
            "\n",
            "Epoch 16 Batch 0 Loss 0.0422\n",
            "Epoch 16 Batch 100 Loss 0.0512\n",
            "Epoch 16 Batch 200 Loss 0.0432\n",
            "Epoch 16 Batch 300 Loss 0.0460\n",
            "Epoch 16 Batch 400 Loss 0.0369\n",
            "Epoch 16 Batch 500 Loss 0.0627\n",
            "Epoch 16 Batch 600 Loss 0.0653\n",
            "Epoch 16 Batch 700 Loss 0.0928\n",
            "Epoch 16 Batch 800 Loss 0.0721\n",
            "Epoch 16 Batch 900 Loss 0.0767\n",
            "Epoch 16 Batch 1000 Loss 0.0925\n",
            "Epoch 16 Batch 1100 Loss 0.0558\n",
            "Epoch 16 Batch 1200 Loss 0.0869\n",
            "Epoch 16 Loss 0.0624\n",
            "Time taken for 1 epoch 101.73491597175598 sec\n",
            "\n",
            "Epoch 17 Batch 0 Loss 0.0487\n",
            "Epoch 17 Batch 100 Loss 0.0568\n",
            "Epoch 17 Batch 200 Loss 0.0310\n",
            "Epoch 17 Batch 300 Loss 0.0578\n",
            "Epoch 17 Batch 400 Loss 0.0510\n",
            "Epoch 17 Batch 500 Loss 0.0896\n",
            "Epoch 17 Batch 600 Loss 0.0401\n",
            "Epoch 17 Batch 700 Loss 0.0445\n",
            "Epoch 17 Batch 800 Loss 0.0983\n",
            "Epoch 17 Batch 900 Loss 0.0887\n",
            "Epoch 17 Batch 1000 Loss 0.0820\n",
            "Epoch 17 Batch 1100 Loss 0.0608\n",
            "Epoch 17 Batch 1200 Loss 0.0888\n",
            "Epoch 17 Loss 0.0601\n",
            "Time taken for 1 epoch 100.6911506652832 sec\n",
            "\n",
            "Epoch 18 Batch 0 Loss 0.0491\n",
            "Epoch 18 Batch 100 Loss 0.0578\n",
            "Epoch 18 Batch 200 Loss 0.0653\n",
            "Epoch 18 Batch 300 Loss 0.0698\n",
            "Epoch 18 Batch 400 Loss 0.0529\n",
            "Epoch 18 Batch 500 Loss 0.0570\n",
            "Epoch 18 Batch 600 Loss 0.0913\n",
            "Epoch 18 Batch 700 Loss 0.0661\n",
            "Epoch 18 Batch 800 Loss 0.0912\n",
            "Epoch 18 Batch 900 Loss 0.0763\n",
            "Epoch 18 Batch 1000 Loss 0.0469\n",
            "Epoch 18 Batch 1100 Loss 0.0884\n",
            "Epoch 18 Batch 1200 Loss 0.0667\n",
            "Epoch 18 Loss 0.0588\n",
            "Time taken for 1 epoch 101.50288796424866 sec\n",
            "\n",
            "Epoch 19 Batch 0 Loss 0.0313\n",
            "Epoch 19 Batch 100 Loss 0.0370\n",
            "Epoch 19 Batch 200 Loss 0.0231\n",
            "Epoch 19 Batch 300 Loss 0.0562\n",
            "Epoch 19 Batch 400 Loss 0.0680\n",
            "Epoch 19 Batch 500 Loss 0.0373\n",
            "Epoch 19 Batch 600 Loss 0.0430\n",
            "Epoch 19 Batch 700 Loss 0.0392\n",
            "Epoch 19 Batch 800 Loss 0.0452\n",
            "Epoch 19 Batch 900 Loss 0.0357\n",
            "Epoch 19 Batch 1000 Loss 0.0683\n",
            "Epoch 19 Batch 1100 Loss 0.0464\n",
            "Epoch 19 Batch 1200 Loss 0.0757\n",
            "Epoch 19 Loss 0.0571\n",
            "Time taken for 1 epoch 100.66340613365173 sec\n",
            "\n",
            "Epoch 20 Batch 0 Loss 0.0353\n",
            "Epoch 20 Batch 100 Loss 0.0488\n",
            "Epoch 20 Batch 200 Loss 0.0282\n",
            "Epoch 20 Batch 300 Loss 0.0669\n",
            "Epoch 20 Batch 400 Loss 0.0719\n",
            "Epoch 20 Batch 500 Loss 0.0426\n",
            "Epoch 20 Batch 600 Loss 0.0580\n",
            "Epoch 20 Batch 700 Loss 0.0715\n",
            "Epoch 20 Batch 800 Loss 0.0384\n",
            "Epoch 20 Batch 900 Loss 0.0433\n",
            "Epoch 20 Batch 1000 Loss 0.0736\n",
            "Epoch 20 Batch 1100 Loss 0.0945\n",
            "Epoch 20 Batch 1200 Loss 0.0634\n",
            "Epoch 20 Loss 0.0565\n",
            "Time taken for 1 epoch 101.55974221229553 sec\n",
            "\n",
            "Epoch 21 Batch 0 Loss 0.0446\n",
            "Epoch 21 Batch 100 Loss 0.0520\n",
            "Epoch 21 Batch 200 Loss 0.0514\n",
            "Epoch 21 Batch 300 Loss 0.0470\n",
            "Epoch 21 Batch 400 Loss 0.0599\n",
            "Epoch 21 Batch 500 Loss 0.0502\n",
            "Epoch 21 Batch 600 Loss 0.0615\n",
            "Epoch 21 Batch 700 Loss 0.0513\n",
            "Epoch 21 Batch 800 Loss 0.0471\n",
            "Epoch 21 Batch 900 Loss 0.0597\n",
            "Epoch 21 Batch 1000 Loss 0.0784\n",
            "Epoch 21 Batch 1100 Loss 0.0527\n",
            "Epoch 21 Batch 1200 Loss 0.0513\n",
            "Epoch 21 Loss 0.0548\n",
            "Time taken for 1 epoch 100.67300391197205 sec\n",
            "\n",
            "Epoch 22 Batch 0 Loss 0.0343\n",
            "Epoch 22 Batch 100 Loss 0.0187\n",
            "Epoch 22 Batch 200 Loss 0.0272\n",
            "Epoch 22 Batch 300 Loss 0.0369\n",
            "Epoch 22 Batch 400 Loss 0.0628\n",
            "Epoch 22 Batch 500 Loss 0.0590\n",
            "Epoch 22 Batch 600 Loss 0.1070\n",
            "Epoch 22 Batch 700 Loss 0.0332\n",
            "Epoch 22 Batch 800 Loss 0.0662\n",
            "Epoch 22 Batch 900 Loss 0.0566\n",
            "Epoch 22 Batch 1000 Loss 0.0512\n",
            "Epoch 22 Batch 1100 Loss 0.0614\n",
            "Epoch 22 Batch 1200 Loss 0.0796\n",
            "Epoch 22 Loss 0.0538\n",
            "Time taken for 1 epoch 101.49282932281494 sec\n",
            "\n",
            "Epoch 23 Batch 0 Loss 0.0298\n",
            "Epoch 23 Batch 100 Loss 0.0374\n",
            "Epoch 23 Batch 200 Loss 0.0647\n",
            "Epoch 23 Batch 300 Loss 0.0404\n",
            "Epoch 23 Batch 400 Loss 0.0501\n",
            "Epoch 23 Batch 500 Loss 0.0395\n",
            "Epoch 23 Batch 600 Loss 0.0540\n",
            "Epoch 23 Batch 700 Loss 0.0504\n",
            "Epoch 23 Batch 800 Loss 0.0370\n",
            "Epoch 23 Batch 900 Loss 0.0803\n",
            "Epoch 23 Batch 1000 Loss 0.0515\n",
            "Epoch 23 Batch 1100 Loss 0.0291\n",
            "Epoch 23 Batch 1200 Loss 0.0757\n",
            "Epoch 23 Loss 0.0528\n",
            "Time taken for 1 epoch 100.76365685462952 sec\n",
            "\n",
            "Epoch 24 Batch 0 Loss 0.0304\n",
            "Epoch 24 Batch 100 Loss 0.0259\n",
            "Epoch 24 Batch 200 Loss 0.0268\n",
            "Epoch 24 Batch 300 Loss 0.0481\n",
            "Epoch 24 Batch 400 Loss 0.0333\n",
            "Epoch 24 Batch 500 Loss 0.0377\n",
            "Epoch 24 Batch 600 Loss 0.0287\n",
            "Epoch 24 Batch 700 Loss 0.0567\n",
            "Epoch 24 Batch 800 Loss 0.0845\n",
            "Epoch 24 Batch 900 Loss 0.0498\n",
            "Epoch 24 Batch 1000 Loss 0.0825\n",
            "Epoch 24 Batch 1100 Loss 0.0316\n",
            "Epoch 24 Batch 1200 Loss 0.0370\n",
            "Epoch 24 Loss 0.0517\n",
            "Time taken for 1 epoch 101.56800365447998 sec\n",
            "\n",
            "Epoch 25 Batch 0 Loss 0.0307\n",
            "Epoch 25 Batch 100 Loss 0.0414\n",
            "Epoch 25 Batch 200 Loss 0.0198\n",
            "Epoch 25 Batch 300 Loss 0.0381\n",
            "Epoch 25 Batch 400 Loss 0.0327\n",
            "Epoch 25 Batch 500 Loss 0.0476\n",
            "Epoch 25 Batch 600 Loss 0.0339\n",
            "Epoch 25 Batch 700 Loss 0.0516\n",
            "Epoch 25 Batch 800 Loss 0.0475\n",
            "Epoch 25 Batch 900 Loss 0.0540\n",
            "Epoch 25 Batch 1000 Loss 0.0498\n",
            "Epoch 25 Batch 1100 Loss 0.0492\n",
            "Epoch 25 Batch 1200 Loss 0.0458\n",
            "Epoch 25 Loss 0.0507\n",
            "Time taken for 1 epoch 100.64748191833496 sec\n",
            "\n",
            "Epoch 26 Batch 0 Loss 0.0585\n",
            "Epoch 26 Batch 100 Loss 0.0548\n",
            "Epoch 26 Batch 200 Loss 0.0219\n",
            "Epoch 26 Batch 300 Loss 0.0208\n",
            "Epoch 26 Batch 400 Loss 0.0407\n",
            "Epoch 26 Batch 500 Loss 0.0572\n",
            "Epoch 26 Batch 600 Loss 0.0442\n",
            "Epoch 26 Batch 700 Loss 0.0426\n",
            "Epoch 26 Batch 800 Loss 0.0397\n",
            "Epoch 26 Batch 900 Loss 0.0457\n",
            "Epoch 26 Batch 1000 Loss 0.0805\n",
            "Epoch 26 Batch 1100 Loss 0.0558\n",
            "Epoch 26 Batch 1200 Loss 0.0612\n",
            "Epoch 26 Loss 0.0495\n",
            "Time taken for 1 epoch 101.11953115463257 sec\n",
            "\n",
            "Epoch 27 Batch 0 Loss 0.0417\n",
            "Epoch 27 Batch 100 Loss 0.0508\n",
            "Epoch 27 Batch 200 Loss 0.0128\n",
            "Epoch 27 Batch 300 Loss 0.0650\n",
            "Epoch 27 Batch 400 Loss 0.0438\n",
            "Epoch 27 Batch 500 Loss 0.0773\n",
            "Epoch 27 Batch 600 Loss 0.0550\n",
            "Epoch 27 Batch 700 Loss 0.0347\n",
            "Epoch 27 Batch 800 Loss 0.0367\n",
            "Epoch 27 Batch 900 Loss 0.0545\n",
            "Epoch 27 Batch 1000 Loss 0.0587\n",
            "Epoch 27 Batch 1100 Loss 0.0716\n",
            "Epoch 27 Batch 1200 Loss 0.0657\n",
            "Epoch 27 Loss 0.0497\n",
            "Time taken for 1 epoch 100.54642367362976 sec\n",
            "\n",
            "Epoch 28 Batch 0 Loss 0.0237\n",
            "Epoch 28 Batch 100 Loss 0.0399\n",
            "Epoch 28 Batch 200 Loss 0.0340\n",
            "Epoch 28 Batch 300 Loss 0.0342\n",
            "Epoch 28 Batch 400 Loss 0.0539\n",
            "Epoch 28 Batch 500 Loss 0.0358\n",
            "Epoch 28 Batch 600 Loss 0.0661\n",
            "Epoch 28 Batch 700 Loss 0.0154\n",
            "Epoch 28 Batch 800 Loss 0.0534\n",
            "Epoch 28 Batch 900 Loss 0.0412\n",
            "Epoch 28 Batch 1000 Loss 0.0617\n",
            "Epoch 28 Batch 1100 Loss 0.0544\n",
            "Epoch 28 Batch 1200 Loss 0.0531\n",
            "Epoch 28 Loss 0.0483\n",
            "Time taken for 1 epoch 101.61826062202454 sec\n",
            "\n",
            "Epoch 29 Batch 0 Loss 0.0159\n",
            "Epoch 29 Batch 100 Loss 0.0398\n",
            "Epoch 29 Batch 200 Loss 0.0358\n",
            "Epoch 29 Batch 300 Loss 0.0341\n",
            "Epoch 29 Batch 400 Loss 0.0422\n",
            "Epoch 29 Batch 500 Loss 0.0419\n",
            "Epoch 29 Batch 600 Loss 0.0319\n",
            "Epoch 29 Batch 700 Loss 0.0514\n",
            "Epoch 29 Batch 800 Loss 0.0700\n",
            "Epoch 29 Batch 900 Loss 0.0417\n",
            "Epoch 29 Batch 1000 Loss 0.0481\n",
            "Epoch 29 Batch 1100 Loss 0.0585\n",
            "Epoch 29 Batch 1200 Loss 0.0340\n",
            "Epoch 29 Loss 0.0477\n",
            "Time taken for 1 epoch 100.80054998397827 sec\n",
            "\n",
            "Epoch 30 Batch 0 Loss 0.0186\n",
            "Epoch 30 Batch 100 Loss 0.0324\n",
            "Epoch 30 Batch 200 Loss 0.0349\n",
            "Epoch 30 Batch 300 Loss 0.0510\n",
            "Epoch 30 Batch 400 Loss 0.0307\n",
            "Epoch 30 Batch 500 Loss 0.0533\n",
            "Epoch 30 Batch 600 Loss 0.0282\n",
            "Epoch 30 Batch 700 Loss 0.0267\n",
            "Epoch 30 Batch 800 Loss 0.0612\n",
            "Epoch 30 Batch 900 Loss 0.0501\n",
            "Epoch 30 Batch 1000 Loss 0.0827\n",
            "Epoch 30 Batch 1100 Loss 0.0678\n",
            "Epoch 30 Batch 1200 Loss 0.0820\n",
            "Epoch 30 Loss 0.0475\n",
            "Time taken for 1 epoch 101.61667656898499 sec\n",
            "\n",
            "Epoch 31 Batch 0 Loss 0.0385\n",
            "Epoch 31 Batch 100 Loss 0.0314\n",
            "Epoch 31 Batch 200 Loss 0.0723\n",
            "Epoch 31 Batch 300 Loss 0.0366\n",
            "Epoch 31 Batch 400 Loss 0.0586\n",
            "Epoch 31 Batch 500 Loss 0.0780\n",
            "Epoch 31 Batch 600 Loss 0.0437\n",
            "Epoch 31 Batch 700 Loss 0.0629\n",
            "Epoch 31 Batch 800 Loss 0.0640\n",
            "Epoch 31 Batch 900 Loss 0.0530\n",
            "Epoch 31 Batch 1000 Loss 0.0535\n",
            "Epoch 31 Batch 1100 Loss 0.0570\n",
            "Epoch 31 Batch 1200 Loss 0.0600\n",
            "Epoch 31 Loss 0.0467\n",
            "Time taken for 1 epoch 100.6702561378479 sec\n",
            "\n",
            "Epoch 32 Batch 0 Loss 0.0329\n",
            "Epoch 32 Batch 100 Loss 0.0441\n",
            "Epoch 32 Batch 200 Loss 0.0447\n",
            "Epoch 32 Batch 300 Loss 0.0250\n",
            "Epoch 32 Batch 400 Loss 0.0200\n",
            "Epoch 32 Batch 500 Loss 0.0423\n",
            "Epoch 32 Batch 600 Loss 0.0367\n",
            "Epoch 32 Batch 700 Loss 0.0292\n",
            "Epoch 32 Batch 800 Loss 0.0492\n",
            "Epoch 32 Batch 900 Loss 0.0705\n",
            "Epoch 32 Batch 1000 Loss 0.0656\n",
            "Epoch 32 Batch 1100 Loss 0.0539\n",
            "Epoch 32 Batch 1200 Loss 0.0502\n",
            "Epoch 32 Loss 0.0466\n",
            "Time taken for 1 epoch 101.24289321899414 sec\n",
            "\n",
            "Epoch 33 Batch 0 Loss 0.0414\n",
            "Epoch 33 Batch 100 Loss 0.0296\n",
            "Epoch 33 Batch 200 Loss 0.0486\n",
            "Epoch 33 Batch 300 Loss 0.0466\n",
            "Epoch 33 Batch 400 Loss 0.0485\n",
            "Epoch 33 Batch 500 Loss 0.0356\n",
            "Epoch 33 Batch 600 Loss 0.0454\n",
            "Epoch 33 Batch 700 Loss 0.0465\n",
            "Epoch 33 Batch 800 Loss 0.0370\n",
            "Epoch 33 Batch 900 Loss 0.0341\n",
            "Epoch 33 Batch 1000 Loss 0.0347\n",
            "Epoch 33 Batch 1100 Loss 0.0484\n",
            "Epoch 33 Batch 1200 Loss 0.0455\n",
            "Epoch 33 Loss 0.0466\n",
            "Time taken for 1 epoch 100.6707661151886 sec\n",
            "\n",
            "Epoch 34 Batch 0 Loss 0.0638\n",
            "Epoch 34 Batch 100 Loss 0.0282\n",
            "Epoch 34 Batch 200 Loss 0.0322\n",
            "Epoch 34 Batch 300 Loss 0.0370\n",
            "Epoch 34 Batch 400 Loss 0.0726\n",
            "Epoch 34 Batch 500 Loss 0.0402\n",
            "Epoch 34 Batch 600 Loss 0.0521\n",
            "Epoch 34 Batch 700 Loss 0.0462\n",
            "Epoch 34 Batch 800 Loss 0.0411\n",
            "Epoch 34 Batch 900 Loss 0.0383\n",
            "Epoch 34 Batch 1000 Loss 0.0597\n",
            "Epoch 34 Batch 1100 Loss 0.0635\n",
            "Epoch 34 Batch 1200 Loss 0.0634\n",
            "Epoch 34 Loss 0.0453\n",
            "Time taken for 1 epoch 101.2027039527893 sec\n",
            "\n",
            "Epoch 35 Batch 0 Loss 0.0263\n",
            "Epoch 35 Batch 100 Loss 0.0175\n",
            "Epoch 35 Batch 200 Loss 0.0336\n",
            "Epoch 35 Batch 300 Loss 0.0249\n",
            "Epoch 35 Batch 400 Loss 0.0408\n",
            "Epoch 35 Batch 500 Loss 0.0420\n",
            "Epoch 35 Batch 600 Loss 0.0661\n",
            "Epoch 35 Batch 700 Loss 0.0399\n",
            "Epoch 35 Batch 800 Loss 0.0456\n",
            "Epoch 35 Batch 900 Loss 0.0218\n",
            "Epoch 35 Batch 1000 Loss 0.0402\n",
            "Epoch 35 Batch 1100 Loss 0.0686\n",
            "Epoch 35 Batch 1200 Loss 0.0531\n",
            "Epoch 35 Loss 0.0432\n",
            "Time taken for 1 epoch 100.55515098571777 sec\n",
            "\n",
            "Epoch 36 Batch 0 Loss 0.0456\n",
            "Epoch 36 Batch 100 Loss 0.0216\n",
            "Epoch 36 Batch 200 Loss 0.0216\n",
            "Epoch 36 Batch 300 Loss 0.0399\n",
            "Epoch 36 Batch 400 Loss 0.0504\n",
            "Epoch 36 Batch 500 Loss 0.0263\n",
            "Epoch 36 Batch 600 Loss 0.0288\n",
            "Epoch 36 Batch 700 Loss 0.0456\n",
            "Epoch 36 Batch 800 Loss 0.0375\n",
            "Epoch 36 Batch 900 Loss 0.0675\n",
            "Epoch 36 Batch 1000 Loss 0.0382\n",
            "Epoch 36 Batch 1100 Loss 0.0470\n",
            "Epoch 36 Batch 1200 Loss 0.0440\n",
            "Epoch 36 Loss 0.0448\n",
            "Time taken for 1 epoch 101.4224956035614 sec\n",
            "\n",
            "Epoch 37 Batch 0 Loss 0.0364\n",
            "Epoch 37 Batch 100 Loss 0.0358\n",
            "Epoch 37 Batch 200 Loss 0.0494\n",
            "Epoch 37 Batch 300 Loss 0.0407\n",
            "Epoch 37 Batch 400 Loss 0.0402\n",
            "Epoch 37 Batch 500 Loss 0.0369\n",
            "Epoch 37 Batch 600 Loss 0.0438\n",
            "Epoch 37 Batch 700 Loss 0.0563\n",
            "Epoch 37 Batch 800 Loss 0.0557\n",
            "Epoch 37 Batch 900 Loss 0.0331\n",
            "Epoch 37 Batch 1000 Loss 0.0551\n",
            "Epoch 37 Batch 1100 Loss 0.0511\n",
            "Epoch 37 Batch 1200 Loss 0.0496\n",
            "Epoch 37 Loss 0.0443\n",
            "Time taken for 1 epoch 100.75647711753845 sec\n",
            "\n",
            "Epoch 38 Batch 0 Loss 0.0601\n",
            "Epoch 38 Batch 100 Loss 0.0203\n",
            "Epoch 38 Batch 200 Loss 0.0506\n",
            "Epoch 38 Batch 300 Loss 0.0243\n",
            "Epoch 38 Batch 400 Loss 0.0391\n",
            "Epoch 38 Batch 500 Loss 0.0470\n",
            "Epoch 38 Batch 600 Loss 0.0459\n",
            "Epoch 38 Batch 700 Loss 0.0462\n",
            "Epoch 38 Batch 800 Loss 0.0497\n",
            "Epoch 38 Batch 900 Loss 0.0861\n",
            "Epoch 38 Batch 1000 Loss 0.0676\n",
            "Epoch 38 Batch 1100 Loss 0.0392\n",
            "Epoch 38 Batch 1200 Loss 0.0437\n",
            "Epoch 38 Loss 0.0433\n",
            "Time taken for 1 epoch 101.43988132476807 sec\n",
            "\n",
            "Epoch 39 Batch 0 Loss 0.0274\n",
            "Epoch 39 Batch 100 Loss 0.0208\n",
            "Epoch 39 Batch 200 Loss 0.0542\n",
            "Epoch 39 Batch 300 Loss 0.0217\n",
            "Epoch 39 Batch 400 Loss 0.0441\n",
            "Epoch 39 Batch 500 Loss 0.0421\n",
            "Epoch 39 Batch 600 Loss 0.0400\n",
            "Epoch 39 Batch 700 Loss 0.0446\n",
            "Epoch 39 Batch 800 Loss 0.0257\n",
            "Epoch 39 Batch 900 Loss 0.0363\n",
            "Epoch 39 Batch 1000 Loss 0.0601\n",
            "Epoch 39 Batch 1100 Loss 0.0616\n",
            "Epoch 39 Batch 1200 Loss 0.0627\n",
            "Epoch 39 Loss 0.0425\n",
            "Time taken for 1 epoch 100.65012288093567 sec\n",
            "\n",
            "Epoch 40 Batch 0 Loss 0.0222\n",
            "Epoch 40 Batch 100 Loss 0.0205\n",
            "Epoch 40 Batch 200 Loss 0.0287\n",
            "Epoch 40 Batch 300 Loss 0.0460\n",
            "Epoch 40 Batch 400 Loss 0.0223\n",
            "Epoch 40 Batch 500 Loss 0.0519\n",
            "Epoch 40 Batch 600 Loss 0.0377\n",
            "Epoch 40 Batch 700 Loss 0.0471\n",
            "Epoch 40 Batch 800 Loss 0.0496\n",
            "Epoch 40 Batch 900 Loss 0.0582\n",
            "Epoch 40 Batch 1000 Loss 0.0329\n",
            "Epoch 40 Batch 1100 Loss 0.0294\n",
            "Epoch 40 Batch 1200 Loss 0.0655\n",
            "Epoch 40 Loss 0.0430\n",
            "Time taken for 1 epoch 101.54883551597595 sec\n",
            "\n",
            "Epoch 41 Batch 0 Loss 0.0194\n",
            "Epoch 41 Batch 100 Loss 0.0405\n",
            "Epoch 41 Batch 200 Loss 0.0143\n",
            "Epoch 41 Batch 300 Loss 0.0443\n",
            "Epoch 41 Batch 400 Loss 0.0443\n",
            "Epoch 41 Batch 500 Loss 0.0435\n",
            "Epoch 41 Batch 600 Loss 0.0469\n",
            "Epoch 41 Batch 700 Loss 0.0584\n",
            "Epoch 41 Batch 800 Loss 0.0406\n",
            "Epoch 41 Batch 900 Loss 0.0440\n",
            "Epoch 41 Batch 1000 Loss 0.0412\n",
            "Epoch 41 Batch 1100 Loss 0.0517\n",
            "Epoch 41 Batch 1200 Loss 0.0619\n",
            "Epoch 41 Loss 0.0422\n",
            "Time taken for 1 epoch 100.57394218444824 sec\n",
            "\n",
            "Epoch 42 Batch 0 Loss 0.0253\n",
            "Epoch 42 Batch 100 Loss 0.0347\n",
            "Epoch 42 Batch 200 Loss 0.0174\n",
            "Epoch 42 Batch 300 Loss 0.0371\n",
            "Epoch 42 Batch 400 Loss 0.0326\n",
            "Epoch 42 Batch 500 Loss 0.0504\n",
            "Epoch 42 Batch 600 Loss 0.0464\n",
            "Epoch 42 Batch 700 Loss 0.0329\n",
            "Epoch 42 Batch 800 Loss 0.0569\n",
            "Epoch 42 Batch 900 Loss 0.0695\n",
            "Epoch 42 Batch 1000 Loss 0.0313\n",
            "Epoch 42 Batch 1100 Loss 0.0462\n",
            "Epoch 42 Batch 1200 Loss 0.0391\n",
            "Epoch 42 Loss 0.0417\n",
            "Time taken for 1 epoch 101.58055329322815 sec\n",
            "\n",
            "Epoch 43 Batch 0 Loss 0.0384\n",
            "Epoch 43 Batch 100 Loss 0.0390\n",
            "Epoch 43 Batch 200 Loss 0.0420\n",
            "Epoch 43 Batch 300 Loss 0.0417\n",
            "Epoch 43 Batch 400 Loss 0.0332\n",
            "Epoch 43 Batch 500 Loss 0.0299\n",
            "Epoch 43 Batch 600 Loss 0.0459\n",
            "Epoch 43 Batch 700 Loss 0.0452\n",
            "Epoch 43 Batch 800 Loss 0.0770\n",
            "Epoch 43 Batch 900 Loss 0.0417\n",
            "Epoch 43 Batch 1000 Loss 0.0607\n",
            "Epoch 43 Batch 1100 Loss 0.0494\n",
            "Epoch 43 Batch 1200 Loss 0.0646\n",
            "Epoch 43 Loss 0.0419\n",
            "Time taken for 1 epoch 100.64822506904602 sec\n",
            "\n",
            "Epoch 44 Batch 0 Loss 0.0256\n",
            "Epoch 44 Batch 100 Loss 0.0490\n",
            "Epoch 44 Batch 200 Loss 0.0379\n",
            "Epoch 44 Batch 300 Loss 0.0364\n",
            "Epoch 44 Batch 400 Loss 0.0336\n",
            "Epoch 44 Batch 500 Loss 0.0479\n",
            "Epoch 44 Batch 600 Loss 0.0295\n",
            "Epoch 44 Batch 700 Loss 0.0480\n",
            "Epoch 44 Batch 800 Loss 0.0660\n",
            "Epoch 44 Batch 900 Loss 0.0186\n",
            "Epoch 44 Batch 1000 Loss 0.0361\n",
            "Epoch 44 Batch 1100 Loss 0.0487\n",
            "Epoch 44 Batch 1200 Loss 0.0528\n",
            "Epoch 44 Loss 0.0426\n",
            "Time taken for 1 epoch 101.44009518623352 sec\n",
            "\n",
            "Epoch 45 Batch 0 Loss 0.0495\n",
            "Epoch 45 Batch 100 Loss 0.0399\n",
            "Epoch 45 Batch 200 Loss 0.0533\n",
            "Epoch 45 Batch 300 Loss 0.0413\n",
            "Epoch 45 Batch 400 Loss 0.0524\n",
            "Epoch 45 Batch 500 Loss 0.0398\n",
            "Epoch 45 Batch 600 Loss 0.0492\n",
            "Epoch 45 Batch 700 Loss 0.0691\n",
            "Epoch 45 Batch 800 Loss 0.0647\n",
            "Epoch 45 Batch 900 Loss 0.0364\n",
            "Epoch 45 Batch 1000 Loss 0.0452\n",
            "Epoch 45 Batch 1100 Loss 0.0400\n",
            "Epoch 45 Batch 1200 Loss 0.0477\n",
            "Epoch 45 Loss 0.0405\n",
            "Time taken for 1 epoch 100.56006002426147 sec\n",
            "\n",
            "Epoch 46 Batch 0 Loss 0.0379\n",
            "Epoch 46 Batch 100 Loss 0.0189\n",
            "Epoch 46 Batch 200 Loss 0.0284\n",
            "Epoch 46 Batch 300 Loss 0.0412\n",
            "Epoch 46 Batch 400 Loss 0.0262\n",
            "Epoch 46 Batch 500 Loss 0.0289\n",
            "Epoch 46 Batch 600 Loss 0.0364\n",
            "Epoch 46 Batch 700 Loss 0.0399\n",
            "Epoch 46 Batch 800 Loss 0.0582\n",
            "Epoch 46 Batch 900 Loss 0.0433\n",
            "Epoch 46 Batch 1000 Loss 0.0501\n",
            "Epoch 46 Batch 1100 Loss 0.0379\n",
            "Epoch 46 Batch 1200 Loss 0.0491\n",
            "Epoch 46 Loss 0.0405\n",
            "Time taken for 1 epoch 101.63236737251282 sec\n",
            "\n",
            "Epoch 47 Batch 0 Loss 0.0240\n",
            "Epoch 47 Batch 100 Loss 0.0134\n",
            "Epoch 47 Batch 200 Loss 0.0241\n",
            "Epoch 47 Batch 300 Loss 0.0657\n",
            "Epoch 47 Batch 400 Loss 0.0292\n",
            "Epoch 47 Batch 500 Loss 0.0416\n",
            "Epoch 47 Batch 600 Loss 0.0380\n",
            "Epoch 47 Batch 700 Loss 0.0436\n",
            "Epoch 47 Batch 800 Loss 0.0560\n",
            "Epoch 47 Batch 900 Loss 0.0479\n",
            "Epoch 47 Batch 1000 Loss 0.0404\n",
            "Epoch 47 Batch 1100 Loss 0.0506\n",
            "Epoch 47 Batch 1200 Loss 0.0530\n",
            "Epoch 47 Loss 0.0405\n",
            "Time taken for 1 epoch 100.47306251525879 sec\n",
            "\n",
            "Epoch 48 Batch 0 Loss 0.0321\n",
            "Epoch 48 Batch 100 Loss 0.0282\n",
            "Epoch 48 Batch 200 Loss 0.0189\n",
            "Epoch 48 Batch 300 Loss 0.0190\n",
            "Epoch 48 Batch 400 Loss 0.0358\n",
            "Epoch 48 Batch 500 Loss 0.0578\n",
            "Epoch 48 Batch 600 Loss 0.0308\n",
            "Epoch 48 Batch 700 Loss 0.0439\n",
            "Epoch 48 Batch 800 Loss 0.0677\n",
            "Epoch 48 Batch 900 Loss 0.0593\n",
            "Epoch 48 Batch 1000 Loss 0.0272\n",
            "Epoch 48 Batch 1100 Loss 0.0397\n",
            "Epoch 48 Batch 1200 Loss 0.0255\n",
            "Epoch 48 Loss 0.0407\n",
            "Time taken for 1 epoch 101.52222967147827 sec\n",
            "\n",
            "Epoch 49 Batch 0 Loss 0.0260\n",
            "Epoch 49 Batch 100 Loss 0.0197\n",
            "Epoch 49 Batch 200 Loss 0.0216\n",
            "Epoch 49 Batch 300 Loss 0.0310\n",
            "Epoch 49 Batch 400 Loss 0.0357\n",
            "Epoch 49 Batch 500 Loss 0.0451\n",
            "Epoch 49 Batch 600 Loss 0.0497\n",
            "Epoch 49 Batch 700 Loss 0.0415\n",
            "Epoch 49 Batch 800 Loss 0.0481\n",
            "Epoch 49 Batch 900 Loss 0.0538\n",
            "Epoch 49 Batch 1000 Loss 0.0142\n",
            "Epoch 49 Batch 1100 Loss 0.0419\n",
            "Epoch 49 Batch 1200 Loss 0.0302\n",
            "Epoch 49 Loss 0.0399\n",
            "Time taken for 1 epoch 100.62255907058716 sec\n",
            "\n",
            "Epoch 50 Batch 0 Loss 0.0327\n",
            "Epoch 50 Batch 100 Loss 0.0267\n",
            "Epoch 50 Batch 200 Loss 0.0282\n",
            "Epoch 50 Batch 300 Loss 0.0308\n",
            "Epoch 50 Batch 400 Loss 0.0319\n",
            "Epoch 50 Batch 500 Loss 0.0283\n",
            "Epoch 50 Batch 600 Loss 0.0317\n",
            "Epoch 50 Batch 700 Loss 0.0254\n",
            "Epoch 50 Batch 800 Loss 0.0232\n",
            "Epoch 50 Batch 900 Loss 0.0534\n",
            "Epoch 50 Batch 1000 Loss 0.0430\n",
            "Epoch 50 Batch 1100 Loss 0.0399\n",
            "Epoch 50 Batch 1200 Loss 0.0429\n",
            "Epoch 50 Loss 0.0401\n",
            "Time taken for 1 epoch 101.67996573448181 sec\n",
            "\n"
          ]
        }
      ]
    },
    {
      "cell_type": "markdown",
      "metadata": {
        "id": "mU3Ce8M6I3rz"
      },
      "source": [
        "## Translate\n",
        "\n",
        "* The evaluate function is similar to the training loop, except we don't use *teacher forcing* here. The input to the decoder at each time step is its previous predictions along with the hidden state and the encoder output.\n",
        "* Stop predicting when the model predicts the *end token*.\n",
        "* And store the *attention weights for every time step*.\n",
        "\n",
        "Note: The encoder output is calculated only once for one input."
      ]
    },
    {
      "cell_type": "code",
      "metadata": {
        "id": "EbQpyYs13jF_"
      },
      "source": [
        "def evaluate(sentence):\n",
        "  attention_plot = np.zeros((max_length_targ, max_length_inp))\n",
        "\n",
        "  sentence = preprocess_sentence(sentence)\n",
        "\n",
        "  inputs = [inp_lang.word_index[i] for i in sentence.split(' ')]\n",
        "  inputs = tf.keras.preprocessing.sequence.pad_sequences([inputs],\n",
        "                                                         maxlen=max_length_inp,\n",
        "                                                         padding='post')\n",
        "  inputs = tf.convert_to_tensor(inputs)\n",
        "\n",
        "  result = ''\n",
        "\n",
        "  hidden = [tf.zeros((1, units))]\n",
        "  enc_out, enc_hidden = encoder(inputs, hidden)\n",
        "\n",
        "  dec_hidden = enc_hidden\n",
        "  dec_input = tf.expand_dims([targ_lang.word_index['<start>']], 0)\n",
        "\n",
        "  for t in range(max_length_targ):\n",
        "    predictions, dec_hidden, attention_weights = decoder(dec_input,\n",
        "                                                         dec_hidden,\n",
        "                                                         enc_out)\n",
        "\n",
        "    # storing the attention weights to plot later on\n",
        "    attention_weights = tf.reshape(attention_weights, (-1, ))\n",
        "    attention_plot[t] = attention_weights.numpy()\n",
        "\n",
        "    predicted_id = tf.argmax(predictions[0]).numpy()\n",
        "\n",
        "    result += targ_lang.index_word[predicted_id] + ' '\n",
        "\n",
        "    if targ_lang.index_word[predicted_id] == '<end>':\n",
        "      return result, sentence, attention_plot\n",
        "\n",
        "    # the predicted ID is fed back into the model\n",
        "    dec_input = tf.expand_dims([predicted_id], 0)\n",
        "\n",
        "  return result, sentence, attention_plot"
      ],
      "execution_count": null,
      "outputs": []
    },
    {
      "cell_type": "code",
      "metadata": {
        "id": "Qjy26Fe8Bv5d"
      },
      "source": [
        "# function for plotting the attention weights\n",
        "def plot_attention(attention, sentence, predicted_sentence):\n",
        "  fig = plt.figure(figsize=(10,10))\n",
        "  ax = fig.add_subplot(1, 1, 1)\n",
        "  ax.matshow(attention, cmap='viridis')\n",
        "\n",
        "  fontdict = {'fontsize': 14}\n",
        "\n",
        "  ax.set_xticklabels([''] + sentence, fontdict=fontdict, rotation=90)\n",
        "  ax.set_yticklabels([''] + predicted_sentence, fontdict=fontdict)\n",
        "\n",
        "  ax.xaxis.set_major_locator(ticker.MultipleLocator(1))\n",
        "  ax.yaxis.set_major_locator(ticker.MultipleLocator(1))\n",
        "\n",
        "  plt.show()"
      ],
      "execution_count": null,
      "outputs": []
    },
    {
      "cell_type": "code",
      "metadata": {
        "id": "sl9zUHzg3jGI"
      },
      "source": [
        "def translate(sentence):\n",
        "  result, sentence, attention_plot = evaluate(sentence)\n",
        "\n",
        "  print('Input: %s' % (sentence))\n",
        "  print('Predicted translation: {}'.format(result))\n",
        "\n",
        "  attention_plot = attention_plot[:len(result.split(' ')), :len(sentence.split(' '))]\n",
        "  plot_attention(attention_plot, sentence.split(' '), result.split(' '))"
      ],
      "execution_count": null,
      "outputs": []
    },
    {
      "cell_type": "markdown",
      "metadata": {
        "id": "n250XbnjOaqP"
      },
      "source": [
        "## Restore the latest checkpoint and test"
      ]
    },
    {
      "cell_type": "code",
      "metadata": {
        "id": "UJpT9D5_OgP6",
        "colab": {
          "base_uri": "https://localhost:8080/"
        },
        "outputId": "dca40a3e-20c7-4c10-e150-28686db6d8bf"
      },
      "source": [
        "# restoring the latest checkpoint in checkpoint_dir\n",
        "checkpoint.restore(tf.train.latest_checkpoint(checkpoint_dir))"
      ],
      "execution_count": null,
      "outputs": [
        {
          "output_type": "execute_result",
          "data": {
            "text/plain": [
              "<tensorflow.python.training.tracking.util.CheckpointLoadStatus at 0x7f1d7e930490>"
            ]
          },
          "metadata": {},
          "execution_count": 32
        }
      ]
    },
    {
      "cell_type": "code",
      "metadata": {
        "id": "WrAM0FDomq3E",
        "colab": {
          "base_uri": "https://localhost:8080/",
          "height": 676
        },
        "outputId": "1b32d786-a726-4263-d0c9-66ed282d84ce"
      },
      "source": [
        "translate('Здесь хорошо.')"
      ],
      "execution_count": null,
      "outputs": [
        {
          "output_type": "stream",
          "name": "stdout",
          "text": [
            "Input: <start> здесь хорошо . <end>\n",
            "Predicted translation: it's good here . <end> \n"
          ]
        },
        {
          "output_type": "display_data",
          "data": {
            "text/plain": [
              "<Figure size 720x720 with 1 Axes>"
            ],
            "image/png": "[encoded data removed]"
          },
          "metadata": {
            "needs_background": "light"
          }
        }
      ]
    },
    {
      "cell_type": "code",
      "metadata": {
        "id": "5bhFfwcIMX5i",
        "colab": {
          "base_uri": "https://localhost:8080/",
          "height": 614
        },
        "outputId": "d8519158-7687-4276-ad38-96d2d59b94a6"
      },
      "source": [
        "translate('Я не смогу поехать.')"
      ],
      "execution_count": null,
      "outputs": [
        {
          "output_type": "stream",
          "name": "stdout",
          "text": [
            "Input: <start> я не смогу поехать . <end>\n",
            "Predicted translation: i can't go . <end> \n"
          ]
        },
        {
          "output_type": "display_data",
          "data": {
            "text/plain": [
              "<Figure size 720x720 with 1 Axes>"
            ],
            "image/png": "[encoded data removed]"
          },
          "metadata": {
            "needs_background": "light"
          }
        }
      ]
    },
    {
      "cell_type": "code",
      "metadata": {
        "id": "zSx2iM36EZQZ",
        "colab": {
          "base_uri": "https://localhost:8080/",
          "height": 678
        },
        "outputId": "75742ea6-e741-4a48-85ae-b3d66ea2a4cc"
      },
      "source": [
        "translate(u'Когда завтрак?')"
      ],
      "execution_count": null,
      "outputs": [
        {
          "output_type": "stream",
          "name": "stdout",
          "text": [
            "Input: <start> когда завтрак ? <end>\n",
            "Predicted translation: when is breakfast ? <end> \n"
          ]
        },
        {
          "output_type": "display_data",
          "data": {
            "text/plain": [
              "<Figure size 720x720 with 1 Axes>"
            ],
            "image/png": "[encoded data removed]"
          },
          "metadata": {
            "needs_background": "light"
          }
        }
      ]
    },
    {
      "cell_type": "code",
      "metadata": {
        "id": "A3LLCx3ZE0Ls",
        "colab": {
          "base_uri": "https://localhost:8080/",
          "height": 690
        },
        "outputId": "1a3cfc19-0618-4947-d5cd-ee39bd47cbf3"
      },
      "source": [
        "translate(u'Попробуй сделать это.')"
      ],
      "execution_count": null,
      "outputs": [
        {
          "output_type": "stream",
          "name": "stdout",
          "text": [
            "Input: <start> попробуй сделать это . <end>\n",
            "Predicted translation: try doing that . <end> \n"
          ]
        },
        {
          "output_type": "display_data",
          "data": {
            "text/plain": [
              "<Figure size 720x720 with 1 Axes>"
            ],
            "image/png": "[encoded data removed]"
          },
          "metadata": {
            "needs_background": "light"
          }
        }
      ]
    },
    {
      "cell_type": "code",
      "metadata": {
        "id": "DUQVLVqUE1YW",
        "colab": {
          "base_uri": "https://localhost:8080/",
          "height": 679
        },
        "outputId": "d9fbfeab-bcd2-4f5a-b2ee-cf967fcea7ac"
      },
      "source": [
        "translate(u'Я учусь водить машину.')"
      ],
      "execution_count": null,
      "outputs": [
        {
          "output_type": "stream",
          "name": "stdout",
          "text": [
            "Input: <start> я учусь водить машину . <end>\n",
            "Predicted translation: i drive a car . <end> \n"
          ]
        },
        {
          "output_type": "display_data",
          "data": {
            "text/plain": [
              "<Figure size 720x720 with 1 Axes>"
            ],
            "image/png": "[encoded data removed]"
          },
          "metadata": {
            "needs_background": "light"
          }
        }
      ]
    },
    {
      "cell_type": "code",
      "metadata": {
        "id": "f09_hUFx9EJh",
        "colab": {
          "base_uri": "https://localhost:8080/",
          "height": 523
        },
        "outputId": "d989930e-5a97-4094-c9f6-82d554fa1378"
      },
      "source": [
        "translate(u'Я не люблю, когда идет снег.')"
      ],
      "execution_count": null,
      "outputs": [
        {
          "output_type": "stream",
          "name": "stdout",
          "text": [
            "Input: <start> я не люблю , когда идет снег . <end>\n",
            "Predicted translation: i don't like snow . <end> \n"
          ]
        },
        {
          "output_type": "display_data",
          "data": {
            "text/plain": [
              "<Figure size 720x720 with 1 Axes>"
            ],
            "image/png": "[encoded data removed]"
          },
          "metadata": {
            "needs_background": "light"
          }
        }
      ]
    },
    {
      "cell_type": "code",
      "metadata": {
        "id": "e7c5p8rmkHQG",
        "colab": {
          "base_uri": "https://localhost:8080/",
          "height": 626
        },
        "outputId": "c4e97fc6-cd70-4f4f-e0f9-645cfd1c6227"
      },
      "source": [
        "translate(u'Я никогда такого не делаю.')"
      ],
      "execution_count": null,
      "outputs": [
        {
          "output_type": "stream",
          "name": "stdout",
          "text": [
            "Input: <start> я никогда такого не делаю . <end>\n",
            "Predicted translation: i never do that . <end> \n"
          ]
        },
        {
          "output_type": "display_data",
          "data": {
            "text/plain": [
              "<Figure size 720x720 with 1 Axes>"
            ],
            "image/png": "[encoded data removed]"
          },
          "metadata": {
            "needs_background": "light"
          }
        }
      ]
    },
    {
      "cell_type": "markdown",
      "source": [
        "Есть небольшие недочеты в переводе, местами не попадает, а так все переводит дословно. Можно попробовать детальнее подобрать параметры обучения для увелечения точности."
      ],
      "metadata": {
        "id": "2rZE0xjvESz2"
      }
    }
  ]
}
{
  "nbformat": 4,
  "nbformat_minor": 0,
  "metadata": {
    "colab": {
      "provenance": []
    },
    "kernelspec": {
      "name": "python3",
      "display_name": "Python 3"
    },
    "language_info": {
      "name": "python"
    },
    "gpuClass": "standard",
    "widgets": {
      "application/vnd.jupyter.widget-state+json": {
        "b0677c5ef62e4b24a6c9ebf90bb6045f": {
          "model_module": "@jupyter-widgets/controls",
          "model_name": "HBoxModel",
          "model_module_version": "1.5.0",
          "state": {
            "_dom_classes": [],
            "_model_module": "@jupyter-widgets/controls",
            "_model_module_version": "1.5.0",
            "_model_name": "HBoxModel",
            "_view_count": null,
            "_view_module": "@jupyter-widgets/controls",
            "_view_module_version": "1.5.0",
            "_view_name": "HBoxView",
            "box_style": "",
            "children": [
              "IPY_MODEL_32a7f5403be140ac957896c731a1dec7",
              "IPY_MODEL_df3ba8100e094c01aeb811a33948ecb5",
              "IPY_MODEL_c551bf4b95c04902bef0e890de28a412"
            ],
            "layout": "IPY_MODEL_5a27925281ab4452a693e3b066cfcce7"
          }
        },
        "32a7f5403be140ac957896c731a1dec7": {
          "model_module": "@jupyter-widgets/controls",
          "model_name": "HTMLModel",
          "model_module_version": "1.5.0",
          "state": {
            "_dom_classes": [],
            "_model_module": "@jupyter-widgets/controls",
            "_model_module_version": "1.5.0",
            "_model_name": "HTMLModel",
            "_view_count": null,
            "_view_module": "@jupyter-widgets/controls",
            "_view_module_version": "1.5.0",
            "_view_name": "HTMLView",
            "description": "",
            "description_tooltip": null,
            "layout": "IPY_MODEL_4271480fd2c4487fb7ee83869ec2d518",
            "placeholder": "​",
            "style": "IPY_MODEL_726cdefa39e940a6959e971a139065f4",
            "value": "100%"
          }
        },
        "df3ba8100e094c01aeb811a33948ecb5": {
          "model_module": "@jupyter-widgets/controls",
          "model_name": "FloatProgressModel",
          "model_module_version": "1.5.0",
          "state": {
            "_dom_classes": [],
            "_model_module": "@jupyter-widgets/controls",
            "_model_module_version": "1.5.0",
            "_model_name": "FloatProgressModel",
            "_view_count": null,
            "_view_module": "@jupyter-widgets/controls",
            "_view_module_version": "1.5.0",
            "_view_name": "ProgressView",
            "bar_style": "success",
            "description": "",
            "description_tooltip": null,
            "layout": "IPY_MODEL_5e55a932d8484973b0d654f0f6653dde",
            "max": 40000,
            "min": 0,
            "orientation": "horizontal",
            "style": "IPY_MODEL_4995cb192cc54ac5afca509c7eb84599",
            "value": 40000
          }
        },
        "c551bf4b95c04902bef0e890de28a412": {
          "model_module": "@jupyter-widgets/controls",
          "model_name": "HTMLModel",
          "model_module_version": "1.5.0",
          "state": {
            "_dom_classes": [],
            "_model_module": "@jupyter-widgets/controls",
            "_model_module_version": "1.5.0",
            "_model_name": "HTMLModel",
            "_view_count": null,
            "_view_module": "@jupyter-widgets/controls",
            "_view_module_version": "1.5.0",
            "_view_name": "HTMLView",
            "description": "",
            "description_tooltip": null,
            "layout": "IPY_MODEL_2b57978ce1e64ef5baaae59a7e256a46",
            "placeholder": "​",
            "style": "IPY_MODEL_77805468d3db48efb860ba8e0d0753a4",
            "value": " 40000/40000 [23:07&lt;00:00, 30.56it/s]"
          }
        },
        "5a27925281ab4452a693e3b066cfcce7": {
          "model_module": "@jupyter-widgets/base",
          "model_name": "LayoutModel",
          "model_module_version": "1.2.0",
          "state": {
            "_model_module": "@jupyter-widgets/base",
            "_model_module_version": "1.2.0",
            "_model_name": "LayoutModel",
            "_view_count": null,
            "_view_module": "@jupyter-widgets/base",
            "_view_module_version": "1.2.0",
            "_view_name": "LayoutView",
            "align_content": null,
            "align_items": null,
            "align_self": null,
            "border": null,
            "bottom": null,
            "display": null,
            "flex": null,
            "flex_flow": null,
            "grid_area": null,
            "grid_auto_columns": null,
            "grid_auto_flow": null,
            "grid_auto_rows": null,
            "grid_column": null,
            "grid_gap": null,
            "grid_row": null,
            "grid_template_areas": null,
            "grid_template_columns": null,
            "grid_template_rows": null,
            "height": null,
            "justify_content": null,
            "justify_items": null,
            "left": null,
            "margin": null,
            "max_height": null,
            "max_width": null,
            "min_height": null,
            "min_width": null,
            "object_fit": null,
            "object_position": null,
            "order": null,
            "overflow": null,
            "overflow_x": null,
            "overflow_y": null,
            "padding": null,
            "right": null,
            "top": null,
            "visibility": null,
            "width": null
          }
        },
        "4271480fd2c4487fb7ee83869ec2d518": {
          "model_module": "@jupyter-widgets/base",
          "model_name": "LayoutModel",
          "model_module_version": "1.2.0",
          "state": {
            "_model_module": "@jupyter-widgets/base",
            "_model_module_version": "1.2.0",
            "_model_name": "LayoutModel",
            "_view_count": null,
            "_view_module": "@jupyter-widgets/base",
            "_view_module_version": "1.2.0",
            "_view_name": "LayoutView",
            "align_content": null,
            "align_items": null,
            "align_self": null,
            "border": null,
            "bottom": null,
            "display": null,
            "flex": null,
            "flex_flow": null,
            "grid_area": null,
            "grid_auto_columns": null,
            "grid_auto_flow": null,
            "grid_auto_rows": null,
            "grid_column": null,
            "grid_gap": null,
            "grid_row": null,
            "grid_template_areas": null,
            "grid_template_columns": null,
            "grid_template_rows": null,
            "height": null,
            "justify_content": null,
            "justify_items": null,
            "left": null,
            "margin": null,
            "max_height": null,
            "max_width": null,
            "min_height": null,
            "min_width": null,
            "object_fit": null,
            "object_position": null,
            "order": null,
            "overflow": null,
            "overflow_x": null,
            "overflow_y": null,
            "padding": null,
            "right": null,
            "top": null,
            "visibility": null,
            "width": null
          }
        },
        "726cdefa39e940a6959e971a139065f4": {
          "model_module": "@jupyter-widgets/controls",
          "model_name": "DescriptionStyleModel",
          "model_module_version": "1.5.0",
          "state": {
            "_model_module": "@jupyter-widgets/controls",
            "_model_module_version": "1.5.0",
            "_model_name": "DescriptionStyleModel",
            "_view_count": null,
            "_view_module": "@jupyter-widgets/base",
            "_view_module_version": "1.2.0",
            "_view_name": "StyleView",
            "description_width": ""
          }
        },
        "5e55a932d8484973b0d654f0f6653dde": {
          "model_module": "@jupyter-widgets/base",
          "model_name": "LayoutModel",
          "model_module_version": "1.2.0",
          "state": {
            "_model_module": "@jupyter-widgets/base",
            "_model_module_version": "1.2.0",
            "_model_name": "LayoutModel",
            "_view_count": null,
            "_view_module": "@jupyter-widgets/base",
            "_view_module_version": "1.2.0",
            "_view_name": "LayoutView",
            "align_content": null,
            "align_items": null,
            "align_self": null,
            "border": null,
            "bottom": null,
            "display": null,
            "flex": null,
            "flex_flow": null,
            "grid_area": null,
            "grid_auto_columns": null,
            "grid_auto_flow": null,
            "grid_auto_rows": null,
            "grid_column": null,
            "grid_gap": null,
            "grid_row": null,
            "grid_template_areas": null,
            "grid_template_columns": null,
            "grid_template_rows": null,
            "height": null,
            "justify_content": null,
            "justify_items": null,
            "left": null,
            "margin": null,
            "max_height": null,
            "max_width": null,
            "min_height": null,
            "min_width": null,
            "object_fit": null,
            "object_position": null,
            "order": null,
            "overflow": null,
            "overflow_x": null,
            "overflow_y": null,
            "padding": null,
            "right": null,
            "top": null,
            "visibility": null,
            "width": null
          }
        },
        "4995cb192cc54ac5afca509c7eb84599": {
          "model_module": "@jupyter-widgets/controls",
          "model_name": "ProgressStyleModel",
          "model_module_version": "1.5.0",
          "state": {
            "_model_module": "@jupyter-widgets/controls",
            "_model_module_version": "1.5.0",
            "_model_name": "ProgressStyleModel",
            "_view_count": null,
            "_view_module": "@jupyter-widgets/base",
            "_view_module_version": "1.2.0",
            "_view_name": "StyleView",
            "bar_color": null,
            "description_width": ""
          }
        },
        "2b57978ce1e64ef5baaae59a7e256a46": {
          "model_module": "@jupyter-widgets/base",
          "model_name": "LayoutModel",
          "model_module_version": "1.2.0",
          "state": {
            "_model_module": "@jupyter-widgets/base",
            "_model_module_version": "1.2.0",
            "_model_name": "LayoutModel",
            "_view_count": null,
            "_view_module": "@jupyter-widgets/base",
            "_view_module_version": "1.2.0",
            "_view_name": "LayoutView",
            "align_content": null,
            "align_items": null,
            "align_self": null,
            "border": null,
            "bottom": null,
            "display": null,
            "flex": null,
            "flex_flow": null,
            "grid_area": null,
            "grid_auto_columns": null,
            "grid_auto_flow": null,
            "grid_auto_rows": null,
            "grid_column": null,
            "grid_gap": null,
            "grid_row": null,
            "grid_template_areas": null,
            "grid_template_columns": null,
            "grid_template_rows": null,
            "height": null,
            "justify_content": null,
            "justify_items": null,
            "left": null,
            "margin": null,
            "max_height": null,
            "max_width": null,
            "min_height": null,
            "min_width": null,
            "object_fit": null,
            "object_position": null,
            "order": null,
            "overflow": null,
            "overflow_x": null,
            "overflow_y": null,
            "padding": null,
            "right": null,
            "top": null,
            "visibility": null,
            "width": null
          }
        },
        "77805468d3db48efb860ba8e0d0753a4": {
          "model_module": "@jupyter-widgets/controls",
          "model_name": "DescriptionStyleModel",
          "model_module_version": "1.5.0",
          "state": {
            "_model_module": "@jupyter-widgets/controls",
            "_model_module_version": "1.5.0",
            "_model_name": "DescriptionStyleModel",
            "_view_count": null,
            "_view_module": "@jupyter-widgets/base",
            "_view_module_version": "1.2.0",
            "_view_name": "StyleView",
            "description_width": ""
          }
        },
        "eeb6620d65b94f45820ca666dbf36f12": {
          "model_module": "@jupyter-widgets/controls",
          "model_name": "HBoxModel",
          "model_module_version": "1.5.0",
          "state": {
            "_dom_classes": [],
            "_model_module": "@jupyter-widgets/controls",
            "_model_module_version": "1.5.0",
            "_model_name": "HBoxModel",
            "_view_count": null,
            "_view_module": "@jupyter-widgets/controls",
            "_view_module_version": "1.5.0",
            "_view_name": "HBoxView",
            "box_style": "",
            "children": [
              "IPY_MODEL_9af67e7d0f704b67b4404c5b85258b61",
              "IPY_MODEL_cf4cbbac8c5c466e95dadefe54e3495d",
              "IPY_MODEL_27e2537c1cf341baa3229b68c3d9cf59"
            ],
            "layout": "IPY_MODEL_565944fa0a5e429299b51ebdce35f3a4"
          }
        },
        "9af67e7d0f704b67b4404c5b85258b61": {
          "model_module": "@jupyter-widgets/controls",
          "model_name": "HTMLModel",
          "model_module_version": "1.5.0",
          "state": {
            "_dom_classes": [],
            "_model_module": "@jupyter-widgets/controls",
            "_model_module_version": "1.5.0",
            "_model_name": "HTMLModel",
            "_view_count": null,
            "_view_module": "@jupyter-widgets/controls",
            "_view_module_version": "1.5.0",
            "_view_name": "HTMLView",
            "description": "",
            "description_tooltip": null,
            "layout": "IPY_MODEL_41ff6b6b145540e2b88c7c83cc47f1cd",
            "placeholder": "​",
            "style": "IPY_MODEL_057b235054294aec97b2242f70e13e19",
            "value": "100%"
          }
        },
        "cf4cbbac8c5c466e95dadefe54e3495d": {
          "model_module": "@jupyter-widgets/controls",
          "model_name": "FloatProgressModel",
          "model_module_version": "1.5.0",
          "state": {
            "_dom_classes": [],
            "_model_module": "@jupyter-widgets/controls",
            "_model_module_version": "1.5.0",
            "_model_name": "FloatProgressModel",
            "_view_count": null,
            "_view_module": "@jupyter-widgets/controls",
            "_view_module_version": "1.5.0",
            "_view_name": "ProgressView",
            "bar_style": "success",
            "description": "",
            "description_tooltip": null,
            "layout": "IPY_MODEL_da8f27ff93b84cd088fe3a917f4e1e4e",
            "max": 9,
            "min": 0,
            "orientation": "horizontal",
            "style": "IPY_MODEL_da71ad995081433493ff9d9208685dc9",
            "value": 9
          }
        },
        "27e2537c1cf341baa3229b68c3d9cf59": {
          "model_module": "@jupyter-widgets/controls",
          "model_name": "HTMLModel",
          "model_module_version": "1.5.0",
          "state": {
            "_dom_classes": [],
            "_model_module": "@jupyter-widgets/controls",
            "_model_module_version": "1.5.0",
            "_model_name": "HTMLModel",
            "_view_count": null,
            "_view_module": "@jupyter-widgets/controls",
            "_view_module_version": "1.5.0",
            "_view_name": "HTMLView",
            "description": "",
            "description_tooltip": null,
            "layout": "IPY_MODEL_5362fe55377e478f8c0803488f44e649",
            "placeholder": "​",
            "style": "IPY_MODEL_4b68c301585f4b8ebcf3c658c9a3894e",
            "value": " 9/9 [14:03&lt;00:00, 126.43s/it]"
          }
        },
        "565944fa0a5e429299b51ebdce35f3a4": {
          "model_module": "@jupyter-widgets/base",
          "model_name": "LayoutModel",
          "model_module_version": "1.2.0",
          "state": {
            "_model_module": "@jupyter-widgets/base",
            "_model_module_version": "1.2.0",
            "_model_name": "LayoutModel",
            "_view_count": null,
            "_view_module": "@jupyter-widgets/base",
            "_view_module_version": "1.2.0",
            "_view_name": "LayoutView",
            "align_content": null,
            "align_items": null,
            "align_self": null,
            "border": null,
            "bottom": null,
            "display": null,
            "flex": null,
            "flex_flow": null,
            "grid_area": null,
            "grid_auto_columns": null,
            "grid_auto_flow": null,
            "grid_auto_rows": null,
            "grid_column": null,
            "grid_gap": null,
            "grid_row": null,
            "grid_template_areas": null,
            "grid_template_columns": null,
            "grid_template_rows": null,
            "height": null,
            "justify_content": null,
            "justify_items": null,
            "left": null,
            "margin": null,
            "max_height": null,
            "max_width": null,
            "min_height": null,
            "min_width": null,
            "object_fit": null,
            "object_position": null,
            "order": null,
            "overflow": null,
            "overflow_x": null,
            "overflow_y": null,
            "padding": null,
            "right": null,
            "top": null,
            "visibility": null,
            "width": null
          }
        },
        "41ff6b6b145540e2b88c7c83cc47f1cd": {
          "model_module": "@jupyter-widgets/base",
          "model_name": "LayoutModel",
          "model_module_version": "1.2.0",
          "state": {
            "_model_module": "@jupyter-widgets/base",
            "_model_module_version": "1.2.0",
            "_model_name": "LayoutModel",
            "_view_count": null,
            "_view_module": "@jupyter-widgets/base",
            "_view_module_version": "1.2.0",
            "_view_name": "LayoutView",
            "align_content": null,
            "align_items": null,
            "align_self": null,
            "border": null,
            "bottom": null,
            "display": null,
            "flex": null,
            "flex_flow": null,
            "grid_area": null,
            "grid_auto_columns": null,
            "grid_auto_flow": null,
            "grid_auto_rows": null,
            "grid_column": null,
            "grid_gap": null,
            "grid_row": null,
            "grid_template_areas": null,
            "grid_template_columns": null,
            "grid_template_rows": null,
            "height": null,
            "justify_content": null,
            "justify_items": null,
            "left": null,
            "margin": null,
            "max_height": null,
            "max_width": null,
            "min_height": null,
            "min_width": null,
            "object_fit": null,
            "object_position": null,
            "order": null,
            "overflow": null,
            "overflow_x": null,
            "overflow_y": null,
            "padding": null,
            "right": null,
            "top": null,
            "visibility": null,
            "width": null
          }
        },
        "057b235054294aec97b2242f70e13e19": {
          "model_module": "@jupyter-widgets/controls",
          "model_name": "DescriptionStyleModel",
          "model_module_version": "1.5.0",
          "state": {
            "_model_module": "@jupyter-widgets/controls",
            "_model_module_version": "1.5.0",
            "_model_name": "DescriptionStyleModel",
            "_view_count": null,
            "_view_module": "@jupyter-widgets/base",
            "_view_module_version": "1.2.0",
            "_view_name": "StyleView",
            "description_width": ""
          }
        },
        "da8f27ff93b84cd088fe3a917f4e1e4e": {
          "model_module": "@jupyter-widgets/base",
          "model_name": "LayoutModel",
          "model_module_version": "1.2.0",
          "state": {
            "_model_module": "@jupyter-widgets/base",
            "_model_module_version": "1.2.0",
            "_model_name": "LayoutModel",
            "_view_count": null,
            "_view_module": "@jupyter-widgets/base",
            "_view_module_version": "1.2.0",
            "_view_name": "LayoutView",
            "align_content": null,
            "align_items": null,
            "align_self": null,
            "border": null,
            "bottom": null,
            "display": null,
            "flex": null,
            "flex_flow": null,
            "grid_area": null,
            "grid_auto_columns": null,
            "grid_auto_flow": null,
            "grid_auto_rows": null,
            "grid_column": null,
            "grid_gap": null,
            "grid_row": null,
            "grid_template_areas": null,
            "grid_template_columns": null,
            "grid_template_rows": null,
            "height": null,
            "justify_content": null,
            "justify_items": null,
            "left": null,
            "margin": null,
            "max_height": null,
            "max_width": null,
            "min_height": null,
            "min_width": null,
            "object_fit": null,
            "object_position": null,
            "order": null,
            "overflow": null,
            "overflow_x": null,
            "overflow_y": null,
            "padding": null,
            "right": null,
            "top": null,
            "visibility": null,
            "width": null
          }
        },
        "da71ad995081433493ff9d9208685dc9": {
          "model_module": "@jupyter-widgets/controls",
          "model_name": "ProgressStyleModel",
          "model_module_version": "1.5.0",
          "state": {
            "_model_module": "@jupyter-widgets/controls",
            "_model_module_version": "1.5.0",
            "_model_name": "ProgressStyleModel",
            "_view_count": null,
            "_view_module": "@jupyter-widgets/base",
            "_view_module_version": "1.2.0",
            "_view_name": "StyleView",
            "bar_color": null,
            "description_width": ""
          }
        },
        "5362fe55377e478f8c0803488f44e649": {
          "model_module": "@jupyter-widgets/base",
          "model_name": "LayoutModel",
          "model_module_version": "1.2.0",
          "state": {
            "_model_module": "@jupyter-widgets/base",
            "_model_module_version": "1.2.0",
            "_model_name": "LayoutModel",
            "_view_count": null,
            "_view_module": "@jupyter-widgets/base",
            "_view_module_version": "1.2.0",
            "_view_name": "LayoutView",
            "align_content": null,
            "align_items": null,
            "align_self": null,
            "border": null,
            "bottom": null,
            "display": null,
            "flex": null,
            "flex_flow": null,
            "grid_area": null,
            "grid_auto_columns": null,
            "grid_auto_flow": null,
            "grid_auto_rows": null,
            "grid_column": null,
            "grid_gap": null,
            "grid_row": null,
            "grid_template_areas": null,
            "grid_template_columns": null,
            "grid_template_rows": null,
            "height": null,
            "justify_content": null,
            "justify_items": null,
            "left": null,
            "margin": null,
            "max_height": null,
            "max_width": null,
            "min_height": null,
            "min_width": null,
            "object_fit": null,
            "object_position": null,
            "order": null,
            "overflow": null,
            "overflow_x": null,
            "overflow_y": null,
            "padding": null,
            "right": null,
            "top": null,
            "visibility": null,
            "width": null
          }
        },
        "4b68c301585f4b8ebcf3c658c9a3894e": {
          "model_module": "@jupyter-widgets/controls",
          "model_name": "DescriptionStyleModel",
          "model_module_version": "1.5.0",
          "state": {
            "_model_module": "@jupyter-widgets/controls",
            "_model_module_version": "1.5.0",
            "_model_name": "DescriptionStyleModel",
            "_view_count": null,
            "_view_module": "@jupyter-widgets/base",
            "_view_module_version": "1.2.0",
            "_view_name": "StyleView",
            "description_width": ""
          }
        }
      }
    }
  },
  "cells": [
    {
      "cell_type": "markdown",
      "source": [
        "Тема “Тематическое моделирование”\n",
        "\n",
        "Задание 1. Взять ноутбук с вебинара изменить тематики (минимум 3-ри тематики взять) построить тематическую модель, попробовать проинтерпретировать полученные тематики. Насколько они похожи на то что вы выделяли из корпуса. Возможно большее количество тематик так же хорошо интерпретируется проверьте это. Подберите оптимальное количество тематик с точки зрения интерпретации результатов. Не забывайте чтобы получить хорошие тематики надо хорошо почистить тексты.\n",
        "\n",
        "Задание 2. Просмотрите вторую часть ноутбука с библиотекой bigArtm. В ноутбуке есть инструкция как её устанавливать. Проще это делать в колабе. Просто ознакомиться\n",
        "\n",
        "Задание 3. Просмотрите ноутбук по ссылке он довольно большой и интересный. \n",
        "https://github.com/klyshinsky/NLP_VVSU_2021/blob/main/Lecture_20210511-W2V.ipynb\n",
        "это курс по компьютерной лингвистике довольно интересный, но небольшой. Полезно просто ознакомиться с ноутбуком.\n"
      ],
      "metadata": {
        "id": "hAVbUdlWmRhW"
      }
    },
    {
      "cell_type": "code",
      "execution_count": null,
      "metadata": {
        "id": "_G33Nvx-mOMp"
      },
      "outputs": [],
      "source": [
        "!wget https://github.com/yutkin/Lenta.Ru-News-Dataset/releases/download/v1.0/lenta-ru-news.csv.gz"
      ]
    },
    {
      "cell_type": "code",
      "source": [
        "!pip install pymorphy2"
      ],
      "metadata": {
        "id": "LhCCBrbwQfz8"
      },
      "execution_count": null,
      "outputs": []
    },
    {
      "cell_type": "code",
      "source": [
        "import pandas as pd\n",
        "import numpy as np\n",
        "import re\n",
        "import matplotlib.pyplot as plt\n",
        "%matplotlib inline\n",
        "\n",
        "from stop_words import get_stop_words\n",
        "from pymorphy2 import MorphAnalyzer\n",
        "from razdel import tokenize\n",
        "from string import punctuation\n",
        "\n",
        "from multiprocessing import Pool\n",
        "from tqdm import tqdm_notebook as tqdm"
      ],
      "metadata": {
        "id": "RWgxRFCBSiIq"
      },
      "execution_count": 5,
      "outputs": []
    },
    {
      "cell_type": "code",
      "source": [
        "RANDOM_STATE = 42\n",
        "NUM_THREADS = 8"
      ],
      "metadata": {
        "id": "CWOXGHbzXXwA"
      },
      "execution_count": 6,
      "outputs": []
    },
    {
      "cell_type": "markdown",
      "source": [
        "##Загрузка данных"
      ],
      "metadata": {
        "id": "XpSI9gpdTRyN"
      }
    },
    {
      "cell_type": "code",
      "source": [
        "pd.set_option(\"max_colwidth\", None)\n",
        "df = pd.read_csv('lenta-ru-news.csv.gz', usecols=[2])\n",
        "df.head()"
      ],
      "metadata": {
        "id": "9VLWRLgOQl79",
        "colab": {
          "base_uri": "https://localhost:8080/",
          "height": 736
        },
        "outputId": "454be88a-a7ff-4343-e2d9-c764865e50f5"
      },
      "execution_count": 14,
      "outputs": [
        {
          "output_type": "execute_result",
          "data": {
            "text/plain": [
              "                                                                                                                                                                                                                                                                                                                                                                                                                                                                                                                                                                                                                                                                                                                                                                                                                                                                                                                                                                                                                                                                                                                                                                                                                                                                                                                                                                                                                                                                                                                                                                                                                                                                                                                                                                                                                                                                                                                                                                                                                                                                                                                                                 text\n",
              "0                                                                                                                                                                                                                                                                                                                                                                                                                                                                                                                                                                                                                                                                                                                                                                                                                                                                                                                                                                                                                                                                                                                                                                                                                                                                                                                                                                                                                                                                Вице-премьер по социальным вопросам Татьяна Голикова рассказала, в каких регионах России зафиксирована наиболее высокая смертность от рака, сообщает РИА Новости. По словам Голиковой, чаще всего онкологические заболевания становились причиной смерти в Псковской, Тверской, Тульской и Орловской областях, а также в Севастополе. Вице-премьер напомнила, что главные факторы смертности в России — рак и болезни системы кровообращения. В начале года стало известно, что смертность от онкологических заболеваний среди россиян снизилась впервые за три года. По данным Росстата, в 2017 году от рака умерли 289 тысяч человек. Это на 3,5 процента меньше, чем годом ранее.\n",
              "1                                                                                                                                                                                                                                                                                                                                                                                                                                                                                                                                                                                                                                                                                                                                                                                                                                                                                                                                                                                                                                    Австрийские правоохранительные органы не представили доказательств нарушения российскими биатлонистами антидопинговых правил. Об этом сообщил посол России в Вене Дмитрий Любинский по итогам встречи уполномоченного адвоката дипмиссии с представителями прокуратуры страны, передает ТАСС. «Действует презумпция невиновности. Каких-либо ограничений свободы передвижения для команды нет», — добавили в посольстве. Международный союз биатлонистов (IBU) также не будет применять санкции к российским биатлонистам. Все они продолжат выступление на Кубке мира. Полиция нагрянула в отель сборной России в Хохфильцене вечером 12 декабря. Как написал биатлонист Александр Логинов, их считают виновными в махинациях с переливанием крови. Биатлонисту Антону Шипулину, также попавшему в список, полиция нанесла отдельный визит: сейчас он тренируется отдельно в австрийском Обертиллахе. Обвинения спортсмен назвал бредом, а также указал на «охоту на ведьм» в мировом биатлоне. В Австрии прием допинга — уголовное преступление. Максимальное наказание за его употребление — три года тюрьмы.\n",
              "2                                                                                                                                                                                                                                                                                                                                                                                                                                                                                                                                                                                                                                                                                                                                                                                                                                                                                                                                                                                                                                                                                                                                                   Сотрудники социальной сети Instagram проанализировали поставленные пользователями смайлики, геолокации и хештеги и опубликовали итоги 2018 года. Об этом сообщается на официальном сайте Instagram. Таким образом, самой счастливой геолокацией Instagram признал Диснейленд в Токио, так как больше всего счастливых смайликов в 2018 году пользователи ставили именно под фотографиями из японского Диснейленда. Также эксперты назвали самый популярный фильтр для лица: им стал фильтр с сердечками на глазах. А, например, самыми часто используемыми хештегами в 2018 году были #metoo, #timesup и #marchforourlives. В ноябре сотрудники британской ассоциации потребителей Which? составили рейтинг самых безопасных стран для путешествий. Специалисты проанализировали 20 самых популярных туристических направлений по четырем критериям: уровень преступности, угроза здоровью, вероятность теракта и стихийных бедствий. Самой безопасной страной по всем параметрам стала Исландия.\n",
              "3                                                                                                                                                                                                                                                                                                                                                                                                                                                                                                                                                                                                                                                                                                                                                 С начала расследования российского вмешательства в выборы власти США потратили более 25 миллионов долларов. Об этом сообщает Associated Press со ссылкой на отчет Министерства юстиции США. В документе содержатся данные о расходах на следствие с апреля по сентябрь 2018 года. За эти полгода было потрачено 4,6 миллиона долларов, из которых почти 3 миллиона долларов ушли на зарплату сотрудников, 580 тысяч — на поездки и сопутствующие расходы. Ранее Минюст США уже публиковал отчеты о затратах на дело о российском вмешательстве за предыдущие месяцы. 11 декабря расследование спецпрокурора Робера Мюллера показало, что по меньшей мере 14 человек из окружения президента США Дональда Трампа контактировали с россиянами во время его избирательной кампании и последующего переходного периода перед вступлением в должность главы государства. Мюллер с 2017 года ведет дело о якобы российском вмешательстве в американские выборы в 2016-м. Перед ним поставлена задача выяснить, был ли сговор между штабом Трампа и Россией. Кремль и Белый дом отвергают все обвинения. Россию неоднократно обвиняли во вмешательстве в выборы президента США с помощью хакеров. В июне спецслужбы выдвинули заочное обвинение 12 российским разведчикам. По данным спецслужб США, российская разведка использовала две хакерские группировки для взлома серверов Демократической партии.\n",
              "4  Хакерская группировка Anonymous опубликовала новые документы о деятельности британского аналитического центра Integrity Initiative. Из материалов следует, что центр получает финансирование от некого Института государственного управления под руководством Кристофера Доннелли. Хакеры выложили в открытый доступ его паспорт, резюме, а также сведения о его связях с Министерством обороны Великобритании. Согласно документам, в 2014 году Доннелли выдвинул ряд предложений британским властям в связи с ситуацией в Крыму. В частности, он планировал заминировать Севастопольскую бухту, окружить полуостров войсками, а также уничтожить оставшиеся в Крыму самолеты «в знак серьезности намерений». После публикации заметки часть документов, на которые члены группировки ссылаются в своем расследовании, была удалена. Также хакеры утверждают, что Доннелли был инициатором расследования «российского вмешательства» в референдум о независимости в Каталонии. Он пригласил членов испанского отделения Integrity Initiative в качестве свидетелей. По данным группировки, Доннелли получал деньги на это от Министерства иностранных дел Великобритании. «Британская разведка платила собственным агентам за фальшивые доказательства вмешательства России в каталонский референдум, а затем приказала им солгать в парламенте с целью убедить их предпринять антироссийские шаги», — пишут хакеры. Члены Anonymous опубликовали только часть документов, связанных с деятельностью Кристофера Доннелли. Если расследование Великобритании в отношении Integrity Initiative не даст результатов, они пригрозили выложить новые доказательства того, что Доннелли тесно взаимодействует с британскими спецслужбами и использует свое положение для влияния на политику страны. 23 ноября Anonymous впервые опубликовали документы Integrity Initiative, которые содержат инструкции по борьбе с российской пропагандой и примеры дезинформации со стороны Москвы. Хакеры утверждают, что этот проект финансируется правительством Великобритании и работает сразу в нескольких странах, в том числе в Германии, Франции, Испании."
            ],
            "text/html": [
              "\n",
              "  <div id=\"df-c6272275-2c57-428e-9a47-e20ff599a351\">\n",
              "    <div class=\"colab-df-container\">\n",
              "      <div>\n",
              "<style scoped>\n",
              "    .dataframe tbody tr th:only-of-type {\n",
              "        vertical-align: middle;\n",
              "    }\n",
              "\n",
              "    .dataframe tbody tr th {\n",
              "        vertical-align: top;\n",
              "    }\n",
              "\n",
              "    .dataframe thead th {\n",
              "        text-align: right;\n",
              "    }\n",
              "</style>\n",
              "<table border=\"1\" class=\"dataframe\">\n",
              "  <thead>\n",
              "    <tr style=\"text-align: right;\">\n",
              "      <th></th>\n",
              "      <th>text</th>\n",
              "    </tr>\n",
              "  </thead>\n",
              "  <tbody>\n",
              "    <tr>\n",
              "      <th>0</th>\n",
              "      <td>Вице-премьер по социальным вопросам Татьяна Голикова рассказала, в каких регионах России зафиксирована наиболее высокая смертность от рака, сообщает РИА Новости. По словам Голиковой, чаще всего онкологические заболевания становились причиной смерти в Псковской, Тверской, Тульской и Орловской областях, а также в Севастополе. Вице-премьер напомнила, что главные факторы смертности в России — рак и болезни системы кровообращения. В начале года стало известно, что смертность от онкологических заболеваний среди россиян снизилась впервые за три года. По данным Росстата, в 2017 году от рака умерли 289 тысяч человек. Это на 3,5 процента меньше, чем годом ранее.</td>\n",
              "    </tr>\n",
              "    <tr>\n",
              "      <th>1</th>\n",
              "      <td>Австрийские правоохранительные органы не представили доказательств нарушения российскими биатлонистами антидопинговых правил. Об этом сообщил посол России в Вене Дмитрий Любинский по итогам встречи уполномоченного адвоката дипмиссии с представителями прокуратуры страны, передает ТАСС. «Действует презумпция невиновности. Каких-либо ограничений свободы передвижения для команды нет», — добавили в посольстве. Международный союз биатлонистов (IBU) также не будет применять санкции к российским биатлонистам. Все они продолжат выступление на Кубке мира. Полиция нагрянула в отель сборной России в Хохфильцене вечером 12 декабря. Как написал биатлонист Александр Логинов, их считают виновными в махинациях с переливанием крови. Биатлонисту Антону Шипулину, также попавшему в список, полиция нанесла отдельный визит: сейчас он тренируется отдельно в австрийском Обертиллахе. Обвинения спортсмен назвал бредом, а также указал на «охоту на ведьм» в мировом биатлоне. В Австрии прием допинга — уголовное преступление. Максимальное наказание за его употребление — три года тюрьмы.</td>\n",
              "    </tr>\n",
              "    <tr>\n",
              "      <th>2</th>\n",
              "      <td>Сотрудники социальной сети Instagram проанализировали поставленные пользователями смайлики, геолокации и хештеги и опубликовали итоги 2018 года. Об этом сообщается на официальном сайте Instagram. Таким образом, самой счастливой геолокацией Instagram признал Диснейленд в Токио, так как больше всего счастливых смайликов в 2018 году пользователи ставили именно под фотографиями из японского Диснейленда. Также эксперты назвали самый популярный фильтр для лица: им стал фильтр с сердечками на глазах. А, например, самыми часто используемыми хештегами в 2018 году были #metoo, #timesup и #marchforourlives. В ноябре сотрудники британской ассоциации потребителей Which? составили рейтинг самых безопасных стран для путешествий. Специалисты проанализировали 20 самых популярных туристических направлений по четырем критериям: уровень преступности, угроза здоровью, вероятность теракта и стихийных бедствий. Самой безопасной страной по всем параметрам стала Исландия.</td>\n",
              "    </tr>\n",
              "    <tr>\n",
              "      <th>3</th>\n",
              "      <td>С начала расследования российского вмешательства в выборы власти США потратили более 25 миллионов долларов. Об этом сообщает Associated Press со ссылкой на отчет Министерства юстиции США. В документе содержатся данные о расходах на следствие с апреля по сентябрь 2018 года. За эти полгода было потрачено 4,6 миллиона долларов, из которых почти 3 миллиона долларов ушли на зарплату сотрудников, 580 тысяч — на поездки и сопутствующие расходы. Ранее Минюст США уже публиковал отчеты о затратах на дело о российском вмешательстве за предыдущие месяцы. 11 декабря расследование спецпрокурора Робера Мюллера показало, что по меньшей мере 14 человек из окружения президента США Дональда Трампа контактировали с россиянами во время его избирательной кампании и последующего переходного периода перед вступлением в должность главы государства. Мюллер с 2017 года ведет дело о якобы российском вмешательстве в американские выборы в 2016-м. Перед ним поставлена задача выяснить, был ли сговор между штабом Трампа и Россией. Кремль и Белый дом отвергают все обвинения. Россию неоднократно обвиняли во вмешательстве в выборы президента США с помощью хакеров. В июне спецслужбы выдвинули заочное обвинение 12 российским разведчикам. По данным спецслужб США, российская разведка использовала две хакерские группировки для взлома серверов Демократической партии.</td>\n",
              "    </tr>\n",
              "    <tr>\n",
              "      <th>4</th>\n",
              "      <td>Хакерская группировка Anonymous опубликовала новые документы о деятельности британского аналитического центра Integrity Initiative. Из материалов следует, что центр получает финансирование от некого Института государственного управления под руководством Кристофера Доннелли. Хакеры выложили в открытый доступ его паспорт, резюме, а также сведения о его связях с Министерством обороны Великобритании. Согласно документам, в 2014 году Доннелли выдвинул ряд предложений британским властям в связи с ситуацией в Крыму. В частности, он планировал заминировать Севастопольскую бухту, окружить полуостров войсками, а также уничтожить оставшиеся в Крыму самолеты «в знак серьезности намерений». После публикации заметки часть документов, на которые члены группировки ссылаются в своем расследовании, была удалена. Также хакеры утверждают, что Доннелли был инициатором расследования «российского вмешательства» в референдум о независимости в Каталонии. Он пригласил членов испанского отделения Integrity Initiative в качестве свидетелей. По данным группировки, Доннелли получал деньги на это от Министерства иностранных дел Великобритании. «Британская разведка платила собственным агентам за фальшивые доказательства вмешательства России в каталонский референдум, а затем приказала им солгать в парламенте с целью убедить их предпринять антироссийские шаги», — пишут хакеры. Члены Anonymous опубликовали только часть документов, связанных с деятельностью Кристофера Доннелли. Если расследование Великобритании в отношении Integrity Initiative не даст результатов, они пригрозили выложить новые доказательства того, что Доннелли тесно взаимодействует с британскими спецслужбами и использует свое положение для влияния на политику страны. 23 ноября Anonymous впервые опубликовали документы Integrity Initiative, которые содержат инструкции по борьбе с российской пропагандой и примеры дезинформации со стороны Москвы. Хакеры утверждают, что этот проект финансируется правительством Великобритании и работает сразу в нескольких странах, в том числе в Германии, Франции, Испании.</td>\n",
              "    </tr>\n",
              "  </tbody>\n",
              "</table>\n",
              "</div>\n",
              "      <button class=\"colab-df-convert\" onclick=\"convertToInteractive('df-c6272275-2c57-428e-9a47-e20ff599a351')\"\n",
              "              title=\"Convert this dataframe to an interactive table.\"\n",
              "              style=\"display:none;\">\n",
              "        \n",
              "  <svg xmlns=\"http://www.w3.org/2000/svg\" height=\"24px\"viewBox=\"0 0 24 24\"\n",
              "       width=\"24px\">\n",
              "    <path d=\"M0 0h24v24H0V0z\" fill=\"none\"/>\n",
              "    <path d=\"M18.56 5.44l.94 2.06.94-2.06 2.06-.94-2.06-.94-.94-2.06-.94 2.06-2.06.94zm-11 1L8.5 8.5l.94-2.06 2.06-.94-2.06-.94L8.5 2.5l-.94 2.06-2.06.94zm10 10l.94 2.06.94-2.06 2.06-.94-2.06-.94-.94-2.06-.94 2.06-2.06.94z\"/><path d=\"M17.41 7.96l-1.37-1.37c-.4-.4-.92-.59-1.43-.59-.52 0-1.04.2-1.43.59L10.3 9.45l-7.72 7.72c-.78.78-.78 2.05 0 2.83L4 21.41c.39.39.9.59 1.41.59.51 0 1.02-.2 1.41-.59l7.78-7.78 2.81-2.81c.8-.78.8-2.07 0-2.86zM5.41 20L4 18.59l7.72-7.72 1.47 1.35L5.41 20z\"/>\n",
              "  </svg>\n",
              "      </button>\n",
              "      \n",
              "  <style>\n",
              "    .colab-df-container {\n",
              "      display:flex;\n",
              "      flex-wrap:wrap;\n",
              "      gap: 12px;\n",
              "    }\n",
              "\n",
              "    .colab-df-convert {\n",
              "      background-color: #E8F0FE;\n",
              "      border: none;\n",
              "      border-radius: 50%;\n",
              "      cursor: pointer;\n",
              "      display: none;\n",
              "      fill: #1967D2;\n",
              "      height: 32px;\n",
              "      padding: 0 0 0 0;\n",
              "      width: 32px;\n",
              "    }\n",
              "\n",
              "    .colab-df-convert:hover {\n",
              "      background-color: #E2EBFA;\n",
              "      box-shadow: 0px 1px 2px rgba(60, 64, 67, 0.3), 0px 1px 3px 1px rgba(60, 64, 67, 0.15);\n",
              "      fill: #174EA6;\n",
              "    }\n",
              "\n",
              "    [theme=dark] .colab-df-convert {\n",
              "      background-color: #3B4455;\n",
              "      fill: #D2E3FC;\n",
              "    }\n",
              "\n",
              "    [theme=dark] .colab-df-convert:hover {\n",
              "      background-color: #434B5C;\n",
              "      box-shadow: 0px 1px 3px 1px rgba(0, 0, 0, 0.15);\n",
              "      filter: drop-shadow(0px 1px 2px rgba(0, 0, 0, 0.3));\n",
              "      fill: #FFFFFF;\n",
              "    }\n",
              "  </style>\n",
              "\n",
              "      <script>\n",
              "        const buttonEl =\n",
              "          document.querySelector('#df-c6272275-2c57-428e-9a47-e20ff599a351 button.colab-df-convert');\n",
              "        buttonEl.style.display =\n",
              "          google.colab.kernel.accessAllowed ? 'block' : 'none';\n",
              "\n",
              "        async function convertToInteractive(key) {\n",
              "          const element = document.querySelector('#df-c6272275-2c57-428e-9a47-e20ff599a351');\n",
              "          const dataTable =\n",
              "            await google.colab.kernel.invokeFunction('convertToInteractive',\n",
              "                                                     [key], {});\n",
              "          if (!dataTable) return;\n",
              "\n",
              "          const docLinkHtml = 'Like what you see? Visit the ' +\n",
              "            '<a target=\"_blank\" href=https://colab.research.google.com/notebooks/data_table.ipynb>data table notebook</a>'\n",
              "            + ' to learn more about interactive tables.';\n",
              "          element.innerHTML = '';\n",
              "          dataTable['output_type'] = 'display_data';\n",
              "          await google.colab.output.renderOutput(dataTable, element);\n",
              "          const docLink = document.createElement('div');\n",
              "          docLink.innerHTML = docLinkHtml;\n",
              "          element.appendChild(docLink);\n",
              "        }\n",
              "      </script>\n",
              "    </div>\n",
              "  </div>\n",
              "  "
            ]
          },
          "metadata": {},
          "execution_count": 14
        }
      ]
    },
    {
      "cell_type": "code",
      "source": [
        "len(df)"
      ],
      "metadata": {
        "id": "SwsPas_PXN8p",
        "colab": {
          "base_uri": "https://localhost:8080/"
        },
        "outputId": "f7fc4d35-0f8b-4239-ee1e-1d265e9c58fd"
      },
      "execution_count": 15,
      "outputs": [
        {
          "output_type": "execute_result",
          "data": {
            "text/plain": [
              "739351"
            ]
          },
          "metadata": {},
          "execution_count": 15
        }
      ]
    },
    {
      "cell_type": "code",
      "source": [
        "# Возьму выборку в 40к текстов для быстрой обрабокти и обучения моделей\n",
        "data = df.sample(40000, random_state=RANDOM_STATE)\n",
        "data.shape"
      ],
      "metadata": {
        "id": "x_G5B3VIXgXB",
        "colab": {
          "base_uri": "https://localhost:8080/"
        },
        "outputId": "a269dee6-6342-4a06-b229-9c4a9a115a16"
      },
      "execution_count": 16,
      "outputs": [
        {
          "output_type": "execute_result",
          "data": {
            "text/plain": [
              "(40000, 1)"
            ]
          },
          "metadata": {},
          "execution_count": 16
        }
      ]
    },
    {
      "cell_type": "markdown",
      "source": [
        "##Предобработка текста"
      ],
      "metadata": {
        "id": "YGfPdYmDZgOA"
      }
    },
    {
      "cell_type": "code",
      "source": [
        "sw = set(get_stop_words(\"ru\"))\n",
        "morpher = MorphAnalyzer()"
      ],
      "metadata": {
        "id": "eyyKO_cgXxKw"
      },
      "execution_count": 17,
      "outputs": []
    },
    {
      "cell_type": "code",
      "source": [
        "def preprocess_txt(text):\n",
        "        \n",
        "    # Чистим пунктуацию\n",
        "    text = re.sub(fr'[{punctuation}]+', ' ', text)\n",
        "    \n",
        "    # Убираем всё, не являющееся набором букв, + цифры\n",
        "    text = ' '.join(word for word in text.split() if word.isalpha())\n",
        "\n",
        "    # Приводим к общему регистру\n",
        "    text = text.lower()\n",
        "    \n",
        "    # Токенизация с помощью библиотеки razdel\n",
        "    text = [token.text for token in list(tokenize(text))]\n",
        "    \n",
        "    # Лемматизация\n",
        "    text = [morpher.parse(word)[0].normal_form for word in text]\n",
        "    \n",
        "    # Убираем стопслова\n",
        "    text = [word for word in text if word not in sw]\n",
        "    \n",
        "    # Возвращаем обработанный текст\n",
        "    return text\n"
      ],
      "metadata": {
        "id": "uo-yBqpXaIc6"
      },
      "execution_count": 18,
      "outputs": []
    },
    {
      "cell_type": "code",
      "source": [
        "%%time\n",
        "\n",
        "with Pool(NUM_THREADS) as p:\n",
        "    data['processed_text'] = list(tqdm(p.imap(preprocess_txt, data['text']), total=len(data)))"
      ],
      "metadata": {
        "id": "1Rolh0aqc_k9",
        "colab": {
          "base_uri": "https://localhost:8080/",
          "height": 118,
          "referenced_widgets": [
            "b0677c5ef62e4b24a6c9ebf90bb6045f",
            "32a7f5403be140ac957896c731a1dec7",
            "df3ba8100e094c01aeb811a33948ecb5",
            "c551bf4b95c04902bef0e890de28a412",
            "5a27925281ab4452a693e3b066cfcce7",
            "4271480fd2c4487fb7ee83869ec2d518",
            "726cdefa39e940a6959e971a139065f4",
            "5e55a932d8484973b0d654f0f6653dde",
            "4995cb192cc54ac5afca509c7eb84599",
            "2b57978ce1e64ef5baaae59a7e256a46",
            "77805468d3db48efb860ba8e0d0753a4"
          ]
        },
        "outputId": "ae4f471c-3e29-406e-d847-ad06a1128eb9"
      },
      "execution_count": 19,
      "outputs": [
        {
          "output_type": "stream",
          "name": "stderr",
          "text": [
            "<timed exec>:2: TqdmDeprecationWarning: This function will be removed in tqdm==5.0.0\n",
            "Please use `tqdm.notebook.tqdm` instead of `tqdm.tqdm_notebook`\n"
          ]
        },
        {
          "output_type": "display_data",
          "data": {
            "text/plain": [
              "  0%|          | 0/40000 [00:00<?, ?it/s]"
            ],
            "application/vnd.jupyter.widget-view+json": {
              "version_major": 2,
              "version_minor": 0,
              "model_id": "b0677c5ef62e4b24a6c9ebf90bb6045f"
            }
          },
          "metadata": {}
        },
        {
          "output_type": "stream",
          "name": "stdout",
          "text": [
            "CPU times: user 1min 28s, sys: 11.6 s, total: 1min 39s\n",
            "Wall time: 23min 7s\n"
          ]
        }
      ]
    },
    {
      "cell_type": "code",
      "source": [
        "data['processed_text'].sample(3)"
      ],
      "metadata": {
        "colab": {
          "base_uri": "https://localhost:8080/"
        },
        "id": "NlJtBThojWmS",
        "outputId": "fa40b3be-d637-4bb7-9b02-6d9d27e6f705"
      },
      "execution_count": 20,
      "outputs": [
        {
          "output_type": "execute_result",
          "data": {
            "text/plain": [
              "110561                                           [украинский, власть, опасаться, возможный, снятие, сша, антироссийский, санкция, прекращение, вашингтон, финансовый, поддержка, киев, четверг, ноябрь, ссылка, источник, администрация, президент, украина, пётр, порошенко, сообщать, rt, штаб, новый, президент, слабый, дональд, трамп, делать, собеседник, отмечаться, победить, выборы, сша, республиканец, посещать, украина, знакомый, некоторый, украинский, бизнесмен, ранее, сми, украинский, политика, отправить, трамп, поздравление, победа, выборы, глава, государство, порошенко, заявить, рассчитывать, продолжение, поддержка, соединить, штат, борьба, реализация, масштабный, реформа, страна, бывший, премьер, министр, украина, арсений, яценюк, предостеречь, трамп, признание, крым, российский, выборы, президент, сша, пройти, вторник, ноябрь, победить, кандидат, республиканец, дональд, трамп, инаугурация, наметить, январь]\n",
              "239164                                                                                                                                                                                                                                                                                                                                                                                                                                                          [авиакомпания, malaysia, airlines, потерять, связь, свой, самолёт, борт, находиться, член, экипаж, сообщать, ночь, суббота, март, издание, the, malaysian, insider, пропажа, самолёт, сообщить, представитель, авиакомпания, boeing, вылететь, аэропорт, куала, лумпур, местный, пятница, московский, должный, сесть, пекин, москва, связь, рейс, потерять, самолёт, находиться, небо, час, онлайн, табло, указать, самолёт, приземлиться, сообщение, потеря, связь, появиться, московский]\n",
              "715653    [испанский, суд, среда, принять, решение, экстрадиция, владимир, гусинский, мнение, задействовать, мадридский, процесс, адвокат, гусинский, принятие, решение, ожидать, ранее, конец, неделя, пресс, служба, ходлинга, медиа, мост, нтв, ru, сообщить, окончательный, решение, вопрос, экстрадиция, владимир, гусинский, находиться, компетенция, правительство, испания, точка, вопрос, поставить, ранее, полтора, месяц, испанский, юрист, число, адвокат, владимир, гусинский, доминго, пласас, объяснять, столь, длительный, рассмотрение, вопрос, сложность, дело, дело, рассматриваться, судья, четвёртый, отдел, уголовный, палата, национальный, судебный, коллегия, испания, seccion, cuarta, de, la, sala, de, lo, penal, de, la, audiencia, nacional, решение, четвёртый, отдел, уголовный, палата, сторона, скорее, подать, апелляция, пленум, уголовный, палата, национальный, судебный, коллегия, испания, asamblea, plenaria, ...]\n",
              "Name: processed_text, dtype: object"
            ]
          },
          "metadata": {},
          "execution_count": 20
        }
      ]
    },
    {
      "cell_type": "markdown",
      "source": [
        "##Построение модели"
      ],
      "metadata": {
        "id": "AGUVHBBhl-7x"
      }
    },
    {
      "cell_type": "markdown",
      "source": [
        "Модель использует векторное представление документов, например, мешок слов (bow), поэтому сперва создадим словарь:"
      ],
      "metadata": {
        "id": "tmsjeS7QmEER"
      }
    },
    {
      "cell_type": "code",
      "source": [
        "!pip install -U gensim"
      ],
      "metadata": {
        "id": "Xd0I3ORZmV72"
      },
      "execution_count": null,
      "outputs": []
    },
    {
      "cell_type": "code",
      "source": [
        "from gensim.models import *\n",
        "from gensim import corpora"
      ],
      "metadata": {
        "id": "Arbi5rSfmIen"
      },
      "execution_count": 22,
      "outputs": []
    },
    {
      "cell_type": "code",
      "source": [
        "dictionary = corpora.Dictionary(data['processed_text'])\n",
        "len(dictionary)"
      ],
      "metadata": {
        "colab": {
          "base_uri": "https://localhost:8080/"
        },
        "id": "BFYTMLNflcy-",
        "outputId": "adee6554-ed95-405d-bf40-cef50eed0650"
      },
      "execution_count": 23,
      "outputs": [
        {
          "output_type": "execute_result",
          "data": {
            "text/plain": [
              "123829"
            ]
          },
          "metadata": {},
          "execution_count": 23
        }
      ]
    },
    {
      "cell_type": "markdown",
      "source": [
        "Уберём из словаря очень редкие и очень частые слова:"
      ],
      "metadata": {
        "id": "FdXLvdysofxz"
      }
    },
    {
      "cell_type": "code",
      "source": [
        "dictionary.filter_extremes(no_below = 8, no_above = 0.7, keep_n=None)\n",
        "len(dictionary)"
      ],
      "metadata": {
        "colab": {
          "base_uri": "https://localhost:8080/"
        },
        "id": "lbY244Uhlcv0",
        "outputId": "5796598a-39b5-4209-be95-dc5c792f39a4"
      },
      "execution_count": 24,
      "outputs": [
        {
          "output_type": "execute_result",
          "data": {
            "text/plain": [
              "23797"
            ]
          },
          "metadata": {},
          "execution_count": 24
        }
      ]
    },
    {
      "cell_type": "code",
      "source": [
        "# Векторизуем документы:\n",
        "corpus = [dictionary.doc2bow(text) for text in data['processed_text']]\n",
        "corpora.MmCorpus.serialize('lenta.model', corpus) "
      ],
      "metadata": {
        "id": "7-J7ftGalcsn"
      },
      "execution_count": 25,
      "outputs": []
    },
    {
      "cell_type": "code",
      "source": [
        "# Изначальное количество тем\n",
        "NUM_TOPICS = 5"
      ],
      "metadata": {
        "id": "hP6HekPcs0ZQ"
      },
      "execution_count": 26,
      "outputs": []
    },
    {
      "cell_type": "code",
      "source": [
        "%time \n",
        "lda_model = ldamodel.LdaModel(corpus, id2word=dictionary, num_topics=NUM_TOPICS , passes=2, random_state=RANDOM_STATE)"
      ],
      "metadata": {
        "colab": {
          "base_uri": "https://localhost:8080/"
        },
        "id": "H1CO0websqso",
        "outputId": "1ca01173-a004-4966-973b-42aef70c1cb8"
      },
      "execution_count": 27,
      "outputs": [
        {
          "output_type": "stream",
          "name": "stdout",
          "text": [
            "CPU times: user 4 µs, sys: 0 ns, total: 4 µs\n",
            "Wall time: 10 µs\n"
          ]
        }
      ]
    },
    {
      "cell_type": "markdown",
      "source": [
        "Проверим, насколько модель научилась разделять тематики"
      ],
      "metadata": {
        "id": "g3RFQ1h_FTC5"
      }
    },
    {
      "cell_type": "code",
      "source": [
        "def get_topics_words(model, n_topics):\n",
        "    \n",
        "    x = lda_model.show_topics(num_topics=n_topics, num_words=10, formatted=False)\n",
        "    topics_words = [(tp[0], [wd[0] for wd in tp[1]]) for tp in x]\n",
        "\n",
        "    for topic, words in topics_words:\n",
        "        print(f\"topic_{topic}: \" + \" \".join(words))"
      ],
      "metadata": {
        "id": "4OZVQQ_nFT74"
      },
      "execution_count": 28,
      "outputs": []
    },
    {
      "cell_type": "code",
      "source": [
        "get_topics_words(lda_model, NUM_TOPICS)"
      ],
      "metadata": {
        "colab": {
          "base_uri": "https://localhost:8080/"
        },
        "id": "_wLr6_WXFXFN",
        "outputId": "982e3391-2043-4133-ca91-f68af9762d3e"
      },
      "execution_count": 29,
      "outputs": [
        {
          "output_type": "stream",
          "name": "stdout",
          "text": [
            "topic_0: процент компания доллар миллион рубль миллиард тысяча россия банк рынок\n",
            "topic_1: россия президент заявить страна свой глава российский украина министр слово\n",
            "topic_2: самолёт новый компания учёный система сообщать работа пользователь сайт свой\n",
            "topic_3: сообщать дело город произойти находиться полиция сотрудник задержать данные погибнуть\n",
            "topic_4: свой стать матч игра фильм сообщать команда мир сборная the\n"
          ]
        }
      ]
    },
    {
      "cell_type": "markdown",
      "source": [
        "Модель хорошо разделяет тематики"
      ],
      "metadata": {
        "id": "yh8cqldOFaGv"
      }
    },
    {
      "cell_type": "markdown",
      "source": [
        "На полученные темы можно посмотреть, изобразив их на плоскости с помощью библиотеки pyLDAvis. "
      ],
      "metadata": {
        "id": "8JkeQRsG-aV5"
      }
    },
    {
      "cell_type": "code",
      "source": [
        "!pip install pyLDAvis"
      ],
      "metadata": {
        "id": "f0_xa5mV-auV"
      },
      "execution_count": null,
      "outputs": []
    },
    {
      "cell_type": "code",
      "source": [
        "import pyLDAvis\n",
        "import pyLDAvis.gensim_models as gensimvis\n",
        "pyLDAvis.enable_notebook()\n",
        "\n",
        "# feed the LDA model into the pyLDAvis instance\n",
        "%time lda_viz = gensimvis.prepare(lda_model, corpus, dictionary)\n",
        "pyLDAvis.display(lda_viz)"
      ],
      "metadata": {
        "colab": {
          "base_uri": "https://localhost:8080/",
          "height": 1000
        },
        "id": "P3Try5ndEgdf",
        "outputId": "9f1910de-e773-4cf2-8133-8a7ca3302b0c"
      },
      "execution_count": 31,
      "outputs": [
        {
          "output_type": "stream",
          "name": "stderr",
          "text": [
            "/usr/local/lib/python3.8/dist-packages/past/types/oldstr.py:5: DeprecationWarning: Using or importing the ABCs from 'collections' instead of from 'collections.abc' is deprecated since Python 3.3, and in 3.10 it will stop working\n",
            "  from collections import Iterable\n",
            "/usr/local/lib/python3.8/dist-packages/past/builtins/misc.py:4: DeprecationWarning: Using or importing the ABCs from 'collections' instead of from 'collections.abc' is deprecated since Python 3.3, and in 3.10 it will stop working\n",
            "  from collections import Mapping\n",
            "/usr/local/lib/python3.8/dist-packages/pyLDAvis/_prepare.py:246: FutureWarning: In a future version of pandas all arguments of DataFrame.drop except for the argument 'labels' will be keyword-only\n",
            "  default_term_info = default_term_info.sort_values(\n"
          ]
        },
        {
          "output_type": "stream",
          "name": "stdout",
          "text": [
            "CPU times: user 12 s, sys: 495 ms, total: 12.5 s\n",
            "Wall time: 14.2 s\n"
          ]
        },
        {
          "output_type": "execute_result",
          "data": {
            "text/plain": [
              "<IPython.core.display.HTML object>"
            ],
            "text/html": [
              "\n",
              "<link rel=\"stylesheet\" type=\"text/css\" href=\"https://cdn.jsdelivr.net/gh/bmabey/pyLDAvis@3.3.1/pyLDAvis/js/ldavis.v1.0.0.css\">\n",
              "\n",
              "\n",
              "<div id=\"ldavis_el731401297540445608988516869\"></div>\n",
              "<script type=\"text/javascript\">\n",
              "\n",
              "var ldavis_el731401297540445608988516869_data = {\"mdsDat\": {\"x\": [0.08995534453352752, 0.18646825057683317, -0.010808372347863703, -0.19654748482674825, -0.06906773793574883], \"y\": [0.008145079364887434, 0.1156452739926954, -0.20799885792206044, 0.1469166984192664, -0.06270819385478885], \"topics\": [1, 2, 3, 4, 5], \"cluster\": [1, 1, 1, 1, 1], \"Freq\": [28.149917870703884, 21.866264544763677, 17.793420971811802, 17.46213642638967, 14.728260186330964]}, \"tinfo\": {\"Term\": [\"\\u043f\\u0440\\u043e\\u0446\\u0435\\u043d\\u0442\", \"\\u043a\\u043e\\u043c\\u043f\\u0430\\u043d\\u0438\\u044f\", \"\\u0434\\u043e\\u043b\\u043b\\u0430\\u0440\", \"\\u0440\\u0443\\u0431\\u043b\\u044c\", \"\\u043f\\u0440\\u0435\\u0437\\u0438\\u0434\\u0435\\u043d\\u0442\", \"\\u043c\\u0438\\u043b\\u043b\\u0438\\u0430\\u0440\\u0434\", \"\\u043c\\u0438\\u043b\\u043b\\u0438\\u043e\\u043d\", \"\\u0441\\u0430\\u043c\\u043e\\u043b\\u0451\\u0442\", \"\\u043c\\u0430\\u0442\\u0447\", \"\\u0431\\u0430\\u043d\\u043a\", \"\\u0438\\u0433\\u0440\\u0430\", \"\\u0434\\u0435\\u043b\\u043e\", \"\\u043f\\u043e\\u043b\\u0438\\u0446\\u0438\\u044f\", \"\\u0437\\u0430\\u0434\\u0435\\u0440\\u0436\\u0430\\u0442\\u044c\", \"\\u0444\\u0438\\u043b\\u044c\\u043c\", \"\\u0440\\u043e\\u0441\\u0441\\u0438\\u044f\", \"\\u0443\\u043a\\u0440\\u0430\\u0438\\u043d\\u0430\", \"\\u0440\\u044b\\u043d\\u043e\\u043a\", \"\\u0446\\u0435\\u043d\\u0430\", \"\\u043f\\u043e\\u0433\\u0438\\u0431\\u043d\\u0443\\u0442\\u044c\", \"\\u043a\\u043e\\u043c\\u0430\\u043d\\u0434\\u0430\", \"\\u043c\\u0438\\u043d\\u0438\\u0441\\u0442\\u0440\", \"\\u0441\\u0431\\u043e\\u0440\\u043d\\u0430\\u044f\", \"\\u0441\\u0443\\u0434\", \"\\u0433\\u043b\\u0430\\u0432\\u0430\", \"\\u043a\\u043b\\u0443\\u0431\", \"\\u0432\\u044b\\u0431\\u043e\\u0440\\u044b\", \"\\u0443\\u0447\\u0451\\u043d\\u044b\\u0439\", \"\\u0441\\u0442\\u0440\\u0430\\u043d\\u0430\", \"\\u0447\\u0435\\u043c\\u043f\\u0438\\u043e\\u043d\\u0430\\u0442\", \"\\u0432\\u044b\\u0431\\u043e\\u0440\\u044b\", \"\\u043f\\u0430\\u0440\\u043b\\u0430\\u043c\\u0435\\u043d\\u0442\", \"\\u0438\\u0437\\u0431\\u0438\\u0440\\u0430\\u0442\\u0435\\u043b\\u044c\\u043d\\u044b\\u0439\", \"\\u043f\\u0430\\u0440\\u043b\\u0430\\u043c\\u0435\\u043d\\u0442\\u0441\\u043a\\u0438\\u0439\", \"\\u0441\\u043f\\u0438\\u043a\\u0435\\u0440\", \"\\u0438\\u0437\\u0431\\u0438\\u0440\\u0430\\u0442\\u0435\\u043b\\u044c\", \"\\u0434\\u043e\\u043d\\u0431\\u0430\\u0441\\u0441\", \"\\u043a\\u043e\\u043d\\u0441\\u0442\\u0438\\u0442\\u0443\\u0446\\u0438\\u044f\", \"\\u0444\\u0440\\u0430\\u043a\\u0446\\u0438\\u044f\", \"\\u0434\\u0443\\u043c\\u0430\", \"\\u043f\\u0430\\u0440\\u043b\\u0430\\u043c\\u0435\\u043d\\u0442\\u0430\\u0440\\u0438\\u0439\", \"\\u043f\\u043e\\u0440\\u043e\\u0448\\u0435\\u043d\\u043a\\u043e\", \"\\u0434\\u0435\\u043c\\u043e\\u043a\\u0440\\u0430\\u0442\\u0438\\u0447\\u0435\\u0441\\u043a\\u0438\\u0439\", \"\\u0440\\u0435\\u0444\\u0435\\u0440\\u0435\\u043d\\u0434\\u0443\\u043c\", \"\\u044f\\u043d\\u0443\\u043a\\u043e\\u0432\\u0438\\u0447\", \"\\u0443\\u043a\\u0430\\u0437\", \"\\u043b\\u0443\\u043a\\u0430\\u0448\\u0435\\u043d\\u043a\\u043e\", \"\\u0434\\u0435\\u043f\\u0443\\u0442\\u0430\\u0442\", \"\\u044e\\u0449\\u0435\\u043d\\u043a\\u043e\", \"\\u0440\\u0435\\u0437\\u043e\\u043b\\u044e\\u0446\\u0438\\u044f\", \"\\u043a\\u043f\\u0440\\u0444\", \"\\u043e\\u043f\\u043f\\u043e\\u0437\\u0438\\u0446\\u0438\\u044f\", \"\\u0446\\u0438\\u043a\", \"\\u043b\\u0443\\u0433\\u0430\\u043d\\u0441\\u043a\\u0438\\u0439\", \"\\u043a\\u0440\\u044b\\u043c\", \"\\u0434\\u043d\\u0440\", \"\\u043a\\u043e\\u043d\\u0441\\u0442\\u0438\\u0442\\u0443\\u0446\\u0438\\u043e\\u043d\\u043d\\u044b\\u0439\", \"\\u0441\\u0430\\u0430\\u043a\\u0430\\u0448\\u0432\\u0438\\u043b\\u0438\", \"\\u0441\\u0430\\u043c\\u043e\\u043f\\u0440\\u043e\\u0432\\u043e\\u0437\\u0433\\u043b\\u0430\\u0448\\u0451\\u043d\\u043d\\u044b\\u0439\", \"\\u0442\\u0438\\u043c\\u043e\\u0448\\u0435\\u043d\\u043a\\u043e\", \"\\u0437\\u0430\\u043a\\u043e\\u043d\\u043e\\u043f\\u0440\\u043e\\u0435\\u043a\\u0442\", \"\\u0433\\u043e\\u0441\\u0434\\u0443\\u043c\\u0430\", \"\\u043f\\u0440\\u0435\\u0437\\u0438\\u0434\\u0435\\u043d\\u0442\\u0441\\u043a\\u0438\\u0439\", \"\\u043d\\u0430\\u0442\\u043e\", \"\\u043f\\u0443\\u0442\\u0438\\u043d\", \"\\u043f\\u043e\\u043b\\u0438\\u0442\\u0438\\u0447\\u0435\\u0441\\u043a\\u0438\\u0439\", \"\\u043f\\u0440\\u0435\\u0437\\u0438\\u0434\\u0435\\u043d\\u0442\", \"\\u0433\\u0440\\u0443\\u0437\\u0438\\u044f\", \"\\u043c\\u0438\\u0434\", \"\\u043a\\u0438\\u0435\\u0432\", \"\\u043f\\u0430\\u0440\\u0442\\u0438\\u044f\", \"\\u0443\\u043a\\u0440\\u0430\\u0438\\u043d\\u0430\", \"\\u043e\\u043e\\u043d\", \"\\u0443\\u043a\\u0440\\u0430\\u0438\\u043d\\u0441\\u043a\\u0438\\u0439\", \"\\u0432\\u0435\\u0440\\u0445\\u043e\\u0432\\u043d\\u044b\\u0439\", \"\\u0437\\u0430\\u043a\\u043e\\u043d\", \"\\u043c\\u0438\\u043d\\u0438\\u0441\\u0442\\u0440\", \"\\u0434\\u043e\\u043b\\u0436\\u043d\\u043e\\u0441\\u0442\\u044c\", \"\\u043a\\u0430\\u043d\\u0434\\u0438\\u0434\\u0430\\u0442\", \"\\u0433\\u043b\\u0430\\u0432\\u0430\", \"\\u0441\\u0438\\u0440\\u0438\\u044f\", \"\\u0432\\u043e\\u043f\\u0440\\u043e\\u0441\", \"\\u0437\\u0430\\u0441\\u0435\\u0434\\u0430\\u043d\\u0438\\u0435\", \"\\u043f\\u0430\\u043b\\u0430\\u0442\\u0430\", \"\\u0441\\u043e\\u0432\\u0435\\u0442\", \"\\u0433\\u043e\\u0441\\u0443\\u0434\\u0430\\u0440\\u0441\\u0442\\u0432\\u043e\", \"\\u0432\\u043b\\u0430\\u0434\\u0438\\u043c\\u0438\\u0440\", \"\\u043f\\u0440\\u0435\\u043c\\u044c\\u0435\\u0440\", \"\\u0441\\u0442\\u0440\\u0430\\u043d\\u0430\", \"\\u0440\\u0435\\u0448\\u0435\\u043d\\u0438\\u0435\", \"\\u0437\\u0430\\u044f\\u0432\\u0438\\u0442\\u044c\", \"\\u043f\\u0440\\u0430\\u0432\\u0438\\u0442\\u0435\\u043b\\u044c\\u0441\\u0442\\u0432\\u043e\", \"\\u0440\\u043e\\u0441\\u0441\\u0438\\u044f\", \"\\u0440\\u0435\\u0441\\u043f\\u0443\\u0431\\u043b\\u0438\\u043a\\u0430\", \"\\u0434\\u043e\\u043a\\u0443\\u043c\\u0435\\u043d\\u0442\", \"\\u0432\\u043b\\u0430\\u0441\\u0442\\u044c\", \"\\u043f\\u0440\\u0430\\u0432\\u043e\", \"\\u043f\\u0440\\u0438\\u043d\\u044f\\u0442\\u044c\", \"\\u0440\\u043e\\u0441\\u0441\\u0438\\u0439\\u0441\\u043a\\u0438\\u0439\", \"\\u043b\\u0438\\u0434\\u0435\\u0440\", \"\\u0441\\u0448\\u0430\", \"\\u0441\\u043b\\u043e\\u0432\\u043e\", \"\\u0441\\u0432\\u043e\\u0439\", \"\\u0441\\u0443\\u0434\", \"\\u043f\\u0440\\u0435\\u0434\\u0441\\u0442\\u0430\\u0432\\u0438\\u0442\\u0435\\u043b\\u044c\", \"\\u0434\\u043e\\u043b\\u0436\\u043d\\u044b\\u0439\", \"\\u0441\\u043e\\u043e\\u0431\\u0449\\u0430\\u0442\\u044c\", \"\\u043e\\u0442\\u043c\\u0435\\u0442\\u0438\\u0442\\u044c\", \"\\u043c\\u043e\\u0441\\u043a\\u0432\\u0430\", \"\\u043d\\u043e\\u0432\\u044b\\u0439\", \"\\u0432\\u043e\\u0435\\u043d\\u043d\\u044b\\u0439\", \"\\u0434\\u0435\\u043b\\u043e\", \"\\u0440\\u0430\\u043d\\u0435\\u043d\\u0438\\u0435\", \"\\u043f\\u043e\\u043b\\u0438\\u0446\\u0435\\u0439\\u0441\\u043a\\u0438\\u0439\", \"\\u0440\\u0430\\u043d\\u0438\\u0442\\u044c\", \"\\u043c\\u0438\\u043b\\u0438\\u0446\\u0438\\u043e\\u043d\\u0435\\u0440\", \"\\u0441\\u043a\\u0440\\u044b\\u0442\\u044c\\u0441\\u044f\", \"\\u043f\\u043e\\u0436\\u0430\\u0440\\u043d\\u044b\\u0439\", \"\\u0434\\u0442\\u043f\", \"\\u0432\\u043e\\u0434\\u0438\\u0442\\u0435\\u043b\\u044c\", \"\\u0443\\u0431\\u0438\\u0442\\u044b\\u0439\", \"\\u043f\\u0438\\u0441\\u0442\\u043e\\u043b\\u0435\\u0442\", \"\\u043a\\u0430\\u0435\\u0434\\u0430\", \"\\u0437\\u0430\\u0441\\u0442\\u0440\\u0435\\u043b\\u0438\\u0442\\u044c\", \"\\u043f\\u043e\\u043b\\u0438\\u0446\\u0438\\u044f\", \"\\u0440\\u0430\\u043d\\u0435\\u043d\\u044b\\u0439\", \"\\u0433\\u0438\\u0431\\u0434\\u0434\", \"\\u043f\\u0440\\u0435\\u0441\\u0442\\u0443\\u043f\\u043d\\u0438\\u043a\", \"\\u043f\\u043e\\u0434\\u0441\\u0443\\u0434\\u0438\\u043c\\u044b\\u0439\", \"\\u043f\\u043e\\u0445\\u0438\\u0442\\u0438\\u0442\\u044c\", \"\\u043f\\u043e\\u0445\\u0438\\u0449\\u0435\\u043d\\u0438\\u0435\", \"\\u043e\\u0433\\u043d\\u0435\\u0441\\u0442\\u0440\\u0435\\u043b\\u044c\\u043d\\u044b\\u0439\", \"\\u043f\\u0430\\u043b\\u0435\\u0441\\u0442\\u0438\\u043d\\u0435\\u0446\", \"\\u043f\\u043e\\u0436\\u0430\\u0440\", \"\\u0432\\u0437\\u043e\\u0440\\u0432\\u0430\\u0442\\u044c\", \"\\u043f\\u043e\\u0442\\u0435\\u0440\\u043f\\u0435\\u0432\\u0448\\u0438\\u0439\", \"\\u043f\\u0435\\u0440\\u0435\\u0441\\u0442\\u0440\\u0435\\u043b\\u043a\\u0430\", \"\\u0441\\u0442\\u0440\\u0435\\u043b\\u044f\\u0442\\u044c\", \"\\u0432\\u0437\\u0440\\u044b\\u0432\\u043d\\u043e\\u0439\", \"\\u0432\\u0437\\u0440\\u044b\\u0432\\u0447\\u0430\\u0442\\u043a\\u0430\", \"\\u0433\\u0443\", \"\\u0438\\u0437\\u0431\\u0438\\u0442\\u044c\", \"\\u0437\\u0430\\u0434\\u0435\\u0440\\u0436\\u0430\\u0442\\u044c\", \"\\u0443\\u0431\\u0438\\u0439\\u0441\\u0442\\u0432\\u043e\", \"\\u043f\\u0440\\u043e\\u0438\\u0441\\u0448\\u0435\\u0441\\u0442\\u0432\\u0438\\u0435\", \"\\u0442\\u0435\\u0440\\u0430\\u043a\\u0442\", \"\\u043f\\u043e\\u0433\\u0438\\u0431\\u043d\\u0443\\u0442\\u044c\", \"\\u0441\\u043b\\u0435\\u0434\\u043e\\u0432\\u0430\\u0442\\u0435\\u043b\\u044c\", \"\\u043f\\u043e\\u0434\\u043e\\u0437\\u0440\\u0435\\u0432\\u0430\\u0442\\u044c\", \"\\u043c\\u0447\\u0441\", \"\\u0430\\u0432\\u0442\\u043e\\u0431\\u0443\\u0441\", \"\\u0430\\u043b\\u044c\", \"\\u0441\\u0442\\u0440\\u0430\\u0436\\u0430\", \"\\u0430\\u0440\\u0435\\u0441\\u0442\\u043e\\u0432\\u0430\\u0442\\u044c\", \"\\u043f\\u0440\\u0438\\u0433\\u043e\\u0432\\u043e\\u0440\\u0438\\u0442\\u044c\", \"\\u0431\\u043e\\u0435\\u0432\\u0438\\u043a\", \"\\u0432\\u0437\\u0440\\u044b\\u0432\", \"\\u0443\\u0431\\u0438\\u0442\\u044c\", \"\\u0441\\u043b\\u0435\\u0434\\u0441\\u0442\\u0432\\u0438\\u0435\", \"\\u0437\\u0430\\u0434\\u0435\\u0440\\u0436\\u0430\\u043d\\u0438\\u0435\", \"\\u0432\\u043e\\u0437\\u0431\\u0443\\u0434\\u0438\\u0442\\u044c\", \"\\u0441\\u043b\\u0435\\u0434\\u0441\\u0442\\u0432\\u0435\\u043d\\u043d\\u044b\\u0439\", \"\\u043f\\u043e\\u0441\\u0442\\u0440\\u0430\\u0434\\u0430\\u0442\\u044c\", \"\\u043f\\u0440\\u0430\\u0432\\u043e\\u043e\\u0445\\u0440\\u0430\\u043d\\u0438\\u0442\\u0435\\u043b\\u044c\\u043d\\u044b\\u0439\", \"\\u043c\\u0438\\u043b\\u0438\\u0446\\u0438\\u044f\", \"\\u043d\\u0430\\u043f\\u0430\\u0434\\u0435\\u043d\\u0438\\u0435\", \"\\u0431\\u043e\\u043b\\u044c\\u043d\\u0438\\u0446\\u0430\", \"\\u0443\\u0433\\u043e\\u043b\\u043e\\u0432\\u043d\\u044b\\u0439\", \"\\u043f\\u0440\\u0435\\u0441\\u0442\\u0443\\u043f\\u043b\\u0435\\u043d\\u0438\\u0435\", \"\\u0438\\u043d\\u0446\\u0438\\u0434\\u0435\\u043d\\u0442\", \"\\u043c\\u0432\\u0434\", \"\\u043f\\u0440\\u043e\\u0438\\u0437\\u043e\\u0439\\u0442\\u0438\", \"\\u0437\\u0434\\u0430\\u043d\\u0438\\u0435\", \"\\u0443\\u043b\\u0438\\u0446\\u0430\", \"\\u0440\\u0430\\u0439\\u043e\\u043d\", \"\\u0441\\u043e\\u0442\\u0440\\u0443\\u0434\\u043d\\u0438\\u043a\", \"\\u0434\\u0435\\u043b\\u043e\", \"\\u0433\\u043e\\u0440\\u043e\\u0434\", \"\\u043c\\u0443\\u0436\\u0447\\u0438\\u043d\\u0430\", \"\\u043d\\u0430\\u0445\\u043e\\u0434\\u0438\\u0442\\u044c\\u0441\\u044f\", \"\\u0441\\u043e\\u043e\\u0431\\u0449\\u0430\\u0442\\u044c\", \"\\u0434\\u0430\\u043d\\u043d\\u044b\\u0435\", \"\\u0434\\u043e\\u043c\", \"\\u0440\\u0435\\u0437\\u0443\\u043b\\u044c\\u0442\\u0430\\u0442\", \"\\u0441\\u0443\\u0434\", \"\\u043b\\u0435\\u0442\\u043d\\u0438\\u0439\", \"\\u043c\\u0435\\u0441\\u0442\\u043d\\u044b\\u0439\", \"\\u0441\\u043e\\u043e\\u0431\\u0449\\u0438\\u0442\\u044c\", \"\\u0436\\u0438\\u0442\\u0435\\u043b\\u044c\", \"\\u043e\\u0440\\u0433\\u0430\\u043d\", \"\\u0430\\u0433\\u0435\\u043d\\u0442\\u0441\\u0442\\u0432\\u043e\", \"\\u043f\\u043e\\u043b\\u0443\\u0447\\u0438\\u0442\\u044c\", \"\\u043c\\u0435\\u0441\\u0442\\u043e\", \"\\u043c\\u043e\\u0441\\u043a\\u0432\\u0430\", \"\\u0441\\u043e\\u043e\\u0431\\u0449\\u0430\\u0442\\u044c\\u0441\\u044f\", \"\\u0441\\u043b\\u0443\\u0436\\u0431\\u0430\", \"\\u0441\\u043b\\u043e\\u0432\\u043e\", \"\\u0438\\u043d\\u0444\\u043e\\u0440\\u043c\\u0430\\u0446\\u0438\\u044f\", \"\\u043f\\u0440\\u0435\\u0434\\u0441\\u0442\\u0430\\u0432\\u0438\\u0442\\u0435\\u043b\\u044c\", \"\\u0441\\u0432\\u043e\\u0439\", \"\\u0431\\u0430\\u0440\\u0440\\u0435\\u043b\\u044c\", \"\\u0432\\u0430\\u043b\\u044e\\u0442\\u0430\", \"\\u043a\\u0443\\u0431\\u043e\\u043c\\u0435\\u0442\\u0440\", \"\\u0442\\u0440\\u0438\\u043b\\u043b\\u0438\\u043e\\u043d\", \"\\u0431\\u0438\\u0440\\u0436\\u0430\", \"\\u0446\\u0431\", \"\\u0432\\u0432\\u043f\", \"\\u043d\\u0435\\u0444\\u0442\\u044c\", \"\\u043a\\u0440\\u0435\\u0434\\u0438\\u0442\\u043d\\u044b\\u0439\", \"\\u0444\\u043e\\u043d\\u0434\\u043e\\u0432\\u044b\\u0439\", \"\\u0438\\u043d\\u0444\\u043b\\u044f\\u0446\\u0438\\u044f\", \"\\u0438\\u043f\\u043e\\u0442\\u0435\\u0447\\u043d\\u044b\\u0439\", \"\\u043c\\u043c\\u0432\\u0431\", \"\\u043a\\u043e\\u043d\\u0446\\u0435\\u0440\\u043d\", \"\\u0432\\u0442\\u0431\", \"\\u043f\\u043e\\u0434\\u043e\\u0440\\u043e\\u0436\\u0430\\u0442\\u044c\", \"\\u043a\\u043e\\u043f\\u0435\\u0439\\u043a\\u0430\", \"\\u043c\\u0435\\u0441\\u0442\\u043e\\u0440\\u043e\\u0436\\u0434\\u0435\\u043d\\u0438\\u0435\", \"\\u0441\\u0431\\u0435\\u0440\\u0431\\u0430\\u043d\\u043a\", \"\\u043e\\u0431\\u043b\\u0438\\u0433\\u0430\\u0446\\u0438\\u044f\", \"\\u0441\\u043f\\u0440\\u043e\\u0441\", \"\\u0446\\u0435\\u043d\\u0430\", \"\\u0432\\u0430\\u043b\\u044e\\u0442\\u043d\\u044b\\u0439\", \"\\u044d\\u043a\\u0441\\u043f\\u043e\\u0440\\u0442\", \"\\u0438\\u043d\\u0434\\u0435\\u043a\\u0441\", \"\\u0440\\u0442\\u0441\", \"\\u0440\\u043e\\u0441\\u043d\\u0435\\u0444\\u0442\\u044c\", \"\\u043a\\u0440\\u0435\\u0434\\u0438\\u0442\", \"\\u0433\\u043e\\u0434\\u043e\\u0432\\u043e\\u0439\", \"\\u043a\\u0440\\u0435\\u0434\\u0438\\u0442\\u043e\\u0432\\u0430\\u043d\\u0438\\u0435\", \"\\u0431\\u0430\\u043d\\u043a\", \"\\u043c\\u0438\\u043b\\u043b\\u0438\\u0430\\u0440\\u0434\", \"\\u0442\\u043e\\u0440\\u0433\", \"\\u0441\\u0442\\u0430\\u0432\\u043a\\u0430\", \"\\u0433\\u0430\\u0437\\u043f\\u0440\\u043e\\u043c\", \"\\u0440\\u044b\\u043d\\u043e\\u043a\", \"\\u0438\\u043d\\u0432\\u0435\\u0441\\u0442\\u043e\\u0440\", \"\\u043d\\u0435\\u0434\\u0432\\u0438\\u0436\\u0438\\u043c\\u043e\\u0441\\u0442\\u044c\", \"\\u043a\\u043d\\u0434\\u0440\", \"\\u0434\\u0435\\u0444\\u0438\\u0446\\u0438\\u0442\", \"\\u043a\\u0430\\u043f\\u0438\\u0442\\u0430\\u043b\", \"\\u0441\\u0434\\u0435\\u043b\\u043a\\u0430\", \"\\u0441\\u043d\\u0438\\u0437\\u0438\\u0442\\u044c\\u0441\\u044f\", \"\\u0438\\u043d\\u0432\\u0435\\u0441\\u0442\\u0438\\u0446\\u0438\\u044f\", \"\\u0432\\u044b\\u0440\\u0430\\u0441\\u0442\\u0438\", \"\\u043f\\u0440\\u043e\\u0446\\u0435\\u043d\\u0442\", \"\\u0434\\u043e\\u043b\\u043b\\u0430\\u0440\", \"\\u0441\\u0442\\u043e\\u0438\\u043c\\u043e\\u0441\\u0442\\u044c\", \"\\u0440\\u0443\\u0431\\u043b\\u044c\", \"\\u043e\\u0431\\u044a\\u0451\\u043c\", \"\\u0436\\u0438\\u043b\\u044c\\u0451\", \"\\u043f\\u043e\\u0441\\u0442\\u0430\\u0432\\u043a\\u0430\", \"\\u0440\\u043e\\u0441\\u0442\", \"\\u0434\\u043e\\u0445\\u043e\\u0434\", \"\\u0434\\u043e\\u043b\\u044f\", \"\\u043f\\u043e\\u043a\\u0430\\u0437\\u0430\\u0442\\u0435\\u043b\\u044c\", \"\\u043a\\u043e\\u043c\\u043f\\u0430\\u043d\\u0438\\u044f\", \"\\u043c\\u0438\\u043b\\u043b\\u0438\\u043e\\u043d\", \"\\u0441\\u043e\\u0441\\u0442\\u0430\\u0432\\u0438\\u0442\\u044c\", \"\\u043a\\u0432\\u0430\\u0434\\u0440\\u0430\\u0442\\u043d\\u044b\\u0439\", \"\\u0441\\u0442\\u0440\\u043e\\u0438\\u0442\\u0435\\u043b\\u044c\\u0441\\u0442\\u0432\\u043e\", \"\\u0441\\u0443\\u043c\\u043c\\u0430\", \"\\u0431\\u044e\\u0434\\u0436\\u0435\\u0442\", \"\\u0444\\u0438\\u043d\\u0430\\u043d\\u0441\\u043e\\u0432\\u044b\\u0439\", \"\\u043f\\u0440\\u0435\\u0434\\u043f\\u0440\\u0438\\u044f\\u0442\\u0438\\u0435\", \"\\u0442\\u044b\\u0441\\u044f\\u0447\\u0430\", \"\\u043f\\u0440\\u043e\\u0434\\u0430\\u0436\\u0430\", \"\\u0441\\u043e\\u0441\\u0442\\u0430\\u0432\\u043b\\u044f\\u0442\\u044c\", \"\\u0430\\u043a\\u0446\\u0438\\u044f\", \"\\u0435\\u0432\\u0440\\u043e\", \"\\u043f\\u0440\\u043e\\u0435\\u043a\\u0442\", \"\\u043a\\u0440\\u0443\\u043f\\u043d\\u044b\\u0439\", \"\\u0440\\u043e\\u0441\\u0441\\u0438\\u044f\", \"\\u0440\\u043e\\u0441\\u0441\\u0438\\u0439\\u0441\\u043a\\u0438\\u0439\", \"\\u0441\\u0440\\u0435\\u0434\\u0441\\u0442\\u0432\\u043e\", \"\\u043e\\u0431\\u0449\\u0438\\u0439\", \"\\u0441\\u0442\\u0440\\u0430\\u043d\\u0430\", \"\\u0441\\u043e\\u043e\\u0431\\u0449\\u0430\\u0442\\u044c\", \"\\u0441\\u0442\\u0430\\u0442\\u044c\", \"\\u043d\\u043e\\u0432\\u044b\\u0439\", \"\\u0441\\u0432\\u043e\\u0439\", \"\\u043c\\u0430\\u0442\\u0447\", \"\\u0441\\u0431\\u043e\\u0440\\u043d\\u0430\\u044f\", \"\\u0447\\u0435\\u043c\\u043f\\u0438\\u043e\\u043d\\u0430\\u0442\", \"\\u0444\\u0438\\u043b\\u044c\\u043c\", \"\\u0442\\u0440\\u0435\\u043d\\u0435\\u0440\", \"\\u0430\\u043a\\u0442\\u0451\\u0440\", \"\\u0447\\u0435\\u043c\\u043f\\u0438\\u043e\\u043d\", \"\\u0442\\u0443\\u0440\\u043d\\u0438\\u0440\", \"\\u0440\\u0435\\u0436\\u0438\\u0441\\u0441\\u0451\\u0440\", \"\\u0444\\u0443\\u0442\\u0431\\u043e\\u043b\\u0438\\u0441\\u0442\", \"\\u043e\\u0447\\u043a\\u043e\", \"\\u0444\\u0443\\u0442\\u0431\\u043e\\u043b\", \"\\u0444\\u0438\\u043d\\u0430\\u043b\", \"\\u043a\\u0443\\u0431\\u043e\\u043a\", \"\\u0430\\u043b\\u044c\\u0431\\u043e\\u043c\", \"\\u043c\\u0443\\u0437\\u044b\\u043a\\u0430\\u043d\\u0442\", \"\\u0444\\u0443\\u0442\\u0431\\u043e\\u043b\\u044c\\u043d\\u044b\\u0439\", \"\\u0446\\u0441\\u043a\\u0430\", \"\\u043c\\u044f\\u0447\", \"\\u043f\\u0435\\u0441\\u043d\\u044f\", \"\\u0441\\u0435\\u0440\\u0438\\u0430\\u043b\", \"\\u0444\\u043e\\u0440\\u0432\\u0430\\u0440\\u0434\", \"\\u0433\\u043e\\u043b\", \"\\u0441\\u043f\\u043e\\u0440\\u0442\\u0441\\u043c\\u0435\\u043d\", \"\\u0444\\u0435\\u0441\\u0442\\u0438\\u0432\\u0430\\u043b\\u044c\", \"\\u043f\\u043e\\u0435\\u0434\\u0438\\u043d\\u043e\\u043a\", \"\\u043f\\u0435\\u0432\\u0438\\u0446\\u0430\", \"\\u0430\\u043a\\u0442\\u0440\\u0438\\u0441\\u0430\", \"\\u043d\\u043e\\u043c\\u0438\\u043d\\u0430\\u0446\\u0438\\u044f\", \"\\u0441\\u043e\\u0440\\u0435\\u0432\\u043d\\u043e\\u0432\\u0430\\u043d\\u0438\\u0435\", \"\\u043a\\u0430\\u0440\\u0442\\u0438\\u043d\\u0430\", \"\\u0441\\u044b\\u0433\\u0440\\u0430\\u0442\\u044c\", \"\\u043e\\u043b\\u0438\\u043c\\u043f\\u0438\\u0439\\u0441\\u043a\\u0438\\u0439\", \"\\u043a\\u0430\\u0440\\u044c\\u0435\\u0440\\u0430\", \"\\u0442\\u0435\\u0430\\u0442\\u0440\", \"\\u043a\\u043b\\u0443\\u0431\", \"\\u0438\\u0433\\u0440\\u0430\", \"\\u043a\\u043e\\u043c\\u0430\\u043d\\u0434\\u0430\", \"\\u043f\\u0440\\u0435\\u043c\\u0438\\u044f\", \"\\u043b\\u0438\\u0433\\u0430\", \"\\u0438\\u0433\\u0440\\u043e\\u043a\", \"\\u0441\\u0435\\u0437\\u043e\\u043d\", \"\\u0438\\u0433\\u0440\\u0430\\u0442\\u044c\", \"\\u043f\\u043e\\u0431\\u0435\\u0434\\u0430\", \"\\u0445\\u043e\\u0440\\u043e\\u0448\\u0438\\u0439\", \"the\", \"\\u043c\\u0438\\u0440\", \"\\u0440\\u043e\\u043b\\u044c\", \"\\u0432\\u044b\\u0439\\u0442\\u0438\", \"\\u0441\\u0447\\u0451\\u0442\", \"\\u0441\\u0442\\u0430\\u0442\\u044c\", \"\\u0441\\u0432\\u043e\\u0439\", \"\\u0433\\u043b\\u0430\\u0432\\u043d\\u044b\\u0439\", \"\\u043c\\u0438\\u043d\\u0443\\u0442\\u0430\", \"\\u0441\\u043e\\u0441\\u0442\\u043e\\u044f\\u0442\\u044c\\u0441\\u044f\", \"\\u043c\\u0435\\u0441\\u0442\\u043e\", \"\\u0441\\u043e\\u043e\\u0431\\u0449\\u0430\\u0442\\u044c\", \"\\u0433\\u0440\\u0443\\u043f\\u043f\\u0430\", \"\\u0440\\u043e\\u0441\\u0441\\u0438\\u044f\", \"\\u0441\\u0430\\u0439\\u0442\", \"\\u043b\\u0435\\u0442\\u043d\\u0438\\u0439\", \"\\u043f\\u043e\\u043b\\u0443\\u0447\\u0438\\u0442\\u044c\", \"\\u0440\\u043e\\u0441\\u0441\\u0438\\u0439\\u0441\\u043a\\u0438\\u0439\", \"\\u043f\\u0440\\u043e\\u0439\\u0442\\u0438\", \"\\u043d\\u043e\\u0432\\u044b\\u0439\", \"\\u043f\\u043e\\u0441\\u043b\\u0435\\u0434\\u043d\\u0438\\u0439\", \"\\u0441\\u043b\\u043e\\u0432\\u043e\", \"\\u0443\\u0447\\u0451\\u043d\\u044b\\u0439\", \"\\u0438\\u0441\\u0441\\u043b\\u0435\\u0434\\u043e\\u0432\\u0430\\u0442\\u0435\\u043b\\u044c\", \"\\u043e\\u0440\\u0431\\u0438\\u0442\\u0430\", \"\\u043f\\u043e\\u043b\\u0451\\u0442\", \"\\u043b\\u0430\\u0439\\u043d\\u0435\\u0440\", \"\\u043f\\u043e\\u0441\\u0430\\u0434\\u043a\\u0430\", \"\\u043c\\u043a\\u0441\", \"windows\", \"\\u0441\\u043e\\u043b\\u043d\\u0435\\u0447\\u043d\\u044b\\u0439\", \"\\u0441\\u043f\\u0443\\u0442\\u043d\\u0438\\u043a\", \"\\u0445\\u0430\\u043a\\u0435\\u0440\", \"\\u0432\\u0438\\u0440\\u0443\\u0441\", \"\\u0430\\u0441\\u0442\\u0440\\u043e\\u043d\\u0430\\u0432\\u0442\", \"\\u043f\\u0440\\u043e\\u0446\\u0435\\u0441\\u0441\\u043e\\u0440\", \"\\u0433\\u0440\\u0430\\u0434\\u0443\\u0441\", \"nasa\", \"air\", \"\\u0442\\u0435\\u043c\\u043f\\u0435\\u0440\\u0430\\u0442\\u0443\\u0440\\u0430\", \"\\u0442\\u0430\\u043d\\u043a\\u0435\\u0440\", \"\\u0441\\u0435\\u0440\\u0432\\u0435\\u0440\", \"\\u0440\\u0430\\u0441\\u0442\\u0435\\u043d\\u0438\\u0435\", \"\\u0444\\u0430\\u0439\\u043b\", \"\\u043c\\u0430\\u0440\\u0441\", \"ios\", \"\\u043d\\u0430\\u0441\\u0430\", \"\\u0442\\u0435\\u043b\\u0435\\u0441\\u043a\\u043e\\u043f\", \"\\u0447\\u0430\\u0441\\u0442\\u0438\\u0446\\u0430\", \"android\", \"\\u044d\\u043a\\u0441\\u043f\\u0435\\u0434\\u0438\\u0446\\u0438\\u044f\", \"\\u043d\\u0435\\u043f\\u043e\\u043b\\u0430\\u0434\\u043a\\u0430\", \"\\u043a\\u043e\\u0441\\u043c\\u0438\\u0447\\u0435\\u0441\\u043a\\u0438\\u0439\", \"\\u043f\\u0440\\u0438\\u043b\\u043e\\u0436\\u0435\\u043d\\u0438\\u0435\", \"google\", \"\\u0430\\u0432\\u0438\\u0430\\u043a\\u043e\\u043c\\u043f\\u0430\\u043d\\u0438\\u044f\", \"\\u0441\\u0430\\u043c\\u043e\\u043b\\u0451\\u0442\", \"iphone\", \"\\u043a\\u043e\\u0441\\u043c\\u043e\\u0441\", \"ipad\", \"\\u043a\\u043e\\u0440\\u0430\\u0431\\u043b\\u044c\", \"\\u043f\\u043e\\u043b\\u044c\\u0437\\u043e\\u0432\\u0430\\u0442\\u0435\\u043b\\u044c\", \"\\u0431\\u043e\\u0440\\u0442\", \"\\u043a\\u043e\\u043c\\u043f\\u044c\\u044e\\u0442\\u0435\\u0440\", \"apple\", \"\\u0440\\u043e\\u0431\\u043e\\u0442\", \"\\u0436\\u0438\\u0432\\u043e\\u0442\\u043d\\u043e\\u0435\", \"microsoft\", \"\\u0441\\u043c\\u0430\\u0440\\u0442\\u0444\\u043e\\u043d\", \"\\u0440\\u0430\\u0437\\u0440\\u0430\\u0431\\u043e\\u0442\\u0447\\u0438\\u043a\", \"\\u0441\\u0435\\u0440\\u0432\\u0438\\u0441\", \"\\u044d\\u043a\\u0438\\u043f\\u0430\\u0436\", \"\\u0440\\u0435\\u0439\\u0441\", \"\\u043f\\u0442\\u0438\\u0446\\u0430\", \"\\u043f\\u043e\\u0432\\u0435\\u0440\\u0445\\u043d\\u043e\\u0441\\u0442\\u044c\", \"\\u043f\\u0438\\u043b\\u043e\\u0442\", \"\\u0438\\u0441\\u0442\\u0440\\u0435\\u0431\\u0438\\u0442\\u0435\\u043b\\u044c\", \"\\u0432\\u043e\\u0434\\u0430\", \"\\u0440\\u0430\\u043a\\u0435\\u0442\\u0430\", \"\\u0437\\u0430\\u043f\\u0443\\u0441\\u043a\", \"\\u0441\\u043a\\u043e\\u0440\\u043e\\u0441\\u0442\\u044c\", \"\\u0438\\u0441\\u0441\\u043b\\u0435\\u0434\\u043e\\u0432\\u0430\\u043d\\u0438\\u0435\", \"\\u0430\\u043f\\u043f\\u0430\\u0440\\u0430\\u0442\", \"\\u0441\\u0438\\u0441\\u0442\\u0435\\u043c\\u0430\", \"\\u0438\\u043d\\u0442\\u0435\\u0440\\u043d\\u0435\\u0442\", \"\\u0441\\u0435\\u0442\\u044c\", \"\\u043c\\u043e\\u0440\\u0435\", \"\\u043a\\u0438\\u043b\\u043e\\u043c\\u0435\\u0442\\u0440\", \"\\u043d\\u043e\\u0432\\u044b\\u0439\", \"\\u0438\\u0441\\u043f\\u043e\\u043b\\u044c\\u0437\\u043e\\u0432\\u0430\\u0442\\u044c\", \"\\u0441\\u0430\\u0439\\u0442\", \"\\u0443\\u0441\\u0442\\u0440\\u043e\\u0439\\u0441\\u0442\\u0432\\u043e\", \"\\u0440\\u0430\\u0431\\u043e\\u0442\\u0430\", \"\\u043a\\u043e\\u043c\\u043f\\u0430\\u043d\\u0438\\u044f\", \"\\u0441\\u043f\\u0435\\u0446\\u0438\\u0430\\u043b\\u0438\\u0441\\u0442\", \"\\u0430\\u044d\\u0440\\u043e\\u043f\\u043e\\u0440\\u0442\", \"\\u043f\\u043e\\u043c\\u043e\\u0449\\u044c\", \"\\u0430\\u043c\\u0435\\u0440\\u0438\\u043a\\u0430\\u043d\\u0441\\u043a\\u0438\\u0439\", \"\\u0441\\u043e\\u043e\\u0431\\u0449\\u0430\\u0442\\u044c\", \"\\u0441\\u0448\\u0430\", \"\\u0441\\u0432\\u043e\\u0439\", \"\\u0442\\u044b\\u0441\\u044f\\u0447\\u0430\", \"\\u043f\\u043e\\u043b\\u0443\\u0447\\u0438\\u0442\\u044c\", \"\\u0432\\u0435\\u0440\\u0441\\u0438\\u044f\", \"\\u044f\\u0432\\u043b\\u044f\\u0442\\u044c\\u0441\\u044f\", \"\\u043d\\u0430\\u0445\\u043e\\u0434\\u0438\\u0442\\u044c\\u0441\\u044f\", \"\\u0441\\u0442\\u0430\\u0442\\u044c\", \"\\u0441\\u043b\\u043e\\u0432\\u043e\", \"\\u043e\\u0431\\u043d\\u0430\\u0440\\u0443\\u0436\\u0438\\u0442\\u044c\", \"\\u0447\\u0430\\u0441\\u0442\\u044c\"], \"Freq\": [15844.0, 16727.0, 12879.0, 9709.0, 13952.0, 7671.0, 11865.0, 5022.0, 5025.0, 4928.0, 5287.0, 11000.0, 5069.0, 4960.0, 4245.0, 23606.0, 7595.0, 4304.0, 4111.0, 4711.0, 4218.0, 7955.0, 3434.0, 9314.0, 9567.0, 3414.0, 4291.0, 2780.0, 14917.0, 2932.0, 4290.561483522977, 2223.80636848633, 860.1440364447524, 734.9984169047192, 715.7303163399708, 695.365545621296, 658.5959559946356, 693.4002170733429, 638.469380085332, 609.7349543936309, 599.3802319905244, 571.3797975531032, 691.920870871895, 570.5533840563397, 529.6136511956647, 690.4707455950168, 487.26548452877284, 3832.247810655053, 528.8142080219573, 621.1763483767265, 448.5640671111156, 1084.9335990891748, 435.81518433395297, 427.93357783341173, 1479.1068259951105, 405.31108484555284, 389.31159558065167, 381.16593080088643, 380.75270560495125, 632.2885642171317, 1539.876461211472, 1966.0534630110913, 952.2922958655184, 916.9171936947122, 3472.1899393940294, 2315.1363682289307, 13171.174133896611, 1831.5564834968318, 1501.5693049048648, 1637.3801929617712, 4391.464287670698, 7070.420057087078, 1796.7351768787921, 3134.352367561857, 1574.3412135175902, 3535.5940328149045, 7039.317186910746, 1732.6747932985156, 1634.9132385420382, 7988.158978599993, 1659.1940558943345, 4206.884266828669, 2033.1973920356068, 1089.933697750204, 3245.019387928671, 3494.8033930807273, 3986.1423187686446, 3199.7883483033165, 10001.184339954743, 5970.246343820747, 10867.011551067448, 5104.4439262197975, 13582.145481548807, 3235.8835691682534, 3159.880239523315, 5525.937168003919, 3421.3732757630482, 4697.08652806691, 7543.986757419532, 3482.0713344722562, 5997.101258982865, 6346.266514079037, 8082.2527170012645, 4695.75181068404, 4628.700414587328, 4270.756780525222, 5216.868334312753, 3905.7304666047867, 3731.2847936930675, 3809.5360684038933, 3540.1082229196422, 3525.046164527805, 1880.2104441956005, 2392.70393186462, 806.536689556268, 816.2994949135392, 677.1602738232768, 731.1293140404945, 542.3727447660654, 1339.6126872087725, 540.8411894503672, 537.0720272329391, 507.6869145362161, 524.0684806333679, 5060.924118384933, 387.0518564994407, 399.8233483948351, 1006.9125591400697, 426.1208753808279, 818.0684642306453, 404.31145890286206, 347.80443320487575, 399.20278763041125, 1726.6215833523333, 338.8617149613528, 426.41248420076107, 328.4188520425883, 336.32261176618823, 737.367707973677, 319.1129625984567, 325.2762690517154, 273.36537092734113, 4938.004882013269, 3093.108939406147, 1655.5432016695725, 2429.28403006128, 4628.798537357678, 1207.3920035912165, 2214.900218526224, 1198.7424990908617, 819.4927189643455, 2115.184503736882, 974.0662002122932, 1990.3783361903384, 1313.191179902875, 2660.2047413351625, 2605.9633800361753, 1490.0868506023753, 2504.8348742505264, 914.3138191177062, 2130.3131979743584, 1870.253041896084, 3551.2299206204034, 2395.1042091999557, 1456.5318034289667, 1815.1810181856038, 1848.6258988426662, 3350.321961665508, 2176.9169588726663, 2361.590890030657, 2361.9389290979075, 5333.7587755896675, 3162.0245723923535, 2160.6492276878266, 3855.1870199237624, 4996.392447852538, 7227.532426044363, 5827.8155929591, 2648.02268615717, 5175.394121748497, 8439.259556568097, 4882.460323047451, 3772.1602140310774, 4507.082534862778, 4491.845393669564, 3289.6799372305413, 2909.878522060676, 4108.823126841776, 2810.6486404620478, 2750.4138079792783, 3424.6968556729857, 3599.750418410813, 3394.7123041479854, 3368.9404468401463, 3096.536367611891, 2937.2796057268015, 3171.6710781337733, 2972.1752223509416, 2896.4918573574328, 2916.9223008644003, 873.5424970823734, 872.5915513935886, 730.3394887920283, 730.5303962230759, 995.1726858098228, 677.350899464929, 563.0374607499373, 2270.816140069187, 813.6698594867273, 552.8219775284056, 478.6208347017897, 447.8686933101597, 476.30513176100146, 537.4526000200706, 436.86262104483245, 439.44273987289364, 420.97075513127044, 556.1922189760477, 698.8935413811382, 399.1529695708517, 717.6508844572712, 4103.163667237732, 386.52845192318466, 632.0716494117403, 973.5950620775164, 389.13968124636153, 343.09579865692143, 1433.3226376870302, 470.15010453991925, 298.2583922622504, 4897.189697786003, 7559.082765434589, 1225.497813805269, 1560.8029987688808, 1157.5718024350022, 4227.929532675286, 909.4252581924968, 1015.7175530460986, 733.1405994129805, 609.5086578836094, 569.9654928219236, 1813.6513789493713, 857.8093553290495, 797.3954790747483, 1846.699213682982, 14587.967319944071, 11831.306926645984, 3046.1079621823706, 8820.363991992266, 2401.7688428592614, 1390.6039632873099, 1861.306687236721, 2380.965949747453, 1301.9961425313522, 1282.0250703639128, 1530.8879489152448, 12702.714973237375, 9084.91980652962, 3935.299084950377, 1742.6073217043122, 2261.3018323695064, 2700.6101954261653, 2016.3166181689107, 2319.1787340355995, 1926.4805158861502, 6549.834796099919, 2451.5570157952648, 2716.698845715879, 3107.264945495418, 2092.5221257730504, 3263.976205392887, 2717.554267725508, 5706.814446628942, 3982.818757076113, 2299.4467509205783, 2221.3277846183464, 3250.481620015252, 3174.310441233309, 2529.088101017379, 2457.551313231986, 2282.9705953933512, 5024.318161182729, 3433.76120683586, 2931.216530305042, 4244.343219053607, 1644.499068234308, 1580.0662823852167, 1468.2354189964506, 1462.3051206481193, 1326.2389301242602, 1293.664675946764, 1164.4015111502022, 1145.7175650633735, 1082.2473152116013, 1042.5131810821981, 961.1346716097651, 928.4029548190493, 1158.9449738619933, 837.6206316083011, 823.7328868624999, 992.1822708232801, 760.925582076791, 723.110935512139, 722.3464179057462, 922.3715874445586, 737.4759201432385, 673.0662501719597, 640.8060515146085, 637.8812750220881, 596.904742564777, 657.832566275256, 2052.7509207598932, 1327.4822439324773, 1082.5012694494333, 869.634611836435, 830.5307859000642, 3305.966380907569, 5014.421086653701, 4011.8943460741816, 1607.2644699937016, 1451.1983304382293, 1622.7622699596718, 1609.7326049078856, 1187.8296592964834, 2047.4975285523435, 2276.5345895146393, 3343.1249942824943, 3529.243605955147, 1546.4579016502048, 2372.5494319818827, 2537.0852291679425, 5163.55612478659, 6217.1864410061735, 2229.4285501936683, 1701.6248564457692, 2188.2603161595657, 3103.951002950103, 4118.586984678323, 2219.337210742982, 3034.7187200308704, 2201.0462803529854, 2032.971236290725, 2395.397806448211, 2436.6043075592474, 1888.0230558049175, 2145.154376502554, 1834.9010291786537, 1766.7717169362047, 2779.2155755248045, 872.31696491066, 609.9907797610505, 1525.5756571426762, 499.92986199909785, 603.609209651358, 395.0865716773538, 432.2071464976876, 390.2246748911397, 889.2067969190789, 336.348390950598, 304.51522685211967, 286.9376193134658, 298.0947209529163, 308.77804912584924, 265.8457334325965, 315.0016175314531, 389.10532402818535, 247.13671014826923, 272.8704486583696, 231.38744389257778, 227.62518877690823, 283.9792135516945, 223.55069449646984, 217.32868969966637, 213.86971677983504, 199.63296213323997, 268.41288952564844, 202.9573874809885, 191.72756838041374, 1362.1299691102495, 799.9217230221936, 934.7176193470457, 1353.0954760692318, 4869.984002575418, 568.9230772141667, 405.15331678000035, 285.08468497356887, 1776.4804328541325, 2469.3883062862706, 1365.2063790769191, 870.8012295649011, 843.4135211088001, 398.3632393933472, 1349.878379918152, 873.0996186785974, 627.7874662660698, 797.9725012662926, 1222.1357105499146, 1038.4534499542433, 901.2962340874325, 495.84143036614245, 530.7546528518247, 754.5385374014883, 971.4412691778291, 1476.1470873905569, 1696.9461006517165, 732.4262519997731, 970.4095190153212, 1488.9309985120308, 1209.4487817816894, 2762.318099206695, 1953.2327792464837, 1818.662660310883, 947.500449455028, 1600.4786186859671, 4143.893493434817, 1570.2385017017114, 2438.145780934279, 1287.1930328572214, 2481.7402753025904, 3461.9475600992664, 1323.2633644628156, 1224.1256247422505, 1599.5007647675418, 1937.7466432569415, 2637.451157371932, 2083.2878136885593, 2340.65195387348, 1902.1938082528388, 1794.773343159433, 1461.2260125961375, 1569.4070478961519, 1523.8868052077582, 1562.9059871880102, 1464.013791960543, 1392.3177341554108, 1400.9178142032933], \"Total\": [15844.0, 16727.0, 12879.0, 9709.0, 13952.0, 7671.0, 11865.0, 5022.0, 5025.0, 4928.0, 5287.0, 11000.0, 5069.0, 4960.0, 4245.0, 23606.0, 7595.0, 4304.0, 4111.0, 4711.0, 4218.0, 7955.0, 3434.0, 9314.0, 9567.0, 3414.0, 4291.0, 2780.0, 14917.0, 2932.0, 4291.5937067875175, 2225.638827679246, 860.9620871683416, 735.8099012361828, 716.5595285673581, 696.1779218616799, 659.4151442544589, 694.2663816539285, 639.2984309535691, 610.5464179637517, 600.2041433119392, 572.1993018122535, 692.9134295675227, 571.4345722872636, 530.4317583354626, 691.57518730698, 488.07585940041207, 3838.6303856976333, 529.6976085185664, 622.2447196734405, 449.3689350859541, 1086.9004060404945, 436.61961590101345, 428.74703642049997, 1482.0032157265055, 406.1202352301202, 390.1244698948505, 381.9794483131646, 381.5675098075353, 633.6482592471416, 1549.1489096643697, 1983.2846244225746, 956.5573737459308, 921.6849118691189, 3559.581418636604, 2360.858786561107, 13952.557114170511, 1865.042554249828, 1528.3276106407352, 1670.1338977699972, 4604.961213077804, 7595.513900881502, 1856.5041188722043, 3320.8884493604196, 1624.719613683288, 3777.901367953032, 7955.852683942895, 1830.684068823926, 1736.619314443756, 9567.456232869068, 1768.9818711485607, 4901.29491880822, 2243.8474604839967, 1135.9764181538749, 3847.683729465973, 4187.712823783545, 4927.7557502470045, 3874.6965283602462, 14917.123862805372, 8231.661566084149, 17089.179472594486, 6926.541841629453, 23606.782556010214, 4057.538547625413, 3958.3894857108953, 8275.090139165623, 4474.478686279564, 7403.80002231029, 14876.792956360889, 5025.003834346617, 11962.713143495666, 14131.901124475762, 21839.984008138672, 9314.0787016187, 9884.664911581984, 8405.604089389899, 23586.476474164414, 8199.744193746099, 9724.155842477136, 12746.422115152265, 6832.645860474399, 11000.063208282698, 1881.067758373233, 2394.600744472258, 807.351926496365, 817.1557879221713, 677.9867868384775, 732.0390249911322, 543.186752489206, 1341.6361953493586, 541.7196459179165, 537.9448732970254, 508.5226306386295, 524.9905876477843, 5069.909200090815, 387.8655525534055, 400.6974775242878, 1009.1179336091892, 427.0730678575106, 819.930807489606, 405.2675994808825, 348.62877174100987, 400.15480853854723, 1730.7610627165072, 339.6823809830322, 427.44614104870055, 329.2302341289619, 337.21383501095664, 739.328853392352, 320.0196907501767, 326.28717800912915, 274.221787878211, 4960.497296167069, 3105.4661250011895, 1661.2942385426552, 2453.7671309081047, 4711.734049070257, 1214.0652357377685, 2242.8302184377635, 1206.8014283269274, 822.0896133712437, 2144.412356743967, 981.2493207463463, 2020.573573642824, 1328.401377406598, 2712.03753737518, 2665.6883065806473, 1514.657788115227, 2581.2958254040827, 923.1781091476269, 2192.9954515564636, 1925.0726469771394, 3764.2389646257734, 2503.4789172091, 1492.626761774338, 1879.1978712970663, 1917.8847695036009, 3663.5789044856706, 2340.019681970492, 2567.6284408318825, 2584.0621854828905, 6535.436713225083, 3626.9141124103603, 2348.659883371171, 4728.101632492796, 6526.8378441783225, 11000.063208282698, 8694.11789858753, 3163.546641707703, 8516.227995576923, 23586.476474164414, 9676.693900999795, 6238.904627508139, 8816.503920065674, 9314.0787016187, 5470.810675269307, 4390.615971231352, 9858.872930649912, 4173.059322026842, 4035.5377009495087, 8304.367408582675, 11003.761079597713, 9210.540537937482, 9724.155842477136, 7564.1348756279485, 6058.359768102518, 14131.901124475762, 7946.977705945966, 9884.664911581984, 21839.984008138672, 874.3787737543669, 873.496704304996, 731.1525760265081, 731.3970315395579, 996.4334019343978, 678.2133550661046, 563.8816842677998, 2274.3356615669163, 814.9340286117524, 553.7674205706426, 479.4404405187518, 448.67252349581224, 477.17439703133397, 538.4368298827153, 437.67426612399925, 440.26077606383416, 421.78336292962433, 557.2696539013535, 700.2859656345532, 399.9557164336614, 719.1108547040209, 4111.752190393542, 387.36913429696904, 633.4972315135198, 975.8196290955601, 390.0540877665219, 343.90981088921455, 1436.8287087810363, 471.36651919398764, 299.0620523753661, 4928.042262540604, 7671.523470423207, 1228.8836694973709, 1569.229751424172, 1161.210748380482, 4304.2936589364945, 914.9235159301188, 1023.3464983554874, 736.6962250813713, 611.5033344825558, 571.5749046853009, 1852.2593147015405, 865.979377481471, 804.2616774991345, 1894.9979818749262, 15844.884199354714, 12879.932226513452, 3182.3989960760114, 9709.512019211135, 2510.850669801069, 1428.8305448989606, 1956.6731374664694, 2551.0347484728686, 1347.6490720317463, 1329.4968623737823, 1624.5126947743306, 16727.72575749375, 11865.950802809639, 4762.16604317058, 1912.0787759637458, 2583.775021220589, 3184.7812530765977, 2268.287269115029, 2695.749469083634, 2247.178548433609, 13387.315730856972, 3412.3039874877823, 4032.0306115205585, 5363.285168536789, 2792.0779198639657, 6203.200550460883, 4477.583529435839, 23606.782556010214, 14876.792956360889, 3780.9075657745625, 3673.8721360187305, 14917.123862805372, 23586.476474164414, 15063.117468467208, 12746.422115152265, 21839.984008138672, 5025.169640740985, 3434.579017072823, 2932.065358732026, 4245.992853662984, 1645.3171685238776, 1580.9154945905857, 1469.0436666788864, 1463.1155750213666, 1327.0599980876545, 1294.475800335043, 1165.2207677310548, 1146.5608787166145, 1083.0592270623033, 1043.3287727341974, 961.9416390980908, 929.2647285150247, 1160.0267553309147, 838.4289905129481, 824.5356536579478, 993.2585863682199, 761.7557594113185, 723.9146801126436, 723.1530227709711, 923.4480007688503, 738.3530420378535, 673.8694720257033, 641.6136967718301, 638.7052720310071, 597.717392129676, 658.7351065338561, 2062.4286575163846, 1329.503868830319, 1086.0084582294267, 871.6084922520943, 832.2840140883825, 3414.6330691395233, 5287.536473720652, 4218.783052513037, 1654.9489411845614, 1492.660984523506, 1693.1434830927044, 1716.049157578988, 1273.696714200364, 2551.2221244783445, 3096.4902827434294, 5283.250756290272, 5829.269891847479, 1885.954478386623, 3713.2284175742225, 4123.572982536299, 15063.117468467208, 21839.984008138672, 3767.7532553888473, 2411.1985735294957, 4096.726461436273, 9210.540537937482, 23586.476474164414, 6168.3001536058055, 23606.782556010214, 7412.118617773773, 5470.810675269307, 11003.761079597713, 14876.792956360889, 4446.866655063743, 12746.422115152265, 6359.912477700954, 14131.901124475762, 2780.183349021596, 873.2017095525935, 610.8333822044208, 1528.090552847315, 500.82863643430636, 604.7861585569598, 395.8963818348642, 433.09915725034926, 391.1519829525607, 891.3532230694354, 337.2114252150936, 305.3615553944598, 287.752036556899, 298.95610006132296, 309.6883166161017, 266.6409863800437, 315.9705617877406, 390.35392549406924, 247.94170184674604, 273.8235834947647, 232.19777648841534, 228.43802813277745, 284.9999558653623, 224.35927364803646, 218.1222796171821, 214.66293429790545, 200.42808257582146, 269.54720004247946, 203.81629436278592, 192.54716926153282, 1370.2120785109335, 804.1494278259665, 941.1746947310094, 1368.5914552007252, 5022.2856153387465, 574.2011494289184, 408.032597182733, 286.58440882073864, 1821.5964860738168, 2559.0496861769357, 1401.6072714693705, 889.4723809784583, 862.3189396865247, 402.27970907106, 1405.7573086350574, 898.5802986491677, 640.1021933452336, 822.4006229064498, 1276.4215631737954, 1082.5584271600017, 938.8803640597243, 507.85981326335343, 549.564109157205, 815.742924783359, 1092.617187082882, 1805.095015195784, 2155.4469515922906, 804.0924346397089, 1146.0798490070033, 2049.834846921047, 1559.4427856835161, 4861.144136614756, 3227.1159116436324, 2954.576345956248, 1167.6297491061941, 2689.4101151668865, 12746.422115152265, 2931.5402684742285, 7412.118617773773, 2042.6213539268124, 8140.467583144986, 16727.72575749375, 2297.43560768722, 1987.9696017620836, 4374.857985412437, 7479.593077599281, 23586.476474164414, 11962.713143495666, 21839.984008138672, 13387.315730856972, 11003.761079597713, 3894.940534116955, 8320.21212582079, 8516.227995576923, 15063.117468467208, 14131.901124475762, 3720.552476562305, 6587.393795259432], \"Category\": [\"Default\", \"Default\", \"Default\", \"Default\", \"Default\", \"Default\", \"Default\", \"Default\", \"Default\", \"Default\", \"Default\", \"Default\", \"Default\", \"Default\", \"Default\", \"Default\", \"Default\", \"Default\", \"Default\", \"Default\", \"Default\", \"Default\", \"Default\", \"Default\", \"Default\", \"Default\", \"Default\", \"Default\", \"Default\", \"Default\", \"Topic1\", \"Topic1\", \"Topic1\", \"Topic1\", \"Topic1\", \"Topic1\", \"Topic1\", \"Topic1\", \"Topic1\", \"Topic1\", \"Topic1\", \"Topic1\", \"Topic1\", \"Topic1\", \"Topic1\", \"Topic1\", \"Topic1\", \"Topic1\", \"Topic1\", \"Topic1\", \"Topic1\", \"Topic1\", \"Topic1\", \"Topic1\", \"Topic1\", \"Topic1\", \"Topic1\", \"Topic1\", \"Topic1\", \"Topic1\", \"Topic1\", \"Topic1\", \"Topic1\", \"Topic1\", \"Topic1\", \"Topic1\", \"Topic1\", \"Topic1\", \"Topic1\", \"Topic1\", \"Topic1\", \"Topic1\", \"Topic1\", \"Topic1\", \"Topic1\", \"Topic1\", \"Topic1\", \"Topic1\", \"Topic1\", \"Topic1\", \"Topic1\", \"Topic1\", \"Topic1\", \"Topic1\", \"Topic1\", \"Topic1\", \"Topic1\", \"Topic1\", \"Topic1\", \"Topic1\", \"Topic1\", \"Topic1\", \"Topic1\", \"Topic1\", \"Topic1\", \"Topic1\", \"Topic1\", \"Topic1\", \"Topic1\", \"Topic1\", \"Topic1\", \"Topic1\", \"Topic1\", \"Topic1\", \"Topic1\", \"Topic1\", \"Topic1\", \"Topic1\", \"Topic1\", \"Topic1\", \"Topic1\", \"Topic1\", \"Topic2\", \"Topic2\", \"Topic2\", \"Topic2\", \"Topic2\", \"Topic2\", \"Topic2\", \"Topic2\", \"Topic2\", \"Topic2\", \"Topic2\", \"Topic2\", \"Topic2\", \"Topic2\", \"Topic2\", \"Topic2\", \"Topic2\", \"Topic2\", \"Topic2\", \"Topic2\", \"Topic2\", \"Topic2\", \"Topic2\", \"Topic2\", \"Topic2\", \"Topic2\", \"Topic2\", \"Topic2\", \"Topic2\", \"Topic2\", \"Topic2\", \"Topic2\", \"Topic2\", \"Topic2\", \"Topic2\", \"Topic2\", \"Topic2\", \"Topic2\", \"Topic2\", \"Topic2\", \"Topic2\", \"Topic2\", \"Topic2\", \"Topic2\", \"Topic2\", \"Topic2\", \"Topic2\", \"Topic2\", \"Topic2\", \"Topic2\", \"Topic2\", \"Topic2\", \"Topic2\", \"Topic2\", \"Topic2\", \"Topic2\", \"Topic2\", \"Topic2\", \"Topic2\", \"Topic2\", \"Topic2\", \"Topic2\", \"Topic2\", \"Topic2\", \"Topic2\", \"Topic2\", \"Topic2\", \"Topic2\", \"Topic2\", \"Topic2\", \"Topic2\", \"Topic2\", \"Topic2\", \"Topic2\", \"Topic2\", \"Topic2\", \"Topic2\", \"Topic2\", \"Topic2\", \"Topic2\", \"Topic2\", \"Topic2\", \"Topic2\", \"Topic2\", \"Topic2\", \"Topic2\", \"Topic2\", \"Topic2\", \"Topic3\", \"Topic3\", \"Topic3\", \"Topic3\", \"Topic3\", \"Topic3\", \"Topic3\", \"Topic3\", \"Topic3\", \"Topic3\", \"Topic3\", \"Topic3\", \"Topic3\", \"Topic3\", \"Topic3\", \"Topic3\", \"Topic3\", \"Topic3\", \"Topic3\", \"Topic3\", \"Topic3\", \"Topic3\", \"Topic3\", \"Topic3\", \"Topic3\", \"Topic3\", \"Topic3\", \"Topic3\", \"Topic3\", \"Topic3\", \"Topic3\", \"Topic3\", \"Topic3\", \"Topic3\", \"Topic3\", \"Topic3\", \"Topic3\", \"Topic3\", \"Topic3\", \"Topic3\", \"Topic3\", \"Topic3\", \"Topic3\", \"Topic3\", \"Topic3\", \"Topic3\", \"Topic3\", \"Topic3\", \"Topic3\", \"Topic3\", \"Topic3\", \"Topic3\", \"Topic3\", \"Topic3\", \"Topic3\", \"Topic3\", \"Topic3\", \"Topic3\", \"Topic3\", \"Topic3\", \"Topic3\", \"Topic3\", \"Topic3\", \"Topic3\", \"Topic3\", \"Topic3\", \"Topic3\", \"Topic3\", \"Topic3\", \"Topic3\", \"Topic3\", \"Topic3\", \"Topic3\", \"Topic3\", \"Topic3\", \"Topic3\", \"Topic3\", \"Topic3\", \"Topic3\", \"Topic3\", \"Topic3\", \"Topic4\", \"Topic4\", \"Topic4\", \"Topic4\", \"Topic4\", \"Topic4\", \"Topic4\", \"Topic4\", \"Topic4\", \"Topic4\", \"Topic4\", \"Topic4\", \"Topic4\", \"Topic4\", \"Topic4\", \"Topic4\", \"Topic4\", \"Topic4\", \"Topic4\", \"Topic4\", \"Topic4\", \"Topic4\", \"Topic4\", \"Topic4\", \"Topic4\", \"Topic4\", \"Topic4\", \"Topic4\", \"Topic4\", \"Topic4\", \"Topic4\", \"Topic4\", \"Topic4\", \"Topic4\", \"Topic4\", \"Topic4\", \"Topic4\", \"Topic4\", \"Topic4\", \"Topic4\", \"Topic4\", \"Topic4\", \"Topic4\", \"Topic4\", \"Topic4\", \"Topic4\", \"Topic4\", \"Topic4\", \"Topic4\", \"Topic4\", \"Topic4\", \"Topic4\", \"Topic4\", \"Topic4\", \"Topic4\", \"Topic4\", \"Topic4\", \"Topic4\", \"Topic4\", \"Topic4\", \"Topic4\", \"Topic4\", \"Topic4\", \"Topic4\", \"Topic4\", \"Topic4\", \"Topic4\", \"Topic5\", \"Topic5\", \"Topic5\", \"Topic5\", \"Topic5\", \"Topic5\", \"Topic5\", \"Topic5\", \"Topic5\", \"Topic5\", \"Topic5\", \"Topic5\", \"Topic5\", \"Topic5\", \"Topic5\", \"Topic5\", \"Topic5\", \"Topic5\", \"Topic5\", \"Topic5\", \"Topic5\", \"Topic5\", \"Topic5\", \"Topic5\", \"Topic5\", \"Topic5\", \"Topic5\", \"Topic5\", \"Topic5\", \"Topic5\", \"Topic5\", \"Topic5\", \"Topic5\", \"Topic5\", \"Topic5\", \"Topic5\", \"Topic5\", \"Topic5\", \"Topic5\", \"Topic5\", \"Topic5\", \"Topic5\", \"Topic5\", \"Topic5\", \"Topic5\", \"Topic5\", \"Topic5\", \"Topic5\", \"Topic5\", \"Topic5\", \"Topic5\", \"Topic5\", \"Topic5\", \"Topic5\", \"Topic5\", \"Topic5\", \"Topic5\", \"Topic5\", \"Topic5\", \"Topic5\", \"Topic5\", \"Topic5\", \"Topic5\", \"Topic5\", \"Topic5\", \"Topic5\", \"Topic5\", \"Topic5\", \"Topic5\", \"Topic5\", \"Topic5\", \"Topic5\", \"Topic5\", \"Topic5\", \"Topic5\", \"Topic5\", \"Topic5\", \"Topic5\", \"Topic5\", \"Topic5\", \"Topic5\", \"Topic5\", \"Topic5\", \"Topic5\", \"Topic5\", \"Topic5\", \"Topic5\", \"Topic5\"], \"logprob\": [30.0, 29.0, 28.0, 27.0, 26.0, 25.0, 24.0, 23.0, 22.0, 21.0, 20.0, 19.0, 18.0, 17.0, 16.0, 15.0, 14.0, 13.0, 12.0, 11.0, 10.0, 9.0, 8.0, 7.0, 6.0, 5.0, 4.0, 3.0, 2.0, 1.0, -5.6885, -6.3457, -7.2956, -7.4529, -7.4794, -7.5083, -7.5626, -7.5111, -7.5936, -7.6397, -7.6568, -7.7047, -7.5132, -7.7061, -7.7806, -7.5153, -7.8639, -5.8015, -7.7821, -7.6211, -7.9467, -7.0634, -7.9755, -7.9938, -6.7535, -8.0481, -8.0883, -8.1095, -8.1106, -7.6034, -6.7133, -6.4689, -7.1938, -7.2317, -5.9002, -6.3055, -4.5669, -6.5398, -6.7385, -6.6519, -5.6653, -5.189, -6.559, -6.0025, -6.6911, -5.8821, -5.1935, -6.5953, -6.6534, -5.067, -6.6386, -5.7082, -6.4354, -7.0588, -5.9678, -5.8937, -5.7621, -5.9819, -4.8423, -5.3582, -4.7592, -5.5149, -4.5362, -5.9707, -5.9944, -5.4355, -5.9149, -5.598, -5.1242, -5.8973, -5.3537, -5.2971, -5.0553, -5.5983, -5.6127, -5.6932, -5.4931, -5.7825, -5.8282, -5.8075, -5.8808, -5.8851, -6.261, -6.0199, -7.1074, -7.0953, -7.2822, -7.2055, -7.5042, -6.6, -7.507, -7.514, -7.5703, -7.5385, -5.2708, -7.8416, -7.8091, -6.8855, -7.7454, -7.0932, -7.7979, -7.9485, -7.8107, -6.3462, -7.9745, -7.7447, -8.0058, -7.982, -7.197, -8.0346, -8.0154, -8.1893, -5.2954, -5.7632, -6.3882, -6.0048, -5.3601, -6.7039, -6.0972, -6.7111, -7.0914, -6.1432, -6.9186, -6.204, -6.6199, -5.914, -5.9346, -6.4935, -5.9741, -6.9819, -6.1361, -6.2663, -5.6251, -6.0189, -6.5163, -6.2962, -6.2779, -5.6833, -6.1145, -6.033, -6.0329, -5.2183, -5.7412, -6.122, -5.5429, -5.2836, -4.9145, -5.1297, -5.9186, -5.2484, -4.7595, -5.3067, -5.5647, -5.3867, -5.3901, -5.7016, -5.8243, -5.4792, -5.8589, -5.8806, -5.6614, -5.6115, -5.6701, -5.6778, -5.7621, -5.8149, -5.7381, -5.8031, -5.8289, -5.8218, -6.8214, -6.8225, -7.0005, -7.0002, -6.6911, -7.0758, -7.2607, -5.8661, -6.8924, -7.279, -7.4231, -7.4895, -7.4279, -7.3072, -7.5144, -7.5085, -7.5514, -7.2729, -7.0445, -7.6047, -7.018, -5.2745, -7.6368, -7.145, -6.713, -7.6301, -7.756, -6.3263, -7.441, -7.896, -5.0976, -4.6635, -6.4829, -6.241, -6.5399, -5.2445, -6.7812, -6.6707, -6.9967, -7.1814, -7.2484, -6.0909, -6.8396, -6.9127, -6.0728, -4.0061, -4.2155, -5.5724, -4.5092, -5.81, -6.3565, -6.065, -5.8187, -6.4224, -6.4378, -6.2604, -4.1444, -4.4796, -5.3163, -6.1309, -5.8703, -5.6928, -5.985, -5.845, -6.0306, -4.8068, -5.7895, -5.6868, -5.5525, -5.9479, -5.5033, -5.6865, -4.9446, -5.3043, -5.8536, -5.8881, -5.5074, -5.5312, -5.7584, -5.7871, -5.8608, -5.0532, -5.4338, -5.592, -5.2219, -6.17, -6.21, -6.2834, -6.2874, -6.3851, -6.41, -6.5152, -6.5314, -6.5884, -6.6258, -6.7071, -6.7417, -6.5199, -6.8446, -6.8614, -6.6753, -6.9407, -6.9916, -6.9927, -6.7483, -6.972, -7.0634, -7.1125, -7.1171, -7.1835, -7.0863, -5.9483, -6.3842, -6.5882, -6.8071, -6.8531, -5.4717, -5.0551, -5.2782, -6.1929, -6.2951, -6.1833, -6.1914, -6.4953, -5.9508, -5.8448, -5.4605, -5.4064, -6.2315, -5.8035, -5.7364, -5.0258, -4.8401, -5.8657, -6.1359, -5.8843, -5.5348, -5.2519, -5.8702, -5.5573, -5.8785, -5.958, -5.7939, -5.7768, -6.0319, -5.9042, -6.0605, -6.0983, -5.475, -6.6338, -6.9915, -6.0748, -7.1905, -7.002, -7.4258, -7.336, -7.4382, -6.6146, -7.5868, -7.6862, -7.7457, -7.7075, -7.6723, -7.822, -7.6524, -7.4411, -7.895, -7.7959, -7.9608, -7.9772, -7.756, -7.9953, -8.0235, -8.0396, -8.1085, -7.8124, -8.0919, -8.1489, -6.1881, -6.7204, -6.5647, -6.1948, -4.9141, -7.0612, -7.4007, -7.7522, -5.9226, -5.5932, -6.1859, -6.6355, -6.6675, -7.4176, -6.1972, -6.6329, -6.9627, -6.7229, -6.2966, -6.4595, -6.6011, -7.1987, -7.1306, -6.7788, -6.5262, -6.1078, -5.9684, -6.8086, -6.5272, -6.0991, -6.307, -5.4811, -5.8277, -5.8991, -6.5511, -6.0269, -5.0756, -6.046, -5.606, -6.2447, -5.5882, -5.2554, -6.2171, -6.295, -6.0275, -5.8357, -5.5274, -5.7632, -5.6468, -5.8542, -5.9123, -6.1179, -6.0465, -6.0759, -6.0506, -6.116, -6.1662, -6.1601], \"loglift\": [30.0, 29.0, 28.0, 27.0, 26.0, 25.0, 24.0, 23.0, 22.0, 21.0, 20.0, 19.0, 18.0, 17.0, 16.0, 15.0, 14.0, 13.0, 12.0, 11.0, 10.0, 9.0, 8.0, 7.0, 6.0, 5.0, 4.0, 3.0, 2.0, 1.0, 1.2674, 1.2668, 1.2667, 1.2665, 1.2665, 1.2665, 1.2664, 1.2664, 1.2663, 1.2663, 1.2663, 1.2662, 1.2662, 1.2661, 1.2661, 1.266, 1.266, 1.266, 1.266, 1.2659, 1.2658, 1.2658, 1.2658, 1.2657, 1.2657, 1.2656, 1.2655, 1.2655, 1.2655, 1.2655, 1.2616, 1.2589, 1.2632, 1.2624, 1.2428, 1.2481, 1.21, 1.2495, 1.25, 1.2478, 1.2202, 1.196, 1.2349, 1.2098, 1.2361, 1.2013, 1.1452, 1.2126, 1.2073, 1.0872, 1.2036, 1.1148, 1.169, 1.2263, 1.0973, 1.0867, 1.0556, 1.0762, 0.8678, 0.9464, 0.8149, 0.9624, 0.7148, 1.0414, 1.0423, 0.8638, 0.9993, 0.8126, 0.5886, 0.9008, 0.5771, 0.4671, 0.2736, 0.5828, 0.5089, 0.5905, -0.2412, 0.526, 0.3098, 0.0599, 0.6101, 0.1296, 1.5198, 1.5194, 1.5192, 1.5192, 1.519, 1.519, 1.5187, 1.5187, 1.5186, 1.5186, 1.5186, 1.5185, 1.5185, 1.5181, 1.518, 1.518, 1.518, 1.518, 1.5179, 1.5179, 1.5178, 1.5178, 1.5178, 1.5178, 1.5178, 1.5176, 1.5176, 1.5174, 1.5171, 1.5171, 1.5157, 1.5162, 1.5168, 1.5102, 1.5025, 1.5147, 1.5077, 1.5135, 1.5171, 1.5065, 1.5129, 1.5052, 1.5087, 1.5009, 1.4976, 1.5039, 1.4902, 1.5106, 1.4912, 1.4913, 1.462, 1.476, 1.4957, 1.4856, 1.4834, 1.4308, 1.448, 1.4366, 1.4303, 1.317, 1.3831, 1.4368, 1.3161, 1.253, 1.1002, 1.1202, 1.3423, 1.0222, 0.4924, 0.8362, 1.0171, 0.8492, 0.791, 1.0116, 1.1089, 0.645, 1.125, 1.1368, 0.6345, 0.4029, 0.5221, 0.4602, 0.6271, 0.7963, 0.026, 0.5367, 0.2927, -0.493, 1.7254, 1.7253, 1.7252, 1.7252, 1.7251, 1.7251, 1.7248, 1.7248, 1.7248, 1.7246, 1.7246, 1.7245, 1.7245, 1.7245, 1.7245, 1.7245, 1.7244, 1.7244, 1.7244, 1.7243, 1.7243, 1.7243, 1.7242, 1.7241, 1.7241, 1.724, 1.724, 1.7239, 1.7238, 1.7237, 1.7201, 1.7116, 1.7236, 1.721, 1.7232, 1.7084, 1.7203, 1.7189, 1.7215, 1.7231, 1.7235, 1.7053, 1.7169, 1.7178, 1.7005, 1.6437, 1.6414, 1.6826, 1.6303, 1.6819, 1.6992, 1.6764, 1.6573, 1.6919, 1.69, 1.667, 1.4511, 1.4593, 1.5356, 1.6335, 1.593, 1.5614, 1.6086, 1.5759, 1.5724, 1.0115, 1.3957, 1.3315, 1.1805, 1.4379, 1.0842, 1.227, 0.3065, 0.4085, 1.229, 1.2232, 0.2026, -0.2792, -0.058, 0.0803, -0.5319, 1.745, 1.7449, 1.7448, 1.7447, 1.7446, 1.7446, 1.7446, 1.7446, 1.7445, 1.7445, 1.7444, 1.7444, 1.7444, 1.7444, 1.7443, 1.7442, 1.7442, 1.7442, 1.7442, 1.7441, 1.744, 1.744, 1.744, 1.744, 1.7439, 1.7439, 1.7439, 1.7438, 1.7438, 1.7438, 1.7404, 1.7436, 1.7419, 1.7429, 1.743, 1.7128, 1.6921, 1.6949, 1.7159, 1.717, 1.7027, 1.6812, 1.6753, 1.5252, 1.4375, 1.2875, 1.2433, 1.5467, 1.2972, 1.2594, 0.6745, 0.4887, 1.2204, 1.3966, 1.1181, 0.6575, -0.0, 0.7229, -0.3063, 0.531, 0.7552, 0.2204, -0.0641, 0.8885, -0.0369, 0.5021, -0.3341, 1.9151, 1.9144, 1.914, 1.9138, 1.9136, 1.9135, 1.9134, 1.9133, 1.913, 1.913, 1.9128, 1.9126, 1.9126, 1.9125, 1.9125, 1.9124, 1.9123, 1.9122, 1.9122, 1.9119, 1.9119, 1.9118, 1.9118, 1.9118, 1.9118, 1.9117, 1.9114, 1.9112, 1.9112, 1.9111, 1.9095, 1.9101, 1.9085, 1.904, 1.8846, 1.9062, 1.9083, 1.9102, 1.8903, 1.8797, 1.8891, 1.8942, 1.8932, 1.9056, 1.8748, 1.8866, 1.896, 1.8852, 1.8719, 1.8738, 1.8745, 1.8915, 1.8806, 1.8374, 1.7979, 1.7142, 1.6762, 1.8221, 1.749, 1.5957, 1.6612, 1.3502, 1.4133, 1.4301, 1.7065, 1.3964, 0.7918, 1.2911, 0.8035, 1.4536, 0.7275, 0.3402, 1.3637, 1.4305, 0.9092, 0.5647, -0.2755, 0.1676, -0.3179, -0.0359, 0.102, 0.935, 0.2474, 0.1947, -0.3503, -0.3519, 0.9325, 0.3674]}, \"token.table\": {\"Topic\": [5, 3, 5, 3, 5, 3, 5, 5, 3, 5, 3, 5, 3, 5, 5, 1, 2, 3, 4, 5, 5, 1, 3, 5, 1, 2, 4, 5, 1, 2, 3, 4, 5, 4, 4, 1, 2, 3, 4, 5, 1, 2, 3, 4, 4, 1, 2, 3, 4, 5, 1, 2, 3, 5, 1, 2, 3, 5, 5, 1, 2, 3, 4, 5, 1, 2, 3, 5, 3, 3, 5, 1, 2, 3, 4, 1, 2, 4, 5, 1, 2, 5, 1, 3, 4, 5, 3, 3, 3, 1, 2, 3, 4, 5, 1, 2, 2, 2, 5, 2, 3, 2, 5, 1, 2, 3, 4, 5, 1, 2, 3, 4, 5, 1, 2, 3, 4, 5, 1, 2, 5, 1, 2, 3, 4, 5, 1, 2, 5, 1, 2, 3, 4, 5, 3, 1, 1, 2, 3, 4, 5, 1, 3, 4, 5, 1, 3, 2, 1, 2, 3, 4, 5, 1, 2, 3, 4, 5, 3, 4, 1, 2, 3, 4, 5, 1, 3, 1, 2, 3, 4, 5, 5, 1, 2, 3, 1, 2, 3, 4, 5, 2, 1, 2, 3, 4, 5, 1, 2, 3, 4, 5, 1, 1, 2, 3, 5, 1, 1, 2, 3, 4, 5, 1, 2, 3, 4, 5, 1, 2, 3, 4, 5, 1, 2, 3, 4, 5, 1, 3, 5, 1, 2, 3, 4, 5, 1, 1, 3, 4, 5, 2, 1, 1, 2, 3, 4, 5, 2, 4, 5, 1, 2, 3, 1, 2, 3, 4, 5, 1, 2, 1, 2, 1, 2, 3, 4, 5, 1, 3, 1, 3, 5, 1, 2, 3, 4, 2, 1, 2, 3, 4, 5, 1, 2, 3, 4, 5, 3, 4, 5, 1, 2, 3, 4, 5, 3, 4, 1, 1, 2, 1, 3, 1, 3, 3, 5, 1, 2, 3, 4, 5, 3, 1, 2, 3, 4, 5, 1, 2, 4, 5, 3, 1, 2, 3, 4, 5, 1, 3, 4, 5, 5, 1, 3, 5, 2, 1, 3, 4, 5, 1, 3, 4, 5, 1, 4, 2, 3, 5, 1, 2, 3, 4, 1, 2, 3, 4, 5, 1, 2, 3, 4, 1, 3, 1, 2, 4, 5, 1, 2, 3, 4, 5, 2, 3, 4, 5, 1, 1, 3, 3, 1, 3, 5, 1, 3, 5, 3, 4, 5, 1, 1, 3, 3, 5, 3, 1, 2, 3, 4, 5, 1, 3, 4, 3, 5, 1, 2, 3, 4, 5, 1, 2, 4, 1, 2, 3, 4, 5, 1, 1, 5, 4, 1, 2, 1, 2, 3, 4, 5, 1, 2, 3, 4, 5, 3, 1, 2, 2, 1, 2, 1, 3, 5, 1, 2, 3, 4, 5, 1, 2, 3, 4, 5, 1, 2, 3, 4, 5, 1, 2, 3, 4, 5, 5, 3, 1, 2, 3, 4, 5, 1, 2, 3, 4, 5, 1, 2, 4, 5, 4, 1, 2, 4, 1, 2, 3, 4, 5, 5, 1, 3, 1, 2, 3, 4, 5, 1, 2, 3, 5, 2, 3, 5, 1, 2, 3, 4, 5, 4, 3, 1, 2, 3, 4, 5, 1, 2, 3, 4, 5, 1, 2, 3, 5, 2, 1, 4, 1, 2, 3, 5, 1, 2, 5, 1, 2, 3, 5, 1, 2, 3, 4, 5, 4, 1, 2, 3, 4, 5, 2, 1, 2, 1, 1, 1, 2, 3, 4, 5, 4, 2, 4, 2, 4, 5, 2, 1, 2, 3, 4, 2, 5, 1, 2, 4, 5, 1, 2, 3, 5, 3, 2, 4, 2, 5, 2, 1, 3, 4, 5, 1, 2, 3, 4, 1, 2, 4, 1, 2, 4, 5, 1, 2, 3, 4, 5, 3, 4, 5, 1, 3, 5, 1, 2, 3, 4, 5, 1, 5, 1, 2, 3, 4, 5, 1, 2, 3, 5, 1, 2, 3, 4, 5, 2, 2, 4, 5, 2, 1, 2, 3, 5, 1, 2, 3, 4, 5, 1, 2, 3, 1, 2, 3, 5, 1, 2, 3, 4, 5, 1, 2, 3, 4, 5, 1, 3, 4, 1, 3, 4, 5, 1, 2, 3, 4, 1, 2, 4, 5, 2, 4, 1, 2, 3, 5, 1, 2, 3, 4, 5, 1, 2, 3, 4, 5, 1, 3, 4, 5, 1, 2, 3, 4, 5, 2, 5, 1, 2, 3, 4, 5, 1, 3, 4, 5, 5, 3, 4, 5, 1, 3, 4, 1, 2, 3, 4, 5, 3, 4, 5, 1, 2, 3, 5, 1, 2, 3, 5, 2, 2, 2, 5, 4, 1, 1, 2, 3, 4, 5, 1, 2, 5, 1, 2, 3, 1, 1, 2, 3, 4, 5, 4, 5, 1, 2, 3, 4, 5, 3, 1, 2, 3, 4, 5, 1, 2, 3, 4, 5, 1, 2, 3, 4, 5, 3, 1, 2, 3, 4, 5, 1, 2, 3, 5, 1, 1, 2, 3, 4, 5, 1, 2, 3, 5, 1, 3, 4, 1, 2, 3, 4, 5, 1, 2, 3, 4, 5, 1, 2, 3, 4, 5, 5, 3, 4, 5, 4, 1, 2, 3, 4, 5, 1, 2, 3, 1, 2, 3, 4, 5, 2, 3, 4, 5, 2, 1, 2, 1, 2, 1, 2, 3, 5, 1, 2, 3, 4, 5, 1, 2, 3, 4, 5, 3, 5, 1, 3, 5, 1, 2, 3, 4, 5, 5, 1, 2, 3, 4, 5, 1, 2, 3, 4, 5, 1, 2, 3, 4, 5, 4, 1, 2, 3, 4, 5, 1, 2, 3, 4, 5, 1, 2, 3, 4, 5, 1, 2, 3, 4, 5, 1, 2, 3, 4, 5, 1, 4, 3, 5, 3, 5, 1, 2, 3, 4, 5, 1, 2, 3, 4, 1, 2, 3, 4, 5, 1, 2, 3, 4, 5, 1, 2, 1, 2, 3, 4, 5, 2, 1, 2, 3, 5, 1, 2, 3, 4, 5, 1, 2, 3, 4, 5, 1, 2, 3, 4, 5, 1, 2, 3, 4, 5, 1, 3, 4, 5, 1, 2, 4, 5, 2, 5, 1, 2, 3, 1, 3, 3, 4, 5, 4, 3, 4, 1, 2, 3, 4, 5, 1, 2, 4, 2, 1, 2, 4, 5, 1, 2, 1, 1, 2, 3, 4, 1, 2, 3, 4, 5, 1, 2, 3, 4, 5, 2, 3, 5, 5, 5, 4, 4, 5, 4, 1, 2, 3, 4, 5, 3, 4, 1, 4, 4, 4, 5, 1, 2, 3, 4, 5, 3, 3, 5, 1, 4, 5, 1, 2, 3, 4, 5, 4, 4, 1, 2, 5, 5, 1, 3, 1, 1, 2, 3, 4, 5, 1], \"Freq\": [0.9969283157828083, 0.0037099253853959692, 0.9942600032861197, 0.020873947180776835, 0.977596526299715, 0.006375012028680625, 0.9934393744693975, 0.9983986681620298, 0.003489373354659743, 0.9944714060780268, 0.00870774989735363, 0.990941938318843, 0.027821664950347123, 0.9715325400661216, 0.9975960695737521, 0.007571096252127678, 0.040316087542579884, 0.058297441141383126, 0.6327543692715707, 0.2610135432921017, 0.9974621117775255, 0.0007306782430943458, 0.010229495403320842, 0.9886076629066499, 0.0012164124004671187, 0.9962417559825701, 0.0012164124004671187, 0.0012164124004671187, 0.24625596380604078, 0.4124335824135402, 0.1983293752511243, 0.04310984598658318, 0.09982698972870797, 0.9988957785979057, 0.9994209085851089, 0.2893748796175641, 0.12622860405998124, 0.5793091178941827, 0.003169699067975895, 0.0018645288635152323, 0.0027979693276484756, 0.9862841879960876, 0.005595938655296951, 0.005129610434022205, 0.9990211057928902, 0.21632192864151484, 0.1504092519911645, 0.1728703669551784, 0.2013478519988389, 0.25910500476344606, 0.16864998345208607, 0.03398649856638997, 0.021802659457684132, 0.7752769201276504, 0.013857451352053341, 0.9848688639495052, 0.0004949089768590478, 0.0004949089768590478, 0.9973865117832093, 0.036720883425629215, 0.3435666216397911, 0.0035211806024575956, 0.0005030258003510851, 0.6157035796297281, 0.0022321237144441734, 0.0038554864158581175, 0.9937008936030106, 0.00020292033767674303, 0.9995668081548452, 0.9985614673980067, 0.001003579364219102, 0.012536699633186708, 0.9808123830669601, 0.000368726459799609, 0.006268349816593354, 0.0010428155183262928, 0.9640829466926576, 0.03441291210476766, 0.0005214077591631464, 0.0007134666181858869, 0.024971331636506038, 0.9738819338237356, 0.09831206260175472, 0.8887763148212444, 0.012344115483628395, 0.0004408612672724427, 0.9994313609856248, 0.9990470735422972, 0.998436402010566, 0.029525482864932194, 0.3894796304878447, 0.022850156304164915, 0.18280125043331932, 0.375102004049269, 0.9687825436117528, 0.03077454077546864, 0.9979911204665446, 0.9776086699884237, 0.02213312031055909, 0.9968500439531526, 0.001352578078633857, 0.9968136624724985, 0.9988159760517569, 0.8088874940281285, 0.04687732341206666, 0.05641513380326637, 0.08766668274464413, 0.00020293213598297254, 0.6677872877596457, 0.2651330635802864, 0.051963180191213834, 0.0010876014458626152, 0.01401797419111815, 0.008309811879001323, 0.16675022503862655, 0.006647849503201058, 0.0005539874586000882, 0.8176854888937302, 0.0007453585431478335, 0.9987804478180968, 0.0007453585431478335, 0.5181009044356081, 0.2795403184949185, 0.07756877947764754, 0.00029271237538734923, 0.12454911572731708, 0.02735983786807009, 0.9712742443164882, 0.0009119945956023363, 0.858344594579703, 0.03876526574046674, 0.04529415260201903, 0.03611290545296112, 0.02142291001446846, 0.9984594339302366, 0.9998616582025045, 0.07352092823267399, 0.1271131066879931, 0.05386148588474285, 0.6390665300224738, 0.10637643462236712, 0.0010554100949601982, 0.9746712226957431, 0.012137216092042281, 0.012137216092042281, 0.002583510361219134, 0.9972349994305857, 0.998259341364969, 0.8349136704234053, 0.05602325079456, 0.08413939718212834, 0.014632938640370147, 0.010243057048259103, 0.18764498417957967, 0.07856140780361467, 0.06794500134366675, 0.5915992499805984, 0.07404943505813681, 0.9971009413304867, 0.9984055618456064, 0.11375507113386116, 0.67033827559974, 0.08557509901273276, 0.08580513960147666, 0.04451285392194567, 0.9912848492799631, 0.008571639083295713, 0.834584449093697, 0.0023879383378932677, 0.16190221930916354, 0.00023879383378932676, 0.000955175335157307, 0.9977773891387871, 0.9822832169836904, 0.017157785449496775, 0.0005361807952967742, 0.1569314034489933, 0.2363698204841242, 0.13472107052284446, 0.35974254571623565, 0.11218649915981753, 0.9960550763380193, 0.13961379928122092, 0.5045111532871358, 0.21360601266786353, 0.013744363659809312, 0.12845296262513517, 0.3204527040668082, 0.6570871333318836, 0.008636314010311143, 0.007999954030604006, 0.0058181483858938225, 0.9986817551391769, 0.9982727209886272, 0.0015630574963287484, 0.9975415759853086, 0.001635314058992309, 0.9972416168096488, 0.7983044648352711, 0.1071142699652389, 0.06063071884824843, 0.0010105119808041406, 0.03284163937613457, 0.9466406735670778, 0.028404682645982716, 0.002731219485190646, 0.021849755881525167, 0.0005462438970381292, 0.5081133913255722, 0.0287903162493066, 0.1824972939108939, 0.11777856647443609, 0.1628675328318212, 0.0013975228815992404, 0.008850978250128523, 0.9185607340111451, 0.04642881573313032, 0.024689570908253248, 0.0030086569688160853, 0.9642745585055553, 0.032343062414772916, 0.057542152258125964, 0.6045933100770227, 0.1747101558812181, 0.15499515663957605, 0.008174511880680847, 0.9993704356685221, 0.028939284572950967, 0.9661268849739014, 0.004452197626607841, 0.0007420329377679735, 0.9978152035487471, 0.9991050345269832, 0.0064468114847156515, 0.007521280065501593, 0.7496209131949921, 0.2356667753857166, 0.001074468580785942, 0.03699073778993206, 0.002845441368456312, 0.9603364618540053, 0.010498095840371834, 0.016097080288570147, 0.9735234209304814, 0.19218514238864715, 0.6736065277487371, 0.04265455778700648, 0.01102308796742864, 0.08075610097877069, 0.008665716746020359, 0.990058138232826, 0.004435039208064723, 0.9954647095192547, 0.9359693797183221, 0.021440475044452515, 0.021175777821681493, 0.0013234861138550933, 0.02011698893059742, 0.9940942348361128, 0.0058096416321591, 0.003730914346115214, 0.08581102996064992, 0.9103431004521122, 0.906033068558717, 0.053925234282146954, 0.03921835220519779, 0.00044566309324088393, 0.9981131325568662, 0.6358994600897692, 0.1408493604891943, 0.09865892055869613, 0.09672787407089246, 0.0278538826725619, 0.07003198645671752, 0.8718155164414992, 0.05045611622669018, 0.003308597785356733, 0.004411463713808978, 0.00018912399091146798, 0.9482676904301004, 0.05144172552791929, 0.018842790228180317, 0.004710697557045079, 0.007066046335567619, 0.9327181162949257, 0.03768558045636063, 0.04134321792512094, 0.9585720384638755, 0.998308016062144, 0.998882544094937, 0.9955445266123288, 0.007460258480370597, 0.9909710014758942, 0.005464937683798583, 0.9935256709145825, 0.9981352813150043, 0.0020495590992094543, 0.10690660312361847, 0.0771586787761768, 0.0591859744829308, 0.15152848964478094, 0.6051843359432663, 0.9990813446644692, 0.29772324618826446, 0.37397865074874137, 0.08053376059192277, 0.07562623455585248, 0.17201507926431003, 0.020641615880695185, 0.9199150322679628, 0.025315189287645038, 0.03427287165096559, 0.9985010816116567, 0.18386238995124976, 0.09790075309092519, 0.10642869325563993, 0.07606922626925547, 0.5355546423440856, 0.014635325399537179, 0.25709388285186974, 0.0019513767199382903, 0.7263999839970287, 0.9986237892809335, 0.0009152336351854802, 0.10982803622225762, 0.8886918597651012, 0.9989722568728688, 0.9414844038652738, 0.0005758314396729503, 0.044914852294490125, 0.013244123112477857, 0.0017495519691344435, 0.9972446224066327, 0.9954283715550487, 0.004363787308327052, 0.0011473041037222606, 0.9981545702383667, 0.08472454275234925, 0.9115733210947207, 0.0036609370325089183, 0.9801609333154435, 0.002993771940486999, 0.011975087761947997, 0.0041912807166817985, 0.0007436574989887303, 0.26065195339555, 0.12121617233516305, 0.02230972496966191, 0.5949259991909842, 0.0011714289409749045, 0.016400005173648664, 0.014057147291698855, 0.9681860197157587, 0.0040722347934776465, 0.9949827012063718, 0.0026073869793914956, 0.0030814573392808583, 0.9509851419380618, 0.04314040274993202, 0.003706421356903523, 0.007771528651571903, 0.75939791123783, 0.02223852814142114, 0.20696178609032254, 0.017988192036271326, 0.002248524004533916, 0.001124262002266958, 0.9792322039745204, 0.9971176637672752, 0.9981759427110504, 0.9973314791950092, 0.9981427362990725, 0.014822162979790617, 0.009881441986527078, 0.9749689426706717, 0.003649070153748541, 0.0021894420922491248, 0.9940067098811026, 0.002450784586585764, 0.002450784586585764, 0.9925677575672345, 0.9991789929006029, 0.0020879315548650978, 0.9973353060405618, 0.9988538598475959, 0.0012270931939159654, 0.9964487223740676, 0.04734696708756013, 0.1353408587502898, 0.6070238516225869, 0.049803649342103344, 0.160577685546961, 0.9979735430432024, 0.00134952473704287, 0.9996848809859468, 0.9984236176356351, 0.998345469140491, 0.007494318928881912, 0.6013733969761339, 0.01242960212595049, 0.371608545912608, 0.007128742395765721, 0.026797779545881934, 0.0006699444886470484, 0.9720894530268672, 0.692934794636381, 0.10029843092956232, 0.06825865438261881, 0.13810934735142114, 0.00019900482327294113, 0.9982576289582389, 0.9977957127366763, 0.9964913823852144, 0.9997672435311432, 0.08552425759781053, 0.9140646898010338, 0.22456985681748784, 0.6627771636297055, 0.03780790692870485, 0.03302497894374821, 0.04167980101176498, 0.0863141524349693, 0.3685994308386425, 0.13104551193585906, 0.337005193909616, 0.07708559525638768, 0.9977216525384706, 0.9827735817520842, 0.0170120593379189, 0.9985855966031763, 0.023448594716601667, 0.9761315000596751, 0.0005214088199588518, 0.9853323175172403, 0.014078038138888999, 0.027726391712503885, 0.034889745194457776, 0.7656360751006013, 0.1142765567238762, 0.05747537734932416, 0.8847574583936985, 0.024635951391556315, 0.09012233238645856, 0.00037708088864627014, 0.0001256936295487567, 0.002488388997019537, 0.10036502287978799, 0.034007982959267005, 0.705873012154542, 0.15759796981123733, 0.10069871714482605, 0.007376567014016218, 0.17000413746255982, 0.60539313935961, 0.11648113959341888, 0.9977358170572064, 0.9975388515422448, 0.06937130546905342, 0.009420794569871452, 0.10962379135850417, 0.0008564358699883138, 0.8119012047489216, 0.3836836904343116, 0.34645680865001227, 0.19199610025217362, 0.07661333405884807, 0.001336876970154396, 0.0006322018375301674, 0.8370352328899416, 0.11948614729320163, 0.0426736240332863, 0.9986390008398944, 0.0058004571719015826, 0.9935354498728568, 0.999350357191261, 0.02075353564182216, 0.9658376202540313, 0.0005321419395339016, 0.009046412972076328, 0.0031928516372034094, 0.9948548143768176, 0.9949170136032517, 0.004339877921933486, 0.10016171483936585, 0.6076633930758714, 0.07644229350577629, 0.03675336077927493, 0.1789524659029233, 0.00390874450289123, 0.0029315583771684223, 0.9928211037343723, 0.9971582586042093, 0.0004396888361285442, 0.9985333468479238, 0.0008793776722570884, 0.298907408336248, 0.014906143722805017, 0.1928384277402881, 0.16828251729166718, 0.3251108399331789, 0.9987997803993625, 0.9976104443707334, 0.0034941047282342503, 0.6168438731767388, 0.0034941047282342503, 0.002150218294298, 0.3741379832078521, 0.10588283576508684, 0.11568176144000489, 0.6045392756664726, 0.08519621489581537, 0.0884625234541214, 0.0043809853498262856, 0.0003982713954387532, 0.9566478918438852, 0.03863232535755906, 0.9981964433461132, 0.0027624094244082117, 0.9972298022113645, 0.9679482968729678, 0.017775344349920945, 0.014004816760543775, 0.0005386467984824528, 0.9982515361757776, 0.0009200474987795185, 0.9986356636217012, 0.30107512060019326, 0.6814457462144292, 0.007929550501404268, 0.009416341220417568, 0.4763563237715495, 0.08988085269319815, 0.1735419991620366, 0.1792738852903681, 0.08097813594068327, 0.9989523292367747, 0.9595269607545259, 0.010563599567939735, 0.027289298883844314, 0.0017605999279899558, 0.0008802999639949779, 0.9971140955602537, 0.9992636596473495, 0.00044930919948172194, 0.9979937770750886, 0.998899306417565, 0.9535368045076759, 0.0045602989967345004, 0.007166184137725644, 0.02888189364598517, 0.005863241567230073, 0.999043510487825, 0.9962633014789279, 0.9987328713937206, 0.004903505600201559, 0.06864907840282183, 0.9255366820380443, 0.9982435499547856, 0.1944166269338145, 0.0023518140354896917, 0.00039196900591494864, 0.8023605551078998, 0.032753230605987456, 0.96622030287663, 0.004881430012913923, 0.9824408491208066, 0.00021223608751799668, 0.012521929163561804, 0.011592495850225443, 0.9875914733942062, 0.0004458652250086709, 0.0004458652250086709, 0.9971362970939492, 0.9974873904765434, 0.9987097322822925, 0.9978269312861684, 0.0017333415135254806, 0.9985806426219629, 0.0012311384247310115, 0.9424364641315893, 0.0320095990430063, 0.024007199282254726, 0.9805753792551454, 0.0016942987114559748, 0.00804791887941588, 0.009318642913007862, 0.00041760615096625984, 0.9993315192622597, 0.00041760615096625984, 0.0013806953386610182, 0.9982427298519162, 0.00019724219123728833, 0.00019724219123728833, 0.13749844158333124, 0.32716086563119134, 0.1545835090107379, 0.21765285366297313, 0.16312604272444123, 0.0007815401204608411, 0.03399699524004659, 0.9648112787089084, 0.0006544114798280013, 0.0006544114798280013, 0.99863191821753, 0.1430903590670462, 0.3819552555927064, 0.09508880091356424, 0.014400467446044585, 0.36572615735986247, 0.9979040488017811, 0.9987001049117334, 0.18710949312154268, 0.17626028721785658, 0.21399665557850384, 0.2885259830907822, 0.13412134254846714, 0.04804072698709027, 0.0005110715636924497, 0.9511041800316488, 0.0005110715636924497, 0.004781843068188285, 0.9433513741742555, 0.03426987532201604, 0.00026565794823268246, 0.01726776663512436, 0.9966167876842856, 0.9976451580158117, 0.0012196151075987917, 0.0012196151075987917, 0.9968721914051205, 0.7368756468522676, 0.023099550058064813, 0.2379253655980676, 0.002021210630080671, 0.7645583407269486, 0.028606684482037247, 0.059001286744201825, 0.12068445015859464, 0.027042256424425835, 0.042740523702625995, 0.9566687314746659, 0.00039944414675351396, 0.07565041955322069, 0.06586036525809802, 0.8570747532911944, 0.0013350074038803652, 0.46830115551779034, 0.2929790767724176, 0.05756391391005027, 0.0536184083872173, 0.12757134523826608, 0.9439846683460807, 0.0018634577007818768, 0.029241951612269453, 0.024654978810344834, 0.0002866858001202888, 0.995235650394828, 0.003136246797462693, 0.001045415599154231, 0.0012084964981266804, 0.025982674709723628, 0.9710269362447878, 0.0012084964981266804, 0.825871129926716, 0.004903609833939876, 0.07949009625544641, 0.08955540065142825, 0.06880284009595362, 0.9303340552105033, 0.00042734683289412183, 0.00042734683289412183, 0.9979012030817703, 0.000990964451918342, 0.010538983351049983, 0.9884060814234734, 0.004974199895676202, 0.9948399791352404, 0.6344039528142662, 0.055241902640203296, 0.10440584533221796, 0.14600610453315344, 0.05996920482212778, 0.0008791713783415498, 0.0011722285044553997, 0.71857607323116, 0.144477163174128, 0.13509933513848482, 0.1333182755051432, 0.5261799894181226, 0.18216402819928879, 0.15830537671831998, 0.04269033765339916, 0.8161658101907926, 0.04406744531963784, 0.02983733276850479, 0.06732526368278004, 0.9968131843114683, 0.0030097016434525005, 0.3861145685681434, 0.07218565900429472, 0.04047793962857648, 0.42456861121529105, 0.07668320785191433, 0.06809768922413094, 0.9206757093620223, 0.00018933555854716664, 0.010981462395735666, 0.9968018713746706, 0.021659520428122338, 0.0019690473116474854, 0.9766474665771527, 0.975395584947696, 0.024160144097206755, 0.0002809319081070553, 0.2670608263954412, 0.11682375616470313, 0.1210004204229575, 0.19028390988341234, 0.30489649085256904, 0.014591428636800815, 0.014591428636800815, 0.9703300043472541, 0.04420378753360447, 0.8153378035504557, 0.07275647326105233, 0.06746893886708051, 0.008350936211491024, 0.03386768574660249, 0.1702663105342892, 0.7873077083833482, 0.9994323658100672, 0.9977684211765975, 0.999564097780887, 0.9948415677939315, 0.9992012432827588, 0.9979996299942991, 0.168660958298414, 0.5112003625090463, 0.0885838657908953, 0.08155159987663729, 0.15005948071876374, 0.007455688997192313, 0.03195295284510991, 0.9596536837814678, 0.797527851434412, 0.196670959655334, 0.005668461243198849, 0.9992395064836135, 0.7252484753014409, 0.0423972726767509, 0.11735176334023315, 0.06948779361347139, 0.04555580875009051, 0.007457497687187773, 0.9893613598335779, 0.10286568537219475, 0.002120941966437005, 0.022269890647588553, 0.8197440700279024, 0.05249331366931587, 0.9973545073143969, 0.5070985408030703, 0.015594758943042457, 0.267732434785078, 0.16381218769049338, 0.04577599500091342, 0.5753431230103004, 0.05227311248672587, 0.2417525550743473, 0.12856474586484037, 0.00207567464493482, 0.019991887617575668, 0.0035279801678074706, 0.9333467532832875, 0.001175993389269157, 0.041943764217266595, 0.9972975856436791, 0.019877415015103983, 0.07147630062425991, 0.9083875670114877, 0.00010299178764302581, 0.00020598357528605162, 0.00023232615598236858, 0.016262830918765802, 0.9822749874934543, 0.0011616307799118429, 0.9974358612289487, 0.1636509158247017, 0.16742851322213917, 0.042902713299468376, 0.29694613827713806, 0.3289208019625909, 0.006570713521193118, 0.01652634006845542, 0.007367163644974102, 0.969678025703348, 0.9985126883370611, 0.9981636564237183, 0.999831415416578, 0.37005521601976643, 0.13356236886038836, 0.10453304357499711, 0.2846613805982291, 0.10718872317523795, 0.007558336939585512, 0.011877386619348663, 0.9793445148862943, 0.0010797624199407874, 0.0005398812099703937, 0.0017482016682042007, 0.0017482016682042007, 0.05535971949313302, 0.9382015619362544, 0.0034964033364084015, 0.9969922842866438, 0.03838857115368886, 0.003917201138131516, 0.9573639581593425, 0.9990078717463159, 0.020307479981730176, 0.0456918299588929, 0.23895134778502508, 0.07919917192874769, 0.6156551014461198, 0.9378275871888094, 0.06105206715876517, 0.0005652969181367145, 0.13247909996112028, 0.0010285644406919277, 0.2974608362481055, 0.0008228515525535422, 0.5681789970382208, 0.11604776064707449, 0.021813488843435057, 0.014833172413535838, 0.8463633671252802, 0.9985445338203728, 0.004942073805740672, 0.9941805139214985, 0.02805088944814313, 0.9713919123708824, 0.010847265053635147, 0.9704428199770015, 0.012396874347011597, 0.006585839496849911, 0.4490549391835921, 0.22445670770412135, 0.0978636906540983, 0.12503625552117983, 0.10359540355574831, 0.3403561490118999, 0.48478467975167316, 0.08946315846966525, 0.006932569475509116, 0.07856912072243664, 0.018747006532327103, 0.9810933418584518, 0.0023095238200898072, 0.9907857188185272, 0.006928571460269421, 0.8433645351746152, 0.0007796898630273791, 0.09408257680530376, 0.05925642959008082, 0.0023390695890821373, 0.997054896810531, 0.22118606845386474, 0.3577897703051877, 0.134568637391713, 0.17463396894028538, 0.11180135374982582, 0.1247994668949676, 0.40943214933656213, 0.14344006523415237, 0.14621632456126502, 0.17622636585910148, 0.3093659915747529, 0.416781921108413, 0.11553044734545691, 0.0630903759867201, 0.09534558428861237, 0.998884063523312, 0.015329158903371137, 0.062156589525998035, 0.8263046614351428, 0.04094775323503249, 0.05522696974776176, 0.041666350329776856, 0.0391862104291949, 0.6738540109881174, 0.031745790727449034, 0.21378805943016457, 0.34539772506654365, 0.00903160129149266, 0.06053613838622107, 0.5340849628590795, 0.05101634243032341, 0.09744381815265818, 0.765454898570252, 0.05393116979518189, 0.0029110574605353857, 0.08028390049055485, 0.043962059115848114, 0.11447546086602034, 0.12318081910678234, 0.14233260723645874, 0.5758594476264065, 0.999219145730325, 0.9984319628526515, 0.9984552385814311, 0.0013906061818682884, 0.0011218896999737455, 0.9973599432766598, 0.2211109331440997, 0.09680215494107713, 0.6080550661462741, 0.005289735242681811, 0.06876655815486354, 0.0006372553152860114, 0.0006372553152860114, 0.9947555471614637, 0.0044607872070020795, 0.20712843848767282, 0.1783827289155054, 0.16789353235106558, 0.34282412062510975, 0.10376338120392072, 0.000314228354531606, 0.0009426850635948181, 0.9571395679032719, 0.002513826836252848, 0.03927854431645075, 0.007133762900009696, 0.9926121520870635, 0.6704375516339766, 0.03827815638266179, 0.21787041723931844, 0.04062445318370061, 0.03278111816308514, 0.996400399731769, 0.0990798339241875, 0.015868254651920655, 0.8750761894632341, 0.009675765031658935, 0.504182984752306, 0.4822806574760134, 0.005475581819073171, 0.0023620156866590147, 0.005690310517860354, 0.028573391002000896, 0.06154268831200193, 0.8480959241363123, 0.05808876192714468, 0.004081913000285842, 0.0618395748250238, 0.010912866145592436, 0.2961024347504081, 0.6152431424748446, 0.01576302887696685, 0.5013076823012071, 0.05818078153770888, 0.18549303768990805, 0.08083450538356966, 0.17412437922851665, 0.0007521602783147879, 0.0007521602783147879, 0.9981166893237234, 0.9962019223078169, 0.001201512924762012, 0.001201512924762012, 0.9984572404772319, 0.9969117430539478, 0.002561777747551288, 0.996531543797451, 0.009373342608712842, 0.9899064868071084, 0.0004075366351614279, 0.9973987788602151, 0.0015781626247788213, 0.9968396768597638, 0.0016274933499751247, 0.0008137466749875623, 0.9991994440044291, 0.99945716003424, 0.9992375345868694, 0.12078597625608475, 0.18539937728361308, 0.4892691060466018, 0.06244717139770368, 0.1420747846871201, 0.003220128508082235, 0.9959857475498353, 0.000644025701616447, 0.9986715528533268, 0.0013204302752034248, 0.9837205550265515, 0.01386451788963596, 0.0013204302752034248, 0.08543558311703459, 0.9144064007733733, 0.9977223195165318, 0.9308125944156967, 0.0009215966281343531, 0.06582833058102523, 0.0023698199009169084, 0.9437233583090052, 0.00210786965799714, 0.026498932843392616, 0.027101181317106086, 0.00030112423685673426, 0.025546483092255334, 0.9200991660393962, 0.02469493365584682, 0.028952680837889377, 0.0008515494364085111, 0.3627691439607608, 0.006364370946680014, 0.6300727237213214, 0.9995743629563092, 0.9980825078190447, 0.9981674863367271, 0.9995306507260687, 0.00023551617594864957, 0.9990220044889176, 0.12686638870646094, 0.0007419087058857365, 0.8602431444745114, 0.011128630588286047, 0.0007419087058857365, 0.9986141825211534, 0.9987364807790591, 0.9979689752223663, 0.999510816453774, 0.9996324378293361, 0.9991148865091289, 0.9964075202543304, 0.09623798972040624, 0.0012917850969182047, 0.10011334501116087, 0.7353486664206881, 0.06717282503974664, 0.9982109537403812, 0.9978714207500174, 0.0019456425459420275, 0.9985808793777283, 0.9994883400767361, 0.9978641587031123, 0.16182424083514466, 0.3274436092696126, 0.17791558185627537, 0.12022964234656151, 0.21267895066607662, 0.999289560478998, 0.9996366524610873, 0.0009237376707910477, 0.039720719844015054, 0.9588397022811075, 0.9959949504266182, 0.0015785388637150793, 0.9976365618679301, 0.9986830061013161, 0.30023272991415134, 0.10805012978095357, 0.2526377895434532, 0.15035674344379635, 0.18857692283238728, 0.9991860247266915], \"Term\": [\"air\", \"android\", \"android\", \"apple\", \"apple\", \"google\", \"google\", \"ios\", \"ipad\", \"ipad\", \"iphone\", \"iphone\", \"microsoft\", \"microsoft\", \"nasa\", \"the\", \"the\", \"the\", \"the\", \"the\", \"windows\", \"\\u0430\\u0432\\u0438\\u0430\\u043a\\u043e\\u043c\\u043f\\u0430\\u043d\\u0438\\u044f\", \"\\u0430\\u0432\\u0438\\u0430\\u043a\\u043e\\u043c\\u043f\\u0430\\u043d\\u0438\\u044f\", \"\\u0430\\u0432\\u0438\\u0430\\u043a\\u043e\\u043c\\u043f\\u0430\\u043d\\u0438\\u044f\", \"\\u0430\\u0432\\u0442\\u043e\\u0431\\u0443\\u0441\", \"\\u0430\\u0432\\u0442\\u043e\\u0431\\u0443\\u0441\", \"\\u0430\\u0432\\u0442\\u043e\\u0431\\u0443\\u0441\", \"\\u0430\\u0432\\u0442\\u043e\\u0431\\u0443\\u0441\", \"\\u0430\\u0433\\u0435\\u043d\\u0442\\u0441\\u0442\\u0432\\u043e\", \"\\u0430\\u0433\\u0435\\u043d\\u0442\\u0441\\u0442\\u0432\\u043e\", \"\\u0430\\u0433\\u0435\\u043d\\u0442\\u0441\\u0442\\u0432\\u043e\", \"\\u0430\\u0433\\u0435\\u043d\\u0442\\u0441\\u0442\\u0432\\u043e\", \"\\u0430\\u0433\\u0435\\u043d\\u0442\\u0441\\u0442\\u0432\\u043e\", \"\\u0430\\u043a\\u0442\\u0440\\u0438\\u0441\\u0430\", \"\\u0430\\u043a\\u0442\\u0451\\u0440\", \"\\u0430\\u043a\\u0446\\u0438\\u044f\", \"\\u0430\\u043a\\u0446\\u0438\\u044f\", \"\\u0430\\u043a\\u0446\\u0438\\u044f\", \"\\u0430\\u043a\\u0446\\u0438\\u044f\", \"\\u0430\\u043a\\u0446\\u0438\\u044f\", \"\\u0430\\u043b\\u044c\", \"\\u0430\\u043b\\u044c\", \"\\u0430\\u043b\\u044c\", \"\\u0430\\u043b\\u044c\", \"\\u0430\\u043b\\u044c\\u0431\\u043e\\u043c\", \"\\u0430\\u043c\\u0435\\u0440\\u0438\\u043a\\u0430\\u043d\\u0441\\u043a\\u0438\\u0439\", \"\\u0430\\u043c\\u0435\\u0440\\u0438\\u043a\\u0430\\u043d\\u0441\\u043a\\u0438\\u0439\", \"\\u0430\\u043c\\u0435\\u0440\\u0438\\u043a\\u0430\\u043d\\u0441\\u043a\\u0438\\u0439\", \"\\u0430\\u043c\\u0435\\u0440\\u0438\\u043a\\u0430\\u043d\\u0441\\u043a\\u0438\\u0439\", \"\\u0430\\u043c\\u0435\\u0440\\u0438\\u043a\\u0430\\u043d\\u0441\\u043a\\u0438\\u0439\", \"\\u0430\\u043f\\u043f\\u0430\\u0440\\u0430\\u0442\", \"\\u0430\\u043f\\u043f\\u0430\\u0440\\u0430\\u0442\", \"\\u0430\\u043f\\u043f\\u0430\\u0440\\u0430\\u0442\", \"\\u0430\\u043f\\u043f\\u0430\\u0440\\u0430\\u0442\", \"\\u0430\\u0440\\u0435\\u0441\\u0442\\u043e\\u0432\\u0430\\u0442\\u044c\", \"\\u0430\\u0440\\u0435\\u0441\\u0442\\u043e\\u0432\\u0430\\u0442\\u044c\", \"\\u0430\\u0440\\u0435\\u0441\\u0442\\u043e\\u0432\\u0430\\u0442\\u044c\", \"\\u0430\\u0440\\u0435\\u0441\\u0442\\u043e\\u0432\\u0430\\u0442\\u044c\", \"\\u0430\\u0441\\u0442\\u0440\\u043e\\u043d\\u0430\\u0432\\u0442\", \"\\u0430\\u044d\\u0440\\u043e\\u043f\\u043e\\u0440\\u0442\", \"\\u0430\\u044d\\u0440\\u043e\\u043f\\u043e\\u0440\\u0442\", \"\\u0430\\u044d\\u0440\\u043e\\u043f\\u043e\\u0440\\u0442\", \"\\u0430\\u044d\\u0440\\u043e\\u043f\\u043e\\u0440\\u0442\", \"\\u0430\\u044d\\u0440\\u043e\\u043f\\u043e\\u0440\\u0442\", \"\\u0431\\u0430\\u043d\\u043a\", \"\\u0431\\u0430\\u043d\\u043a\", \"\\u0431\\u0430\\u043d\\u043a\", \"\\u0431\\u0430\\u043d\\u043a\", \"\\u0431\\u0430\\u0440\\u0440\\u0435\\u043b\\u044c\", \"\\u0431\\u0438\\u0440\\u0436\\u0430\", \"\\u0431\\u0438\\u0440\\u0436\\u0430\", \"\\u0431\\u043e\\u0435\\u0432\\u0438\\u043a\", \"\\u0431\\u043e\\u0435\\u0432\\u0438\\u043a\", \"\\u0431\\u043e\\u0435\\u0432\\u0438\\u043a\", \"\\u0431\\u043e\\u0435\\u0432\\u0438\\u043a\", \"\\u0431\\u043e\\u043b\\u044c\\u043d\\u0438\\u0446\\u0430\", \"\\u0431\\u043e\\u043b\\u044c\\u043d\\u0438\\u0446\\u0430\", \"\\u0431\\u043e\\u043b\\u044c\\u043d\\u0438\\u0446\\u0430\", \"\\u0431\\u043e\\u043b\\u044c\\u043d\\u0438\\u0446\\u0430\", \"\\u0431\\u043e\\u0440\\u0442\", \"\\u0431\\u043e\\u0440\\u0442\", \"\\u0431\\u043e\\u0440\\u0442\", \"\\u0431\\u044e\\u0434\\u0436\\u0435\\u0442\", \"\\u0431\\u044e\\u0434\\u0436\\u0435\\u0442\", \"\\u0431\\u044e\\u0434\\u0436\\u0435\\u0442\", \"\\u0431\\u044e\\u0434\\u0436\\u0435\\u0442\", \"\\u0432\\u0430\\u043b\\u044e\\u0442\\u0430\", \"\\u0432\\u0430\\u043b\\u044e\\u0442\\u043d\\u044b\\u0439\", \"\\u0432\\u0432\\u043f\", \"\\u0432\\u0435\\u0440\\u0441\\u0438\\u044f\", \"\\u0432\\u0435\\u0440\\u0441\\u0438\\u044f\", \"\\u0432\\u0435\\u0440\\u0441\\u0438\\u044f\", \"\\u0432\\u0435\\u0440\\u0441\\u0438\\u044f\", \"\\u0432\\u0435\\u0440\\u0441\\u0438\\u044f\", \"\\u0432\\u0435\\u0440\\u0445\\u043e\\u0432\\u043d\\u044b\\u0439\", \"\\u0432\\u0435\\u0440\\u0445\\u043e\\u0432\\u043d\\u044b\\u0439\", \"\\u0432\\u0437\\u043e\\u0440\\u0432\\u0430\\u0442\\u044c\", \"\\u0432\\u0437\\u0440\\u044b\\u0432\", \"\\u0432\\u0437\\u0440\\u044b\\u0432\", \"\\u0432\\u0437\\u0440\\u044b\\u0432\\u043d\\u043e\\u0439\", \"\\u0432\\u0437\\u0440\\u044b\\u0432\\u043d\\u043e\\u0439\", \"\\u0432\\u0437\\u0440\\u044b\\u0432\\u0447\\u0430\\u0442\\u043a\\u0430\", \"\\u0432\\u0438\\u0440\\u0443\\u0441\", \"\\u0432\\u043b\\u0430\\u0434\\u0438\\u043c\\u0438\\u0440\", \"\\u0432\\u043b\\u0430\\u0434\\u0438\\u043c\\u0438\\u0440\", \"\\u0432\\u043b\\u0430\\u0434\\u0438\\u043c\\u0438\\u0440\", \"\\u0432\\u043b\\u0430\\u0434\\u0438\\u043c\\u0438\\u0440\", \"\\u0432\\u043b\\u0430\\u0434\\u0438\\u043c\\u0438\\u0440\", \"\\u0432\\u043b\\u0430\\u0441\\u0442\\u044c\", \"\\u0432\\u043b\\u0430\\u0441\\u0442\\u044c\", \"\\u0432\\u043b\\u0430\\u0441\\u0442\\u044c\", \"\\u0432\\u043b\\u0430\\u0441\\u0442\\u044c\", \"\\u0432\\u043b\\u0430\\u0441\\u0442\\u044c\", \"\\u0432\\u043e\\u0434\\u0430\", \"\\u0432\\u043e\\u0434\\u0430\", \"\\u0432\\u043e\\u0434\\u0430\", \"\\u0432\\u043e\\u0434\\u0430\", \"\\u0432\\u043e\\u0434\\u0430\", \"\\u0432\\u043e\\u0434\\u0438\\u0442\\u0435\\u043b\\u044c\", \"\\u0432\\u043e\\u0434\\u0438\\u0442\\u0435\\u043b\\u044c\", \"\\u0432\\u043e\\u0434\\u0438\\u0442\\u0435\\u043b\\u044c\", \"\\u0432\\u043e\\u0435\\u043d\\u043d\\u044b\\u0439\", \"\\u0432\\u043e\\u0435\\u043d\\u043d\\u044b\\u0439\", \"\\u0432\\u043e\\u0435\\u043d\\u043d\\u044b\\u0439\", \"\\u0432\\u043e\\u0435\\u043d\\u043d\\u044b\\u0439\", \"\\u0432\\u043e\\u0435\\u043d\\u043d\\u044b\\u0439\", \"\\u0432\\u043e\\u0437\\u0431\\u0443\\u0434\\u0438\\u0442\\u044c\", \"\\u0432\\u043e\\u0437\\u0431\\u0443\\u0434\\u0438\\u0442\\u044c\", \"\\u0432\\u043e\\u0437\\u0431\\u0443\\u0434\\u0438\\u0442\\u044c\", \"\\u0432\\u043e\\u043f\\u0440\\u043e\\u0441\", \"\\u0432\\u043e\\u043f\\u0440\\u043e\\u0441\", \"\\u0432\\u043e\\u043f\\u0440\\u043e\\u0441\", \"\\u0432\\u043e\\u043f\\u0440\\u043e\\u0441\", \"\\u0432\\u043e\\u043f\\u0440\\u043e\\u0441\", \"\\u0432\\u0442\\u0431\", \"\\u0432\\u044b\\u0431\\u043e\\u0440\\u044b\", \"\\u0432\\u044b\\u0439\\u0442\\u0438\", \"\\u0432\\u044b\\u0439\\u0442\\u0438\", \"\\u0432\\u044b\\u0439\\u0442\\u0438\", \"\\u0432\\u044b\\u0439\\u0442\\u0438\", \"\\u0432\\u044b\\u0439\\u0442\\u0438\", \"\\u0432\\u044b\\u0440\\u0430\\u0441\\u0442\\u0438\", \"\\u0432\\u044b\\u0440\\u0430\\u0441\\u0442\\u0438\", \"\\u0432\\u044b\\u0440\\u0430\\u0441\\u0442\\u0438\", \"\\u0432\\u044b\\u0440\\u0430\\u0441\\u0442\\u0438\", \"\\u0433\\u0430\\u0437\\u043f\\u0440\\u043e\\u043c\", \"\\u0433\\u0430\\u0437\\u043f\\u0440\\u043e\\u043c\", \"\\u0433\\u0438\\u0431\\u0434\\u0434\", \"\\u0433\\u043b\\u0430\\u0432\\u0430\", \"\\u0433\\u043b\\u0430\\u0432\\u0430\", \"\\u0433\\u043b\\u0430\\u0432\\u0430\", \"\\u0433\\u043b\\u0430\\u0432\\u0430\", \"\\u0433\\u043b\\u0430\\u0432\\u0430\", \"\\u0433\\u043b\\u0430\\u0432\\u043d\\u044b\\u0439\", \"\\u0433\\u043b\\u0430\\u0432\\u043d\\u044b\\u0439\", \"\\u0433\\u043b\\u0430\\u0432\\u043d\\u044b\\u0439\", \"\\u0433\\u043b\\u0430\\u0432\\u043d\\u044b\\u0439\", \"\\u0433\\u043b\\u0430\\u0432\\u043d\\u044b\\u0439\", \"\\u0433\\u043e\\u0434\\u043e\\u0432\\u043e\\u0439\", \"\\u0433\\u043e\\u043b\", \"\\u0433\\u043e\\u0440\\u043e\\u0434\", \"\\u0433\\u043e\\u0440\\u043e\\u0434\", \"\\u0433\\u043e\\u0440\\u043e\\u0434\", \"\\u0433\\u043e\\u0440\\u043e\\u0434\", \"\\u0433\\u043e\\u0440\\u043e\\u0434\", \"\\u0433\\u043e\\u0441\\u0434\\u0443\\u043c\\u0430\", \"\\u0433\\u043e\\u0441\\u0434\\u0443\\u043c\\u0430\", \"\\u0433\\u043e\\u0441\\u0443\\u0434\\u0430\\u0440\\u0441\\u0442\\u0432\\u043e\", \"\\u0433\\u043e\\u0441\\u0443\\u0434\\u0430\\u0440\\u0441\\u0442\\u0432\\u043e\", \"\\u0433\\u043e\\u0441\\u0443\\u0434\\u0430\\u0440\\u0441\\u0442\\u0432\\u043e\", \"\\u0433\\u043e\\u0441\\u0443\\u0434\\u0430\\u0440\\u0441\\u0442\\u0432\\u043e\", \"\\u0433\\u043e\\u0441\\u0443\\u0434\\u0430\\u0440\\u0441\\u0442\\u0432\\u043e\", \"\\u0433\\u0440\\u0430\\u0434\\u0443\\u0441\", \"\\u0433\\u0440\\u0443\\u0437\\u0438\\u044f\", \"\\u0433\\u0440\\u0443\\u0437\\u0438\\u044f\", \"\\u0433\\u0440\\u0443\\u0437\\u0438\\u044f\", \"\\u0433\\u0440\\u0443\\u043f\\u043f\\u0430\", \"\\u0433\\u0440\\u0443\\u043f\\u043f\\u0430\", \"\\u0433\\u0440\\u0443\\u043f\\u043f\\u0430\", \"\\u0433\\u0440\\u0443\\u043f\\u043f\\u0430\", \"\\u0433\\u0440\\u0443\\u043f\\u043f\\u0430\", \"\\u0433\\u0443\", \"\\u0434\\u0430\\u043d\\u043d\\u044b\\u0435\", \"\\u0434\\u0430\\u043d\\u043d\\u044b\\u0435\", \"\\u0434\\u0430\\u043d\\u043d\\u044b\\u0435\", \"\\u0434\\u0430\\u043d\\u043d\\u044b\\u0435\", \"\\u0434\\u0430\\u043d\\u043d\\u044b\\u0435\", \"\\u0434\\u0435\\u043b\\u043e\", \"\\u0434\\u0435\\u043b\\u043e\", \"\\u0434\\u0435\\u043b\\u043e\", \"\\u0434\\u0435\\u043b\\u043e\", \"\\u0434\\u0435\\u043b\\u043e\", \"\\u0434\\u0435\\u043c\\u043e\\u043a\\u0440\\u0430\\u0442\\u0438\\u0447\\u0435\\u0441\\u043a\\u0438\\u0439\", \"\\u0434\\u0435\\u043f\\u0443\\u0442\\u0430\\u0442\", \"\\u0434\\u0435\\u043f\\u0443\\u0442\\u0430\\u0442\", \"\\u0434\\u0435\\u0444\\u0438\\u0446\\u0438\\u0442\", \"\\u0434\\u0435\\u0444\\u0438\\u0446\\u0438\\u0442\", \"\\u0434\\u043d\\u0440\", \"\\u0434\\u043e\\u043a\\u0443\\u043c\\u0435\\u043d\\u0442\", \"\\u0434\\u043e\\u043a\\u0443\\u043c\\u0435\\u043d\\u0442\", \"\\u0434\\u043e\\u043a\\u0443\\u043c\\u0435\\u043d\\u0442\", \"\\u0434\\u043e\\u043a\\u0443\\u043c\\u0435\\u043d\\u0442\", \"\\u0434\\u043e\\u043a\\u0443\\u043c\\u0435\\u043d\\u0442\", \"\\u0434\\u043e\\u043b\\u0436\\u043d\\u043e\\u0441\\u0442\\u044c\", \"\\u0434\\u043e\\u043b\\u0436\\u043d\\u043e\\u0441\\u0442\\u044c\", \"\\u0434\\u043e\\u043b\\u0436\\u043d\\u043e\\u0441\\u0442\\u044c\", \"\\u0434\\u043e\\u043b\\u0436\\u043d\\u043e\\u0441\\u0442\\u044c\", \"\\u0434\\u043e\\u043b\\u0436\\u043d\\u043e\\u0441\\u0442\\u044c\", \"\\u0434\\u043e\\u043b\\u0436\\u043d\\u044b\\u0439\", \"\\u0434\\u043e\\u043b\\u0436\\u043d\\u044b\\u0439\", \"\\u0434\\u043e\\u043b\\u0436\\u043d\\u044b\\u0439\", \"\\u0434\\u043e\\u043b\\u0436\\u043d\\u044b\\u0439\", \"\\u0434\\u043e\\u043b\\u0436\\u043d\\u044b\\u0439\", \"\\u0434\\u043e\\u043b\\u043b\\u0430\\u0440\", \"\\u0434\\u043e\\u043b\\u043b\\u0430\\u0440\", \"\\u0434\\u043e\\u043b\\u043b\\u0430\\u0440\", \"\\u0434\\u043e\\u043b\\u043b\\u0430\\u0440\", \"\\u0434\\u043e\\u043b\\u043b\\u0430\\u0440\", \"\\u0434\\u043e\\u043b\\u044f\", \"\\u0434\\u043e\\u043b\\u044f\", \"\\u0434\\u043e\\u043b\\u044f\", \"\\u0434\\u043e\\u043c\", \"\\u0434\\u043e\\u043c\", \"\\u0434\\u043e\\u043c\", \"\\u0434\\u043e\\u043c\", \"\\u0434\\u043e\\u043c\", \"\\u0434\\u043e\\u043d\\u0431\\u0430\\u0441\\u0441\", \"\\u0434\\u043e\\u0445\\u043e\\u0434\", \"\\u0434\\u043e\\u0445\\u043e\\u0434\", \"\\u0434\\u043e\\u0445\\u043e\\u0434\", \"\\u0434\\u043e\\u0445\\u043e\\u0434\", \"\\u0434\\u0442\\u043f\", \"\\u0434\\u0443\\u043c\\u0430\", \"\\u0435\\u0432\\u0440\\u043e\", \"\\u0435\\u0432\\u0440\\u043e\", \"\\u0435\\u0432\\u0440\\u043e\", \"\\u0435\\u0432\\u0440\\u043e\", \"\\u0435\\u0432\\u0440\\u043e\", \"\\u0436\\u0438\\u0432\\u043e\\u0442\\u043d\\u043e\\u0435\", \"\\u0436\\u0438\\u0432\\u043e\\u0442\\u043d\\u043e\\u0435\", \"\\u0436\\u0438\\u0432\\u043e\\u0442\\u043d\\u043e\\u0435\", \"\\u0436\\u0438\\u043b\\u044c\\u0451\", \"\\u0436\\u0438\\u043b\\u044c\\u0451\", \"\\u0436\\u0438\\u043b\\u044c\\u0451\", \"\\u0436\\u0438\\u0442\\u0435\\u043b\\u044c\", \"\\u0436\\u0438\\u0442\\u0435\\u043b\\u044c\", \"\\u0436\\u0438\\u0442\\u0435\\u043b\\u044c\", \"\\u0436\\u0438\\u0442\\u0435\\u043b\\u044c\", \"\\u0436\\u0438\\u0442\\u0435\\u043b\\u044c\", \"\\u0437\\u0430\\u0434\\u0435\\u0440\\u0436\\u0430\\u043d\\u0438\\u0435\", \"\\u0437\\u0430\\u0434\\u0435\\u0440\\u0436\\u0430\\u043d\\u0438\\u0435\", \"\\u0437\\u0430\\u0434\\u0435\\u0440\\u0436\\u0430\\u0442\\u044c\", \"\\u0437\\u0430\\u0434\\u0435\\u0440\\u0436\\u0430\\u0442\\u044c\", \"\\u0437\\u0430\\u043a\\u043e\\u043d\", \"\\u0437\\u0430\\u043a\\u043e\\u043d\", \"\\u0437\\u0430\\u043a\\u043e\\u043d\", \"\\u0437\\u0430\\u043a\\u043e\\u043d\", \"\\u0437\\u0430\\u043a\\u043e\\u043d\", \"\\u0437\\u0430\\u043a\\u043e\\u043d\\u043e\\u043f\\u0440\\u043e\\u0435\\u043a\\u0442\", \"\\u0437\\u0430\\u043a\\u043e\\u043d\\u043e\\u043f\\u0440\\u043e\\u0435\\u043a\\u0442\", \"\\u0437\\u0430\\u043f\\u0443\\u0441\\u043a\", \"\\u0437\\u0430\\u043f\\u0443\\u0441\\u043a\", \"\\u0437\\u0430\\u043f\\u0443\\u0441\\u043a\", \"\\u0437\\u0430\\u0441\\u0435\\u0434\\u0430\\u043d\\u0438\\u0435\", \"\\u0437\\u0430\\u0441\\u0435\\u0434\\u0430\\u043d\\u0438\\u0435\", \"\\u0437\\u0430\\u0441\\u0435\\u0434\\u0430\\u043d\\u0438\\u0435\", \"\\u0437\\u0430\\u0441\\u0435\\u0434\\u0430\\u043d\\u0438\\u0435\", \"\\u0437\\u0430\\u0441\\u0442\\u0440\\u0435\\u043b\\u0438\\u0442\\u044c\", \"\\u0437\\u0430\\u044f\\u0432\\u0438\\u0442\\u044c\", \"\\u0437\\u0430\\u044f\\u0432\\u0438\\u0442\\u044c\", \"\\u0437\\u0430\\u044f\\u0432\\u0438\\u0442\\u044c\", \"\\u0437\\u0430\\u044f\\u0432\\u0438\\u0442\\u044c\", \"\\u0437\\u0430\\u044f\\u0432\\u0438\\u0442\\u044c\", \"\\u0437\\u0434\\u0430\\u043d\\u0438\\u0435\", \"\\u0437\\u0434\\u0430\\u043d\\u0438\\u0435\", \"\\u0437\\u0434\\u0430\\u043d\\u0438\\u0435\", \"\\u0437\\u0434\\u0430\\u043d\\u0438\\u0435\", \"\\u0437\\u0434\\u0430\\u043d\\u0438\\u0435\", \"\\u0438\\u0433\\u0440\\u0430\", \"\\u0438\\u0433\\u0440\\u0430\", \"\\u0438\\u0433\\u0440\\u0430\", \"\\u0438\\u0433\\u0440\\u0430\\u0442\\u044c\", \"\\u0438\\u0433\\u0440\\u0430\\u0442\\u044c\", \"\\u0438\\u0433\\u0440\\u0430\\u0442\\u044c\", \"\\u0438\\u0433\\u0440\\u0430\\u0442\\u044c\", \"\\u0438\\u0433\\u0440\\u0430\\u0442\\u044c\", \"\\u0438\\u0433\\u0440\\u043e\\u043a\", \"\\u0438\\u0433\\u0440\\u043e\\u043a\", \"\\u0438\\u0437\\u0431\\u0438\\u0440\\u0430\\u0442\\u0435\\u043b\\u044c\", \"\\u0438\\u0437\\u0431\\u0438\\u0440\\u0430\\u0442\\u0435\\u043b\\u044c\\u043d\\u044b\\u0439\", \"\\u0438\\u0437\\u0431\\u0438\\u0442\\u044c\", \"\\u0438\\u043d\\u0432\\u0435\\u0441\\u0442\\u0438\\u0446\\u0438\\u044f\", \"\\u0438\\u043d\\u0432\\u0435\\u0441\\u0442\\u0438\\u0446\\u0438\\u044f\", \"\\u0438\\u043d\\u0432\\u0435\\u0441\\u0442\\u043e\\u0440\", \"\\u0438\\u043d\\u0432\\u0435\\u0441\\u0442\\u043e\\u0440\", \"\\u0438\\u043d\\u0434\\u0435\\u043a\\u0441\", \"\\u0438\\u043d\\u0434\\u0435\\u043a\\u0441\", \"\\u0438\\u043d\\u0442\\u0435\\u0440\\u043d\\u0435\\u0442\", \"\\u0438\\u043d\\u0442\\u0435\\u0440\\u043d\\u0435\\u0442\", \"\\u0438\\u043d\\u0442\\u0435\\u0440\\u043d\\u0435\\u0442\", \"\\u0438\\u043d\\u0442\\u0435\\u0440\\u043d\\u0435\\u0442\", \"\\u0438\\u043d\\u0442\\u0435\\u0440\\u043d\\u0435\\u0442\", \"\\u0438\\u043d\\u0444\\u043b\\u044f\\u0446\\u0438\\u044f\", \"\\u0438\\u043d\\u0444\\u043e\\u0440\\u043c\\u0430\\u0446\\u0438\\u044f\", \"\\u0438\\u043d\\u0444\\u043e\\u0440\\u043c\\u0430\\u0446\\u0438\\u044f\", \"\\u0438\\u043d\\u0444\\u043e\\u0440\\u043c\\u0430\\u0446\\u0438\\u044f\", \"\\u0438\\u043d\\u0444\\u043e\\u0440\\u043c\\u0430\\u0446\\u0438\\u044f\", \"\\u0438\\u043d\\u0444\\u043e\\u0440\\u043c\\u0430\\u0446\\u0438\\u044f\", \"\\u0438\\u043d\\u0446\\u0438\\u0434\\u0435\\u043d\\u0442\", \"\\u0438\\u043d\\u0446\\u0438\\u0434\\u0435\\u043d\\u0442\", \"\\u0438\\u043d\\u0446\\u0438\\u0434\\u0435\\u043d\\u0442\", \"\\u0438\\u043d\\u0446\\u0438\\u0434\\u0435\\u043d\\u0442\", \"\\u0438\\u043f\\u043e\\u0442\\u0435\\u0447\\u043d\\u044b\\u0439\", \"\\u0438\\u0441\\u043f\\u043e\\u043b\\u044c\\u0437\\u043e\\u0432\\u0430\\u0442\\u044c\", \"\\u0438\\u0441\\u043f\\u043e\\u043b\\u044c\\u0437\\u043e\\u0432\\u0430\\u0442\\u044c\", \"\\u0438\\u0441\\u043f\\u043e\\u043b\\u044c\\u0437\\u043e\\u0432\\u0430\\u0442\\u044c\", \"\\u0438\\u0441\\u043f\\u043e\\u043b\\u044c\\u0437\\u043e\\u0432\\u0430\\u0442\\u044c\", \"\\u0438\\u0441\\u043f\\u043e\\u043b\\u044c\\u0437\\u043e\\u0432\\u0430\\u0442\\u044c\", \"\\u0438\\u0441\\u0441\\u043b\\u0435\\u0434\\u043e\\u0432\\u0430\\u043d\\u0438\\u0435\", \"\\u0438\\u0441\\u0441\\u043b\\u0435\\u0434\\u043e\\u0432\\u0430\\u043d\\u0438\\u0435\", \"\\u0438\\u0441\\u0441\\u043b\\u0435\\u0434\\u043e\\u0432\\u0430\\u043d\\u0438\\u0435\", \"\\u0438\\u0441\\u0441\\u043b\\u0435\\u0434\\u043e\\u0432\\u0430\\u043d\\u0438\\u0435\", \"\\u0438\\u0441\\u0441\\u043b\\u0435\\u0434\\u043e\\u0432\\u0430\\u0442\\u0435\\u043b\\u044c\", \"\\u0438\\u0441\\u0442\\u0440\\u0435\\u0431\\u0438\\u0442\\u0435\\u043b\\u044c\", \"\\u0438\\u0441\\u0442\\u0440\\u0435\\u0431\\u0438\\u0442\\u0435\\u043b\\u044c\", \"\\u0438\\u0441\\u0442\\u0440\\u0435\\u0431\\u0438\\u0442\\u0435\\u043b\\u044c\", \"\\u043a\\u0430\\u0435\\u0434\\u0430\", \"\\u043a\\u0430\\u043d\\u0434\\u0438\\u0434\\u0430\\u0442\", \"\\u043a\\u0430\\u043d\\u0434\\u0438\\u0434\\u0430\\u0442\", \"\\u043a\\u0430\\u043d\\u0434\\u0438\\u0434\\u0430\\u0442\", \"\\u043a\\u0430\\u043d\\u0434\\u0438\\u0434\\u0430\\u0442\", \"\\u043a\\u0430\\u043f\\u0438\\u0442\\u0430\\u043b\", \"\\u043a\\u0430\\u043f\\u0438\\u0442\\u0430\\u043b\", \"\\u043a\\u0430\\u0440\\u0442\\u0438\\u043d\\u0430\", \"\\u043a\\u0430\\u0440\\u0442\\u0438\\u043d\\u0430\", \"\\u043a\\u0430\\u0440\\u044c\\u0435\\u0440\\u0430\", \"\\u043a\\u0430\\u0440\\u044c\\u0435\\u0440\\u0430\", \"\\u043a\\u0432\\u0430\\u0434\\u0440\\u0430\\u0442\\u043d\\u044b\\u0439\", \"\\u043a\\u0432\\u0430\\u0434\\u0440\\u0430\\u0442\\u043d\\u044b\\u0439\", \"\\u043a\\u0432\\u0430\\u0434\\u0440\\u0430\\u0442\\u043d\\u044b\\u0439\", \"\\u043a\\u0438\\u0435\\u0432\", \"\\u043a\\u0438\\u0435\\u0432\", \"\\u043a\\u0438\\u0435\\u0432\", \"\\u043a\\u0438\\u0435\\u0432\", \"\\u043a\\u0438\\u043b\\u043e\\u043c\\u0435\\u0442\\u0440\", \"\\u043a\\u0438\\u043b\\u043e\\u043c\\u0435\\u0442\\u0440\", \"\\u043a\\u0438\\u043b\\u043e\\u043c\\u0435\\u0442\\u0440\", \"\\u043a\\u0438\\u043b\\u043e\\u043c\\u0435\\u0442\\u0440\", \"\\u043a\\u0438\\u043b\\u043e\\u043c\\u0435\\u0442\\u0440\", \"\\u043a\\u043b\\u0443\\u0431\", \"\\u043a\\u043b\\u0443\\u0431\", \"\\u043a\\u043b\\u0443\\u0431\", \"\\u043a\\u043b\\u0443\\u0431\", \"\\u043a\\u043d\\u0434\\u0440\", \"\\u043a\\u043d\\u0434\\u0440\", \"\\u043a\\u043e\\u043c\\u0430\\u043d\\u0434\\u0430\", \"\\u043a\\u043e\\u043c\\u0430\\u043d\\u0434\\u0430\", \"\\u043a\\u043e\\u043c\\u0430\\u043d\\u0434\\u0430\", \"\\u043a\\u043e\\u043c\\u0430\\u043d\\u0434\\u0430\", \"\\u043a\\u043e\\u043c\\u043f\\u0430\\u043d\\u0438\\u044f\", \"\\u043a\\u043e\\u043c\\u043f\\u0430\\u043d\\u0438\\u044f\", \"\\u043a\\u043e\\u043c\\u043f\\u0430\\u043d\\u0438\\u044f\", \"\\u043a\\u043e\\u043c\\u043f\\u0430\\u043d\\u0438\\u044f\", \"\\u043a\\u043e\\u043c\\u043f\\u0430\\u043d\\u0438\\u044f\", \"\\u043a\\u043e\\u043c\\u043f\\u044c\\u044e\\u0442\\u0435\\u0440\", \"\\u043a\\u043e\\u043c\\u043f\\u044c\\u044e\\u0442\\u0435\\u0440\", \"\\u043a\\u043e\\u043c\\u043f\\u044c\\u044e\\u0442\\u0435\\u0440\", \"\\u043a\\u043e\\u043c\\u043f\\u044c\\u044e\\u0442\\u0435\\u0440\", \"\\u043a\\u043e\\u043d\\u0441\\u0442\\u0438\\u0442\\u0443\\u0446\\u0438\\u043e\\u043d\\u043d\\u044b\\u0439\", \"\\u043a\\u043e\\u043d\\u0441\\u0442\\u0438\\u0442\\u0443\\u0446\\u0438\\u044f\", \"\\u043a\\u043e\\u043d\\u0446\\u0435\\u0440\\u043d\", \"\\u043a\\u043e\\u043f\\u0435\\u0439\\u043a\\u0430\", \"\\u043a\\u043e\\u0440\\u0430\\u0431\\u043b\\u044c\", \"\\u043a\\u043e\\u0440\\u0430\\u0431\\u043b\\u044c\", \"\\u043a\\u043e\\u0440\\u0430\\u0431\\u043b\\u044c\", \"\\u043a\\u043e\\u0441\\u043c\\u0438\\u0447\\u0435\\u0441\\u043a\\u0438\\u0439\", \"\\u043a\\u043e\\u0441\\u043c\\u0438\\u0447\\u0435\\u0441\\u043a\\u0438\\u0439\", \"\\u043a\\u043e\\u0441\\u043c\\u0438\\u0447\\u0435\\u0441\\u043a\\u0438\\u0439\", \"\\u043a\\u043e\\u0441\\u043c\\u043e\\u0441\", \"\\u043a\\u043e\\u0441\\u043c\\u043e\\u0441\", \"\\u043a\\u043e\\u0441\\u043c\\u043e\\u0441\", \"\\u043a\\u043f\\u0440\\u0444\", \"\\u043a\\u0440\\u0435\\u0434\\u0438\\u0442\", \"\\u043a\\u0440\\u0435\\u0434\\u0438\\u0442\", \"\\u043a\\u0440\\u0435\\u0434\\u0438\\u0442\\u043d\\u044b\\u0439\", \"\\u043a\\u0440\\u0435\\u0434\\u0438\\u0442\\u043d\\u044b\\u0439\", \"\\u043a\\u0440\\u0435\\u0434\\u0438\\u0442\\u043e\\u0432\\u0430\\u043d\\u0438\\u0435\", \"\\u043a\\u0440\\u0443\\u043f\\u043d\\u044b\\u0439\", \"\\u043a\\u0440\\u0443\\u043f\\u043d\\u044b\\u0439\", \"\\u043a\\u0440\\u0443\\u043f\\u043d\\u044b\\u0439\", \"\\u043a\\u0440\\u0443\\u043f\\u043d\\u044b\\u0439\", \"\\u043a\\u0440\\u0443\\u043f\\u043d\\u044b\\u0439\", \"\\u043a\\u0440\\u044b\\u043c\", \"\\u043a\\u0440\\u044b\\u043c\", \"\\u043a\\u0443\\u0431\\u043e\\u043a\", \"\\u043a\\u0443\\u0431\\u043e\\u043c\\u0435\\u0442\\u0440\", \"\\u043b\\u0430\\u0439\\u043d\\u0435\\u0440\", \"\\u043b\\u0435\\u0442\\u043d\\u0438\\u0439\", \"\\u043b\\u0435\\u0442\\u043d\\u0438\\u0439\", \"\\u043b\\u0435\\u0442\\u043d\\u0438\\u0439\", \"\\u043b\\u0435\\u0442\\u043d\\u0438\\u0439\", \"\\u043b\\u0435\\u0442\\u043d\\u0438\\u0439\", \"\\u043b\\u0438\\u0433\\u0430\", \"\\u043b\\u0438\\u0433\\u0430\", \"\\u043b\\u0438\\u0433\\u0430\", \"\\u043b\\u0438\\u0434\\u0435\\u0440\", \"\\u043b\\u0438\\u0434\\u0435\\u0440\", \"\\u043b\\u0438\\u0434\\u0435\\u0440\", \"\\u043b\\u0438\\u0434\\u0435\\u0440\", \"\\u043b\\u0438\\u0434\\u0435\\u0440\", \"\\u043b\\u0443\\u0433\\u0430\\u043d\\u0441\\u043a\\u0438\\u0439\", \"\\u043b\\u0443\\u043a\\u0430\\u0448\\u0435\\u043d\\u043a\\u043e\", \"\\u043c\\u0430\\u0440\\u0441\", \"\\u043c\\u0430\\u0442\\u0447\", \"\\u043c\\u0432\\u0434\", \"\\u043c\\u0432\\u0434\", \"\\u043c\\u0435\\u0441\\u0442\\u043d\\u044b\\u0439\", \"\\u043c\\u0435\\u0441\\u0442\\u043d\\u044b\\u0439\", \"\\u043c\\u0435\\u0441\\u0442\\u043d\\u044b\\u0439\", \"\\u043c\\u0435\\u0441\\u0442\\u043d\\u044b\\u0439\", \"\\u043c\\u0435\\u0441\\u0442\\u043d\\u044b\\u0439\", \"\\u043c\\u0435\\u0441\\u0442\\u043e\", \"\\u043c\\u0435\\u0441\\u0442\\u043e\", \"\\u043c\\u0435\\u0441\\u0442\\u043e\", \"\\u043c\\u0435\\u0441\\u0442\\u043e\", \"\\u043c\\u0435\\u0441\\u0442\\u043e\", \"\\u043c\\u0435\\u0441\\u0442\\u043e\\u0440\\u043e\\u0436\\u0434\\u0435\\u043d\\u0438\\u0435\", \"\\u043c\\u0438\\u0434\", \"\\u043c\\u0438\\u0434\", \"\\u043c\\u0438\\u043b\\u0438\\u0446\\u0438\\u043e\\u043d\\u0435\\u0440\", \"\\u043c\\u0438\\u043b\\u0438\\u0446\\u0438\\u044f\", \"\\u043c\\u0438\\u043b\\u0438\\u0446\\u0438\\u044f\", \"\\u043c\\u0438\\u043b\\u043b\\u0438\\u0430\\u0440\\u0434\", \"\\u043c\\u0438\\u043b\\u043b\\u0438\\u0430\\u0440\\u0434\", \"\\u043c\\u0438\\u043b\\u043b\\u0438\\u0430\\u0440\\u0434\", \"\\u043c\\u0438\\u043b\\u043b\\u0438\\u043e\\u043d\", \"\\u043c\\u0438\\u043b\\u043b\\u0438\\u043e\\u043d\", \"\\u043c\\u0438\\u043b\\u043b\\u0438\\u043e\\u043d\", \"\\u043c\\u0438\\u043b\\u043b\\u0438\\u043e\\u043d\", \"\\u043c\\u0438\\u043b\\u043b\\u0438\\u043e\\u043d\", \"\\u043c\\u0438\\u043d\\u0438\\u0441\\u0442\\u0440\", \"\\u043c\\u0438\\u043d\\u0438\\u0441\\u0442\\u0440\", \"\\u043c\\u0438\\u043d\\u0438\\u0441\\u0442\\u0440\", \"\\u043c\\u0438\\u043d\\u0438\\u0441\\u0442\\u0440\", \"\\u043c\\u0438\\u043d\\u0438\\u0441\\u0442\\u0440\", \"\\u043c\\u0438\\u043d\\u0443\\u0442\\u0430\", \"\\u043c\\u0438\\u043d\\u0443\\u0442\\u0430\", \"\\u043c\\u0438\\u043d\\u0443\\u0442\\u0430\", \"\\u043c\\u0438\\u043d\\u0443\\u0442\\u0430\", \"\\u043c\\u0438\\u043d\\u0443\\u0442\\u0430\", \"\\u043c\\u0438\\u0440\", \"\\u043c\\u0438\\u0440\", \"\\u043c\\u0438\\u0440\", \"\\u043c\\u0438\\u0440\", \"\\u043c\\u0438\\u0440\", \"\\u043c\\u043a\\u0441\", \"\\u043c\\u043c\\u0432\\u0431\", \"\\u043c\\u043e\\u0440\\u0435\", \"\\u043c\\u043e\\u0440\\u0435\", \"\\u043c\\u043e\\u0440\\u0435\", \"\\u043c\\u043e\\u0440\\u0435\", \"\\u043c\\u043e\\u0440\\u0435\", \"\\u043c\\u043e\\u0441\\u043a\\u0432\\u0430\", \"\\u043c\\u043e\\u0441\\u043a\\u0432\\u0430\", \"\\u043c\\u043e\\u0441\\u043a\\u0432\\u0430\", \"\\u043c\\u043e\\u0441\\u043a\\u0432\\u0430\", \"\\u043c\\u043e\\u0441\\u043a\\u0432\\u0430\", \"\\u043c\\u0443\\u0436\\u0447\\u0438\\u043d\\u0430\", \"\\u043c\\u0443\\u0436\\u0447\\u0438\\u043d\\u0430\", \"\\u043c\\u0443\\u0436\\u0447\\u0438\\u043d\\u0430\", \"\\u043c\\u0443\\u0436\\u0447\\u0438\\u043d\\u0430\", \"\\u043c\\u0443\\u0437\\u044b\\u043a\\u0430\\u043d\\u0442\", \"\\u043c\\u0447\\u0441\", \"\\u043c\\u0447\\u0441\", \"\\u043c\\u044f\\u0447\", \"\\u043d\\u0430\\u043f\\u0430\\u0434\\u0435\\u043d\\u0438\\u0435\", \"\\u043d\\u0430\\u043f\\u0430\\u0434\\u0435\\u043d\\u0438\\u0435\", \"\\u043d\\u0430\\u043f\\u0430\\u0434\\u0435\\u043d\\u0438\\u0435\", \"\\u043d\\u0430\\u043f\\u0430\\u0434\\u0435\\u043d\\u0438\\u0435\", \"\\u043d\\u0430\\u043f\\u0430\\u0434\\u0435\\u043d\\u0438\\u0435\", \"\\u043d\\u0430\\u0441\\u0430\", \"\\u043d\\u0430\\u0442\\u043e\", \"\\u043d\\u0430\\u0442\\u043e\", \"\\u043d\\u0430\\u0445\\u043e\\u0434\\u0438\\u0442\\u044c\\u0441\\u044f\", \"\\u043d\\u0430\\u0445\\u043e\\u0434\\u0438\\u0442\\u044c\\u0441\\u044f\", \"\\u043d\\u0430\\u0445\\u043e\\u0434\\u0438\\u0442\\u044c\\u0441\\u044f\", \"\\u043d\\u0430\\u0445\\u043e\\u0434\\u0438\\u0442\\u044c\\u0441\\u044f\", \"\\u043d\\u0430\\u0445\\u043e\\u0434\\u0438\\u0442\\u044c\\u0441\\u044f\", \"\\u043d\\u0435\\u0434\\u0432\\u0438\\u0436\\u0438\\u043c\\u043e\\u0441\\u0442\\u044c\", \"\\u043d\\u0435\\u0434\\u0432\\u0438\\u0436\\u0438\\u043c\\u043e\\u0441\\u0442\\u044c\", \"\\u043d\\u0435\\u0434\\u0432\\u0438\\u0436\\u0438\\u043c\\u043e\\u0441\\u0442\\u044c\", \"\\u043d\\u0435\\u043f\\u043e\\u043b\\u0430\\u0434\\u043a\\u0430\", \"\\u043d\\u0435\\u0444\\u0442\\u044c\", \"\\u043d\\u0435\\u0444\\u0442\\u044c\", \"\\u043d\\u0435\\u0444\\u0442\\u044c\", \"\\u043d\\u043e\\u0432\\u044b\\u0439\", \"\\u043d\\u043e\\u0432\\u044b\\u0439\", \"\\u043d\\u043e\\u0432\\u044b\\u0439\", \"\\u043d\\u043e\\u0432\\u044b\\u0439\", \"\\u043d\\u043e\\u0432\\u044b\\u0439\", \"\\u043d\\u043e\\u043c\\u0438\\u043d\\u0430\\u0446\\u0438\\u044f\", \"\\u043e\\u0431\\u043b\\u0438\\u0433\\u0430\\u0446\\u0438\\u044f\", \"\\u043e\\u0431\\u043d\\u0430\\u0440\\u0443\\u0436\\u0438\\u0442\\u044c\", \"\\u043e\\u0431\\u043d\\u0430\\u0440\\u0443\\u0436\\u0438\\u0442\\u044c\", \"\\u043e\\u0431\\u043d\\u0430\\u0440\\u0443\\u0436\\u0438\\u0442\\u044c\", \"\\u043e\\u0431\\u043d\\u0430\\u0440\\u0443\\u0436\\u0438\\u0442\\u044c\", \"\\u043e\\u0431\\u043d\\u0430\\u0440\\u0443\\u0436\\u0438\\u0442\\u044c\", \"\\u043e\\u0431\\u0449\\u0438\\u0439\", \"\\u043e\\u0431\\u0449\\u0438\\u0439\", \"\\u043e\\u0431\\u0449\\u0438\\u0439\", \"\\u043e\\u0431\\u0449\\u0438\\u0439\", \"\\u043e\\u0431\\u0449\\u0438\\u0439\", \"\\u043e\\u0431\\u044a\\u0451\\u043c\", \"\\u043e\\u0431\\u044a\\u0451\\u043c\", \"\\u043e\\u0431\\u044a\\u0451\\u043c\", \"\\u043e\\u0431\\u044a\\u0451\\u043c\", \"\\u043e\\u0433\\u043d\\u0435\\u0441\\u0442\\u0440\\u0435\\u043b\\u044c\\u043d\\u044b\\u0439\", \"\\u043e\\u043b\\u0438\\u043c\\u043f\\u0438\\u0439\\u0441\\u043a\\u0438\\u0439\", \"\\u043e\\u043b\\u0438\\u043c\\u043f\\u0438\\u0439\\u0441\\u043a\\u0438\\u0439\", \"\\u043e\\u043e\\u043d\", \"\\u043e\\u043e\\u043d\", \"\\u043e\\u043e\\u043d\", \"\\u043e\\u043e\\u043d\", \"\\u043e\\u043f\\u043f\\u043e\\u0437\\u0438\\u0446\\u0438\\u044f\", \"\\u043e\\u043f\\u043f\\u043e\\u0437\\u0438\\u0446\\u0438\\u044f\", \"\\u043e\\u0440\\u0431\\u0438\\u0442\\u0430\", \"\\u043e\\u0440\\u0433\\u0430\\u043d\", \"\\u043e\\u0440\\u0433\\u0430\\u043d\", \"\\u043e\\u0440\\u0433\\u0430\\u043d\", \"\\u043e\\u0440\\u0433\\u0430\\u043d\", \"\\u043e\\u0442\\u043c\\u0435\\u0442\\u0438\\u0442\\u044c\", \"\\u043e\\u0442\\u043c\\u0435\\u0442\\u0438\\u0442\\u044c\", \"\\u043e\\u0442\\u043c\\u0435\\u0442\\u0438\\u0442\\u044c\", \"\\u043e\\u0442\\u043c\\u0435\\u0442\\u0438\\u0442\\u044c\", \"\\u043e\\u0442\\u043c\\u0435\\u0442\\u0438\\u0442\\u044c\", \"\\u043e\\u0447\\u043a\\u043e\", \"\\u043f\\u0430\\u043b\\u0430\\u0442\\u0430\", \"\\u043f\\u0430\\u043b\\u0430\\u0442\\u0430\", \"\\u043f\\u0430\\u043b\\u0430\\u0442\\u0430\", \"\\u043f\\u0430\\u043b\\u0430\\u0442\\u0430\", \"\\u043f\\u0430\\u043b\\u0430\\u0442\\u0430\", \"\\u043f\\u0430\\u043b\\u0435\\u0441\\u0442\\u0438\\u043d\\u0435\\u0446\", \"\\u043f\\u0430\\u0440\\u043b\\u0430\\u043c\\u0435\\u043d\\u0442\", \"\\u043f\\u0430\\u0440\\u043b\\u0430\\u043c\\u0435\\u043d\\u0442\", \"\\u043f\\u0430\\u0440\\u043b\\u0430\\u043c\\u0435\\u043d\\u0442\\u0430\\u0440\\u0438\\u0439\", \"\\u043f\\u0430\\u0440\\u043b\\u0430\\u043c\\u0435\\u043d\\u0442\\u0441\\u043a\\u0438\\u0439\", \"\\u043f\\u0430\\u0440\\u0442\\u0438\\u044f\", \"\\u043f\\u0430\\u0440\\u0442\\u0438\\u044f\", \"\\u043f\\u0430\\u0440\\u0442\\u0438\\u044f\", \"\\u043f\\u0430\\u0440\\u0442\\u0438\\u044f\", \"\\u043f\\u0430\\u0440\\u0442\\u0438\\u044f\", \"\\u043f\\u0435\\u0432\\u0438\\u0446\\u0430\", \"\\u043f\\u0435\\u0440\\u0435\\u0441\\u0442\\u0440\\u0435\\u043b\\u043a\\u0430\", \"\\u043f\\u0435\\u0441\\u043d\\u044f\", \"\\u043f\\u0438\\u043b\\u043e\\u0442\", \"\\u043f\\u0438\\u043b\\u043e\\u0442\", \"\\u043f\\u0438\\u043b\\u043e\\u0442\", \"\\u043f\\u0438\\u0441\\u0442\\u043e\\u043b\\u0435\\u0442\", \"\\u043f\\u043e\\u0431\\u0435\\u0434\\u0430\", \"\\u043f\\u043e\\u0431\\u0435\\u0434\\u0430\", \"\\u043f\\u043e\\u0431\\u0435\\u0434\\u0430\", \"\\u043f\\u043e\\u0431\\u0435\\u0434\\u0430\", \"\\u043f\\u043e\\u0432\\u0435\\u0440\\u0445\\u043d\\u043e\\u0441\\u0442\\u044c\", \"\\u043f\\u043e\\u0432\\u0435\\u0440\\u0445\\u043d\\u043e\\u0441\\u0442\\u044c\", \"\\u043f\\u043e\\u0433\\u0438\\u0431\\u043d\\u0443\\u0442\\u044c\", \"\\u043f\\u043e\\u0433\\u0438\\u0431\\u043d\\u0443\\u0442\\u044c\", \"\\u043f\\u043e\\u0433\\u0438\\u0431\\u043d\\u0443\\u0442\\u044c\", \"\\u043f\\u043e\\u0433\\u0438\\u0431\\u043d\\u0443\\u0442\\u044c\", \"\\u043f\\u043e\\u0434\\u043e\\u0437\\u0440\\u0435\\u0432\\u0430\\u0442\\u044c\", \"\\u043f\\u043e\\u0434\\u043e\\u0437\\u0440\\u0435\\u0432\\u0430\\u0442\\u044c\", \"\\u043f\\u043e\\u0434\\u043e\\u0437\\u0440\\u0435\\u0432\\u0430\\u0442\\u044c\", \"\\u043f\\u043e\\u0434\\u043e\\u0437\\u0440\\u0435\\u0432\\u0430\\u0442\\u044c\", \"\\u043f\\u043e\\u0434\\u043e\\u0440\\u043e\\u0436\\u0430\\u0442\\u044c\", \"\\u043f\\u043e\\u0434\\u0441\\u0443\\u0434\\u0438\\u043c\\u044b\\u0439\", \"\\u043f\\u043e\\u0435\\u0434\\u0438\\u043d\\u043e\\u043a\", \"\\u043f\\u043e\\u0436\\u0430\\u0440\", \"\\u043f\\u043e\\u0436\\u0430\\u0440\", \"\\u043f\\u043e\\u0436\\u0430\\u0440\\u043d\\u044b\\u0439\", \"\\u043f\\u043e\\u043a\\u0430\\u0437\\u0430\\u0442\\u0435\\u043b\\u044c\", \"\\u043f\\u043e\\u043a\\u0430\\u0437\\u0430\\u0442\\u0435\\u043b\\u044c\", \"\\u043f\\u043e\\u043a\\u0430\\u0437\\u0430\\u0442\\u0435\\u043b\\u044c\", \"\\u043f\\u043e\\u043a\\u0430\\u0437\\u0430\\u0442\\u0435\\u043b\\u044c\", \"\\u043f\\u043e\\u043b\\u0438\\u0442\\u0438\\u0447\\u0435\\u0441\\u043a\\u0438\\u0439\", \"\\u043f\\u043e\\u043b\\u0438\\u0442\\u0438\\u0447\\u0435\\u0441\\u043a\\u0438\\u0439\", \"\\u043f\\u043e\\u043b\\u0438\\u0442\\u0438\\u0447\\u0435\\u0441\\u043a\\u0438\\u0439\", \"\\u043f\\u043e\\u043b\\u0438\\u0442\\u0438\\u0447\\u0435\\u0441\\u043a\\u0438\\u0439\", \"\\u043f\\u043e\\u043b\\u0438\\u0446\\u0435\\u0439\\u0441\\u043a\\u0438\\u0439\", \"\\u043f\\u043e\\u043b\\u0438\\u0446\\u0435\\u0439\\u0441\\u043a\\u0438\\u0439\", \"\\u043f\\u043e\\u043b\\u0438\\u0446\\u0435\\u0439\\u0441\\u043a\\u0438\\u0439\", \"\\u043f\\u043e\\u043b\\u0438\\u0446\\u0438\\u044f\", \"\\u043f\\u043e\\u043b\\u0438\\u0446\\u0438\\u044f\", \"\\u043f\\u043e\\u043b\\u0438\\u0446\\u0438\\u044f\", \"\\u043f\\u043e\\u043b\\u0438\\u0446\\u0438\\u044f\", \"\\u043f\\u043e\\u043b\\u0443\\u0447\\u0438\\u0442\\u044c\", \"\\u043f\\u043e\\u043b\\u0443\\u0447\\u0438\\u0442\\u044c\", \"\\u043f\\u043e\\u043b\\u0443\\u0447\\u0438\\u0442\\u044c\", \"\\u043f\\u043e\\u043b\\u0443\\u0447\\u0438\\u0442\\u044c\", \"\\u043f\\u043e\\u043b\\u0443\\u0447\\u0438\\u0442\\u044c\", \"\\u043f\\u043e\\u043b\\u044c\\u0437\\u043e\\u0432\\u0430\\u0442\\u0435\\u043b\\u044c\", \"\\u043f\\u043e\\u043b\\u044c\\u0437\\u043e\\u0432\\u0430\\u0442\\u0435\\u043b\\u044c\", \"\\u043f\\u043e\\u043b\\u044c\\u0437\\u043e\\u0432\\u0430\\u0442\\u0435\\u043b\\u044c\", \"\\u043f\\u043e\\u043b\\u0451\\u0442\", \"\\u043f\\u043e\\u043b\\u0451\\u0442\", \"\\u043f\\u043e\\u043b\\u0451\\u0442\", \"\\u043f\\u043e\\u043c\\u043e\\u0449\\u044c\", \"\\u043f\\u043e\\u043c\\u043e\\u0449\\u044c\", \"\\u043f\\u043e\\u043c\\u043e\\u0449\\u044c\", \"\\u043f\\u043e\\u043c\\u043e\\u0449\\u044c\", \"\\u043f\\u043e\\u043c\\u043e\\u0449\\u044c\", \"\\u043f\\u043e\\u0440\\u043e\\u0448\\u0435\\u043d\\u043a\\u043e\", \"\\u043f\\u043e\\u0441\\u0430\\u0434\\u043a\\u0430\", \"\\u043f\\u043e\\u0441\\u043b\\u0435\\u0434\\u043d\\u0438\\u0439\", \"\\u043f\\u043e\\u0441\\u043b\\u0435\\u0434\\u043d\\u0438\\u0439\", \"\\u043f\\u043e\\u0441\\u043b\\u0435\\u0434\\u043d\\u0438\\u0439\", \"\\u043f\\u043e\\u0441\\u043b\\u0435\\u0434\\u043d\\u0438\\u0439\", \"\\u043f\\u043e\\u0441\\u043b\\u0435\\u0434\\u043d\\u0438\\u0439\", \"\\u043f\\u043e\\u0441\\u0442\\u0430\\u0432\\u043a\\u0430\", \"\\u043f\\u043e\\u0441\\u0442\\u0430\\u0432\\u043a\\u0430\", \"\\u043f\\u043e\\u0441\\u0442\\u0430\\u0432\\u043a\\u0430\", \"\\u043f\\u043e\\u0441\\u0442\\u0430\\u0432\\u043a\\u0430\", \"\\u043f\\u043e\\u0441\\u0442\\u0440\\u0430\\u0434\\u0430\\u0442\\u044c\", \"\\u043f\\u043e\\u0441\\u0442\\u0440\\u0430\\u0434\\u0430\\u0442\\u044c\", \"\\u043f\\u043e\\u0441\\u0442\\u0440\\u0430\\u0434\\u0430\\u0442\\u044c\", \"\\u043f\\u043e\\u0441\\u0442\\u0440\\u0430\\u0434\\u0430\\u0442\\u044c\", \"\\u043f\\u043e\\u0441\\u0442\\u0440\\u0430\\u0434\\u0430\\u0442\\u044c\", \"\\u043f\\u043e\\u0442\\u0435\\u0440\\u043f\\u0435\\u0432\\u0448\\u0438\\u0439\", \"\\u043f\\u043e\\u0445\\u0438\\u0442\\u0438\\u0442\\u044c\", \"\\u043f\\u043e\\u0445\\u0438\\u0442\\u0438\\u0442\\u044c\", \"\\u043f\\u043e\\u0445\\u0438\\u0442\\u0438\\u0442\\u044c\", \"\\u043f\\u043e\\u0445\\u0438\\u0449\\u0435\\u043d\\u0438\\u0435\", \"\\u043f\\u0440\\u0430\\u0432\\u0438\\u0442\\u0435\\u043b\\u044c\\u0441\\u0442\\u0432\\u043e\", \"\\u043f\\u0440\\u0430\\u0432\\u0438\\u0442\\u0435\\u043b\\u044c\\u0441\\u0442\\u0432\\u043e\", \"\\u043f\\u0440\\u0430\\u0432\\u0438\\u0442\\u0435\\u043b\\u044c\\u0441\\u0442\\u0432\\u043e\", \"\\u043f\\u0440\\u0430\\u0432\\u0438\\u0442\\u0435\\u043b\\u044c\\u0441\\u0442\\u0432\\u043e\", \"\\u043f\\u0440\\u0430\\u0432\\u043e\", \"\\u043f\\u0440\\u0430\\u0432\\u043e\", \"\\u043f\\u0440\\u0430\\u0432\\u043e\", \"\\u043f\\u0440\\u0430\\u0432\\u043e\", \"\\u043f\\u0440\\u0430\\u0432\\u043e\", \"\\u043f\\u0440\\u0430\\u0432\\u043e\\u043e\\u0445\\u0440\\u0430\\u043d\\u0438\\u0442\\u0435\\u043b\\u044c\\u043d\\u044b\\u0439\", \"\\u043f\\u0440\\u0430\\u0432\\u043e\\u043e\\u0445\\u0440\\u0430\\u043d\\u0438\\u0442\\u0435\\u043b\\u044c\\u043d\\u044b\\u0439\", \"\\u043f\\u0440\\u0430\\u0432\\u043e\\u043e\\u0445\\u0440\\u0430\\u043d\\u0438\\u0442\\u0435\\u043b\\u044c\\u043d\\u044b\\u0439\", \"\\u043f\\u0440\\u0435\\u0434\\u043f\\u0440\\u0438\\u044f\\u0442\\u0438\\u0435\", \"\\u043f\\u0440\\u0435\\u0434\\u043f\\u0440\\u0438\\u044f\\u0442\\u0438\\u0435\", \"\\u043f\\u0440\\u0435\\u0434\\u043f\\u0440\\u0438\\u044f\\u0442\\u0438\\u0435\", \"\\u043f\\u0440\\u0435\\u0434\\u043f\\u0440\\u0438\\u044f\\u0442\\u0438\\u0435\", \"\\u043f\\u0440\\u0435\\u0434\\u0441\\u0442\\u0430\\u0432\\u0438\\u0442\\u0435\\u043b\\u044c\", \"\\u043f\\u0440\\u0435\\u0434\\u0441\\u0442\\u0430\\u0432\\u0438\\u0442\\u0435\\u043b\\u044c\", \"\\u043f\\u0440\\u0435\\u0434\\u0441\\u0442\\u0430\\u0432\\u0438\\u0442\\u0435\\u043b\\u044c\", \"\\u043f\\u0440\\u0435\\u0434\\u0441\\u0442\\u0430\\u0432\\u0438\\u0442\\u0435\\u043b\\u044c\", \"\\u043f\\u0440\\u0435\\u0434\\u0441\\u0442\\u0430\\u0432\\u0438\\u0442\\u0435\\u043b\\u044c\", \"\\u043f\\u0440\\u0435\\u0437\\u0438\\u0434\\u0435\\u043d\\u0442\", \"\\u043f\\u0440\\u0435\\u0437\\u0438\\u0434\\u0435\\u043d\\u0442\", \"\\u043f\\u0440\\u0435\\u0437\\u0438\\u0434\\u0435\\u043d\\u0442\", \"\\u043f\\u0440\\u0435\\u0437\\u0438\\u0434\\u0435\\u043d\\u0442\", \"\\u043f\\u0440\\u0435\\u0437\\u0438\\u0434\\u0435\\u043d\\u0442\", \"\\u043f\\u0440\\u0435\\u0437\\u0438\\u0434\\u0435\\u043d\\u0442\\u0441\\u043a\\u0438\\u0439\", \"\\u043f\\u0440\\u0435\\u0437\\u0438\\u0434\\u0435\\u043d\\u0442\\u0441\\u043a\\u0438\\u0439\", \"\\u043f\\u0440\\u0435\\u0437\\u0438\\u0434\\u0435\\u043d\\u0442\\u0441\\u043a\\u0438\\u0439\", \"\\u043f\\u0440\\u0435\\u043c\\u0438\\u044f\", \"\\u043f\\u0440\\u0435\\u043c\\u0438\\u044f\", \"\\u043f\\u0440\\u0435\\u043c\\u0438\\u044f\", \"\\u043f\\u0440\\u0435\\u043c\\u0438\\u044f\", \"\\u043f\\u0440\\u0435\\u043c\\u044c\\u0435\\u0440\", \"\\u043f\\u0440\\u0435\\u043c\\u044c\\u0435\\u0440\", \"\\u043f\\u0440\\u0435\\u043c\\u044c\\u0435\\u0440\", \"\\u043f\\u0440\\u0435\\u043c\\u044c\\u0435\\u0440\", \"\\u043f\\u0440\\u0435\\u0441\\u0442\\u0443\\u043f\\u043b\\u0435\\u043d\\u0438\\u0435\", \"\\u043f\\u0440\\u0435\\u0441\\u0442\\u0443\\u043f\\u043b\\u0435\\u043d\\u0438\\u0435\", \"\\u043f\\u0440\\u0435\\u0441\\u0442\\u0443\\u043f\\u043b\\u0435\\u043d\\u0438\\u0435\", \"\\u043f\\u0440\\u0435\\u0441\\u0442\\u0443\\u043f\\u043b\\u0435\\u043d\\u0438\\u0435\", \"\\u043f\\u0440\\u0435\\u0441\\u0442\\u0443\\u043f\\u043d\\u0438\\u043a\", \"\\u043f\\u0440\\u0435\\u0441\\u0442\\u0443\\u043f\\u043d\\u0438\\u043a\", \"\\u043f\\u0440\\u0438\\u0433\\u043e\\u0432\\u043e\\u0440\\u0438\\u0442\\u044c\", \"\\u043f\\u0440\\u0438\\u0433\\u043e\\u0432\\u043e\\u0440\\u0438\\u0442\\u044c\", \"\\u043f\\u0440\\u0438\\u043b\\u043e\\u0436\\u0435\\u043d\\u0438\\u0435\", \"\\u043f\\u0440\\u0438\\u043b\\u043e\\u0436\\u0435\\u043d\\u0438\\u0435\", \"\\u043f\\u0440\\u0438\\u043d\\u044f\\u0442\\u044c\", \"\\u043f\\u0440\\u0438\\u043d\\u044f\\u0442\\u044c\", \"\\u043f\\u0440\\u0438\\u043d\\u044f\\u0442\\u044c\", \"\\u043f\\u0440\\u0438\\u043d\\u044f\\u0442\\u044c\", \"\\u043f\\u0440\\u0438\\u043d\\u044f\\u0442\\u044c\", \"\\u043f\\u0440\\u043e\\u0434\\u0430\\u0436\\u0430\", \"\\u043f\\u0440\\u043e\\u0434\\u0430\\u0436\\u0430\", \"\\u043f\\u0440\\u043e\\u0434\\u0430\\u0436\\u0430\", \"\\u043f\\u0440\\u043e\\u0434\\u0430\\u0436\\u0430\", \"\\u043f\\u0440\\u043e\\u0434\\u0430\\u0436\\u0430\", \"\\u043f\\u0440\\u043e\\u0435\\u043a\\u0442\", \"\\u043f\\u0440\\u043e\\u0435\\u043a\\u0442\", \"\\u043f\\u0440\\u043e\\u0435\\u043a\\u0442\", \"\\u043f\\u0440\\u043e\\u0435\\u043a\\u0442\", \"\\u043f\\u0440\\u043e\\u0438\\u0437\\u043e\\u0439\\u0442\\u0438\", \"\\u043f\\u0440\\u043e\\u0438\\u0437\\u043e\\u0439\\u0442\\u0438\", \"\\u043f\\u0440\\u043e\\u0438\\u0437\\u043e\\u0439\\u0442\\u0438\", \"\\u043f\\u0440\\u043e\\u0438\\u0437\\u043e\\u0439\\u0442\\u0438\", \"\\u043f\\u0440\\u043e\\u0438\\u0437\\u043e\\u0439\\u0442\\u0438\", \"\\u043f\\u0440\\u043e\\u0438\\u0441\\u0448\\u0435\\u0441\\u0442\\u0432\\u0438\\u0435\", \"\\u043f\\u0440\\u043e\\u0438\\u0441\\u0448\\u0435\\u0441\\u0442\\u0432\\u0438\\u0435\", \"\\u043f\\u0440\\u043e\\u0439\\u0442\\u0438\", \"\\u043f\\u0440\\u043e\\u0439\\u0442\\u0438\", \"\\u043f\\u0440\\u043e\\u0439\\u0442\\u0438\", \"\\u043f\\u0440\\u043e\\u0439\\u0442\\u0438\", \"\\u043f\\u0440\\u043e\\u0439\\u0442\\u0438\", \"\\u043f\\u0440\\u043e\\u0446\\u0435\\u043d\\u0442\", \"\\u043f\\u0440\\u043e\\u0446\\u0435\\u043d\\u0442\", \"\\u043f\\u0440\\u043e\\u0446\\u0435\\u043d\\u0442\", \"\\u043f\\u0440\\u043e\\u0446\\u0435\\u043d\\u0442\", \"\\u043f\\u0440\\u043e\\u0446\\u0435\\u0441\\u0441\\u043e\\u0440\", \"\\u043f\\u0442\\u0438\\u0446\\u0430\", \"\\u043f\\u0442\\u0438\\u0446\\u0430\", \"\\u043f\\u0442\\u0438\\u0446\\u0430\", \"\\u043f\\u0443\\u0442\\u0438\\u043d\", \"\\u043f\\u0443\\u0442\\u0438\\u043d\", \"\\u043f\\u0443\\u0442\\u0438\\u043d\", \"\\u0440\\u0430\\u0431\\u043e\\u0442\\u0430\", \"\\u0440\\u0430\\u0431\\u043e\\u0442\\u0430\", \"\\u0440\\u0430\\u0431\\u043e\\u0442\\u0430\", \"\\u0440\\u0430\\u0431\\u043e\\u0442\\u0430\", \"\\u0440\\u0430\\u0431\\u043e\\u0442\\u0430\", \"\\u0440\\u0430\\u0437\\u0440\\u0430\\u0431\\u043e\\u0442\\u0447\\u0438\\u043a\", \"\\u0440\\u0430\\u0437\\u0440\\u0430\\u0431\\u043e\\u0442\\u0447\\u0438\\u043a\", \"\\u0440\\u0430\\u0437\\u0440\\u0430\\u0431\\u043e\\u0442\\u0447\\u0438\\u043a\", \"\\u0440\\u0430\\u0439\\u043e\\u043d\", \"\\u0440\\u0430\\u0439\\u043e\\u043d\", \"\\u0440\\u0430\\u0439\\u043e\\u043d\", \"\\u0440\\u0430\\u0439\\u043e\\u043d\", \"\\u0440\\u0430\\u043a\\u0435\\u0442\\u0430\", \"\\u0440\\u0430\\u043a\\u0435\\u0442\\u0430\", \"\\u0440\\u0430\\u043a\\u0435\\u0442\\u0430\", \"\\u0440\\u0430\\u043a\\u0435\\u0442\\u0430\", \"\\u0440\\u0430\\u043d\\u0435\\u043d\\u0438\\u0435\", \"\\u0440\\u0430\\u043d\\u0435\\u043d\\u044b\\u0439\", \"\\u0440\\u0430\\u043d\\u0438\\u0442\\u044c\", \"\\u0440\\u0430\\u0441\\u0442\\u0435\\u043d\\u0438\\u0435\", \"\\u0440\\u0435\\u0436\\u0438\\u0441\\u0441\\u0451\\u0440\", \"\\u0440\\u0435\\u0437\\u043e\\u043b\\u044e\\u0446\\u0438\\u044f\", \"\\u0440\\u0435\\u0437\\u0443\\u043b\\u044c\\u0442\\u0430\\u0442\", \"\\u0440\\u0435\\u0437\\u0443\\u043b\\u044c\\u0442\\u0430\\u0442\", \"\\u0440\\u0435\\u0437\\u0443\\u043b\\u044c\\u0442\\u0430\\u0442\", \"\\u0440\\u0435\\u0437\\u0443\\u043b\\u044c\\u0442\\u0430\\u0442\", \"\\u0440\\u0435\\u0437\\u0443\\u043b\\u044c\\u0442\\u0430\\u0442\", \"\\u0440\\u0435\\u0439\\u0441\", \"\\u0440\\u0435\\u0439\\u0441\", \"\\u0440\\u0435\\u0439\\u0441\", \"\\u0440\\u0435\\u0441\\u043f\\u0443\\u0431\\u043b\\u0438\\u043a\\u0430\", \"\\u0440\\u0435\\u0441\\u043f\\u0443\\u0431\\u043b\\u0438\\u043a\\u0430\", \"\\u0440\\u0435\\u0441\\u043f\\u0443\\u0431\\u043b\\u0438\\u043a\\u0430\", \"\\u0440\\u0435\\u0444\\u0435\\u0440\\u0435\\u043d\\u0434\\u0443\\u043c\", \"\\u0440\\u0435\\u0448\\u0435\\u043d\\u0438\\u0435\", \"\\u0440\\u0435\\u0448\\u0435\\u043d\\u0438\\u0435\", \"\\u0440\\u0435\\u0448\\u0435\\u043d\\u0438\\u0435\", \"\\u0440\\u0435\\u0448\\u0435\\u043d\\u0438\\u0435\", \"\\u0440\\u0435\\u0448\\u0435\\u043d\\u0438\\u0435\", \"\\u0440\\u043e\\u0431\\u043e\\u0442\", \"\\u0440\\u043e\\u0431\\u043e\\u0442\", \"\\u0440\\u043e\\u043b\\u044c\", \"\\u0440\\u043e\\u043b\\u044c\", \"\\u0440\\u043e\\u043b\\u044c\", \"\\u0440\\u043e\\u043b\\u044c\", \"\\u0440\\u043e\\u043b\\u044c\", \"\\u0440\\u043e\\u0441\\u043d\\u0435\\u0444\\u0442\\u044c\", \"\\u0440\\u043e\\u0441\\u0441\\u0438\\u0439\\u0441\\u043a\\u0438\\u0439\", \"\\u0440\\u043e\\u0441\\u0441\\u0438\\u0439\\u0441\\u043a\\u0438\\u0439\", \"\\u0440\\u043e\\u0441\\u0441\\u0438\\u0439\\u0441\\u043a\\u0438\\u0439\", \"\\u0440\\u043e\\u0441\\u0441\\u0438\\u0439\\u0441\\u043a\\u0438\\u0439\", \"\\u0440\\u043e\\u0441\\u0441\\u0438\\u0439\\u0441\\u043a\\u0438\\u0439\", \"\\u0440\\u043e\\u0441\\u0441\\u0438\\u044f\", \"\\u0440\\u043e\\u0441\\u0441\\u0438\\u044f\", \"\\u0440\\u043e\\u0441\\u0441\\u0438\\u044f\", \"\\u0440\\u043e\\u0441\\u0441\\u0438\\u044f\", \"\\u0440\\u043e\\u0441\\u0441\\u0438\\u044f\", \"\\u0440\\u043e\\u0441\\u0442\", \"\\u0440\\u043e\\u0441\\u0442\", \"\\u0440\\u043e\\u0441\\u0442\", \"\\u0440\\u043e\\u0441\\u0442\", \"\\u0440\\u043e\\u0441\\u0442\", \"\\u0440\\u0442\\u0441\", \"\\u0440\\u0443\\u0431\\u043b\\u044c\", \"\\u0440\\u0443\\u0431\\u043b\\u044c\", \"\\u0440\\u0443\\u0431\\u043b\\u044c\", \"\\u0440\\u0443\\u0431\\u043b\\u044c\", \"\\u0440\\u0443\\u0431\\u043b\\u044c\", \"\\u0440\\u044b\\u043d\\u043e\\u043a\", \"\\u0440\\u044b\\u043d\\u043e\\u043a\", \"\\u0440\\u044b\\u043d\\u043e\\u043a\", \"\\u0440\\u044b\\u043d\\u043e\\u043a\", \"\\u0441\\u0430\\u0430\\u043a\\u0430\\u0448\\u0432\\u0438\\u043b\\u0438\", \"\\u0441\\u0430\\u0439\\u0442\", \"\\u0441\\u0430\\u0439\\u0442\", \"\\u0441\\u0430\\u0439\\u0442\", \"\\u0441\\u0430\\u0439\\u0442\", \"\\u0441\\u0430\\u0439\\u0442\", \"\\u0441\\u0430\\u043c\\u043e\\u043b\\u0451\\u0442\", \"\\u0441\\u0430\\u043c\\u043e\\u043b\\u0451\\u0442\", \"\\u0441\\u0430\\u043c\\u043e\\u043b\\u0451\\u0442\", \"\\u0441\\u0430\\u043c\\u043e\\u043b\\u0451\\u0442\", \"\\u0441\\u0430\\u043c\\u043e\\u043f\\u0440\\u043e\\u0432\\u043e\\u0437\\u0433\\u043b\\u0430\\u0448\\u0451\\u043d\\u043d\\u044b\\u0439\", \"\\u0441\\u0431\\u0435\\u0440\\u0431\\u0430\\u043d\\u043a\", \"\\u0441\\u0431\\u043e\\u0440\\u043d\\u0430\\u044f\", \"\\u0441\\u0432\\u043e\\u0439\", \"\\u0441\\u0432\\u043e\\u0439\", \"\\u0441\\u0432\\u043e\\u0439\", \"\\u0441\\u0432\\u043e\\u0439\", \"\\u0441\\u0432\\u043e\\u0439\", \"\\u0441\\u0434\\u0435\\u043b\\u043a\\u0430\", \"\\u0441\\u0434\\u0435\\u043b\\u043a\\u0430\", \"\\u0441\\u0434\\u0435\\u043b\\u043a\\u0430\", \"\\u0441\\u0434\\u0435\\u043b\\u043a\\u0430\", \"\\u0441\\u0434\\u0435\\u043b\\u043a\\u0430\", \"\\u0441\\u0435\\u0437\\u043e\\u043d\", \"\\u0441\\u0435\\u0437\\u043e\\u043d\", \"\\u0441\\u0435\\u0437\\u043e\\u043d\", \"\\u0441\\u0435\\u0437\\u043e\\u043d\", \"\\u0441\\u0435\\u0437\\u043e\\u043d\", \"\\u0441\\u0435\\u0440\\u0432\\u0435\\u0440\", \"\\u0441\\u0435\\u0440\\u0432\\u0438\\u0441\", \"\\u0441\\u0435\\u0440\\u0432\\u0438\\u0441\", \"\\u0441\\u0435\\u0440\\u0432\\u0438\\u0441\", \"\\u0441\\u0435\\u0440\\u0438\\u0430\\u043b\", \"\\u0441\\u0435\\u0442\\u044c\", \"\\u0441\\u0435\\u0442\\u044c\", \"\\u0441\\u0435\\u0442\\u044c\", \"\\u0441\\u0435\\u0442\\u044c\", \"\\u0441\\u0435\\u0442\\u044c\", \"\\u0441\\u0438\\u0440\\u0438\\u044f\", \"\\u0441\\u0438\\u0440\\u0438\\u044f\", \"\\u0441\\u0438\\u0440\\u0438\\u044f\", \"\\u0441\\u0438\\u0441\\u0442\\u0435\\u043c\\u0430\", \"\\u0441\\u0438\\u0441\\u0442\\u0435\\u043c\\u0430\", \"\\u0441\\u0438\\u0441\\u0442\\u0435\\u043c\\u0430\", \"\\u0441\\u0438\\u0441\\u0442\\u0435\\u043c\\u0430\", \"\\u0441\\u0438\\u0441\\u0442\\u0435\\u043c\\u0430\", \"\\u0441\\u043a\\u043e\\u0440\\u043e\\u0441\\u0442\\u044c\", \"\\u0441\\u043a\\u043e\\u0440\\u043e\\u0441\\u0442\\u044c\", \"\\u0441\\u043a\\u043e\\u0440\\u043e\\u0441\\u0442\\u044c\", \"\\u0441\\u043a\\u043e\\u0440\\u043e\\u0441\\u0442\\u044c\", \"\\u0441\\u043a\\u0440\\u044b\\u0442\\u044c\\u0441\\u044f\", \"\\u0441\\u043b\\u0435\\u0434\\u043e\\u0432\\u0430\\u0442\\u0435\\u043b\\u044c\", \"\\u0441\\u043b\\u0435\\u0434\\u043e\\u0432\\u0430\\u0442\\u0435\\u043b\\u044c\", \"\\u0441\\u043b\\u0435\\u0434\\u0441\\u0442\\u0432\\u0435\\u043d\\u043d\\u044b\\u0439\", \"\\u0441\\u043b\\u0435\\u0434\\u0441\\u0442\\u0432\\u0435\\u043d\\u043d\\u044b\\u0439\", \"\\u0441\\u043b\\u0435\\u0434\\u0441\\u0442\\u0432\\u0438\\u0435\", \"\\u0441\\u043b\\u0435\\u0434\\u0441\\u0442\\u0432\\u0438\\u0435\", \"\\u0441\\u043b\\u0435\\u0434\\u0441\\u0442\\u0432\\u0438\\u0435\", \"\\u0441\\u043b\\u0435\\u0434\\u0441\\u0442\\u0432\\u0438\\u0435\", \"\\u0441\\u043b\\u043e\\u0432\\u043e\", \"\\u0441\\u043b\\u043e\\u0432\\u043e\", \"\\u0441\\u043b\\u043e\\u0432\\u043e\", \"\\u0441\\u043b\\u043e\\u0432\\u043e\", \"\\u0441\\u043b\\u043e\\u0432\\u043e\", \"\\u0441\\u043b\\u0443\\u0436\\u0431\\u0430\", \"\\u0441\\u043b\\u0443\\u0436\\u0431\\u0430\", \"\\u0441\\u043b\\u0443\\u0436\\u0431\\u0430\", \"\\u0441\\u043b\\u0443\\u0436\\u0431\\u0430\", \"\\u0441\\u043b\\u0443\\u0436\\u0431\\u0430\", \"\\u0441\\u043c\\u0430\\u0440\\u0442\\u0444\\u043e\\u043d\", \"\\u0441\\u043c\\u0430\\u0440\\u0442\\u0444\\u043e\\u043d\", \"\\u0441\\u043d\\u0438\\u0437\\u0438\\u0442\\u044c\\u0441\\u044f\", \"\\u0441\\u043d\\u0438\\u0437\\u0438\\u0442\\u044c\\u0441\\u044f\", \"\\u0441\\u043d\\u0438\\u0437\\u0438\\u0442\\u044c\\u0441\\u044f\", \"\\u0441\\u043e\\u0432\\u0435\\u0442\", \"\\u0441\\u043e\\u0432\\u0435\\u0442\", \"\\u0441\\u043e\\u0432\\u0435\\u0442\", \"\\u0441\\u043e\\u0432\\u0435\\u0442\", \"\\u0441\\u043e\\u0432\\u0435\\u0442\", \"\\u0441\\u043e\\u043b\\u043d\\u0435\\u0447\\u043d\\u044b\\u0439\", \"\\u0441\\u043e\\u043e\\u0431\\u0449\\u0430\\u0442\\u044c\", \"\\u0441\\u043e\\u043e\\u0431\\u0449\\u0430\\u0442\\u044c\", \"\\u0441\\u043e\\u043e\\u0431\\u0449\\u0430\\u0442\\u044c\", \"\\u0441\\u043e\\u043e\\u0431\\u0449\\u0430\\u0442\\u044c\", \"\\u0441\\u043e\\u043e\\u0431\\u0449\\u0430\\u0442\\u044c\", \"\\u0441\\u043e\\u043e\\u0431\\u0449\\u0430\\u0442\\u044c\\u0441\\u044f\", \"\\u0441\\u043e\\u043e\\u0431\\u0449\\u0430\\u0442\\u044c\\u0441\\u044f\", \"\\u0441\\u043e\\u043e\\u0431\\u0449\\u0430\\u0442\\u044c\\u0441\\u044f\", \"\\u0441\\u043e\\u043e\\u0431\\u0449\\u0430\\u0442\\u044c\\u0441\\u044f\", \"\\u0441\\u043e\\u043e\\u0431\\u0449\\u0430\\u0442\\u044c\\u0441\\u044f\", \"\\u0441\\u043e\\u043e\\u0431\\u0449\\u0438\\u0442\\u044c\", \"\\u0441\\u043e\\u043e\\u0431\\u0449\\u0438\\u0442\\u044c\", \"\\u0441\\u043e\\u043e\\u0431\\u0449\\u0438\\u0442\\u044c\", \"\\u0441\\u043e\\u043e\\u0431\\u0449\\u0438\\u0442\\u044c\", \"\\u0441\\u043e\\u043e\\u0431\\u0449\\u0438\\u0442\\u044c\", \"\\u0441\\u043e\\u0440\\u0435\\u0432\\u043d\\u043e\\u0432\\u0430\\u043d\\u0438\\u0435\", \"\\u0441\\u043e\\u0441\\u0442\\u0430\\u0432\\u0438\\u0442\\u044c\", \"\\u0441\\u043e\\u0441\\u0442\\u0430\\u0432\\u0438\\u0442\\u044c\", \"\\u0441\\u043e\\u0441\\u0442\\u0430\\u0432\\u0438\\u0442\\u044c\", \"\\u0441\\u043e\\u0441\\u0442\\u0430\\u0432\\u0438\\u0442\\u044c\", \"\\u0441\\u043e\\u0441\\u0442\\u0430\\u0432\\u0438\\u0442\\u044c\", \"\\u0441\\u043e\\u0441\\u0442\\u0430\\u0432\\u043b\\u044f\\u0442\\u044c\", \"\\u0441\\u043e\\u0441\\u0442\\u0430\\u0432\\u043b\\u044f\\u0442\\u044c\", \"\\u0441\\u043e\\u0441\\u0442\\u0430\\u0432\\u043b\\u044f\\u0442\\u044c\", \"\\u0441\\u043e\\u0441\\u0442\\u0430\\u0432\\u043b\\u044f\\u0442\\u044c\", \"\\u0441\\u043e\\u0441\\u0442\\u0430\\u0432\\u043b\\u044f\\u0442\\u044c\", \"\\u0441\\u043e\\u0441\\u0442\\u043e\\u044f\\u0442\\u044c\\u0441\\u044f\", \"\\u0441\\u043e\\u0441\\u0442\\u043e\\u044f\\u0442\\u044c\\u0441\\u044f\", \"\\u0441\\u043e\\u0441\\u0442\\u043e\\u044f\\u0442\\u044c\\u0441\\u044f\", \"\\u0441\\u043e\\u0441\\u0442\\u043e\\u044f\\u0442\\u044c\\u0441\\u044f\", \"\\u0441\\u043e\\u0441\\u0442\\u043e\\u044f\\u0442\\u044c\\u0441\\u044f\", \"\\u0441\\u043e\\u0442\\u0440\\u0443\\u0434\\u043d\\u0438\\u043a\", \"\\u0441\\u043e\\u0442\\u0440\\u0443\\u0434\\u043d\\u0438\\u043a\", \"\\u0441\\u043e\\u0442\\u0440\\u0443\\u0434\\u043d\\u0438\\u043a\", \"\\u0441\\u043e\\u0442\\u0440\\u0443\\u0434\\u043d\\u0438\\u043a\", \"\\u0441\\u043e\\u0442\\u0440\\u0443\\u0434\\u043d\\u0438\\u043a\", \"\\u0441\\u043f\\u0435\\u0446\\u0438\\u0430\\u043b\\u0438\\u0441\\u0442\", \"\\u0441\\u043f\\u0435\\u0446\\u0438\\u0430\\u043b\\u0438\\u0441\\u0442\", \"\\u0441\\u043f\\u0435\\u0446\\u0438\\u0430\\u043b\\u0438\\u0441\\u0442\", \"\\u0441\\u043f\\u0435\\u0446\\u0438\\u0430\\u043b\\u0438\\u0441\\u0442\", \"\\u0441\\u043f\\u0435\\u0446\\u0438\\u0430\\u043b\\u0438\\u0441\\u0442\", \"\\u0441\\u043f\\u0438\\u043a\\u0435\\u0440\", \"\\u0441\\u043f\\u043e\\u0440\\u0442\\u0441\\u043c\\u0435\\u043d\", \"\\u0441\\u043f\\u0440\\u043e\\u0441\", \"\\u0441\\u043f\\u0440\\u043e\\u0441\", \"\\u0441\\u043f\\u0443\\u0442\\u043d\\u0438\\u043a\", \"\\u0441\\u043f\\u0443\\u0442\\u043d\\u0438\\u043a\", \"\\u0441\\u0440\\u0435\\u0434\\u0441\\u0442\\u0432\\u043e\", \"\\u0441\\u0440\\u0435\\u0434\\u0441\\u0442\\u0432\\u043e\", \"\\u0441\\u0440\\u0435\\u0434\\u0441\\u0442\\u0432\\u043e\", \"\\u0441\\u0440\\u0435\\u0434\\u0441\\u0442\\u0432\\u043e\", \"\\u0441\\u0440\\u0435\\u0434\\u0441\\u0442\\u0432\\u043e\", \"\\u0441\\u0442\\u0430\\u0432\\u043a\\u0430\", \"\\u0441\\u0442\\u0430\\u0432\\u043a\\u0430\", \"\\u0441\\u0442\\u0430\\u0432\\u043a\\u0430\", \"\\u0441\\u0442\\u0430\\u0432\\u043a\\u0430\", \"\\u0441\\u0442\\u0430\\u0442\\u044c\", \"\\u0441\\u0442\\u0430\\u0442\\u044c\", \"\\u0441\\u0442\\u0430\\u0442\\u044c\", \"\\u0441\\u0442\\u0430\\u0442\\u044c\", \"\\u0441\\u0442\\u0430\\u0442\\u044c\", \"\\u0441\\u0442\\u043e\\u0438\\u043c\\u043e\\u0441\\u0442\\u044c\", \"\\u0441\\u0442\\u043e\\u0438\\u043c\\u043e\\u0441\\u0442\\u044c\", \"\\u0441\\u0442\\u043e\\u0438\\u043c\\u043e\\u0441\\u0442\\u044c\", \"\\u0441\\u0442\\u043e\\u0438\\u043c\\u043e\\u0441\\u0442\\u044c\", \"\\u0441\\u0442\\u043e\\u0438\\u043c\\u043e\\u0441\\u0442\\u044c\", \"\\u0441\\u0442\\u0440\\u0430\\u0436\\u0430\", \"\\u0441\\u0442\\u0440\\u0430\\u0436\\u0430\", \"\\u0441\\u0442\\u0440\\u0430\\u043d\\u0430\", \"\\u0441\\u0442\\u0440\\u0430\\u043d\\u0430\", \"\\u0441\\u0442\\u0440\\u0430\\u043d\\u0430\", \"\\u0441\\u0442\\u0440\\u0430\\u043d\\u0430\", \"\\u0441\\u0442\\u0440\\u0430\\u043d\\u0430\", \"\\u0441\\u0442\\u0440\\u0435\\u043b\\u044f\\u0442\\u044c\", \"\\u0441\\u0442\\u0440\\u043e\\u0438\\u0442\\u0435\\u043b\\u044c\\u0441\\u0442\\u0432\\u043e\", \"\\u0441\\u0442\\u0440\\u043e\\u0438\\u0442\\u0435\\u043b\\u044c\\u0441\\u0442\\u0432\\u043e\", \"\\u0441\\u0442\\u0440\\u043e\\u0438\\u0442\\u0435\\u043b\\u044c\\u0441\\u0442\\u0432\\u043e\", \"\\u0441\\u0442\\u0440\\u043e\\u0438\\u0442\\u0435\\u043b\\u044c\\u0441\\u0442\\u0432\\u043e\", \"\\u0441\\u0443\\u0434\", \"\\u0441\\u0443\\u0434\", \"\\u0441\\u0443\\u0434\", \"\\u0441\\u0443\\u0434\", \"\\u0441\\u0443\\u0434\", \"\\u0441\\u0443\\u043c\\u043c\\u0430\", \"\\u0441\\u0443\\u043c\\u043c\\u0430\", \"\\u0441\\u0443\\u043c\\u043c\\u0430\", \"\\u0441\\u0443\\u043c\\u043c\\u0430\", \"\\u0441\\u0443\\u043c\\u043c\\u0430\", \"\\u0441\\u0447\\u0451\\u0442\", \"\\u0441\\u0447\\u0451\\u0442\", \"\\u0441\\u0447\\u0451\\u0442\", \"\\u0441\\u0447\\u0451\\u0442\", \"\\u0441\\u0447\\u0451\\u0442\", \"\\u0441\\u0448\\u0430\", \"\\u0441\\u0448\\u0430\", \"\\u0441\\u0448\\u0430\", \"\\u0441\\u0448\\u0430\", \"\\u0441\\u0448\\u0430\", \"\\u0441\\u044b\\u0433\\u0440\\u0430\\u0442\\u044c\", \"\\u0441\\u044b\\u0433\\u0440\\u0430\\u0442\\u044c\", \"\\u0441\\u044b\\u0433\\u0440\\u0430\\u0442\\u044c\", \"\\u0442\\u0430\\u043d\\u043a\\u0435\\u0440\", \"\\u0442\\u0435\\u0430\\u0442\\u0440\", \"\\u0442\\u0435\\u0430\\u0442\\u0440\", \"\\u0442\\u0435\\u0430\\u0442\\u0440\", \"\\u0442\\u0435\\u043b\\u0435\\u0441\\u043a\\u043e\\u043f\", \"\\u0442\\u0435\\u043c\\u043f\\u0435\\u0440\\u0430\\u0442\\u0443\\u0440\\u0430\", \"\\u0442\\u0435\\u043c\\u043f\\u0435\\u0440\\u0430\\u0442\\u0443\\u0440\\u0430\", \"\\u0442\\u0435\\u0440\\u0430\\u043a\\u0442\", \"\\u0442\\u0435\\u0440\\u0430\\u043a\\u0442\", \"\\u0442\\u0435\\u0440\\u0430\\u043a\\u0442\", \"\\u0442\\u0438\\u043c\\u043e\\u0448\\u0435\\u043d\\u043a\\u043e\", \"\\u0442\\u0438\\u043c\\u043e\\u0448\\u0435\\u043d\\u043a\\u043e\", \"\\u0442\\u043e\\u0440\\u0433\", \"\\u0442\\u043e\\u0440\\u0433\", \"\\u0442\\u043e\\u0440\\u0433\", \"\\u0442\\u0440\\u0435\\u043d\\u0435\\u0440\", \"\\u0442\\u0440\\u0438\\u043b\\u043b\\u0438\\u043e\\u043d\", \"\\u0442\\u0443\\u0440\\u043d\\u0438\\u0440\", \"\\u0442\\u044b\\u0441\\u044f\\u0447\\u0430\", \"\\u0442\\u044b\\u0441\\u044f\\u0447\\u0430\", \"\\u0442\\u044b\\u0441\\u044f\\u0447\\u0430\", \"\\u0442\\u044b\\u0441\\u044f\\u0447\\u0430\", \"\\u0442\\u044b\\u0441\\u044f\\u0447\\u0430\", \"\\u0443\\u0431\\u0438\\u0439\\u0441\\u0442\\u0432\\u043e\", \"\\u0443\\u0431\\u0438\\u0439\\u0441\\u0442\\u0432\\u043e\", \"\\u0443\\u0431\\u0438\\u0439\\u0441\\u0442\\u0432\\u043e\", \"\\u0443\\u0431\\u0438\\u0442\\u044b\\u0439\", \"\\u0443\\u0431\\u0438\\u0442\\u044c\", \"\\u0443\\u0431\\u0438\\u0442\\u044c\", \"\\u0443\\u0431\\u0438\\u0442\\u044c\", \"\\u0443\\u0431\\u0438\\u0442\\u044c\", \"\\u0443\\u0433\\u043e\\u043b\\u043e\\u0432\\u043d\\u044b\\u0439\", \"\\u0443\\u0433\\u043e\\u043b\\u043e\\u0432\\u043d\\u044b\\u0439\", \"\\u0443\\u043a\\u0430\\u0437\", \"\\u0443\\u043a\\u0440\\u0430\\u0438\\u043d\\u0430\", \"\\u0443\\u043a\\u0440\\u0430\\u0438\\u043d\\u0430\", \"\\u0443\\u043a\\u0440\\u0430\\u0438\\u043d\\u0430\", \"\\u0443\\u043a\\u0440\\u0430\\u0438\\u043d\\u0430\", \"\\u0443\\u043a\\u0440\\u0430\\u0438\\u043d\\u0441\\u043a\\u0438\\u0439\", \"\\u0443\\u043a\\u0440\\u0430\\u0438\\u043d\\u0441\\u043a\\u0438\\u0439\", \"\\u0443\\u043a\\u0440\\u0430\\u0438\\u043d\\u0441\\u043a\\u0438\\u0439\", \"\\u0443\\u043a\\u0440\\u0430\\u0438\\u043d\\u0441\\u043a\\u0438\\u0439\", \"\\u0443\\u043a\\u0440\\u0430\\u0438\\u043d\\u0441\\u043a\\u0438\\u0439\", \"\\u0443\\u043b\\u0438\\u0446\\u0430\", \"\\u0443\\u043b\\u0438\\u0446\\u0430\", \"\\u0443\\u043b\\u0438\\u0446\\u0430\", \"\\u0443\\u043b\\u0438\\u0446\\u0430\", \"\\u0443\\u043b\\u0438\\u0446\\u0430\", \"\\u0443\\u0441\\u0442\\u0440\\u043e\\u0439\\u0441\\u0442\\u0432\\u043e\", \"\\u0443\\u0441\\u0442\\u0440\\u043e\\u0439\\u0441\\u0442\\u0432\\u043e\", \"\\u0443\\u0441\\u0442\\u0440\\u043e\\u0439\\u0441\\u0442\\u0432\\u043e\", \"\\u0443\\u0447\\u0451\\u043d\\u044b\\u0439\", \"\\u0444\\u0430\\u0439\\u043b\", \"\\u0444\\u0435\\u0441\\u0442\\u0438\\u0432\\u0430\\u043b\\u044c\", \"\\u0444\\u0438\\u043b\\u044c\\u043c\", \"\\u0444\\u0438\\u043b\\u044c\\u043c\", \"\\u0444\\u0438\\u043d\\u0430\\u043b\", \"\\u0444\\u0438\\u043d\\u0430\\u043d\\u0441\\u043e\\u0432\\u044b\\u0439\", \"\\u0444\\u0438\\u043d\\u0430\\u043d\\u0441\\u043e\\u0432\\u044b\\u0439\", \"\\u0444\\u0438\\u043d\\u0430\\u043d\\u0441\\u043e\\u0432\\u044b\\u0439\", \"\\u0444\\u0438\\u043d\\u0430\\u043d\\u0441\\u043e\\u0432\\u044b\\u0439\", \"\\u0444\\u0438\\u043d\\u0430\\u043d\\u0441\\u043e\\u0432\\u044b\\u0439\", \"\\u0444\\u043e\\u043d\\u0434\\u043e\\u0432\\u044b\\u0439\", \"\\u0444\\u043e\\u0440\\u0432\\u0430\\u0440\\u0434\", \"\\u0444\\u0440\\u0430\\u043a\\u0446\\u0438\\u044f\", \"\\u0444\\u0443\\u0442\\u0431\\u043e\\u043b\", \"\\u0444\\u0443\\u0442\\u0431\\u043e\\u043b\\u0438\\u0441\\u0442\", \"\\u0444\\u0443\\u0442\\u0431\\u043e\\u043b\\u044c\\u043d\\u044b\\u0439\", \"\\u0445\\u0430\\u043a\\u0435\\u0440\", \"\\u0445\\u043e\\u0440\\u043e\\u0448\\u0438\\u0439\", \"\\u0445\\u043e\\u0440\\u043e\\u0448\\u0438\\u0439\", \"\\u0445\\u043e\\u0440\\u043e\\u0448\\u0438\\u0439\", \"\\u0445\\u043e\\u0440\\u043e\\u0448\\u0438\\u0439\", \"\\u0445\\u043e\\u0440\\u043e\\u0448\\u0438\\u0439\", \"\\u0446\\u0431\", \"\\u0446\\u0435\\u043d\\u0430\", \"\\u0446\\u0435\\u043d\\u0430\", \"\\u0446\\u0438\\u043a\", \"\\u0446\\u0441\\u043a\\u0430\", \"\\u0447\\u0430\\u0441\\u0442\\u0438\\u0446\\u0430\", \"\\u0447\\u0430\\u0441\\u0442\\u044c\", \"\\u0447\\u0430\\u0441\\u0442\\u044c\", \"\\u0447\\u0430\\u0441\\u0442\\u044c\", \"\\u0447\\u0430\\u0441\\u0442\\u044c\", \"\\u0447\\u0430\\u0441\\u0442\\u044c\", \"\\u0447\\u0435\\u043c\\u043f\\u0438\\u043e\\u043d\", \"\\u0447\\u0435\\u043c\\u043f\\u0438\\u043e\\u043d\\u0430\\u0442\", \"\\u044d\\u043a\\u0438\\u043f\\u0430\\u0436\", \"\\u044d\\u043a\\u0438\\u043f\\u0430\\u0436\", \"\\u044d\\u043a\\u0438\\u043f\\u0430\\u0436\", \"\\u044d\\u043a\\u0441\\u043f\\u0435\\u0434\\u0438\\u0446\\u0438\\u044f\", \"\\u044d\\u043a\\u0441\\u043f\\u043e\\u0440\\u0442\", \"\\u044d\\u043a\\u0441\\u043f\\u043e\\u0440\\u0442\", \"\\u044e\\u0449\\u0435\\u043d\\u043a\\u043e\", \"\\u044f\\u0432\\u043b\\u044f\\u0442\\u044c\\u0441\\u044f\", \"\\u044f\\u0432\\u043b\\u044f\\u0442\\u044c\\u0441\\u044f\", \"\\u044f\\u0432\\u043b\\u044f\\u0442\\u044c\\u0441\\u044f\", \"\\u044f\\u0432\\u043b\\u044f\\u0442\\u044c\\u0441\\u044f\", \"\\u044f\\u0432\\u043b\\u044f\\u0442\\u044c\\u0441\\u044f\", \"\\u044f\\u043d\\u0443\\u043a\\u043e\\u0432\\u0438\\u0447\"]}, \"R\": 30, \"lambda.step\": 0.01, \"plot.opts\": {\"xlab\": \"PC1\", \"ylab\": \"PC2\"}, \"topic.order\": [2, 4, 1, 5, 3]};\n",
              "\n",
              "function LDAvis_load_lib(url, callback){\n",
              "  var s = document.createElement('script');\n",
              "  s.src = url;\n",
              "  s.async = true;\n",
              "  s.onreadystatechange = s.onload = callback;\n",
              "  s.onerror = function(){console.warn(\"failed to load library \" + url);};\n",
              "  document.getElementsByTagName(\"head\")[0].appendChild(s);\n",
              "}\n",
              "\n",
              "if(typeof(LDAvis) !== \"undefined\"){\n",
              "   // already loaded: just create the visualization\n",
              "   !function(LDAvis){\n",
              "       new LDAvis(\"#\" + \"ldavis_el731401297540445608988516869\", ldavis_el731401297540445608988516869_data);\n",
              "   }(LDAvis);\n",
              "}else if(typeof define === \"function\" && define.amd){\n",
              "   // require.js is available: use it to load d3/LDAvis\n",
              "   require.config({paths: {d3: \"https://d3js.org/d3.v5\"}});\n",
              "   require([\"d3\"], function(d3){\n",
              "      window.d3 = d3;\n",
              "      LDAvis_load_lib(\"https://cdn.jsdelivr.net/gh/bmabey/pyLDAvis@3.3.1/pyLDAvis/js/ldavis.v3.0.0.js\", function(){\n",
              "        new LDAvis(\"#\" + \"ldavis_el731401297540445608988516869\", ldavis_el731401297540445608988516869_data);\n",
              "      });\n",
              "    });\n",
              "}else{\n",
              "    // require.js not available: dynamically load d3 & LDAvis\n",
              "    LDAvis_load_lib(\"https://d3js.org/d3.v5.js\", function(){\n",
              "         LDAvis_load_lib(\"https://cdn.jsdelivr.net/gh/bmabey/pyLDAvis@3.3.1/pyLDAvis/js/ldavis.v3.0.0.js\", function(){\n",
              "                 new LDAvis(\"#\" + \"ldavis_el731401297540445608988516869\", ldavis_el731401297540445608988516869_data);\n",
              "            })\n",
              "         });\n",
              "}\n",
              "</script>"
            ]
          },
          "metadata": {},
          "execution_count": 31
        }
      ]
    },
    {
      "cell_type": "markdown",
      "source": [
        "Посмотрим на метрики качества получившейся модели: перплексию и среднюю когерентность"
      ],
      "metadata": {
        "id": "5T_ZbDEYAR3Z"
      }
    },
    {
      "cell_type": "code",
      "source": [
        "print('Персплексия: ', np.exp(lda_model.log_perplexity(corpus)))"
      ],
      "metadata": {
        "colab": {
          "base_uri": "https://localhost:8080/"
        },
        "id": "lV_C3pykAbSu",
        "outputId": "e9030b51-2dd9-4bac-97d7-5eca378eac07"
      },
      "execution_count": 32,
      "outputs": [
        {
          "output_type": "stream",
          "name": "stdout",
          "text": [
            "Персплексия:  0.00029108158512342123\n"
          ]
        }
      ]
    },
    {
      "cell_type": "code",
      "source": [
        "coherence_model_lda = CoherenceModel(model=lda_model, texts=data['processed_text'], dictionary=dictionary, coherence='c_v')\n",
        "coherence_lda = coherence_model_lda.get_coherence()\n",
        "print('Средняя когерентность: ', coherence_lda)"
      ],
      "metadata": {
        "colab": {
          "base_uri": "https://localhost:8080/"
        },
        "id": "NHeVfcxuAh25",
        "outputId": "ade1bd1a-b5ba-4758-fbea-bcbe393bd47c"
      },
      "execution_count": 33,
      "outputs": [
        {
          "output_type": "stream",
          "name": "stdout",
          "text": [
            "Средняя когерентность:  0.4719444418062574\n"
          ]
        }
      ]
    },
    {
      "cell_type": "markdown",
      "source": [
        "Выявим количество тематик, дающее наибольшую метрику\n",
        "средней когерентности:"
      ],
      "metadata": {
        "id": "7s-Qhc44BGlk"
      }
    },
    {
      "cell_type": "code",
      "source": [
        "topics_list = [5, 10, 15, 20, 25, 30, 40, 50, 60]\n",
        "coherences = []\n",
        "\n",
        "for n_topics in tqdm(topics_list):\n",
        "    lda_model = ldamodel.LdaModel(corpus, id2word=dictionary, num_topics=n_topics,\n",
        "                                  passes=2, random_state=RANDOM_STATE)\n",
        "    coherences.append(CoherenceModel(model=lda_model, texts=data['processed_text'], dictionary=dictionary, coherence='c_v').get_coherence())\n",
        "\n",
        "plt.plot(topics_list, coherences)\n",
        "plt.title('Средняя когерентность при различном числе тематик')\n",
        "plt.xlabel(\"Число тем\")\n",
        "plt.ylabel(\"Средняя когерентность\")\n",
        "plt.grid()\n",
        "plt.show()"
      ],
      "metadata": {
        "colab": {
          "base_uri": "https://localhost:8080/",
          "height": 379,
          "referenced_widgets": [
            "eeb6620d65b94f45820ca666dbf36f12",
            "9af67e7d0f704b67b4404c5b85258b61",
            "cf4cbbac8c5c466e95dadefe54e3495d",
            "27e2537c1cf341baa3229b68c3d9cf59",
            "565944fa0a5e429299b51ebdce35f3a4",
            "41ff6b6b145540e2b88c7c83cc47f1cd",
            "057b235054294aec97b2242f70e13e19",
            "da8f27ff93b84cd088fe3a917f4e1e4e",
            "da71ad995081433493ff9d9208685dc9",
            "5362fe55377e478f8c0803488f44e649",
            "4b68c301585f4b8ebcf3c658c9a3894e"
          ]
        },
        "id": "avCGD15cPPYX",
        "outputId": "90a70233-40e6-4f98-ca18-6a22ffa6c97b"
      },
      "execution_count": 50,
      "outputs": [
        {
          "output_type": "stream",
          "name": "stderr",
          "text": [
            "<ipython-input-50-b726613b593e>:4: TqdmDeprecationWarning: This function will be removed in tqdm==5.0.0\n",
            "Please use `tqdm.notebook.tqdm` instead of `tqdm.tqdm_notebook`\n",
            "  for n_topics in tqdm(topics_list):\n"
          ]
        },
        {
          "output_type": "display_data",
          "data": {
            "text/plain": [
              "  0%|          | 0/9 [00:00<?, ?it/s]"
            ],
            "application/vnd.jupyter.widget-view+json": {
              "version_major": 2,
              "version_minor": 0,
              "model_id": "eeb6620d65b94f45820ca666dbf36f12"
            }
          },
          "metadata": {}
        },
        {
          "output_type": "display_data",
          "data": {
            "text/plain": [
              "<Figure size 432x288 with 1 Axes>"
            ],
            "image/png": "[encoded data removed]"
          },
          "metadata": {
            "needs_background": "light"
          }
        }
      ]
    },
    {
      "cell_type": "markdown",
      "source": [
        "Наибольшую метрику показывает модель с разделением на 50 тематик"
      ],
      "metadata": {
        "id": "sPwynWutPKno"
      }
    },
    {
      "cell_type": "code",
      "source": [
        "NUM_TOPICS = 50"
      ],
      "metadata": {
        "id": "xV77gdN6GGqU"
      },
      "execution_count": 47,
      "outputs": []
    },
    {
      "cell_type": "code",
      "source": [
        "lda_model = ldamodel.LdaModel(corpus, id2word=dictionary, num_topics=NUM_TOPICS , passes=2, random_state=RANDOM_STATE)"
      ],
      "metadata": {
        "id": "ucotfW12XAtL"
      },
      "execution_count": 48,
      "outputs": []
    },
    {
      "cell_type": "code",
      "source": [
        "get_topics_words(lda_model, NUM_TOPICS)"
      ],
      "metadata": {
        "colab": {
          "base_uri": "https://localhost:8080/"
        },
        "id": "-D1I73xwW3iv",
        "outputId": "fcbc7e43-edef-4f5b-8f49-256ee019dfcc"
      },
      "execution_count": 49,
      "outputs": [
        {
          "output_type": "stream",
          "name": "stdout",
          "text": [
            "topic_0: сша американский президент штат свой нью обама трамп йорк буш\n",
            "topic_1: президент выборы партия депутат глава россия совет госдума пост владимир\n",
            "topic_2: место рейтинг самый список оказаться занять состояние богатый джексон forbes\n",
            "topic_3: москва строительство проект город центр комплекс здание объект участок площадь\n",
            "topic_4: донецкий донбасс номинация народный луганский алкоголь днр украинский самопровозглашённый напиток\n",
            "topic_5: язык бренд русский модель новый студент представить компания школа польша\n",
            "topic_6: грузия грузинский южный осетия российский памятник россия москва республика абхазия\n",
            "topic_7: компания устройство новый система microsoft технология apple приложение церковь компьютер\n",
            "topic_8: сотрудник мвд орган правоохранительный задержать сообщить район чечня милиция новость\n",
            "topic_9: птица клетка вид помощь использовать кошка мозг организм рыба свой\n",
            "topic_10: смерть врач скончаться медицинский умереть лечение больница мария кладбище елена\n",
            "topic_11: самолёт аэропорт авиакомпания пассажир турция рейс турецкий турист борт сообщать\n",
            "topic_12: магазин издание газета товар тысяча таможенный сеть пермский номер ювелирный\n",
            "topic_13: матч команда клуб сборная чемпионат счёт россия игра тренер турнир\n",
            "topic_14: олимпийский российский россия мир спортсмен спорт олимпиада соревнование игра медаль\n",
            "topic_15: япония японский южный город остров тысяча корея житель сообщать страна\n",
            "topic_16: война власть гражданство еврей гей туркмения таиланд нидерланды советский националист\n",
            "topic_17: летний мужчина полиция женщина ребёнок сообщать дом полицейский произойти город\n",
            "topic_18: бой поражение поединок спартак победа мир чемпион провести свой титул\n",
            "topic_19: учёный исследование исследователь результат обнаружить университет реклама земля работа планета\n",
            "topic_20: группа the песня альбом музыкант концерт певица новый певец диск\n",
            "topic_21: россия российский страна заявить сша сторона санкция соглашение переговоры отношение\n",
            "topic_22: иванов ливия учение пристав фёдоров экзамен бензин каддафи ливийский сомали\n",
            "topic_23: сайт сеть интернет пользователь страница facebook фотография социальный twitter свой\n",
            "topic_24: космический карта спутник система станция запуск орбита носитель полёт агентство\n",
            "topic_25: произойти пострадать результат пожар погибнуть сообщать взрыв данные место происшествие\n",
            "topic_26: музей the животное работа художник выставка картина аукцион искусство свой\n",
            "topic_27: процент рост россия рубль составить страна уровень цена объём вырасти\n",
            "topic_28: военный ирак сила войско израиль сирия армия оборона операция территория\n",
            "topic_29: игра новый компания версия проект продажа часть выйти миллион сайт\n",
            "topic_30: заявить президент слово мнение россия свой путин считать отметить страна\n",
            "topic_31: украина страна президент министр украинский заявить власть премьер глава правительство\n",
            "topic_32: google телефон оператор мобильный втб компания связь сотовый интернет ru\n",
            "topic_33: автомобиль машина водитель состояние автобус дорога больница дтп дорожный движение\n",
            "topic_34: книга газета instagram ингушетия свой автомат спецслужба роман оружие журналист\n",
            "topic_35: самолёт истребитель ввс военный вооружение новый су машина индия f\n",
            "topic_36: теракт аль погибнуть сообщать результат террорист город власть получить боевик\n",
            "topic_37: суд решение право закон заявить документ иск свой организация информация\n",
            "topic_38: тысяча миллион доллар рубль метр квартира квадратный стоимость жильё дом\n",
            "topic_39: вода километр находиться вертолёт экипаж район море судно сообщать катастрофа\n",
            "topic_40: телеканал канал эфир программа журналист нтв телевидение шоу ведущий передача\n",
            "topic_41: дело суд уголовный следствие обвинение статья бывший возбудить прокуратура рф\n",
            "topic_42: британский свой the великобритания видео опубликовать ролик youtube лондон daily\n",
            "topic_43: доллар процент нефть цена рынок рубль пункт курс индекс белоруссия\n",
            "topic_44: акция протест участник митинг активист беспорядок полиция массовый участие тысяча\n",
            "topic_45: компания банк миллиард доллар миллион акция крупный российский процент газ\n",
            "topic_46: фильм роль актёр картина режиссёр главный лента съёмка сериал сыграть\n",
            "topic_47: фонд миллиард рубль средство бюджет правительство министр программа деньга проект\n",
            "topic_48: корабль ракета система аппарат комплекс новый ракетный флот проект испытание\n",
            "topic_49: премия конкурс получить награда театр хороший церемония фестиваль стать победитель\n"
          ]
        }
      ]
    },
    {
      "cell_type": "markdown",
      "source": [
        "Получили много распределений слов в темах, у большинства из которых легко\n",
        "обозначить их направленность. Некоторые темы пересекаются\n",
        "с другими, например, связанные с политикой, экономикой. Можно попробовать остановиться на предыдущем пиковом значении метрики, достигаемом при 20 тематиках. "
      ],
      "metadata": {
        "id": "U2LcXbZXN4Ke"
      }
    }
  ]
}
{
  "nbformat": 4,
  "nbformat_minor": 0,
  "metadata": {
    "accelerator": "GPU",
    "colab": {
      "provenance": []
    },
    "kernelspec": {
      "display_name": "Python 3",
      "name": "python3"
    }
  },
  "cells": [
    {
      "cell_type": "markdown",
      "metadata": {
        "id": "J0Qjg6vuaHNt"
      },
      "source": [
        "# Тема “Перевод без механизма внимания SEQ2SEQ модель”\n",
        "\n",
        "Разобраться с моделькой перевода (без механизма внимания) как она устроена, запустить для перевода с русского на английский (при желании можно взять другие пары языков)\n"
      ]
    },
    {
      "cell_type": "code",
      "metadata": {
        "id": "tnxXKDjq3jEL"
      },
      "source": [
        "import tensorflow as tf\n",
        "\n",
        "import matplotlib.pyplot as plt\n",
        "import matplotlib.ticker as ticker\n",
        "from sklearn.model_selection import train_test_split\n",
        "\n",
        "import unicodedata\n",
        "import re\n",
        "import numpy as np\n",
        "import os\n",
        "import io\n",
        "import time"
      ],
      "execution_count": null,
      "outputs": []
    },
    {
      "cell_type": "markdown",
      "metadata": {
        "id": "wfodePkj3jEa"
      },
      "source": [
        "## Download and prepare the dataset\n",
        "\n",
        "We'll use a language dataset provided by http://www.manythings.org/anki/"
      ]
    },
    {
      "cell_type": "code",
      "metadata": {
        "id": "CNvjhDyAKk3U",
        "colab": {
          "base_uri": "https://localhost:8080/"
        },
        "outputId": "deb1938d-7872-4dcf-c339-c666207bf7e8"
      },
      "source": [
        "!wget http://www.manythings.org/anki/rus-eng.zip"
      ],
      "execution_count": null,
      "outputs": [
        {
          "output_type": "stream",
          "name": "stdout",
          "text": [
            "--2023-01-06 12:56:50--  http://www.manythings.org/anki/rus-eng.zip\n",
            "Resolving www.manythings.org (www.manythings.org)... 173.254.30.110\n",
            "Connecting to www.manythings.org (www.manythings.org)|173.254.30.110|:80... connected.\n",
            "HTTP request sent, awaiting response... 200 OK\n",
            "Length: 15011848 (14M) [application/zip]\n",
            "Saving to: ‘rus-eng.zip’\n",
            "\n",
            "rus-eng.zip         100%[===================>]  14.32M  22.9MB/s    in 0.6s    \n",
            "\n",
            "2023-01-06 12:56:50 (22.9 MB/s) - ‘rus-eng.zip’ saved [15011848/15011848]\n",
            "\n"
          ]
        }
      ]
    },
    {
      "cell_type": "code",
      "metadata": {
        "id": "83bg17Lr-7XK",
        "colab": {
          "base_uri": "https://localhost:8080/"
        },
        "outputId": "3a553d4f-e4b2-47f7-95e7-192ea02831da"
      },
      "source": [
        "!mkdir rus-eng\n",
        "!unzip rus-eng.zip -d rus-eng/"
      ],
      "execution_count": null,
      "outputs": [
        {
          "output_type": "stream",
          "name": "stdout",
          "text": [
            "Archive:  rus-eng.zip\n",
            "  inflating: rus-eng/rus.txt         \n",
            "  inflating: rus-eng/_about.txt      \n"
          ]
        }
      ]
    },
    {
      "cell_type": "code",
      "metadata": {
        "id": "7o5L92efMMhf",
        "colab": {
          "base_uri": "https://localhost:8080/"
        },
        "outputId": "ba2eed6b-a8df-4b37-d392-2605c4308217"
      },
      "source": [
        "!ls /content/rus-eng/ -lah"
      ],
      "execution_count": null,
      "outputs": [
        {
          "output_type": "stream",
          "name": "stdout",
          "text": [
            "total 72M\n",
            "drwxr-xr-x 2 root root 4.0K Jan  6 12:57 .\n",
            "drwxr-xr-x 1 root root 4.0K Jan  6 12:57 ..\n",
            "-rw-r--r-- 1 root root 1.5K Sep  6 03:10 _about.txt\n",
            "-rw-r--r-- 1 root root  72M Sep  6 03:10 rus.txt\n"
          ]
        }
      ]
    },
    {
      "cell_type": "code",
      "metadata": {
        "id": "kRVATYOgJs1b"
      },
      "source": [
        "# Download the file\n",
        "path_to_file = \"/content/rus-eng/rus.txt\""
      ],
      "execution_count": null,
      "outputs": []
    },
    {
      "cell_type": "code",
      "metadata": {
        "id": "rd0jw-eC3jEh"
      },
      "source": [
        "def preprocess_sentence(w):\n",
        "  w = w.lower().strip()\n",
        "\n",
        "  # creating a space between a word and the punctuation following it\n",
        "  # eg: \"he is a boy.\" => \"he is a boy .\"\n",
        "  # Reference:- https://stackoverflow.com/questions/3645931/python-padding-punctuation-with-white-spaces-keeping-punctuation\n",
        "  w = re.sub(r\"([?.!,])\", r\" \\1 \", w)\n",
        "  w = re.sub(r'[\" \"]+', \" \", w)\n",
        "\n",
        "  # replacing everything with space except (a-z, A-Z, \".\", \"?\", \"!\", \",\")\n",
        "  w = re.sub(r\"[^a-zA-Zа-яА-Я?.!,']+\", \" \", w)\n",
        "\n",
        "  w = w.strip()\n",
        "\n",
        "  # adding a start and an end token to the sentence\n",
        "  # so that the model know when to start and stop predicting.\n",
        "  w = '<start> ' + w + ' <end>'\n",
        "  return w"
      ],
      "execution_count": null,
      "outputs": []
    },
    {
      "cell_type": "code",
      "metadata": {
        "id": "yV9lZXQXNbnH",
        "colab": {
          "base_uri": "https://localhost:8080/",
          "height": 36
        },
        "outputId": "aff838a7-c15a-4ecb-a771-99174edecc49"
      },
      "source": [
        "preprocess_sentence(\"I can't go.\")"
      ],
      "execution_count": null,
      "outputs": [
        {
          "output_type": "execute_result",
          "data": {
            "text/plain": [
              "\"<start> i can't go . <end>\""
            ],
            "application/vnd.google.colaboratory.intrinsic+json": {
              "type": "string"
            }
          },
          "metadata": {},
          "execution_count": 22
        }
      ]
    },
    {
      "cell_type": "code",
      "metadata": {
        "id": "OHn4Dct23jEm"
      },
      "source": [
        "# 1. Remove the accents\n",
        "# 2. Clean the sentences\n",
        "# 3. Return word pairs in the format: [ENG, RUS]\n",
        "def create_dataset(path, num_examples):\n",
        "  lines = io.open(path, encoding='UTF-8').read().strip().split('\\n')\n",
        "\n",
        "  word_pairs = [[preprocess_sentence(w) for w in l.split('\\t')[:2]]  for l in lines[:num_examples]]\n",
        "\n",
        "  return zip(*word_pairs)"
      ],
      "execution_count": null,
      "outputs": []
    },
    {
      "cell_type": "code",
      "metadata": {
        "id": "cTbSbBz55QtF",
        "colab": {
          "base_uri": "https://localhost:8080/"
        },
        "outputId": "8d7520ac-5fad-4d39-b0c6-d0570744bd57"
      },
      "source": [
        "en, ru = create_dataset(path_to_file, None)\n",
        "print(en[-1])\n",
        "print(ru[-1])"
      ],
      "execution_count": null,
      "outputs": [
        {
          "output_type": "stream",
          "name": "stdout",
          "text": [
            "<start> doubtless there exists in this world precisely the right woman for any given man to marry and vice versa but when you consider that a human being has the opportunity of being acquainted with only a few hundred people , and out of the few hundred that there are but a dozen or less whom he knows intimately , and out of the dozen , one or two friends at most , it will easily be seen , when we remember the number of millions who inhabit this world , that probably , since the earth was created , the right man has never yet met the right woman . <end>\n",
            "<start> несомненно , для каждого мужчины в этом мире где то есть подходящая женщина , которая может стать ему женой , обратное верно и для женщин . но если учесть , что у человека может быть максимум несколько сотен знакомых , из которых лишь дюжина , а то и меньше , тех , кого он знает близко , а из этой дюжины у него один или от силы два друга , то можно легко увидеть , что с уч том миллионов живущих на земле людей , ни один подходящий мужчина , возможно , ещ не встретил подходящую женщину . <end>\n"
          ]
        }
      ]
    },
    {
      "cell_type": "code",
      "source": [
        "en[10:20]"
      ],
      "metadata": {
        "colab": {
          "base_uri": "https://localhost:8080/"
        },
        "id": "1m0e7_8kPxa5",
        "outputId": "32d0accd-aba6-44ea-9dfc-272d3df7bc6a"
      },
      "execution_count": null,
      "outputs": [
        {
          "output_type": "execute_result",
          "data": {
            "text/plain": [
              "('<start> run ! <end>',\n",
              " '<start> run . <end>',\n",
              " '<start> run . <end>',\n",
              " '<start> who ? <end>',\n",
              " '<start> wow ! <end>',\n",
              " '<start> wow ! <end>',\n",
              " '<start> wow ! <end>',\n",
              " '<start> wow ! <end>',\n",
              " '<start> wow ! <end>',\n",
              " '<start> wow ! <end>')"
            ]
          },
          "metadata": {},
          "execution_count": 39
        }
      ]
    },
    {
      "cell_type": "code",
      "source": [
        "ru[10:20]"
      ],
      "metadata": {
        "colab": {
          "base_uri": "https://localhost:8080/"
        },
        "id": "Oglwp06rPzi0",
        "outputId": "a3c9003b-ec1b-45d8-dbf8-0e52f506a419"
      },
      "execution_count": null,
      "outputs": [
        {
          "output_type": "execute_result",
          "data": {
            "text/plain": [
              "('<start> бегите ! <end>',\n",
              " '<start> беги ! <end>',\n",
              " '<start> бегите ! <end>',\n",
              " '<start> кто ? <end>',\n",
              " '<start> вот это да ! <end>',\n",
              " '<start> круто ! <end>',\n",
              " '<start> здорово ! <end>',\n",
              " '<start> ух ты ! <end>',\n",
              " '<start> ого ! <end>',\n",
              " '<start> вах ! <end>')"
            ]
          },
          "metadata": {},
          "execution_count": 40
        }
      ]
    },
    {
      "cell_type": "code",
      "metadata": {
        "id": "bIOn8RCNDJXG"
      },
      "source": [
        "def tokenize(lang):\n",
        "  lang_tokenizer = tf.keras.preprocessing.text.Tokenizer(\n",
        "      filters='')\n",
        "  lang_tokenizer.fit_on_texts(lang)\n",
        "\n",
        "  tensor = lang_tokenizer.texts_to_sequences(lang)\n",
        "\n",
        "  tensor = tf.keras.preprocessing.sequence.pad_sequences(tensor,\n",
        "                                                         padding='post')\n",
        "\n",
        "  return tensor, lang_tokenizer"
      ],
      "execution_count": null,
      "outputs": []
    },
    {
      "cell_type": "code",
      "metadata": {
        "id": "eAY9k49G3jE_"
      },
      "source": [
        "def load_dataset(path, num_examples=None):\n",
        "  # creating cleaned input, output pairs\n",
        "  targ_lang, inp_lang = create_dataset(path, num_examples)\n",
        "\n",
        "  input_tensor, inp_lang_tokenizer = tokenize(inp_lang)\n",
        "  target_tensor, targ_lang_tokenizer = tokenize(targ_lang)\n",
        "\n",
        "  return input_tensor, target_tensor, inp_lang_tokenizer, targ_lang_tokenizer"
      ],
      "execution_count": null,
      "outputs": []
    },
    {
      "cell_type": "code",
      "source": [
        "tokenize(ru[10:20])"
      ],
      "metadata": {
        "colab": {
          "base_uri": "https://localhost:8080/"
        },
        "id": "5GEaeTk2QsCd",
        "outputId": "911eb17f-052b-4455-850f-7f15a00ede47"
      },
      "execution_count": null,
      "outputs": [
        {
          "output_type": "execute_result",
          "data": {
            "text/plain": [
              "(array([[ 1,  4,  3,  2,  0,  0],\n",
              "        [ 1,  5,  3,  2,  0,  0],\n",
              "        [ 1,  4,  3,  2,  0,  0],\n",
              "        [ 1,  6,  7,  2,  0,  0],\n",
              "        [ 1,  8,  9, 10,  3,  2],\n",
              "        [ 1, 11,  3,  2,  0,  0],\n",
              "        [ 1, 12,  3,  2,  0,  0],\n",
              "        [ 1, 13, 14,  3,  2,  0],\n",
              "        [ 1, 15,  3,  2,  0,  0],\n",
              "        [ 1, 16,  3,  2,  0,  0]], dtype=int32),\n",
              " <keras.preprocessing.text.Tokenizer at 0x7f9ea06558b0>)"
            ]
          },
          "metadata": {},
          "execution_count": 43
        }
      ]
    },
    {
      "cell_type": "markdown",
      "metadata": {
        "id": "GOi42V79Ydlr"
      },
      "source": [
        "### Limit the size of the dataset to experiment faster (optional)\n"
      ]
    },
    {
      "cell_type": "code",
      "metadata": {
        "id": "C8j9g9AnIeZV",
        "colab": {
          "base_uri": "https://localhost:8080/"
        },
        "outputId": "8b50a71b-61a7-46a6-c037-a9254fac52c2"
      },
      "source": [
        "len(en), len(ru)"
      ],
      "execution_count": null,
      "outputs": [
        {
          "output_type": "execute_result",
          "data": {
            "text/plain": [
              "(451436, 451436)"
            ]
          },
          "metadata": {},
          "execution_count": 44
        }
      ]
    },
    {
      "cell_type": "code",
      "metadata": {
        "id": "cnxC7q-j3jFD"
      },
      "source": [
        "# Try experimenting with the size of that dataset\n",
        "num_examples = 100000\n",
        "input_tensor, target_tensor, inp_lang, targ_lang = load_dataset(path_to_file, num_examples)\n",
        "\n",
        "# Calculate max_length of the target tensors\n",
        "max_length_targ, max_length_inp = target_tensor.shape[1], input_tensor.shape[1]"
      ],
      "execution_count": null,
      "outputs": []
    },
    {
      "cell_type": "code",
      "metadata": {
        "id": "4QILQkOs3jFG",
        "colab": {
          "base_uri": "https://localhost:8080/"
        },
        "outputId": "3513c263-a955-4afe-c5f3-fc713a91f113"
      },
      "source": [
        "# Creating training and validation sets using an 80-20 split\n",
        "input_tensor_train, input_tensor_val, target_tensor_train, target_tensor_val = train_test_split(input_tensor, target_tensor, test_size=0.2)\n",
        "\n",
        "# Show length\n",
        "print(len(input_tensor_train), len(target_tensor_train), len(input_tensor_val), len(target_tensor_val))"
      ],
      "execution_count": null,
      "outputs": [
        {
          "output_type": "stream",
          "name": "stdout",
          "text": [
            "80000 80000 20000 20000\n"
          ]
        }
      ]
    },
    {
      "cell_type": "code",
      "metadata": {
        "id": "lJPmLZGMeD5q"
      },
      "source": [
        "def convert(lang, tensor):\n",
        "  for t in tensor:\n",
        "    if t!=0:\n",
        "      print (\"%d ----> %s\" % (t, lang.index_word[t]))"
      ],
      "execution_count": null,
      "outputs": []
    },
    {
      "cell_type": "code",
      "metadata": {
        "id": "VXukARTDd7MT",
        "colab": {
          "base_uri": "https://localhost:8080/"
        },
        "outputId": "1fad0ad4-183a-448a-8ba0-eff1b033568e"
      },
      "source": [
        "print (\"Input Language; index to word mapping\")\n",
        "convert(inp_lang, input_tensor_train[0])\n",
        "print ()\n",
        "print (\"Target Language; index to word mapping\")\n",
        "convert(targ_lang, target_tensor_train[0])"
      ],
      "execution_count": null,
      "outputs": [
        {
          "output_type": "stream",
          "name": "stdout",
          "text": [
            "Input Language; index to word mapping\n",
            "1 ----> <start>\n",
            "5034 ----> пошлите\n",
            "25 ----> тому\n",
            "1443 ----> записку\n",
            "3 ----> .\n",
            "2 ----> <end>\n",
            "\n",
            "Target Language; index to word mapping\n",
            "1 ----> <start>\n",
            "527 ----> send\n",
            "5 ----> tom\n",
            "9 ----> a\n",
            "1071 ----> note\n",
            "3 ----> .\n",
            "2 ----> <end>\n"
          ]
        }
      ]
    },
    {
      "cell_type": "markdown",
      "metadata": {
        "id": "rgCLkfv5uO3d"
      },
      "source": [
        "### Create a tf.data dataset"
      ]
    },
    {
      "cell_type": "code",
      "metadata": {
        "id": "TqHsArVZ3jFS"
      },
      "source": [
        "BUFFER_SIZE = len(input_tensor_train)\n",
        "BATCH_SIZE = 64\n",
        "steps_per_epoch = len(input_tensor_train)//BATCH_SIZE\n",
        "embedding_dim = 300\n",
        "units = 1024\n",
        "vocab_inp_size = len(inp_lang.word_index)+1\n",
        "vocab_tar_size = len(targ_lang.word_index)+1\n",
        "\n",
        "dataset = tf.data.Dataset.from_tensor_slices((input_tensor_train, target_tensor_train)).shuffle(BUFFER_SIZE)\n",
        "dataset = dataset.batch(BATCH_SIZE, drop_remainder=True)"
      ],
      "execution_count": null,
      "outputs": []
    },
    {
      "cell_type": "code",
      "metadata": {
        "id": "qc6-NK1GtWQt",
        "colab": {
          "base_uri": "https://localhost:8080/"
        },
        "outputId": "30259eea-3d0e-4eee-9b62-45eaa8573ee7"
      },
      "source": [
        "example_input_batch, example_target_batch = next(iter(dataset))\n",
        "example_input_batch.shape, example_target_batch.shape"
      ],
      "execution_count": null,
      "outputs": [
        {
          "output_type": "execute_result",
          "data": {
            "text/plain": [
              "(TensorShape([64, 15]), TensorShape([64, 11]))"
            ]
          },
          "metadata": {},
          "execution_count": 50
        }
      ]
    },
    {
      "cell_type": "code",
      "metadata": {
        "id": "nZ2rI24i3jFg"
      },
      "source": [
        "class Encoder(tf.keras.Model):\n",
        "  def __init__(self, vocab_size, embedding_dim, enc_units, batch_sz):\n",
        "    super(Encoder, self).__init__()\n",
        "    self.batch_sz = batch_sz\n",
        "    self.enc_units = enc_units\n",
        "    self.embedding = tf.keras.layers.Embedding(vocab_size, embedding_dim)\n",
        "    self.gru = tf.keras.layers.GRU(self.enc_units,\n",
        "                                   return_sequences=False,\n",
        "                                   return_state=True,\n",
        "                                   recurrent_initializer='glorot_uniform')\n",
        "    \n",
        "\n",
        "  def call(self, x, hidden):\n",
        "    x = self.embedding(x)\n",
        "    output, state = self.gru(x, initial_state = hidden)\n",
        "    return state\n",
        "\n",
        "  def initialize_hidden_state(self):\n",
        "    return tf.zeros((self.batch_sz, self.enc_units))"
      ],
      "execution_count": null,
      "outputs": []
    },
    {
      "cell_type": "code",
      "metadata": {
        "id": "60gSVh05Jl6l",
        "colab": {
          "base_uri": "https://localhost:8080/"
        },
        "outputId": "71e4d997-d859-4d9e-b27c-0343c184fe3e"
      },
      "source": [
        "encoder = Encoder(vocab_inp_size, embedding_dim, units, BATCH_SIZE)\n",
        "\n",
        "# sample input\n",
        "sample_hidden = encoder.initialize_hidden_state()\n",
        "sample_hidden = encoder(example_input_batch, sample_hidden)\n",
        "# print ('Encoder output shape: (batch size, sequence length, units) {}'.format(sample_output.shape))\n",
        "print ('Encoder Hidden state shape: (batch size, units) {}'.format(sample_hidden.shape))"
      ],
      "execution_count": null,
      "outputs": [
        {
          "output_type": "stream",
          "name": "stdout",
          "text": [
            "Encoder Hidden state shape: (batch size, units) (64, 1024)\n"
          ]
        }
      ]
    },
    {
      "cell_type": "code",
      "metadata": {
        "id": "yJ_B3mhW3jFk"
      },
      "source": [
        "class Decoder(tf.keras.Model):\n",
        "  def __init__(self, vocab_size, embedding_dim, dec_units, batch_sz):\n",
        "    super(Decoder, self).__init__()\n",
        "    self.batch_sz = batch_sz\n",
        "    self.dec_units = dec_units\n",
        "    self.embedding = tf.keras.layers.Embedding(vocab_size, embedding_dim)\n",
        "    self.gru = tf.keras.layers.GRU(self.dec_units,\n",
        "                                   return_sequences=True,\n",
        "                                   return_state=True,\n",
        "                                   recurrent_initializer='glorot_uniform')\n",
        "    self.fc = tf.keras.layers.Dense(vocab_size)\n",
        "\n",
        "  def call(self, x, hidden):\n",
        "    # enc_output shape == (batch_size, max_length, hidden_size)\n",
        "\n",
        "    # x shape after passing through embedding == (batch_size, 1, embedding_dim)\n",
        "    x = self.embedding(x)\n",
        "\n",
        "    # x shape after concatenation == (batch_size, 1, embedding_dim + hidden_size)\n",
        "\n",
        "    # passing the concatenated vector to the GRU\n",
        "    output, state = self.gru(x, initial_state=hidden)\n",
        "\n",
        "    # output shape == (batch_size * 1, hidden_size)\n",
        "    output = tf.reshape(output, (-1, output.shape[2]))\n",
        "\n",
        "    # output shape == (batch_size, vocab)\n",
        "    x = self.fc(output)\n",
        "\n",
        "    return x, state"
      ],
      "execution_count": null,
      "outputs": []
    },
    {
      "cell_type": "code",
      "metadata": {
        "id": "P5UY8wko3jFp"
      },
      "source": [
        "decoder = Decoder(vocab_tar_size, embedding_dim, units, BATCH_SIZE)\n",
        "\n",
        "decoder_sample_x, decoder_sample_h = decoder(tf.random.uniform((BATCH_SIZE, 1)),\n",
        "                                      sample_hidden)\n",
        "\n"
      ],
      "execution_count": null,
      "outputs": []
    },
    {
      "cell_type": "code",
      "metadata": {
        "colab": {
          "base_uri": "https://localhost:8080/"
        },
        "id": "XKcypC0AGeLR",
        "outputId": "ef06323a-f654-4c4b-ee92-c00880572e23"
      },
      "source": [
        "decoder_sample_x.shape"
      ],
      "execution_count": null,
      "outputs": [
        {
          "output_type": "execute_result",
          "data": {
            "text/plain": [
              "TensorShape([64, 7335])"
            ]
          },
          "metadata": {},
          "execution_count": 55
        }
      ]
    },
    {
      "cell_type": "code",
      "metadata": {
        "id": "6y0HF-zMF_vp",
        "colab": {
          "base_uri": "https://localhost:8080/"
        },
        "outputId": "1d97a62f-67fe-4253-ce06-84328a9cc5d9"
      },
      "source": [
        "decoder_sample_h.shape"
      ],
      "execution_count": null,
      "outputs": [
        {
          "output_type": "execute_result",
          "data": {
            "text/plain": [
              "TensorShape([64, 1024])"
            ]
          },
          "metadata": {},
          "execution_count": 56
        }
      ]
    },
    {
      "cell_type": "markdown",
      "metadata": {
        "id": "_ch_71VbIRfK"
      },
      "source": [
        "## Define the optimizer and the loss function"
      ]
    },
    {
      "cell_type": "code",
      "metadata": {
        "id": "WmTHr5iV3jFr"
      },
      "source": [
        "optimizer = tf.keras.optimizers.Adam()\n",
        "\n",
        "loss_object = tf.keras.losses.SparseCategoricalCrossentropy(\n",
        "    from_logits=True, reduction='none')\n",
        "\n",
        "def loss_function(real, pred):\n",
        "  mask = tf.math.logical_not(tf.math.equal(real, 0))\n",
        "  loss_ = loss_object(real, pred)\n",
        "\n",
        "  mask = tf.cast(mask, dtype=loss_.dtype)\n",
        "  loss_ *= mask\n",
        "\n",
        "  return tf.reduce_mean(loss_)"
      ],
      "execution_count": null,
      "outputs": []
    },
    {
      "cell_type": "markdown",
      "metadata": {
        "id": "DMVWzzsfNl4e"
      },
      "source": [
        "## Checkpoints (Object-based saving)"
      ]
    },
    {
      "cell_type": "code",
      "metadata": {
        "id": "Zj8bXQTgNwrF"
      },
      "source": [
        "checkpoint_dir = './training_nmt_checkpoints'\n",
        "\n",
        "checkpoint_prefix = os.path.join(checkpoint_dir, \"ckpt\")\n",
        "\n",
        "checkpoint = tf.train.Checkpoint(optimizer=optimizer,\n",
        "                                 encoder=encoder,\n",
        "                                 decoder=decoder)"
      ],
      "execution_count": null,
      "outputs": []
    },
    {
      "cell_type": "code",
      "metadata": {
        "id": "sC9ArXSsVfqn"
      },
      "source": [
        "@tf.function\n",
        "def train_step(inp, targ, enc_hidden):\n",
        "  loss = 0\n",
        "\n",
        "  with tf.GradientTape() as tape:\n",
        "    enc_hidden = encoder(inp, enc_hidden)\n",
        "\n",
        "    dec_hidden = enc_hidden\n",
        "\n",
        "    dec_input = tf.expand_dims([targ_lang.word_index['<start>']] * BATCH_SIZE, 1)\n",
        "\n",
        "    # Teacher forcing - feeding the target as the next input\n",
        "    for t in range(1, targ.shape[1]):\n",
        "      # passing enc_output to the decoder\n",
        "      predictions, dec_hidden = decoder(dec_input, dec_hidden)\n",
        "\n",
        "      loss += loss_function(targ[:, t], predictions)\n",
        "\n",
        "      # using teacher forcing\n",
        "      dec_input = tf.expand_dims(targ[:, t], 1)\n",
        "\n",
        "  batch_loss = (loss / int(targ.shape[1]))\n",
        "\n",
        "  variables = encoder.trainable_variables + decoder.trainable_variables\n",
        "\n",
        "  gradients = tape.gradient(loss, variables)\n",
        "\n",
        "  optimizer.apply_gradients(zip(gradients, variables))\n",
        "\n",
        "  return batch_loss"
      ],
      "execution_count": null,
      "outputs": []
    },
    {
      "cell_type": "code",
      "metadata": {
        "id": "ddefjBMa3jF0",
        "colab": {
          "base_uri": "https://localhost:8080/"
        },
        "outputId": "a4c0744b-c447-4cad-a5d8-2ff397ec9ce5"
      },
      "source": [
        "EPOCHS = 50\n",
        "\n",
        "for epoch in range(EPOCHS):\n",
        "  start = time.time()\n",
        "\n",
        "  enc_hidden = encoder.initialize_hidden_state()\n",
        "  total_loss = 0\n",
        "\n",
        "  for (batch, (inp, targ)) in enumerate(dataset.take(steps_per_epoch)):\n",
        "    batch_loss = train_step(inp, targ, enc_hidden)\n",
        "    total_loss += batch_loss\n",
        "\n",
        "    if batch % 100 == 0:\n",
        "      print('Epoch {} Batch {} Loss {:.4f}'.format(epoch + 1,\n",
        "                                                   batch,\n",
        "                                                   batch_loss.numpy()))\n",
        "  # saving (checkpoint) the model every 2 epochs\n",
        "  if (epoch + 1) % 2 == 0:\n",
        "    checkpoint.save(file_prefix = checkpoint_prefix)\n",
        "\n",
        "  print('Epoch {} Loss {:.4f}'.format(epoch + 1,\n",
        "                                      total_loss / steps_per_epoch))\n",
        "  print('Time taken for 1 epoch {} sec\\n'.format(time.time() - start))"
      ],
      "execution_count": null,
      "outputs": [
        {
          "output_type": "stream",
          "name": "stdout",
          "text": [
            "Epoch 1 Batch 0 Loss 4.6148\n",
            "Epoch 1 Batch 100 Loss 1.9544\n",
            "Epoch 1 Batch 200 Loss 1.7737\n",
            "Epoch 1 Batch 300 Loss 1.6319\n",
            "Epoch 1 Batch 400 Loss 1.5706\n",
            "Epoch 1 Batch 500 Loss 1.4472\n",
            "Epoch 1 Batch 600 Loss 1.4034\n",
            "Epoch 1 Batch 700 Loss 1.3605\n",
            "Epoch 1 Batch 800 Loss 1.2143\n",
            "Epoch 1 Batch 900 Loss 1.1932\n",
            "Epoch 1 Batch 1000 Loss 1.2404\n",
            "Epoch 1 Batch 1100 Loss 1.0960\n",
            "Epoch 1 Batch 1200 Loss 1.1438\n",
            "Epoch 1 Loss 1.4943\n",
            "Time taken for 1 epoch 67.13887166976929 sec\n",
            "\n",
            "Epoch 2 Batch 0 Loss 1.0679\n",
            "Epoch 2 Batch 100 Loss 1.0695\n",
            "Epoch 2 Batch 200 Loss 1.0215\n",
            "Epoch 2 Batch 300 Loss 0.9293\n",
            "Epoch 2 Batch 400 Loss 0.9229\n",
            "Epoch 2 Batch 500 Loss 0.9613\n",
            "Epoch 2 Batch 600 Loss 0.9243\n",
            "Epoch 2 Batch 700 Loss 0.8696\n",
            "Epoch 2 Batch 800 Loss 0.8214\n",
            "Epoch 2 Batch 900 Loss 0.8038\n",
            "Epoch 2 Batch 1000 Loss 0.7624\n",
            "Epoch 2 Batch 1100 Loss 0.8673\n",
            "Epoch 2 Batch 1200 Loss 0.8162\n",
            "Epoch 2 Loss 0.8776\n",
            "Time taken for 1 epoch 59.098783016204834 sec\n",
            "\n",
            "Epoch 3 Batch 0 Loss 0.6144\n",
            "Epoch 3 Batch 100 Loss 0.6254\n",
            "Epoch 3 Batch 200 Loss 0.6506\n",
            "Epoch 3 Batch 300 Loss 0.5359\n",
            "Epoch 3 Batch 400 Loss 0.5881\n",
            "Epoch 3 Batch 500 Loss 0.5002\n",
            "Epoch 3 Batch 600 Loss 0.4542\n",
            "Epoch 3 Batch 700 Loss 0.5463\n",
            "Epoch 3 Batch 800 Loss 0.4233\n",
            "Epoch 3 Batch 900 Loss 0.5225\n",
            "Epoch 3 Batch 1000 Loss 0.4771\n",
            "Epoch 3 Batch 1100 Loss 0.4687\n",
            "Epoch 3 Batch 1200 Loss 0.5102\n",
            "Epoch 3 Loss 0.5381\n",
            "Time taken for 1 epoch 58.93419861793518 sec\n",
            "\n",
            "Epoch 4 Batch 0 Loss 0.3358\n",
            "Epoch 4 Batch 100 Loss 0.3804\n",
            "Epoch 4 Batch 200 Loss 0.3733\n",
            "Epoch 4 Batch 300 Loss 0.3802\n",
            "Epoch 4 Batch 400 Loss 0.3079\n",
            "Epoch 4 Batch 500 Loss 0.3592\n",
            "Epoch 4 Batch 600 Loss 0.3403\n",
            "Epoch 4 Batch 700 Loss 0.3458\n",
            "Epoch 4 Batch 800 Loss 0.3359\n",
            "Epoch 4 Batch 900 Loss 0.2920\n",
            "Epoch 4 Batch 1000 Loss 0.3215\n",
            "Epoch 4 Batch 1100 Loss 0.2888\n",
            "Epoch 4 Batch 1200 Loss 0.2363\n",
            "Epoch 4 Loss 0.3266\n",
            "Time taken for 1 epoch 59.641303062438965 sec\n",
            "\n",
            "Epoch 5 Batch 0 Loss 0.1945\n",
            "Epoch 5 Batch 100 Loss 0.2007\n",
            "Epoch 5 Batch 200 Loss 0.1773\n",
            "Epoch 5 Batch 300 Loss 0.2053\n",
            "Epoch 5 Batch 400 Loss 0.2103\n",
            "Epoch 5 Batch 500 Loss 0.1855\n",
            "Epoch 5 Batch 600 Loss 0.2646\n",
            "Epoch 5 Batch 700 Loss 0.1661\n",
            "Epoch 5 Batch 800 Loss 0.2406\n",
            "Epoch 5 Batch 900 Loss 0.2511\n",
            "Epoch 5 Batch 1000 Loss 0.2137\n",
            "Epoch 5 Batch 1100 Loss 0.2288\n",
            "Epoch 5 Batch 1200 Loss 0.2414\n",
            "Epoch 5 Loss 0.2111\n",
            "Time taken for 1 epoch 58.98276662826538 sec\n",
            "\n",
            "Epoch 6 Batch 0 Loss 0.1516\n",
            "Epoch 6 Batch 100 Loss 0.1163\n",
            "Epoch 6 Batch 200 Loss 0.1530\n",
            "Epoch 6 Batch 300 Loss 0.1622\n",
            "Epoch 6 Batch 400 Loss 0.0967\n",
            "Epoch 6 Batch 500 Loss 0.1345\n",
            "Epoch 6 Batch 600 Loss 0.1720\n",
            "Epoch 6 Batch 700 Loss 0.1701\n",
            "Epoch 6 Batch 800 Loss 0.1716\n",
            "Epoch 6 Batch 900 Loss 0.1378\n",
            "Epoch 6 Batch 1000 Loss 0.1636\n",
            "Epoch 6 Batch 1100 Loss 0.1798\n",
            "Epoch 6 Batch 1200 Loss 0.2447\n",
            "Epoch 6 Loss 0.1501\n",
            "Time taken for 1 epoch 59.5221266746521 sec\n",
            "\n",
            "Epoch 7 Batch 0 Loss 0.0957\n",
            "Epoch 7 Batch 100 Loss 0.0628\n",
            "Epoch 7 Batch 200 Loss 0.1139\n",
            "Epoch 7 Batch 300 Loss 0.0997\n",
            "Epoch 7 Batch 400 Loss 0.1136\n",
            "Epoch 7 Batch 500 Loss 0.0754\n",
            "Epoch 7 Batch 600 Loss 0.1229\n",
            "Epoch 7 Batch 700 Loss 0.1106\n",
            "Epoch 7 Batch 800 Loss 0.1539\n",
            "Epoch 7 Batch 900 Loss 0.1355\n",
            "Epoch 7 Batch 1000 Loss 0.1418\n",
            "Epoch 7 Batch 1100 Loss 0.1569\n",
            "Epoch 7 Batch 1200 Loss 0.1093\n",
            "Epoch 7 Loss 0.1177\n",
            "Time taken for 1 epoch 58.91594457626343 sec\n",
            "\n",
            "Epoch 8 Batch 0 Loss 0.1063\n",
            "Epoch 8 Batch 100 Loss 0.0982\n",
            "Epoch 8 Batch 200 Loss 0.0979\n",
            "Epoch 8 Batch 300 Loss 0.1242\n",
            "Epoch 8 Batch 400 Loss 0.0993\n",
            "Epoch 8 Batch 500 Loss 0.0989\n",
            "Epoch 8 Batch 600 Loss 0.1102\n",
            "Epoch 8 Batch 700 Loss 0.1664\n",
            "Epoch 8 Batch 800 Loss 0.0852\n",
            "Epoch 8 Batch 900 Loss 0.1161\n",
            "Epoch 8 Batch 1000 Loss 0.1126\n",
            "Epoch 8 Batch 1100 Loss 0.1260\n",
            "Epoch 8 Batch 1200 Loss 0.1242\n",
            "Epoch 8 Loss 0.1013\n",
            "Time taken for 1 epoch 59.641342878341675 sec\n",
            "\n",
            "Epoch 9 Batch 0 Loss 0.0897\n",
            "Epoch 9 Batch 100 Loss 0.0697\n",
            "Epoch 9 Batch 200 Loss 0.0668\n",
            "Epoch 9 Batch 300 Loss 0.1118\n",
            "Epoch 9 Batch 400 Loss 0.0940\n",
            "Epoch 9 Batch 500 Loss 0.1107\n",
            "Epoch 9 Batch 600 Loss 0.0865\n",
            "Epoch 9 Batch 700 Loss 0.0997\n",
            "Epoch 9 Batch 800 Loss 0.0883\n",
            "Epoch 9 Batch 900 Loss 0.1324\n",
            "Epoch 9 Batch 1000 Loss 0.1042\n",
            "Epoch 9 Batch 1100 Loss 0.1093\n",
            "Epoch 9 Batch 1200 Loss 0.0971\n",
            "Epoch 9 Loss 0.0911\n",
            "Time taken for 1 epoch 59.04264450073242 sec\n",
            "\n",
            "Epoch 10 Batch 0 Loss 0.0675\n",
            "Epoch 10 Batch 100 Loss 0.0711\n",
            "Epoch 10 Batch 200 Loss 0.0695\n",
            "Epoch 10 Batch 300 Loss 0.0742\n",
            "Epoch 10 Batch 400 Loss 0.0448\n",
            "Epoch 10 Batch 500 Loss 0.0742\n",
            "Epoch 10 Batch 600 Loss 0.1015\n",
            "Epoch 10 Batch 700 Loss 0.1129\n",
            "Epoch 10 Batch 800 Loss 0.0662\n",
            "Epoch 10 Batch 900 Loss 0.0707\n",
            "Epoch 10 Batch 1000 Loss 0.0806\n",
            "Epoch 10 Batch 1100 Loss 0.0849\n",
            "Epoch 10 Batch 1200 Loss 0.1265\n",
            "Epoch 10 Loss 0.0839\n",
            "Time taken for 1 epoch 59.748552083969116 sec\n",
            "\n",
            "Epoch 11 Batch 0 Loss 0.0651\n",
            "Epoch 11 Batch 100 Loss 0.0684\n",
            "Epoch 11 Batch 200 Loss 0.0773\n",
            "Epoch 11 Batch 300 Loss 0.0819\n",
            "Epoch 11 Batch 400 Loss 0.0577\n",
            "Epoch 11 Batch 500 Loss 0.1024\n",
            "Epoch 11 Batch 600 Loss 0.0865\n",
            "Epoch 11 Batch 700 Loss 0.0821\n",
            "Epoch 11 Batch 800 Loss 0.0694\n",
            "Epoch 11 Batch 900 Loss 0.0659\n",
            "Epoch 11 Batch 1000 Loss 0.0959\n",
            "Epoch 11 Batch 1100 Loss 0.0996\n",
            "Epoch 11 Batch 1200 Loss 0.1223\n",
            "Epoch 11 Loss 0.0791\n",
            "Time taken for 1 epoch 59.08151388168335 sec\n",
            "\n",
            "Epoch 12 Batch 0 Loss 0.0526\n",
            "Epoch 12 Batch 100 Loss 0.0798\n",
            "Epoch 12 Batch 200 Loss 0.0383\n",
            "Epoch 12 Batch 300 Loss 0.0260\n",
            "Epoch 12 Batch 400 Loss 0.0657\n",
            "Epoch 12 Batch 500 Loss 0.0672\n",
            "Epoch 12 Batch 600 Loss 0.0713\n",
            "Epoch 12 Batch 700 Loss 0.0956\n",
            "Epoch 12 Batch 800 Loss 0.0600\n",
            "Epoch 12 Batch 900 Loss 0.0907\n",
            "Epoch 12 Batch 1000 Loss 0.1027\n",
            "Epoch 12 Batch 1100 Loss 0.0999\n",
            "Epoch 12 Batch 1200 Loss 0.1073\n",
            "Epoch 12 Loss 0.0754\n",
            "Time taken for 1 epoch 59.64940285682678 sec\n",
            "\n",
            "Epoch 13 Batch 0 Loss 0.0927\n",
            "Epoch 13 Batch 100 Loss 0.0734\n",
            "Epoch 13 Batch 200 Loss 0.0524\n",
            "Epoch 13 Batch 300 Loss 0.0947\n",
            "Epoch 13 Batch 400 Loss 0.0922\n",
            "Epoch 13 Batch 500 Loss 0.0471\n",
            "Epoch 13 Batch 600 Loss 0.0807\n",
            "Epoch 13 Batch 700 Loss 0.0753\n",
            "Epoch 13 Batch 800 Loss 0.1066\n",
            "Epoch 13 Batch 900 Loss 0.0703\n",
            "Epoch 13 Batch 1000 Loss 0.0369\n",
            "Epoch 13 Batch 1100 Loss 0.0690\n",
            "Epoch 13 Batch 1200 Loss 0.0895\n",
            "Epoch 13 Loss 0.0717\n",
            "Time taken for 1 epoch 58.97741723060608 sec\n",
            "\n",
            "Epoch 14 Batch 0 Loss 0.0312\n",
            "Epoch 14 Batch 100 Loss 0.0546\n",
            "Epoch 14 Batch 200 Loss 0.0306\n",
            "Epoch 14 Batch 300 Loss 0.0551\n",
            "Epoch 14 Batch 400 Loss 0.0934\n",
            "Epoch 14 Batch 500 Loss 0.0621\n",
            "Epoch 14 Batch 600 Loss 0.1070\n",
            "Epoch 14 Batch 700 Loss 0.0634\n",
            "Epoch 14 Batch 800 Loss 0.0792\n",
            "Epoch 14 Batch 900 Loss 0.0927\n",
            "Epoch 14 Batch 1000 Loss 0.0454\n",
            "Epoch 14 Batch 1100 Loss 0.0720\n",
            "Epoch 14 Batch 1200 Loss 0.0989\n",
            "Epoch 14 Loss 0.0706\n",
            "Time taken for 1 epoch 59.578394174575806 sec\n",
            "\n",
            "Epoch 15 Batch 0 Loss 0.0668\n",
            "Epoch 15 Batch 100 Loss 0.0241\n",
            "Epoch 15 Batch 200 Loss 0.0412\n",
            "Epoch 15 Batch 300 Loss 0.0703\n",
            "Epoch 15 Batch 400 Loss 0.0647\n",
            "Epoch 15 Batch 500 Loss 0.0531\n",
            "Epoch 15 Batch 600 Loss 0.0579\n",
            "Epoch 15 Batch 700 Loss 0.0744\n",
            "Epoch 15 Batch 800 Loss 0.0678\n",
            "Epoch 15 Batch 900 Loss 0.0872\n",
            "Epoch 15 Batch 1000 Loss 0.0855\n",
            "Epoch 15 Batch 1100 Loss 0.0789\n",
            "Epoch 15 Batch 1200 Loss 0.0663\n",
            "Epoch 15 Loss 0.0680\n",
            "Time taken for 1 epoch 58.99948334693909 sec\n",
            "\n",
            "Epoch 16 Batch 0 Loss 0.0675\n",
            "Epoch 16 Batch 100 Loss 0.0625\n",
            "Epoch 16 Batch 200 Loss 0.0419\n",
            "Epoch 16 Batch 300 Loss 0.0523\n",
            "Epoch 16 Batch 400 Loss 0.0707\n",
            "Epoch 16 Batch 500 Loss 0.0581\n",
            "Epoch 16 Batch 600 Loss 0.0650\n",
            "Epoch 16 Batch 700 Loss 0.0716\n",
            "Epoch 16 Batch 800 Loss 0.0610\n",
            "Epoch 16 Batch 900 Loss 0.0816\n",
            "Epoch 16 Batch 1000 Loss 0.0508\n",
            "Epoch 16 Batch 1100 Loss 0.0498\n",
            "Epoch 16 Batch 1200 Loss 0.0889\n",
            "Epoch 16 Loss 0.0657\n",
            "Time taken for 1 epoch 59.652892112731934 sec\n",
            "\n",
            "Epoch 17 Batch 0 Loss 0.0441\n",
            "Epoch 17 Batch 100 Loss 0.0299\n",
            "Epoch 17 Batch 200 Loss 0.0908\n",
            "Epoch 17 Batch 300 Loss 0.0436\n",
            "Epoch 17 Batch 400 Loss 0.0943\n",
            "Epoch 17 Batch 500 Loss 0.0726\n",
            "Epoch 17 Batch 600 Loss 0.0764\n",
            "Epoch 17 Batch 700 Loss 0.0677\n",
            "Epoch 17 Batch 800 Loss 0.0718\n",
            "Epoch 17 Batch 900 Loss 0.0860\n",
            "Epoch 17 Batch 1000 Loss 0.0698\n",
            "Epoch 17 Batch 1100 Loss 0.0675\n",
            "Epoch 17 Batch 1200 Loss 0.0736\n",
            "Epoch 17 Loss 0.0645\n",
            "Time taken for 1 epoch 59.01412630081177 sec\n",
            "\n",
            "Epoch 18 Batch 0 Loss 0.0571\n",
            "Epoch 18 Batch 100 Loss 0.0594\n",
            "Epoch 18 Batch 200 Loss 0.0676\n",
            "Epoch 18 Batch 300 Loss 0.0357\n",
            "Epoch 18 Batch 400 Loss 0.0389\n",
            "Epoch 18 Batch 500 Loss 0.1192\n",
            "Epoch 18 Batch 600 Loss 0.0463\n",
            "Epoch 18 Batch 700 Loss 0.0421\n",
            "Epoch 18 Batch 800 Loss 0.0358\n",
            "Epoch 18 Batch 900 Loss 0.0736\n",
            "Epoch 18 Batch 1000 Loss 0.0496\n",
            "Epoch 18 Batch 1100 Loss 0.0662\n",
            "Epoch 18 Batch 1200 Loss 0.0929\n",
            "Epoch 18 Loss 0.0629\n",
            "Time taken for 1 epoch 59.68390488624573 sec\n",
            "\n",
            "Epoch 19 Batch 0 Loss 0.0696\n",
            "Epoch 19 Batch 100 Loss 0.0453\n",
            "Epoch 19 Batch 200 Loss 0.0250\n",
            "Epoch 19 Batch 300 Loss 0.0598\n",
            "Epoch 19 Batch 400 Loss 0.0754\n",
            "Epoch 19 Batch 500 Loss 0.1124\n",
            "Epoch 19 Batch 600 Loss 0.0537\n",
            "Epoch 19 Batch 700 Loss 0.0883\n",
            "Epoch 19 Batch 800 Loss 0.0704\n",
            "Epoch 19 Batch 900 Loss 0.1067\n",
            "Epoch 19 Batch 1000 Loss 0.0754\n",
            "Epoch 19 Batch 1100 Loss 0.0835\n",
            "Epoch 19 Batch 1200 Loss 0.0452\n",
            "Epoch 19 Loss 0.0621\n",
            "Time taken for 1 epoch 59.02592206001282 sec\n",
            "\n",
            "Epoch 20 Batch 0 Loss 0.0213\n",
            "Epoch 20 Batch 100 Loss 0.0639\n",
            "Epoch 20 Batch 200 Loss 0.0283\n",
            "Epoch 20 Batch 300 Loss 0.0471\n",
            "Epoch 20 Batch 400 Loss 0.0865\n",
            "Epoch 20 Batch 500 Loss 0.0923\n",
            "Epoch 20 Batch 600 Loss 0.0561\n",
            "Epoch 20 Batch 700 Loss 0.0492\n",
            "Epoch 20 Batch 800 Loss 0.0564\n",
            "Epoch 20 Batch 900 Loss 0.0763\n",
            "Epoch 20 Batch 1000 Loss 0.0775\n",
            "Epoch 20 Batch 1100 Loss 0.1055\n",
            "Epoch 20 Batch 1200 Loss 0.0929\n",
            "Epoch 20 Loss 0.0606\n",
            "Time taken for 1 epoch 59.61906933784485 sec\n",
            "\n",
            "Epoch 21 Batch 0 Loss 0.0497\n",
            "Epoch 21 Batch 100 Loss 0.0365\n",
            "Epoch 21 Batch 200 Loss 0.0622\n",
            "Epoch 21 Batch 300 Loss 0.0719\n",
            "Epoch 21 Batch 400 Loss 0.0331\n",
            "Epoch 21 Batch 500 Loss 0.0509\n",
            "Epoch 21 Batch 600 Loss 0.0495\n",
            "Epoch 21 Batch 700 Loss 0.0941\n",
            "Epoch 21 Batch 800 Loss 0.0607\n",
            "Epoch 21 Batch 900 Loss 0.0708\n",
            "Epoch 21 Batch 1000 Loss 0.0756\n",
            "Epoch 21 Batch 1100 Loss 0.0472\n",
            "Epoch 21 Batch 1200 Loss 0.0676\n",
            "Epoch 21 Loss 0.0597\n",
            "Time taken for 1 epoch 59.059584856033325 sec\n",
            "\n",
            "Epoch 22 Batch 0 Loss 0.0675\n",
            "Epoch 22 Batch 100 Loss 0.0419\n",
            "Epoch 22 Batch 200 Loss 0.0655\n",
            "Epoch 22 Batch 300 Loss 0.0994\n",
            "Epoch 22 Batch 400 Loss 0.0478\n",
            "Epoch 22 Batch 500 Loss 0.0588\n",
            "Epoch 22 Batch 600 Loss 0.0696\n",
            "Epoch 22 Batch 700 Loss 0.0843\n",
            "Epoch 22 Batch 800 Loss 0.0748\n",
            "Epoch 22 Batch 900 Loss 0.0697\n",
            "Epoch 22 Batch 1000 Loss 0.0767\n",
            "Epoch 22 Batch 1100 Loss 0.0471\n",
            "Epoch 22 Batch 1200 Loss 0.0414\n",
            "Epoch 22 Loss 0.0579\n",
            "Time taken for 1 epoch 59.66423320770264 sec\n",
            "\n",
            "Epoch 23 Batch 0 Loss 0.0487\n",
            "Epoch 23 Batch 100 Loss 0.0550\n",
            "Epoch 23 Batch 200 Loss 0.0490\n",
            "Epoch 23 Batch 300 Loss 0.0473\n",
            "Epoch 23 Batch 400 Loss 0.0532\n",
            "Epoch 23 Batch 500 Loss 0.0467\n",
            "Epoch 23 Batch 600 Loss 0.0711\n",
            "Epoch 23 Batch 700 Loss 0.0780\n",
            "Epoch 23 Batch 800 Loss 0.0343\n",
            "Epoch 23 Batch 900 Loss 0.0638\n",
            "Epoch 23 Batch 1000 Loss 0.0539\n",
            "Epoch 23 Batch 1100 Loss 0.0596\n",
            "Epoch 23 Batch 1200 Loss 0.0566\n",
            "Epoch 23 Loss 0.0572\n",
            "Time taken for 1 epoch 58.99155020713806 sec\n",
            "\n",
            "Epoch 24 Batch 0 Loss 0.0539\n",
            "Epoch 24 Batch 100 Loss 0.0283\n",
            "Epoch 24 Batch 200 Loss 0.0288\n",
            "Epoch 24 Batch 300 Loss 0.0638\n",
            "Epoch 24 Batch 400 Loss 0.0484\n",
            "Epoch 24 Batch 500 Loss 0.0331\n",
            "Epoch 24 Batch 600 Loss 0.0672\n",
            "Epoch 24 Batch 700 Loss 0.0462\n",
            "Epoch 24 Batch 800 Loss 0.0469\n",
            "Epoch 24 Batch 900 Loss 0.0874\n",
            "Epoch 24 Batch 1000 Loss 0.0281\n",
            "Epoch 24 Batch 1100 Loss 0.0696\n",
            "Epoch 24 Batch 1200 Loss 0.0641\n",
            "Epoch 24 Loss 0.0563\n",
            "Time taken for 1 epoch 59.59773063659668 sec\n",
            "\n",
            "Epoch 25 Batch 0 Loss 0.0481\n",
            "Epoch 25 Batch 100 Loss 0.0494\n",
            "Epoch 25 Batch 200 Loss 0.0235\n",
            "Epoch 25 Batch 300 Loss 0.0580\n",
            "Epoch 25 Batch 400 Loss 0.0427\n",
            "Epoch 25 Batch 500 Loss 0.0391\n",
            "Epoch 25 Batch 600 Loss 0.0362\n",
            "Epoch 25 Batch 700 Loss 0.0569\n",
            "Epoch 25 Batch 800 Loss 0.0388\n",
            "Epoch 25 Batch 900 Loss 0.0413\n",
            "Epoch 25 Batch 1000 Loss 0.0735\n",
            "Epoch 25 Batch 1100 Loss 0.0767\n",
            "Epoch 25 Batch 1200 Loss 0.0482\n",
            "Epoch 25 Loss 0.0555\n",
            "Time taken for 1 epoch 58.91144847869873 sec\n",
            "\n",
            "Epoch 26 Batch 0 Loss 0.0408\n",
            "Epoch 26 Batch 100 Loss 0.0365\n",
            "Epoch 26 Batch 200 Loss 0.0280\n",
            "Epoch 26 Batch 300 Loss 0.0489\n",
            "Epoch 26 Batch 400 Loss 0.0519\n",
            "Epoch 26 Batch 500 Loss 0.0653\n",
            "Epoch 26 Batch 600 Loss 0.0556\n",
            "Epoch 26 Batch 700 Loss 0.0745\n",
            "Epoch 26 Batch 800 Loss 0.0627\n",
            "Epoch 26 Batch 900 Loss 0.0654\n",
            "Epoch 26 Batch 1000 Loss 0.0235\n",
            "Epoch 26 Batch 1100 Loss 0.0867\n",
            "Epoch 26 Batch 1200 Loss 0.0637\n",
            "Epoch 26 Loss 0.0547\n",
            "Time taken for 1 epoch 59.594218015670776 sec\n",
            "\n",
            "Epoch 27 Batch 0 Loss 0.0424\n",
            "Epoch 27 Batch 100 Loss 0.0326\n",
            "Epoch 27 Batch 200 Loss 0.0616\n",
            "Epoch 27 Batch 300 Loss 0.0606\n",
            "Epoch 27 Batch 400 Loss 0.0231\n",
            "Epoch 27 Batch 500 Loss 0.0203\n",
            "Epoch 27 Batch 600 Loss 0.0912\n",
            "Epoch 27 Batch 700 Loss 0.0564\n",
            "Epoch 27 Batch 800 Loss 0.0733\n",
            "Epoch 27 Batch 900 Loss 0.0899\n",
            "Epoch 27 Batch 1000 Loss 0.0712\n",
            "Epoch 27 Batch 1100 Loss 0.0553\n",
            "Epoch 27 Batch 1200 Loss 0.0770\n",
            "Epoch 27 Loss 0.0534\n",
            "Time taken for 1 epoch 58.93027901649475 sec\n",
            "\n",
            "Epoch 28 Batch 0 Loss 0.0372\n",
            "Epoch 28 Batch 100 Loss 0.0252\n",
            "Epoch 28 Batch 200 Loss 0.0475\n",
            "Epoch 28 Batch 300 Loss 0.0393\n",
            "Epoch 28 Batch 400 Loss 0.0277\n",
            "Epoch 28 Batch 500 Loss 0.0243\n",
            "Epoch 28 Batch 600 Loss 0.0489\n",
            "Epoch 28 Batch 700 Loss 0.0630\n",
            "Epoch 28 Batch 800 Loss 0.0492\n",
            "Epoch 28 Batch 900 Loss 0.0868\n",
            "Epoch 28 Batch 1000 Loss 0.0539\n",
            "Epoch 28 Batch 1100 Loss 0.0835\n",
            "Epoch 28 Batch 1200 Loss 0.0633\n",
            "Epoch 28 Loss 0.0529\n",
            "Time taken for 1 epoch 59.594183683395386 sec\n",
            "\n",
            "Epoch 29 Batch 0 Loss 0.0192\n",
            "Epoch 29 Batch 100 Loss 0.0362\n",
            "Epoch 29 Batch 200 Loss 0.0461\n",
            "Epoch 29 Batch 300 Loss 0.0491\n",
            "Epoch 29 Batch 400 Loss 0.0566\n",
            "Epoch 29 Batch 500 Loss 0.0360\n",
            "Epoch 29 Batch 600 Loss 0.0435\n",
            "Epoch 29 Batch 700 Loss 0.0820\n",
            "Epoch 29 Batch 800 Loss 0.0376\n",
            "Epoch 29 Batch 900 Loss 0.0624\n",
            "Epoch 29 Batch 1000 Loss 0.0384\n",
            "Epoch 29 Batch 1100 Loss 0.0469\n",
            "Epoch 29 Batch 1200 Loss 0.0504\n",
            "Epoch 29 Loss 0.0520\n",
            "Time taken for 1 epoch 58.990360498428345 sec\n",
            "\n",
            "Epoch 30 Batch 0 Loss 0.0494\n",
            "Epoch 30 Batch 100 Loss 0.0227\n",
            "Epoch 30 Batch 200 Loss 0.0383\n",
            "Epoch 30 Batch 300 Loss 0.0328\n",
            "Epoch 30 Batch 400 Loss 0.0513\n",
            "Epoch 30 Batch 500 Loss 0.0651\n",
            "Epoch 30 Batch 600 Loss 0.0854\n",
            "Epoch 30 Batch 700 Loss 0.0722\n",
            "Epoch 30 Batch 800 Loss 0.0833\n",
            "Epoch 30 Batch 900 Loss 0.0723\n",
            "Epoch 30 Batch 1000 Loss 0.0729\n",
            "Epoch 30 Batch 1100 Loss 0.0581\n",
            "Epoch 30 Batch 1200 Loss 0.0698\n",
            "Epoch 30 Loss 0.0516\n",
            "Time taken for 1 epoch 59.790645599365234 sec\n",
            "\n",
            "Epoch 31 Batch 0 Loss 0.0309\n",
            "Epoch 31 Batch 100 Loss 0.0156\n",
            "Epoch 31 Batch 200 Loss 0.0304\n",
            "Epoch 31 Batch 300 Loss 0.0479\n",
            "Epoch 31 Batch 400 Loss 0.0513\n",
            "Epoch 31 Batch 500 Loss 0.0521\n",
            "Epoch 31 Batch 600 Loss 0.0645\n",
            "Epoch 31 Batch 700 Loss 0.0416\n",
            "Epoch 31 Batch 800 Loss 0.0626\n",
            "Epoch 31 Batch 900 Loss 0.0409\n",
            "Epoch 31 Batch 1000 Loss 0.0591\n",
            "Epoch 31 Batch 1100 Loss 0.0594\n",
            "Epoch 31 Batch 1200 Loss 0.1085\n",
            "Epoch 31 Loss 0.0502\n",
            "Time taken for 1 epoch 59.06066584587097 sec\n",
            "\n",
            "Epoch 32 Batch 0 Loss 0.0217\n",
            "Epoch 32 Batch 100 Loss 0.0475\n",
            "Epoch 32 Batch 200 Loss 0.0335\n",
            "Epoch 32 Batch 300 Loss 0.0430\n",
            "Epoch 32 Batch 400 Loss 0.0497\n",
            "Epoch 32 Batch 500 Loss 0.0399\n",
            "Epoch 32 Batch 600 Loss 0.0286\n",
            "Epoch 32 Batch 700 Loss 0.0484\n",
            "Epoch 32 Batch 800 Loss 0.0632\n",
            "Epoch 32 Batch 900 Loss 0.0412\n",
            "Epoch 32 Batch 1000 Loss 0.0370\n",
            "Epoch 32 Batch 1100 Loss 0.0671\n",
            "Epoch 32 Batch 1200 Loss 0.0483\n",
            "Epoch 32 Loss 0.0501\n",
            "Time taken for 1 epoch 59.739336252212524 sec\n",
            "\n",
            "Epoch 33 Batch 0 Loss 0.0424\n",
            "Epoch 33 Batch 100 Loss 0.0285\n",
            "Epoch 33 Batch 200 Loss 0.0282\n",
            "Epoch 33 Batch 300 Loss 0.0592\n",
            "Epoch 33 Batch 400 Loss 0.0723\n",
            "Epoch 33 Batch 500 Loss 0.0530\n",
            "Epoch 33 Batch 600 Loss 0.0527\n",
            "Epoch 33 Batch 700 Loss 0.0566\n",
            "Epoch 33 Batch 800 Loss 0.0535\n",
            "Epoch 33 Batch 900 Loss 0.0613\n",
            "Epoch 33 Batch 1000 Loss 0.0597\n",
            "Epoch 33 Batch 1100 Loss 0.0538\n",
            "Epoch 33 Batch 1200 Loss 0.0422\n",
            "Epoch 33 Loss 0.0493\n",
            "Time taken for 1 epoch 59.01091432571411 sec\n",
            "\n",
            "Epoch 34 Batch 0 Loss 0.0486\n",
            "Epoch 34 Batch 100 Loss 0.0276\n",
            "Epoch 34 Batch 200 Loss 0.0554\n",
            "Epoch 34 Batch 300 Loss 0.0356\n",
            "Epoch 34 Batch 400 Loss 0.0374\n",
            "Epoch 34 Batch 500 Loss 0.0463\n",
            "Epoch 34 Batch 600 Loss 0.0359\n",
            "Epoch 34 Batch 700 Loss 0.0464\n",
            "Epoch 34 Batch 800 Loss 0.0578\n",
            "Epoch 34 Batch 900 Loss 0.0605\n",
            "Epoch 34 Batch 1000 Loss 0.0604\n",
            "Epoch 34 Batch 1100 Loss 0.0520\n",
            "Epoch 34 Batch 1200 Loss 0.0491\n",
            "Epoch 34 Loss 0.0487\n",
            "Time taken for 1 epoch 59.599831104278564 sec\n",
            "\n",
            "Epoch 35 Batch 0 Loss 0.0522\n",
            "Epoch 35 Batch 100 Loss 0.0492\n",
            "Epoch 35 Batch 200 Loss 0.0121\n",
            "Epoch 35 Batch 300 Loss 0.0250\n",
            "Epoch 35 Batch 400 Loss 0.0540\n",
            "Epoch 35 Batch 500 Loss 0.0325\n",
            "Epoch 35 Batch 600 Loss 0.0410\n",
            "Epoch 35 Batch 700 Loss 0.0216\n",
            "Epoch 35 Batch 800 Loss 0.0354\n",
            "Epoch 35 Batch 900 Loss 0.0456\n",
            "Epoch 35 Batch 1000 Loss 0.0609\n",
            "Epoch 35 Batch 1100 Loss 0.0560\n",
            "Epoch 35 Batch 1200 Loss 0.0819\n",
            "Epoch 35 Loss 0.0477\n",
            "Time taken for 1 epoch 59.005871057510376 sec\n",
            "\n",
            "Epoch 36 Batch 0 Loss 0.0443\n",
            "Epoch 36 Batch 100 Loss 0.0158\n",
            "Epoch 36 Batch 200 Loss 0.0252\n",
            "Epoch 36 Batch 300 Loss 0.0268\n",
            "Epoch 36 Batch 400 Loss 0.0456\n",
            "Epoch 36 Batch 500 Loss 0.0452\n",
            "Epoch 36 Batch 600 Loss 0.0346\n",
            "Epoch 36 Batch 700 Loss 0.0248\n",
            "Epoch 36 Batch 800 Loss 0.0644\n",
            "Epoch 36 Batch 900 Loss 0.0490\n",
            "Epoch 36 Batch 1000 Loss 0.0652\n",
            "Epoch 36 Batch 1100 Loss 0.0883\n",
            "Epoch 36 Batch 1200 Loss 0.0607\n",
            "Epoch 36 Loss 0.0471\n",
            "Time taken for 1 epoch 59.60530209541321 sec\n",
            "\n",
            "Epoch 37 Batch 0 Loss 0.0284\n",
            "Epoch 37 Batch 100 Loss 0.0552\n",
            "Epoch 37 Batch 200 Loss 0.0463\n",
            "Epoch 37 Batch 300 Loss 0.0300\n",
            "Epoch 37 Batch 400 Loss 0.0346\n",
            "Epoch 37 Batch 500 Loss 0.0534\n",
            "Epoch 37 Batch 600 Loss 0.0332\n",
            "Epoch 37 Batch 700 Loss 0.0520\n",
            "Epoch 37 Batch 800 Loss 0.0360\n",
            "Epoch 37 Batch 900 Loss 0.0674\n",
            "Epoch 37 Batch 1000 Loss 0.0397\n",
            "Epoch 37 Batch 1100 Loss 0.0516\n",
            "Epoch 37 Batch 1200 Loss 0.0499\n",
            "Epoch 37 Loss 0.0464\n",
            "Time taken for 1 epoch 59.0360324382782 sec\n",
            "\n",
            "Epoch 38 Batch 0 Loss 0.0287\n",
            "Epoch 38 Batch 100 Loss 0.0411\n",
            "Epoch 38 Batch 200 Loss 0.0374\n",
            "Epoch 38 Batch 300 Loss 0.0667\n",
            "Epoch 38 Batch 400 Loss 0.0257\n",
            "Epoch 38 Batch 500 Loss 0.0283\n",
            "Epoch 38 Batch 600 Loss 0.0414\n",
            "Epoch 38 Batch 700 Loss 0.0460\n",
            "Epoch 38 Batch 800 Loss 0.0335\n",
            "Epoch 38 Batch 900 Loss 0.0712\n",
            "Epoch 38 Batch 1000 Loss 0.0729\n",
            "Epoch 38 Batch 1100 Loss 0.0812\n",
            "Epoch 38 Batch 1200 Loss 0.0354\n",
            "Epoch 38 Loss 0.0463\n",
            "Time taken for 1 epoch 59.64318037033081 sec\n",
            "\n",
            "Epoch 39 Batch 0 Loss 0.0470\n",
            "Epoch 39 Batch 100 Loss 0.0330\n",
            "Epoch 39 Batch 200 Loss 0.0317\n",
            "Epoch 39 Batch 300 Loss 0.0431\n",
            "Epoch 39 Batch 400 Loss 0.0295\n",
            "Epoch 39 Batch 500 Loss 0.0384\n",
            "Epoch 39 Batch 600 Loss 0.0465\n",
            "Epoch 39 Batch 700 Loss 0.0618\n",
            "Epoch 39 Batch 800 Loss 0.0386\n",
            "Epoch 39 Batch 900 Loss 0.0814\n",
            "Epoch 39 Batch 1000 Loss 0.0476\n",
            "Epoch 39 Batch 1100 Loss 0.0436\n",
            "Epoch 39 Batch 1200 Loss 0.0623\n",
            "Epoch 39 Loss 0.0458\n",
            "Time taken for 1 epoch 58.892566442489624 sec\n",
            "\n",
            "Epoch 40 Batch 0 Loss 0.0163\n",
            "Epoch 40 Batch 100 Loss 0.0710\n",
            "Epoch 40 Batch 200 Loss 0.0317\n",
            "Epoch 40 Batch 300 Loss 0.0452\n",
            "Epoch 40 Batch 400 Loss 0.0076\n",
            "Epoch 40 Batch 500 Loss 0.0537\n",
            "Epoch 40 Batch 600 Loss 0.0541\n",
            "Epoch 40 Batch 700 Loss 0.0462\n",
            "Epoch 40 Batch 800 Loss 0.0311\n",
            "Epoch 40 Batch 900 Loss 0.0809\n",
            "Epoch 40 Batch 1000 Loss 0.0442\n",
            "Epoch 40 Batch 1100 Loss 0.0333\n",
            "Epoch 40 Batch 1200 Loss 0.0662\n",
            "Epoch 40 Loss 0.0451\n",
            "Time taken for 1 epoch 59.56005096435547 sec\n",
            "\n",
            "Epoch 41 Batch 0 Loss 0.0265\n",
            "Epoch 41 Batch 100 Loss 0.0320\n",
            "Epoch 41 Batch 200 Loss 0.0396\n",
            "Epoch 41 Batch 300 Loss 0.0175\n",
            "Epoch 41 Batch 400 Loss 0.0437\n",
            "Epoch 41 Batch 500 Loss 0.0288\n",
            "Epoch 41 Batch 600 Loss 0.0511\n",
            "Epoch 41 Batch 700 Loss 0.0234\n",
            "Epoch 41 Batch 800 Loss 0.0308\n",
            "Epoch 41 Batch 900 Loss 0.0485\n",
            "Epoch 41 Batch 1000 Loss 0.0528\n",
            "Epoch 41 Batch 1100 Loss 0.0634\n",
            "Epoch 41 Batch 1200 Loss 0.0512\n",
            "Epoch 41 Loss 0.0448\n",
            "Time taken for 1 epoch 58.97434425354004 sec\n",
            "\n",
            "Epoch 42 Batch 0 Loss 0.0355\n",
            "Epoch 42 Batch 100 Loss 0.0395\n",
            "Epoch 42 Batch 200 Loss 0.0146\n",
            "Epoch 42 Batch 300 Loss 0.0392\n",
            "Epoch 42 Batch 400 Loss 0.0380\n",
            "Epoch 42 Batch 500 Loss 0.0290\n",
            "Epoch 42 Batch 600 Loss 0.0608\n",
            "Epoch 42 Batch 700 Loss 0.0643\n",
            "Epoch 42 Batch 800 Loss 0.0313\n",
            "Epoch 42 Batch 900 Loss 0.0501\n",
            "Epoch 42 Batch 1000 Loss 0.0526\n",
            "Epoch 42 Batch 1100 Loss 0.0407\n",
            "Epoch 42 Batch 1200 Loss 0.0371\n",
            "Epoch 42 Loss 0.0443\n",
            "Time taken for 1 epoch 59.64298677444458 sec\n",
            "\n",
            "Epoch 43 Batch 0 Loss 0.0229\n",
            "Epoch 43 Batch 100 Loss 0.0580\n",
            "Epoch 43 Batch 200 Loss 0.0314\n",
            "Epoch 43 Batch 300 Loss 0.0459\n",
            "Epoch 43 Batch 400 Loss 0.0275\n",
            "Epoch 43 Batch 500 Loss 0.0403\n",
            "Epoch 43 Batch 600 Loss 0.0298\n",
            "Epoch 43 Batch 700 Loss 0.0349\n",
            "Epoch 43 Batch 800 Loss 0.0548\n",
            "Epoch 43 Batch 900 Loss 0.0551\n",
            "Epoch 43 Batch 1000 Loss 0.0567\n",
            "Epoch 43 Batch 1100 Loss 0.0689\n",
            "Epoch 43 Batch 1200 Loss 0.0824\n",
            "Epoch 43 Loss 0.0439\n",
            "Time taken for 1 epoch 59.02571940422058 sec\n",
            "\n",
            "Epoch 44 Batch 0 Loss 0.0586\n",
            "Epoch 44 Batch 100 Loss 0.0284\n",
            "Epoch 44 Batch 200 Loss 0.0352\n",
            "Epoch 44 Batch 300 Loss 0.0351\n",
            "Epoch 44 Batch 400 Loss 0.0331\n",
            "Epoch 44 Batch 500 Loss 0.0525\n",
            "Epoch 44 Batch 600 Loss 0.0536\n",
            "Epoch 44 Batch 700 Loss 0.0646\n",
            "Epoch 44 Batch 800 Loss 0.0196\n",
            "Epoch 44 Batch 900 Loss 0.0740\n",
            "Epoch 44 Batch 1000 Loss 0.0546\n",
            "Epoch 44 Batch 1100 Loss 0.0394\n",
            "Epoch 44 Batch 1200 Loss 0.0457\n",
            "Epoch 44 Loss 0.0437\n",
            "Time taken for 1 epoch 59.6358687877655 sec\n",
            "\n",
            "Epoch 45 Batch 0 Loss 0.0272\n",
            "Epoch 45 Batch 100 Loss 0.0237\n",
            "Epoch 45 Batch 200 Loss 0.0241\n",
            "Epoch 45 Batch 300 Loss 0.0461\n",
            "Epoch 45 Batch 400 Loss 0.0367\n",
            "Epoch 45 Batch 500 Loss 0.0637\n",
            "Epoch 45 Batch 600 Loss 0.0724\n",
            "Epoch 45 Batch 700 Loss 0.0316\n",
            "Epoch 45 Batch 800 Loss 0.0391\n",
            "Epoch 45 Batch 900 Loss 0.0483\n",
            "Epoch 45 Batch 1000 Loss 0.0353\n",
            "Epoch 45 Batch 1100 Loss 0.0386\n",
            "Epoch 45 Batch 1200 Loss 0.0435\n",
            "Epoch 45 Loss 0.0434\n",
            "Time taken for 1 epoch 58.97157835960388 sec\n",
            "\n",
            "Epoch 46 Batch 0 Loss 0.0237\n",
            "Epoch 46 Batch 100 Loss 0.0316\n",
            "Epoch 46 Batch 200 Loss 0.0227\n",
            "Epoch 46 Batch 300 Loss 0.0299\n",
            "Epoch 46 Batch 400 Loss 0.0340\n",
            "Epoch 46 Batch 500 Loss 0.0513\n",
            "Epoch 46 Batch 600 Loss 0.0475\n",
            "Epoch 46 Batch 700 Loss 0.0446\n",
            "Epoch 46 Batch 800 Loss 0.0430\n",
            "Epoch 46 Batch 900 Loss 0.0560\n",
            "Epoch 46 Batch 1000 Loss 0.0568\n",
            "Epoch 46 Batch 1100 Loss 0.0461\n",
            "Epoch 46 Batch 1200 Loss 0.0485\n",
            "Epoch 46 Loss 0.0426\n",
            "Time taken for 1 epoch 59.60986304283142 sec\n",
            "\n",
            "Epoch 47 Batch 0 Loss 0.0446\n",
            "Epoch 47 Batch 100 Loss 0.0380\n",
            "Epoch 47 Batch 200 Loss 0.0200\n",
            "Epoch 47 Batch 300 Loss 0.0297\n",
            "Epoch 47 Batch 400 Loss 0.0598\n",
            "Epoch 47 Batch 500 Loss 0.0348\n",
            "Epoch 47 Batch 600 Loss 0.0298\n",
            "Epoch 47 Batch 700 Loss 0.0138\n",
            "Epoch 47 Batch 800 Loss 0.0246\n",
            "Epoch 47 Batch 900 Loss 0.0526\n",
            "Epoch 47 Batch 1000 Loss 0.0240\n",
            "Epoch 47 Batch 1100 Loss 0.0486\n",
            "Epoch 47 Batch 1200 Loss 0.0784\n",
            "Epoch 47 Loss 0.0424\n",
            "Time taken for 1 epoch 58.938135862350464 sec\n",
            "\n",
            "Epoch 48 Batch 0 Loss 0.0466\n",
            "Epoch 48 Batch 100 Loss 0.0448\n",
            "Epoch 48 Batch 200 Loss 0.0303\n",
            "Epoch 48 Batch 300 Loss 0.0256\n",
            "Epoch 48 Batch 400 Loss 0.0344\n",
            "Epoch 48 Batch 500 Loss 0.0426\n",
            "Epoch 48 Batch 600 Loss 0.0396\n",
            "Epoch 48 Batch 700 Loss 0.0516\n",
            "Epoch 48 Batch 800 Loss 0.0772\n",
            "Epoch 48 Batch 900 Loss 0.0558\n",
            "Epoch 48 Batch 1000 Loss 0.0268\n",
            "Epoch 48 Batch 1100 Loss 0.0468\n",
            "Epoch 48 Batch 1200 Loss 0.0442\n",
            "Epoch 48 Loss 0.0417\n",
            "Time taken for 1 epoch 59.62055826187134 sec\n",
            "\n",
            "Epoch 49 Batch 0 Loss 0.0189\n",
            "Epoch 49 Batch 100 Loss 0.0275\n",
            "Epoch 49 Batch 200 Loss 0.0588\n",
            "Epoch 49 Batch 300 Loss 0.0315\n",
            "Epoch 49 Batch 400 Loss 0.0439\n",
            "Epoch 49 Batch 500 Loss 0.0170\n",
            "Epoch 49 Batch 600 Loss 0.0713\n",
            "Epoch 49 Batch 700 Loss 0.0396\n",
            "Epoch 49 Batch 800 Loss 0.0409\n",
            "Epoch 49 Batch 900 Loss 0.0194\n",
            "Epoch 49 Batch 1000 Loss 0.0708\n",
            "Epoch 49 Batch 1100 Loss 0.0494\n",
            "Epoch 49 Batch 1200 Loss 0.0270\n",
            "Epoch 49 Loss 0.0424\n",
            "Time taken for 1 epoch 58.98587441444397 sec\n",
            "\n",
            "Epoch 50 Batch 0 Loss 0.0273\n",
            "Epoch 50 Batch 100 Loss 0.0448\n",
            "Epoch 50 Batch 200 Loss 0.0522\n",
            "Epoch 50 Batch 300 Loss 0.0262\n",
            "Epoch 50 Batch 400 Loss 0.0405\n",
            "Epoch 50 Batch 500 Loss 0.0454\n",
            "Epoch 50 Batch 600 Loss 0.0287\n",
            "Epoch 50 Batch 700 Loss 0.0462\n",
            "Epoch 50 Batch 800 Loss 0.0356\n",
            "Epoch 50 Batch 900 Loss 0.0448\n",
            "Epoch 50 Batch 1000 Loss 0.0421\n",
            "Epoch 50 Batch 1100 Loss 0.0605\n",
            "Epoch 50 Batch 1200 Loss 0.0625\n",
            "Epoch 50 Loss 0.0414\n",
            "Time taken for 1 epoch 59.65798783302307 sec\n",
            "\n"
          ]
        }
      ]
    },
    {
      "cell_type": "markdown",
      "metadata": {
        "id": "mU3Ce8M6I3rz"
      },
      "source": [
        "## Translate\n",
        "\n",
        "* The evaluate function is similar to the training loop, except we don't use *teacher forcing* here. The input to the decoder at each time step is its previous predictions along with the hidden state and the encoder output.\n",
        "* Stop predicting when the model predicts the *end token*.\n",
        "* And store the *attention weights for every time step*.\n",
        "\n",
        "Note: The encoder output is calculated only once for one input."
      ]
    },
    {
      "cell_type": "code",
      "metadata": {
        "id": "EbQpyYs13jF_"
      },
      "source": [
        "def evaluate(sentence):\n",
        "  attention_plot = np.zeros((max_length_targ, max_length_inp))\n",
        "\n",
        "  sentence = preprocess_sentence(sentence)\n",
        "\n",
        "  inputs = [inp_lang.word_index[i] for i in sentence.split(' ')]\n",
        "  inputs = tf.keras.preprocessing.sequence.pad_sequences([inputs],\n",
        "                                                         maxlen=max_length_inp,\n",
        "                                                         padding='post')\n",
        "  inputs = tf.convert_to_tensor(inputs)\n",
        "\n",
        "  result = ''\n",
        "\n",
        "  hidden = [tf.zeros((1, units))]\n",
        "  enc_hidden = encoder(inputs, hidden)\n",
        "\n",
        "  dec_hidden = enc_hidden\n",
        "  dec_input = tf.expand_dims([targ_lang.word_index['<start>']], 0)\n",
        "\n",
        "  for t in range(max_length_targ):\n",
        "    predictions, dec_hidden = decoder(dec_input, dec_hidden)\n",
        "\n",
        "    # storing the attention weights to plot later on\n",
        "    predicted_id = tf.argmax(predictions[0]).numpy()\n",
        "    result += targ_lang.index_word[predicted_id] + ' '\n",
        "\n",
        "    if targ_lang.index_word[predicted_id] == '<end>':\n",
        "      return result, sentence\n",
        "\n",
        "    # the predicted ID is fed back into the model\n",
        "    dec_input = tf.expand_dims([predicted_id], 0)\n",
        "\n",
        "  return result, sentence"
      ],
      "execution_count": null,
      "outputs": []
    },
    {
      "cell_type": "code",
      "metadata": {
        "id": "sl9zUHzg3jGI"
      },
      "source": [
        "def translate(sentence):\n",
        "  result, sentence = evaluate(sentence)\n",
        "\n",
        "  print('Input: %s' % (sentence))\n",
        "  print('Predicted translation: {}'.format(result))"
      ],
      "execution_count": null,
      "outputs": []
    },
    {
      "cell_type": "markdown",
      "metadata": {
        "id": "n250XbnjOaqP"
      },
      "source": [
        "## Restore the latest checkpoint and test"
      ]
    },
    {
      "cell_type": "code",
      "metadata": {
        "id": "UJpT9D5_OgP6",
        "colab": {
          "base_uri": "https://localhost:8080/"
        },
        "outputId": "2e7e20bc-d7b2-489a-f6a1-5df217276d97"
      },
      "source": [
        "# restoring the latest checkpoint in checkpoint_dir\n",
        "checkpoint.restore(tf.train.latest_checkpoint(checkpoint_dir))"
      ],
      "execution_count": null,
      "outputs": [
        {
          "output_type": "execute_result",
          "data": {
            "text/plain": [
              "<tensorflow.python.training.tracking.util.CheckpointLoadStatus at 0x7f9ea9221b20>"
            ]
          },
          "metadata": {},
          "execution_count": 64
        }
      ]
    },
    {
      "cell_type": "code",
      "metadata": {
        "id": "WrAM0FDomq3E",
        "colab": {
          "base_uri": "https://localhost:8080/"
        },
        "outputId": "38dd4631-cc7f-4fb2-e6fc-7ca3d7cff12d"
      },
      "source": [
        "translate('Утром был дождь.')"
      ],
      "execution_count": null,
      "outputs": [
        {
          "output_type": "stream",
          "name": "stdout",
          "text": [
            "Input: <start> утром был дождь . <end>\n",
            "Predicted translation: the rain was raining . <end> \n"
          ]
        }
      ]
    },
    {
      "cell_type": "code",
      "metadata": {
        "id": "5bhFfwcIMX5i",
        "colab": {
          "base_uri": "https://localhost:8080/"
        },
        "outputId": "4f5ba015-f16f-455c-e7de-53bb5eca9148"
      },
      "source": [
        "translate('Я не смогу поехать.')"
      ],
      "execution_count": null,
      "outputs": [
        {
          "output_type": "stream",
          "name": "stdout",
          "text": [
            "Input: <start> я не смогу поехать . <end>\n",
            "Predicted translation: i can't go . <end> \n"
          ]
        }
      ]
    },
    {
      "cell_type": "code",
      "metadata": {
        "id": "zSx2iM36EZQZ",
        "colab": {
          "base_uri": "https://localhost:8080/"
        },
        "outputId": "d82752b5-88cb-454a-826b-ef17abb6528a"
      },
      "source": [
        "translate('Когда завтрак?')"
      ],
      "execution_count": null,
      "outputs": [
        {
          "output_type": "stream",
          "name": "stdout",
          "text": [
            "Input: <start> когда завтрак ? <end>\n",
            "Predicted translation: when is breakfast ? <end> \n"
          ]
        }
      ]
    },
    {
      "cell_type": "code",
      "metadata": {
        "id": "A3LLCx3ZE0Ls",
        "colab": {
          "base_uri": "https://localhost:8080/"
        },
        "outputId": "cb913d00-f28e-4082-bc2f-c1d3d3a6717b"
      },
      "source": [
        "translate('Вы все еще дома?')"
      ],
      "execution_count": null,
      "outputs": [
        {
          "output_type": "stream",
          "name": "stdout",
          "text": [
            "Input: <start> вы все еще дома ? <end>\n",
            "Predicted translation: are you still at home ? <end> \n"
          ]
        }
      ]
    },
    {
      "cell_type": "code",
      "metadata": {
        "id": "DUQVLVqUE1YW",
        "colab": {
          "base_uri": "https://localhost:8080/"
        },
        "outputId": "96b09bf7-895e-4b4d-8c81-113a5f0243f2"
      },
      "source": [
        "translate('Попробуй сделать это.')"
      ],
      "execution_count": null,
      "outputs": [
        {
          "output_type": "stream",
          "name": "stdout",
          "text": [
            "Input: <start> попробуй сделать это . <end>\n",
            "Predicted translation: try doing that . <end> \n"
          ]
        }
      ]
    },
    {
      "cell_type": "code",
      "metadata": {
        "id": "f09_hUFx9EJh",
        "colab": {
          "base_uri": "https://localhost:8080/"
        },
        "outputId": "d69d41af-44df-405b-b0a3-adcb70f593ed"
      },
      "source": [
        "translate('Я люблю, когда идет снег.')"
      ],
      "execution_count": null,
      "outputs": [
        {
          "output_type": "stream",
          "name": "stdout",
          "text": [
            "Input: <start> я люблю , когда идет снег . <end>\n",
            "Predicted translation: i like living alone . <end> \n"
          ]
        }
      ]
    },
    {
      "cell_type": "code",
      "metadata": {
        "id": "e7c5p8rmkHQG",
        "colab": {
          "base_uri": "https://localhost:8080/"
        },
        "outputId": "36753a12-5195-4f48-8c24-445f10a031d1"
      },
      "source": [
        "translate('Я учусь водить машину')"
      ],
      "execution_count": null,
      "outputs": [
        {
          "output_type": "stream",
          "name": "stdout",
          "text": [
            "Input: <start> я учусь водить машину <end>\n",
            "Predicted translation: i drive a car . <end> \n"
          ]
        }
      ]
    },
    {
      "cell_type": "markdown",
      "source": [
        "Есть небольшие недочеты в переводе, местами не попадает, а так все переводит дословно. Можно попробовать детальнее подобрать параметры обучения для увелечения точности."
      ],
      "metadata": {
        "id": "T3ftgxzheIhd"
      }
    }
  ]
}
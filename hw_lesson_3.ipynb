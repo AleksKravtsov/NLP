{
  "nbformat": 4,
  "nbformat_minor": 0,
  "metadata": {
    "colab": {
      "provenance": []
    },
    "kernelspec": {
      "name": "python3",
      "display_name": "Python 3"
    },
    "language_info": {
      "name": "python"
    },
    "gpuClass": "standard",
    "widgets": {
      "application/vnd.jupyter.widget-state+json": {
        "a881bda51d8f488b8d7cb44ed4812ca3": {
          "model_module": "@jupyter-widgets/controls",
          "model_name": "HBoxModel",
          "model_module_version": "1.5.0",
          "state": {
            "_dom_classes": [],
            "_model_module": "@jupyter-widgets/controls",
            "_model_module_version": "1.5.0",
            "_model_name": "HBoxModel",
            "_view_count": null,
            "_view_module": "@jupyter-widgets/controls",
            "_view_module_version": "1.5.0",
            "_view_name": "HBoxView",
            "box_style": "",
            "children": [
              "IPY_MODEL_d3d18034965e477e81ce86c08af0f155",
              "IPY_MODEL_0d6216e8bfb74dcfa853286444f57dda",
              "IPY_MODEL_1c02ec31ea8649e6ad40c2b7e95dbd07"
            ],
            "layout": "IPY_MODEL_8515c8d9df2e4359b72464e33c2ef3b4"
          }
        },
        "d3d18034965e477e81ce86c08af0f155": {
          "model_module": "@jupyter-widgets/controls",
          "model_name": "HTMLModel",
          "model_module_version": "1.5.0",
          "state": {
            "_dom_classes": [],
            "_model_module": "@jupyter-widgets/controls",
            "_model_module_version": "1.5.0",
            "_model_name": "HTMLModel",
            "_view_count": null,
            "_view_module": "@jupyter-widgets/controls",
            "_view_module_version": "1.5.0",
            "_view_name": "HTMLView",
            "description": "",
            "description_tooltip": null,
            "layout": "IPY_MODEL_e9bef6a8913948bfb0974d6a0eef2ab6",
            "placeholder": "​",
            "style": "IPY_MODEL_fddc8d657e8e42d2b7a0c6c2e9fc9459",
            "value": "100%"
          }
        },
        "0d6216e8bfb74dcfa853286444f57dda": {
          "model_module": "@jupyter-widgets/controls",
          "model_name": "FloatProgressModel",
          "model_module_version": "1.5.0",
          "state": {
            "_dom_classes": [],
            "_model_module": "@jupyter-widgets/controls",
            "_model_module_version": "1.5.0",
            "_model_name": "FloatProgressModel",
            "_view_count": null,
            "_view_module": "@jupyter-widgets/controls",
            "_view_module_version": "1.5.0",
            "_view_name": "ProgressView",
            "bar_style": "success",
            "description": "",
            "description_tooltip": null,
            "layout": "IPY_MODEL_6738dc4795fd4f7a9fb530ce0c1a0f2d",
            "max": 10000,
            "min": 0,
            "orientation": "horizontal",
            "style": "IPY_MODEL_b3a3ae09ae204fdaaeca6ce57f66d687",
            "value": 10000
          }
        },
        "1c02ec31ea8649e6ad40c2b7e95dbd07": {
          "model_module": "@jupyter-widgets/controls",
          "model_name": "HTMLModel",
          "model_module_version": "1.5.0",
          "state": {
            "_dom_classes": [],
            "_model_module": "@jupyter-widgets/controls",
            "_model_module_version": "1.5.0",
            "_model_name": "HTMLModel",
            "_view_count": null,
            "_view_module": "@jupyter-widgets/controls",
            "_view_module_version": "1.5.0",
            "_view_name": "HTMLView",
            "description": "",
            "description_tooltip": null,
            "layout": "IPY_MODEL_99e63353b3dc4ca885b757f043c1d8e3",
            "placeholder": "​",
            "style": "IPY_MODEL_4aa1405c7c1e4eeba1b5f936c6135a5a",
            "value": " 10000/10000 [07:13&lt;00:00, 17.98it/s]"
          }
        },
        "8515c8d9df2e4359b72464e33c2ef3b4": {
          "model_module": "@jupyter-widgets/base",
          "model_name": "LayoutModel",
          "model_module_version": "1.2.0",
          "state": {
            "_model_module": "@jupyter-widgets/base",
            "_model_module_version": "1.2.0",
            "_model_name": "LayoutModel",
            "_view_count": null,
            "_view_module": "@jupyter-widgets/base",
            "_view_module_version": "1.2.0",
            "_view_name": "LayoutView",
            "align_content": null,
            "align_items": null,
            "align_self": null,
            "border": null,
            "bottom": null,
            "display": null,
            "flex": null,
            "flex_flow": null,
            "grid_area": null,
            "grid_auto_columns": null,
            "grid_auto_flow": null,
            "grid_auto_rows": null,
            "grid_column": null,
            "grid_gap": null,
            "grid_row": null,
            "grid_template_areas": null,
            "grid_template_columns": null,
            "grid_template_rows": null,
            "height": null,
            "justify_content": null,
            "justify_items": null,
            "left": null,
            "margin": null,
            "max_height": null,
            "max_width": null,
            "min_height": null,
            "min_width": null,
            "object_fit": null,
            "object_position": null,
            "order": null,
            "overflow": null,
            "overflow_x": null,
            "overflow_y": null,
            "padding": null,
            "right": null,
            "top": null,
            "visibility": null,
            "width": null
          }
        },
        "e9bef6a8913948bfb0974d6a0eef2ab6": {
          "model_module": "@jupyter-widgets/base",
          "model_name": "LayoutModel",
          "model_module_version": "1.2.0",
          "state": {
            "_model_module": "@jupyter-widgets/base",
            "_model_module_version": "1.2.0",
            "_model_name": "LayoutModel",
            "_view_count": null,
            "_view_module": "@jupyter-widgets/base",
            "_view_module_version": "1.2.0",
            "_view_name": "LayoutView",
            "align_content": null,
            "align_items": null,
            "align_self": null,
            "border": null,
            "bottom": null,
            "display": null,
            "flex": null,
            "flex_flow": null,
            "grid_area": null,
            "grid_auto_columns": null,
            "grid_auto_flow": null,
            "grid_auto_rows": null,
            "grid_column": null,
            "grid_gap": null,
            "grid_row": null,
            "grid_template_areas": null,
            "grid_template_columns": null,
            "grid_template_rows": null,
            "height": null,
            "justify_content": null,
            "justify_items": null,
            "left": null,
            "margin": null,
            "max_height": null,
            "max_width": null,
            "min_height": null,
            "min_width": null,
            "object_fit": null,
            "object_position": null,
            "order": null,
            "overflow": null,
            "overflow_x": null,
            "overflow_y": null,
            "padding": null,
            "right": null,
            "top": null,
            "visibility": null,
            "width": null
          }
        },
        "fddc8d657e8e42d2b7a0c6c2e9fc9459": {
          "model_module": "@jupyter-widgets/controls",
          "model_name": "DescriptionStyleModel",
          "model_module_version": "1.5.0",
          "state": {
            "_model_module": "@jupyter-widgets/controls",
            "_model_module_version": "1.5.0",
            "_model_name": "DescriptionStyleModel",
            "_view_count": null,
            "_view_module": "@jupyter-widgets/base",
            "_view_module_version": "1.2.0",
            "_view_name": "StyleView",
            "description_width": ""
          }
        },
        "6738dc4795fd4f7a9fb530ce0c1a0f2d": {
          "model_module": "@jupyter-widgets/base",
          "model_name": "LayoutModel",
          "model_module_version": "1.2.0",
          "state": {
            "_model_module": "@jupyter-widgets/base",
            "_model_module_version": "1.2.0",
            "_model_name": "LayoutModel",
            "_view_count": null,
            "_view_module": "@jupyter-widgets/base",
            "_view_module_version": "1.2.0",
            "_view_name": "LayoutView",
            "align_content": null,
            "align_items": null,
            "align_self": null,
            "border": null,
            "bottom": null,
            "display": null,
            "flex": null,
            "flex_flow": null,
            "grid_area": null,
            "grid_auto_columns": null,
            "grid_auto_flow": null,
            "grid_auto_rows": null,
            "grid_column": null,
            "grid_gap": null,
            "grid_row": null,
            "grid_template_areas": null,
            "grid_template_columns": null,
            "grid_template_rows": null,
            "height": null,
            "justify_content": null,
            "justify_items": null,
            "left": null,
            "margin": null,
            "max_height": null,
            "max_width": null,
            "min_height": null,
            "min_width": null,
            "object_fit": null,
            "object_position": null,
            "order": null,
            "overflow": null,
            "overflow_x": null,
            "overflow_y": null,
            "padding": null,
            "right": null,
            "top": null,
            "visibility": null,
            "width": null
          }
        },
        "b3a3ae09ae204fdaaeca6ce57f66d687": {
          "model_module": "@jupyter-widgets/controls",
          "model_name": "ProgressStyleModel",
          "model_module_version": "1.5.0",
          "state": {
            "_model_module": "@jupyter-widgets/controls",
            "_model_module_version": "1.5.0",
            "_model_name": "ProgressStyleModel",
            "_view_count": null,
            "_view_module": "@jupyter-widgets/base",
            "_view_module_version": "1.2.0",
            "_view_name": "StyleView",
            "bar_color": null,
            "description_width": ""
          }
        },
        "99e63353b3dc4ca885b757f043c1d8e3": {
          "model_module": "@jupyter-widgets/base",
          "model_name": "LayoutModel",
          "model_module_version": "1.2.0",
          "state": {
            "_model_module": "@jupyter-widgets/base",
            "_model_module_version": "1.2.0",
            "_model_name": "LayoutModel",
            "_view_count": null,
            "_view_module": "@jupyter-widgets/base",
            "_view_module_version": "1.2.0",
            "_view_name": "LayoutView",
            "align_content": null,
            "align_items": null,
            "align_self": null,
            "border": null,
            "bottom": null,
            "display": null,
            "flex": null,
            "flex_flow": null,
            "grid_area": null,
            "grid_auto_columns": null,
            "grid_auto_flow": null,
            "grid_auto_rows": null,
            "grid_column": null,
            "grid_gap": null,
            "grid_row": null,
            "grid_template_areas": null,
            "grid_template_columns": null,
            "grid_template_rows": null,
            "height": null,
            "justify_content": null,
            "justify_items": null,
            "left": null,
            "margin": null,
            "max_height": null,
            "max_width": null,
            "min_height": null,
            "min_width": null,
            "object_fit": null,
            "object_position": null,
            "order": null,
            "overflow": null,
            "overflow_x": null,
            "overflow_y": null,
            "padding": null,
            "right": null,
            "top": null,
            "visibility": null,
            "width": null
          }
        },
        "4aa1405c7c1e4eeba1b5f936c6135a5a": {
          "model_module": "@jupyter-widgets/controls",
          "model_name": "DescriptionStyleModel",
          "model_module_version": "1.5.0",
          "state": {
            "_model_module": "@jupyter-widgets/controls",
            "_model_module_version": "1.5.0",
            "_model_name": "DescriptionStyleModel",
            "_view_count": null,
            "_view_module": "@jupyter-widgets/base",
            "_view_module_version": "1.2.0",
            "_view_name": "StyleView",
            "description_width": ""
          }
        }
      }
    }
  },
  "cells": [
    {
      "cell_type": "markdown",
      "source": [
        "Задача поиск похожих по эмбеддингам**\n",
        "Скачиваем датасет \n",
        "\n",
        "!wget https://github.com/ods-ai-ml4sg/proj_news_viz/releases/download/data/gazeta.csv.gz\n",
        "\n",
        "что надо сделать \n",
        "\n",
        "1. на основе word2vec/fasttext реализовать метод поиска ближайших статей\n",
        "(на вход метода должен приходить запрос (какой-то вопрос) и количество вариантов вывода к примеру 5-ть, ваш метод должен возвращать 5-ть ближайших статей к этому запросу)\n",
        "2. Проверить насколько хорошо работают подходы"
      ],
      "metadata": {
        "id": "9HNqsnYfFiYF"
      }
    },
    {
      "cell_type": "code",
      "source": [
        "pip install wget\n"
      ],
      "metadata": {
        "id": "Y_c_1Be3L5Fn",
        "colab": {
          "base_uri": "https://localhost:8080/"
        },
        "outputId": "67b39805-f041-4138-fc58-96bf72d74b01"
      },
      "execution_count": 1,
      "outputs": [
        {
          "output_type": "stream",
          "name": "stdout",
          "text": [
            "Looking in indexes: https://pypi.org/simple, https://us-python.pkg.dev/colab-wheels/public/simple/\n",
            "Requirement already satisfied: wget in /usr/local/lib/python3.8/dist-packages (3.2)\n"
          ]
        }
      ]
    },
    {
      "cell_type": "code",
      "source": [
        "pip install stop_words"
      ],
      "metadata": {
        "id": "xx8FZ4LUYSMV",
        "colab": {
          "base_uri": "https://localhost:8080/"
        },
        "outputId": "1432849c-c9e8-42ae-f6d1-95788672019b"
      },
      "execution_count": 2,
      "outputs": [
        {
          "output_type": "stream",
          "name": "stdout",
          "text": [
            "Looking in indexes: https://pypi.org/simple, https://us-python.pkg.dev/colab-wheels/public/simple/\n",
            "Requirement already satisfied: stop_words in /usr/local/lib/python3.8/dist-packages (2018.7.23)\n"
          ]
        }
      ]
    },
    {
      "cell_type": "code",
      "source": [
        "pip install annoy"
      ],
      "metadata": {
        "id": "C4yLMqVCY4T3",
        "colab": {
          "base_uri": "https://localhost:8080/"
        },
        "outputId": "0cf3d952-063a-45be-dcc6-0cc385565adc"
      },
      "execution_count": 3,
      "outputs": [
        {
          "output_type": "stream",
          "name": "stdout",
          "text": [
            "Looking in indexes: https://pypi.org/simple, https://us-python.pkg.dev/colab-wheels/public/simple/\n",
            "Requirement already satisfied: annoy in /usr/local/lib/python3.8/dist-packages (1.17.1)\n"
          ]
        }
      ]
    },
    {
      "cell_type": "code",
      "source": [
        "pip install pymorphy2"
      ],
      "metadata": {
        "id": "kex6lrSBplXj",
        "colab": {
          "base_uri": "https://localhost:8080/"
        },
        "outputId": "8b9048df-8b60-4563-a1ce-d7ee519bd052"
      },
      "execution_count": 4,
      "outputs": [
        {
          "output_type": "stream",
          "name": "stdout",
          "text": [
            "Looking in indexes: https://pypi.org/simple, https://us-python.pkg.dev/colab-wheels/public/simple/\n",
            "Requirement already satisfied: pymorphy2 in /usr/local/lib/python3.8/dist-packages (0.9.1)\n",
            "Requirement already satisfied: docopt>=0.6 in /usr/local/lib/python3.8/dist-packages (from pymorphy2) (0.6.2)\n",
            "Requirement already satisfied: pymorphy2-dicts-ru<3.0,>=2.4 in /usr/local/lib/python3.8/dist-packages (from pymorphy2) (2.4.417127.4579844)\n",
            "Requirement already satisfied: dawg-python>=0.7.1 in /usr/local/lib/python3.8/dist-packages (from pymorphy2) (0.7.2)\n"
          ]
        }
      ]
    },
    {
      "cell_type": "code",
      "execution_count": 5,
      "metadata": {
        "id": "wSvlZorLFNfp"
      },
      "outputs": [],
      "source": [
        "import pandas as pd\n",
        "import numpy as np\n",
        "import string\n",
        "from pymorphy2 import MorphAnalyzer\n",
        "from stop_words import get_stop_words\n",
        "import annoy\n",
        "from gensim.models import Word2Vec, FastText\n",
        "\n",
        "from multiprocessing import Pool\n",
        "from tqdm import tqdm_notebook as tqdm"
      ]
    },
    {
      "cell_type": "code",
      "source": [
        "RANDOM_STATE = 42\n",
        "NUM_THREADS = 12"
      ],
      "metadata": {
        "id": "Oq-298S2egjk"
      },
      "execution_count": 6,
      "outputs": []
    },
    {
      "cell_type": "markdown",
      "source": [
        "Загрузка и подготовка данных"
      ],
      "metadata": {
        "id": "d2MVaF4mdFsw"
      }
    },
    {
      "cell_type": "code",
      "source": [
        "from google.colab import drive\n",
        "drive.mount('/content/gdrive')"
      ],
      "metadata": {
        "id": "Svv9DBNjanZR",
        "colab": {
          "base_uri": "https://localhost:8080/"
        },
        "outputId": "4f8c4524-f4f1-4ae0-9adc-942b96c72a1b"
      },
      "execution_count": 7,
      "outputs": [
        {
          "output_type": "stream",
          "name": "stdout",
          "text": [
            "Drive already mounted at /content/gdrive; to attempt to forcibly remount, call drive.mount(\"/content/gdrive\", force_remount=True).\n"
          ]
        }
      ]
    },
    {
      "cell_type": "code",
      "source": [
        "df = pd.read_csv('/content/gdrive/MyDrive/Colab Notebooks/NLP/3 урок/gazeta.csv', usecols=['text', 'title'])\n",
        "df.head()"
      ],
      "metadata": {
        "id": "NMuptrvUp6Qe",
        "colab": {
          "base_uri": "https://localhost:8080/",
          "height": 206
        },
        "outputId": "2f97af25-81b0-41b0-821a-8fe66c276550"
      },
      "execution_count": 9,
      "outputs": [
        {
          "output_type": "execute_result",
          "data": {
            "text/plain": [
              "                                               title  \\\n",
              "0  Госдума сокращает срок действия ставки экспорт...   \n",
              "1   Японские физики повторили синтез 113-го элемента   \n",
              "2        Times: Россия строит новую авиабазу в Сирии   \n",
              "3  Власти Египта гарантируют безопасность российс...   \n",
              "4  Гордума Новочеркасска приняла отставку мэра го...   \n",
              "\n",
              "                                                text  \n",
              "0  Госдума приняла сегодня в первом чтении и сраз...  \n",
              "1  Японские ученые из физического центра RIKEN за...  \n",
              "2  Россия готовится расширить свою военную операц...  \n",
              "3  Египет ждет российских туристов и гарантирует ...  \n",
              "4  В Ростовской области депутаты гордумы Новочерк...  "
            ],
            "text/html": [
              "\n",
              "  <div id=\"df-efdd76c2-d5e0-4308-bf9f-ac8be751f687\">\n",
              "    <div class=\"colab-df-container\">\n",
              "      <div>\n",
              "<style scoped>\n",
              "    .dataframe tbody tr th:only-of-type {\n",
              "        vertical-align: middle;\n",
              "    }\n",
              "\n",
              "    .dataframe tbody tr th {\n",
              "        vertical-align: top;\n",
              "    }\n",
              "\n",
              "    .dataframe thead th {\n",
              "        text-align: right;\n",
              "    }\n",
              "</style>\n",
              "<table border=\"1\" class=\"dataframe\">\n",
              "  <thead>\n",
              "    <tr style=\"text-align: right;\">\n",
              "      <th></th>\n",
              "      <th>title</th>\n",
              "      <th>text</th>\n",
              "    </tr>\n",
              "  </thead>\n",
              "  <tbody>\n",
              "    <tr>\n",
              "      <th>0</th>\n",
              "      <td>Госдума сокращает срок действия ставки экспорт...</td>\n",
              "      <td>Госдума приняла сегодня в первом чтении и сраз...</td>\n",
              "    </tr>\n",
              "    <tr>\n",
              "      <th>1</th>\n",
              "      <td>Японские физики повторили синтез 113-го элемента</td>\n",
              "      <td>Японские ученые из физического центра RIKEN за...</td>\n",
              "    </tr>\n",
              "    <tr>\n",
              "      <th>2</th>\n",
              "      <td>Times: Россия строит новую авиабазу в Сирии</td>\n",
              "      <td>Россия готовится расширить свою военную операц...</td>\n",
              "    </tr>\n",
              "    <tr>\n",
              "      <th>3</th>\n",
              "      <td>Власти Египта гарантируют безопасность российс...</td>\n",
              "      <td>Египет ждет российских туристов и гарантирует ...</td>\n",
              "    </tr>\n",
              "    <tr>\n",
              "      <th>4</th>\n",
              "      <td>Гордума Новочеркасска приняла отставку мэра го...</td>\n",
              "      <td>В Ростовской области депутаты гордумы Новочерк...</td>\n",
              "    </tr>\n",
              "  </tbody>\n",
              "</table>\n",
              "</div>\n",
              "      <button class=\"colab-df-convert\" onclick=\"convertToInteractive('df-efdd76c2-d5e0-4308-bf9f-ac8be751f687')\"\n",
              "              title=\"Convert this dataframe to an interactive table.\"\n",
              "              style=\"display:none;\">\n",
              "        \n",
              "  <svg xmlns=\"http://www.w3.org/2000/svg\" height=\"24px\"viewBox=\"0 0 24 24\"\n",
              "       width=\"24px\">\n",
              "    <path d=\"M0 0h24v24H0V0z\" fill=\"none\"/>\n",
              "    <path d=\"M18.56 5.44l.94 2.06.94-2.06 2.06-.94-2.06-.94-.94-2.06-.94 2.06-2.06.94zm-11 1L8.5 8.5l.94-2.06 2.06-.94-2.06-.94L8.5 2.5l-.94 2.06-2.06.94zm10 10l.94 2.06.94-2.06 2.06-.94-2.06-.94-.94-2.06-.94 2.06-2.06.94z\"/><path d=\"M17.41 7.96l-1.37-1.37c-.4-.4-.92-.59-1.43-.59-.52 0-1.04.2-1.43.59L10.3 9.45l-7.72 7.72c-.78.78-.78 2.05 0 2.83L4 21.41c.39.39.9.59 1.41.59.51 0 1.02-.2 1.41-.59l7.78-7.78 2.81-2.81c.8-.78.8-2.07 0-2.86zM5.41 20L4 18.59l7.72-7.72 1.47 1.35L5.41 20z\"/>\n",
              "  </svg>\n",
              "      </button>\n",
              "      \n",
              "  <style>\n",
              "    .colab-df-container {\n",
              "      display:flex;\n",
              "      flex-wrap:wrap;\n",
              "      gap: 12px;\n",
              "    }\n",
              "\n",
              "    .colab-df-convert {\n",
              "      background-color: #E8F0FE;\n",
              "      border: none;\n",
              "      border-radius: 50%;\n",
              "      cursor: pointer;\n",
              "      display: none;\n",
              "      fill: #1967D2;\n",
              "      height: 32px;\n",
              "      padding: 0 0 0 0;\n",
              "      width: 32px;\n",
              "    }\n",
              "\n",
              "    .colab-df-convert:hover {\n",
              "      background-color: #E2EBFA;\n",
              "      box-shadow: 0px 1px 2px rgba(60, 64, 67, 0.3), 0px 1px 3px 1px rgba(60, 64, 67, 0.15);\n",
              "      fill: #174EA6;\n",
              "    }\n",
              "\n",
              "    [theme=dark] .colab-df-convert {\n",
              "      background-color: #3B4455;\n",
              "      fill: #D2E3FC;\n",
              "    }\n",
              "\n",
              "    [theme=dark] .colab-df-convert:hover {\n",
              "      background-color: #434B5C;\n",
              "      box-shadow: 0px 1px 3px 1px rgba(0, 0, 0, 0.15);\n",
              "      filter: drop-shadow(0px 1px 2px rgba(0, 0, 0, 0.3));\n",
              "      fill: #FFFFFF;\n",
              "    }\n",
              "  </style>\n",
              "\n",
              "      <script>\n",
              "        const buttonEl =\n",
              "          document.querySelector('#df-efdd76c2-d5e0-4308-bf9f-ac8be751f687 button.colab-df-convert');\n",
              "        buttonEl.style.display =\n",
              "          google.colab.kernel.accessAllowed ? 'block' : 'none';\n",
              "\n",
              "        async function convertToInteractive(key) {\n",
              "          const element = document.querySelector('#df-efdd76c2-d5e0-4308-bf9f-ac8be751f687');\n",
              "          const dataTable =\n",
              "            await google.colab.kernel.invokeFunction('convertToInteractive',\n",
              "                                                     [key], {});\n",
              "          if (!dataTable) return;\n",
              "\n",
              "          const docLinkHtml = 'Like what you see? Visit the ' +\n",
              "            '<a target=\"_blank\" href=https://colab.research.google.com/notebooks/data_table.ipynb>data table notebook</a>'\n",
              "            + ' to learn more about interactive tables.';\n",
              "          element.innerHTML = '';\n",
              "          dataTable['output_type'] = 'display_data';\n",
              "          await google.colab.output.renderOutput(dataTable, element);\n",
              "          const docLink = document.createElement('div');\n",
              "          docLink.innerHTML = docLinkHtml;\n",
              "          element.appendChild(docLink);\n",
              "        }\n",
              "      </script>\n",
              "    </div>\n",
              "  </div>\n",
              "  "
            ]
          },
          "metadata": {},
          "execution_count": 9
        }
      ]
    },
    {
      "cell_type": "code",
      "source": [
        "df.shape"
      ],
      "metadata": {
        "id": "kMaGKRSQdyrS",
        "colab": {
          "base_uri": "https://localhost:8080/"
        },
        "outputId": "73e99ea6-b49e-4973-b735-596faeb19019"
      },
      "execution_count": 10,
      "outputs": [
        {
          "output_type": "execute_result",
          "data": {
            "text/plain": [
              "(865847, 2)"
            ]
          },
          "metadata": {},
          "execution_count": 10
        }
      ]
    },
    {
      "cell_type": "code",
      "source": [
        "# Возьму 10к случайных текстов, полный объем считает очень долго\n",
        "data = df.sample(10000)\n",
        "data.head()"
      ],
      "metadata": {
        "id": "Ar985hmUV-YT",
        "colab": {
          "base_uri": "https://localhost:8080/",
          "height": 206
        },
        "outputId": "d6ea148b-d09a-4d7d-8112-e01ed0113e4a"
      },
      "execution_count": 11,
      "outputs": [
        {
          "output_type": "execute_result",
          "data": {
            "text/plain": [
              "                                                    title  \\\n",
              "239319  Российский боец поблагодарил фанатов за поддер...   \n",
              "147595  Экс-главный тренер «Локомотива» возглавил «Вес...   \n",
              "691152          В Приамурье из-за пожаров введен режим ЧС   \n",
              "218405  «Кузня» проиграла «Автомобилисту» в домашней в...   \n",
              "407613  МИД Бельгии заявил о необходимости настоящего ...   \n",
              "\n",
              "                                                     text  \n",
              "239319  Российский боец смешанного стиля Петр Ян выраз...  \n",
              "147595  Экс-главный тренер «Локомотива» Славен Билич в...  \n",
              "691152  В Амурской области в связи с пожароопасной обс...  \n",
              "218405  Новокузнецкий «Металлург» уступил «Автомобилис...  \n",
              "407613  Министр иностранных дел БельгииnДидье Рейндерс...  "
            ],
            "text/html": [
              "\n",
              "  <div id=\"df-15a75bd8-6e5a-4886-94e3-9143fc06f7ca\">\n",
              "    <div class=\"colab-df-container\">\n",
              "      <div>\n",
              "<style scoped>\n",
              "    .dataframe tbody tr th:only-of-type {\n",
              "        vertical-align: middle;\n",
              "    }\n",
              "\n",
              "    .dataframe tbody tr th {\n",
              "        vertical-align: top;\n",
              "    }\n",
              "\n",
              "    .dataframe thead th {\n",
              "        text-align: right;\n",
              "    }\n",
              "</style>\n",
              "<table border=\"1\" class=\"dataframe\">\n",
              "  <thead>\n",
              "    <tr style=\"text-align: right;\">\n",
              "      <th></th>\n",
              "      <th>title</th>\n",
              "      <th>text</th>\n",
              "    </tr>\n",
              "  </thead>\n",
              "  <tbody>\n",
              "    <tr>\n",
              "      <th>239319</th>\n",
              "      <td>Российский боец поблагодарил фанатов за поддер...</td>\n",
              "      <td>Российский боец смешанного стиля Петр Ян выраз...</td>\n",
              "    </tr>\n",
              "    <tr>\n",
              "      <th>147595</th>\n",
              "      <td>Экс-главный тренер «Локомотива» возглавил «Вес...</td>\n",
              "      <td>Экс-главный тренер «Локомотива» Славен Билич в...</td>\n",
              "    </tr>\n",
              "    <tr>\n",
              "      <th>691152</th>\n",
              "      <td>В Приамурье из-за пожаров введен режим ЧС</td>\n",
              "      <td>В Амурской области в связи с пожароопасной обс...</td>\n",
              "    </tr>\n",
              "    <tr>\n",
              "      <th>218405</th>\n",
              "      <td>«Кузня» проиграла «Автомобилисту» в домашней в...</td>\n",
              "      <td>Новокузнецкий «Металлург» уступил «Автомобилис...</td>\n",
              "    </tr>\n",
              "    <tr>\n",
              "      <th>407613</th>\n",
              "      <td>МИД Бельгии заявил о необходимости настоящего ...</td>\n",
              "      <td>Министр иностранных дел БельгииnДидье Рейндерс...</td>\n",
              "    </tr>\n",
              "  </tbody>\n",
              "</table>\n",
              "</div>\n",
              "      <button class=\"colab-df-convert\" onclick=\"convertToInteractive('df-15a75bd8-6e5a-4886-94e3-9143fc06f7ca')\"\n",
              "              title=\"Convert this dataframe to an interactive table.\"\n",
              "              style=\"display:none;\">\n",
              "        \n",
              "  <svg xmlns=\"http://www.w3.org/2000/svg\" height=\"24px\"viewBox=\"0 0 24 24\"\n",
              "       width=\"24px\">\n",
              "    <path d=\"M0 0h24v24H0V0z\" fill=\"none\"/>\n",
              "    <path d=\"M18.56 5.44l.94 2.06.94-2.06 2.06-.94-2.06-.94-.94-2.06-.94 2.06-2.06.94zm-11 1L8.5 8.5l.94-2.06 2.06-.94-2.06-.94L8.5 2.5l-.94 2.06-2.06.94zm10 10l.94 2.06.94-2.06 2.06-.94-2.06-.94-.94-2.06-.94 2.06-2.06.94z\"/><path d=\"M17.41 7.96l-1.37-1.37c-.4-.4-.92-.59-1.43-.59-.52 0-1.04.2-1.43.59L10.3 9.45l-7.72 7.72c-.78.78-.78 2.05 0 2.83L4 21.41c.39.39.9.59 1.41.59.51 0 1.02-.2 1.41-.59l7.78-7.78 2.81-2.81c.8-.78.8-2.07 0-2.86zM5.41 20L4 18.59l7.72-7.72 1.47 1.35L5.41 20z\"/>\n",
              "  </svg>\n",
              "      </button>\n",
              "      \n",
              "  <style>\n",
              "    .colab-df-container {\n",
              "      display:flex;\n",
              "      flex-wrap:wrap;\n",
              "      gap: 12px;\n",
              "    }\n",
              "\n",
              "    .colab-df-convert {\n",
              "      background-color: #E8F0FE;\n",
              "      border: none;\n",
              "      border-radius: 50%;\n",
              "      cursor: pointer;\n",
              "      display: none;\n",
              "      fill: #1967D2;\n",
              "      height: 32px;\n",
              "      padding: 0 0 0 0;\n",
              "      width: 32px;\n",
              "    }\n",
              "\n",
              "    .colab-df-convert:hover {\n",
              "      background-color: #E2EBFA;\n",
              "      box-shadow: 0px 1px 2px rgba(60, 64, 67, 0.3), 0px 1px 3px 1px rgba(60, 64, 67, 0.15);\n",
              "      fill: #174EA6;\n",
              "    }\n",
              "\n",
              "    [theme=dark] .colab-df-convert {\n",
              "      background-color: #3B4455;\n",
              "      fill: #D2E3FC;\n",
              "    }\n",
              "\n",
              "    [theme=dark] .colab-df-convert:hover {\n",
              "      background-color: #434B5C;\n",
              "      box-shadow: 0px 1px 3px 1px rgba(0, 0, 0, 0.15);\n",
              "      filter: drop-shadow(0px 1px 2px rgba(0, 0, 0, 0.3));\n",
              "      fill: #FFFFFF;\n",
              "    }\n",
              "  </style>\n",
              "\n",
              "      <script>\n",
              "        const buttonEl =\n",
              "          document.querySelector('#df-15a75bd8-6e5a-4886-94e3-9143fc06f7ca button.colab-df-convert');\n",
              "        buttonEl.style.display =\n",
              "          google.colab.kernel.accessAllowed ? 'block' : 'none';\n",
              "\n",
              "        async function convertToInteractive(key) {\n",
              "          const element = document.querySelector('#df-15a75bd8-6e5a-4886-94e3-9143fc06f7ca');\n",
              "          const dataTable =\n",
              "            await google.colab.kernel.invokeFunction('convertToInteractive',\n",
              "                                                     [key], {});\n",
              "          if (!dataTable) return;\n",
              "\n",
              "          const docLinkHtml = 'Like what you see? Visit the ' +\n",
              "            '<a target=\"_blank\" href=https://colab.research.google.com/notebooks/data_table.ipynb>data table notebook</a>'\n",
              "            + ' to learn more about interactive tables.';\n",
              "          element.innerHTML = '';\n",
              "          dataTable['output_type'] = 'display_data';\n",
              "          await google.colab.output.renderOutput(dataTable, element);\n",
              "          const docLink = document.createElement('div');\n",
              "          docLink.innerHTML = docLinkHtml;\n",
              "          element.appendChild(docLink);\n",
              "        }\n",
              "      </script>\n",
              "    </div>\n",
              "  </div>\n",
              "  "
            ]
          },
          "metadata": {},
          "execution_count": 11
        }
      ]
    },
    {
      "cell_type": "code",
      "source": [
        "data.shape"
      ],
      "metadata": {
        "id": "DeLY2pRo-JeK",
        "colab": {
          "base_uri": "https://localhost:8080/"
        },
        "outputId": "ebb24728-a4dd-4861-c197-19e1c3fd875b"
      },
      "execution_count": 12,
      "outputs": [
        {
          "output_type": "execute_result",
          "data": {
            "text/plain": [
              "(10000, 2)"
            ]
          },
          "metadata": {},
          "execution_count": 12
        }
      ]
    },
    {
      "cell_type": "markdown",
      "source": [
        "Препроцессинг текста"
      ],
      "metadata": {
        "id": "_s_OoAzedIfk"
      }
    },
    {
      "cell_type": "code",
      "source": [
        "assert True\n",
        "\n",
        "morpher = MorphAnalyzer()\n",
        "sw = set(get_stop_words(\"ru\"))\n",
        "exclude = set(string.punctuation)"
      ],
      "metadata": {
        "id": "akQ7PoAT9rSK"
      },
      "execution_count": 13,
      "outputs": []
    },
    {
      "cell_type": "code",
      "source": [
        "def preprocess_txt(line):\n",
        "    spls = \"\".join(i for i in line.strip() if i not in exclude).split()\n",
        "    spls = [morpher.parse(i.lower())[0].normal_form for i in spls]\n",
        "    spls = [i for i in spls if i not in sw and i != \"\"]\n",
        "    return spls"
      ],
      "metadata": {
        "id": "Zr7n6kNaqCHK"
      },
      "execution_count": 14,
      "outputs": []
    },
    {
      "cell_type": "code",
      "source": [
        "%%time\n",
        "\n",
        "with Pool(NUM_THREADS) as p:\n",
        "    data['processed_text'] = list(tqdm(p.imap(preprocess_txt, data['text']), total=len(data)))"
      ],
      "metadata": {
        "id": "71jsgb-twQfr",
        "colab": {
          "base_uri": "https://localhost:8080/",
          "height": 118,
          "referenced_widgets": [
            "a881bda51d8f488b8d7cb44ed4812ca3",
            "d3d18034965e477e81ce86c08af0f155",
            "0d6216e8bfb74dcfa853286444f57dda",
            "1c02ec31ea8649e6ad40c2b7e95dbd07",
            "8515c8d9df2e4359b72464e33c2ef3b4",
            "e9bef6a8913948bfb0974d6a0eef2ab6",
            "fddc8d657e8e42d2b7a0c6c2e9fc9459",
            "6738dc4795fd4f7a9fb530ce0c1a0f2d",
            "b3a3ae09ae204fdaaeca6ce57f66d687",
            "99e63353b3dc4ca885b757f043c1d8e3",
            "4aa1405c7c1e4eeba1b5f936c6135a5a"
          ]
        },
        "outputId": "56d84cbd-0e18-45a7-f679-22e14d292611"
      },
      "execution_count": 15,
      "outputs": [
        {
          "output_type": "stream",
          "name": "stderr",
          "text": [
            "<timed exec>:2: TqdmDeprecationWarning: This function will be removed in tqdm==5.0.0\n",
            "Please use `tqdm.notebook.tqdm` instead of `tqdm.tqdm_notebook`\n"
          ]
        },
        {
          "output_type": "display_data",
          "data": {
            "text/plain": [
              "  0%|          | 0/10000 [00:00<?, ?it/s]"
            ],
            "application/vnd.jupyter.widget-view+json": {
              "version_major": 2,
              "version_minor": 0,
              "model_id": "a881bda51d8f488b8d7cb44ed4812ca3"
            }
          },
          "metadata": {}
        },
        {
          "output_type": "stream",
          "name": "stdout",
          "text": [
            "CPU times: user 19.1 s, sys: 4.21 s, total: 23.3 s\n",
            "Wall time: 7min 16s\n"
          ]
        }
      ]
    },
    {
      "cell_type": "code",
      "source": [
        "data.head(3)"
      ],
      "metadata": {
        "id": "FQrg1UqUymh9",
        "colab": {
          "base_uri": "https://localhost:8080/",
          "height": 143
        },
        "outputId": "ccdbc921-9fea-4110-d03c-b56f98436b5b"
      },
      "execution_count": 16,
      "outputs": [
        {
          "output_type": "execute_result",
          "data": {
            "text/plain": [
              "                                                    title  \\\n",
              "239319  Российский боец поблагодарил фанатов за поддер...   \n",
              "147595  Экс-главный тренер «Локомотива» возглавил «Вес...   \n",
              "691152          В Приамурье из-за пожаров введен режим ЧС   \n",
              "\n",
              "                                                     text  \\\n",
              "239319  Российский боец смешанного стиля Петр Ян выраз...   \n",
              "147595  Экс-главный тренер «Локомотива» Славен Билич в...   \n",
              "691152  В Амурской области в связи с пожароопасной обс...   \n",
              "\n",
              "                                           processed_text  \n",
              "239319  [российский, боец, смешанный, стиль, пётр, ян,...  \n",
              "147595  [эксглавный, тренер, «локомотива», славный, би...  \n",
              "691152  [амурский, область, связь, пожароопасный, обст...  "
            ],
            "text/html": [
              "\n",
              "  <div id=\"df-d902a9ef-cdd3-469a-ba0d-7e6b30af518e\">\n",
              "    <div class=\"colab-df-container\">\n",
              "      <div>\n",
              "<style scoped>\n",
              "    .dataframe tbody tr th:only-of-type {\n",
              "        vertical-align: middle;\n",
              "    }\n",
              "\n",
              "    .dataframe tbody tr th {\n",
              "        vertical-align: top;\n",
              "    }\n",
              "\n",
              "    .dataframe thead th {\n",
              "        text-align: right;\n",
              "    }\n",
              "</style>\n",
              "<table border=\"1\" class=\"dataframe\">\n",
              "  <thead>\n",
              "    <tr style=\"text-align: right;\">\n",
              "      <th></th>\n",
              "      <th>title</th>\n",
              "      <th>text</th>\n",
              "      <th>processed_text</th>\n",
              "    </tr>\n",
              "  </thead>\n",
              "  <tbody>\n",
              "    <tr>\n",
              "      <th>239319</th>\n",
              "      <td>Российский боец поблагодарил фанатов за поддер...</td>\n",
              "      <td>Российский боец смешанного стиля Петр Ян выраз...</td>\n",
              "      <td>[российский, боец, смешанный, стиль, пётр, ян,...</td>\n",
              "    </tr>\n",
              "    <tr>\n",
              "      <th>147595</th>\n",
              "      <td>Экс-главный тренер «Локомотива» возглавил «Вес...</td>\n",
              "      <td>Экс-главный тренер «Локомотива» Славен Билич в...</td>\n",
              "      <td>[эксглавный, тренер, «локомотива», славный, би...</td>\n",
              "    </tr>\n",
              "    <tr>\n",
              "      <th>691152</th>\n",
              "      <td>В Приамурье из-за пожаров введен режим ЧС</td>\n",
              "      <td>В Амурской области в связи с пожароопасной обс...</td>\n",
              "      <td>[амурский, область, связь, пожароопасный, обст...</td>\n",
              "    </tr>\n",
              "  </tbody>\n",
              "</table>\n",
              "</div>\n",
              "      <button class=\"colab-df-convert\" onclick=\"convertToInteractive('df-d902a9ef-cdd3-469a-ba0d-7e6b30af518e')\"\n",
              "              title=\"Convert this dataframe to an interactive table.\"\n",
              "              style=\"display:none;\">\n",
              "        \n",
              "  <svg xmlns=\"http://www.w3.org/2000/svg\" height=\"24px\"viewBox=\"0 0 24 24\"\n",
              "       width=\"24px\">\n",
              "    <path d=\"M0 0h24v24H0V0z\" fill=\"none\"/>\n",
              "    <path d=\"M18.56 5.44l.94 2.06.94-2.06 2.06-.94-2.06-.94-.94-2.06-.94 2.06-2.06.94zm-11 1L8.5 8.5l.94-2.06 2.06-.94-2.06-.94L8.5 2.5l-.94 2.06-2.06.94zm10 10l.94 2.06.94-2.06 2.06-.94-2.06-.94-.94-2.06-.94 2.06-2.06.94z\"/><path d=\"M17.41 7.96l-1.37-1.37c-.4-.4-.92-.59-1.43-.59-.52 0-1.04.2-1.43.59L10.3 9.45l-7.72 7.72c-.78.78-.78 2.05 0 2.83L4 21.41c.39.39.9.59 1.41.59.51 0 1.02-.2 1.41-.59l7.78-7.78 2.81-2.81c.8-.78.8-2.07 0-2.86zM5.41 20L4 18.59l7.72-7.72 1.47 1.35L5.41 20z\"/>\n",
              "  </svg>\n",
              "      </button>\n",
              "      \n",
              "  <style>\n",
              "    .colab-df-container {\n",
              "      display:flex;\n",
              "      flex-wrap:wrap;\n",
              "      gap: 12px;\n",
              "    }\n",
              "\n",
              "    .colab-df-convert {\n",
              "      background-color: #E8F0FE;\n",
              "      border: none;\n",
              "      border-radius: 50%;\n",
              "      cursor: pointer;\n",
              "      display: none;\n",
              "      fill: #1967D2;\n",
              "      height: 32px;\n",
              "      padding: 0 0 0 0;\n",
              "      width: 32px;\n",
              "    }\n",
              "\n",
              "    .colab-df-convert:hover {\n",
              "      background-color: #E2EBFA;\n",
              "      box-shadow: 0px 1px 2px rgba(60, 64, 67, 0.3), 0px 1px 3px 1px rgba(60, 64, 67, 0.15);\n",
              "      fill: #174EA6;\n",
              "    }\n",
              "\n",
              "    [theme=dark] .colab-df-convert {\n",
              "      background-color: #3B4455;\n",
              "      fill: #D2E3FC;\n",
              "    }\n",
              "\n",
              "    [theme=dark] .colab-df-convert:hover {\n",
              "      background-color: #434B5C;\n",
              "      box-shadow: 0px 1px 3px 1px rgba(0, 0, 0, 0.15);\n",
              "      filter: drop-shadow(0px 1px 2px rgba(0, 0, 0, 0.3));\n",
              "      fill: #FFFFFF;\n",
              "    }\n",
              "  </style>\n",
              "\n",
              "      <script>\n",
              "        const buttonEl =\n",
              "          document.querySelector('#df-d902a9ef-cdd3-469a-ba0d-7e6b30af518e button.colab-df-convert');\n",
              "        buttonEl.style.display =\n",
              "          google.colab.kernel.accessAllowed ? 'block' : 'none';\n",
              "\n",
              "        async function convertToInteractive(key) {\n",
              "          const element = document.querySelector('#df-d902a9ef-cdd3-469a-ba0d-7e6b30af518e');\n",
              "          const dataTable =\n",
              "            await google.colab.kernel.invokeFunction('convertToInteractive',\n",
              "                                                     [key], {});\n",
              "          if (!dataTable) return;\n",
              "\n",
              "          const docLinkHtml = 'Like what you see? Visit the ' +\n",
              "            '<a target=\"_blank\" href=https://colab.research.google.com/notebooks/data_table.ipynb>data table notebook</a>'\n",
              "            + ' to learn more about interactive tables.';\n",
              "          element.innerHTML = '';\n",
              "          dataTable['output_type'] = 'display_data';\n",
              "          await google.colab.output.renderOutput(dataTable, element);\n",
              "          const docLink = document.createElement('div');\n",
              "          docLink.innerHTML = docLinkHtml;\n",
              "          element.appendChild(docLink);\n",
              "        }\n",
              "      </script>\n",
              "    </div>\n",
              "  </div>\n",
              "  "
            ]
          },
          "metadata": {},
          "execution_count": 16
        }
      ]
    },
    {
      "cell_type": "markdown",
      "source": [
        "Создание модели"
      ],
      "metadata": {
        "id": "eBCsVuRwdMW9"
      }
    },
    {
      "cell_type": "code",
      "source": [
        "# Создание модели Word2Vec\n",
        "%%time\n",
        "modelW2V = Word2Vec(data['processed_text'], size=300, seed=RANDOM_STATE, window=3, workers=NUM_THREADS, min_count=2)"
      ],
      "metadata": {
        "id": "7jki_M2KqBzr",
        "colab": {
          "base_uri": "https://localhost:8080/"
        },
        "outputId": "f1802f36-9da3-4572-90dd-909e78d47a71"
      },
      "execution_count": 17,
      "outputs": [
        {
          "output_type": "stream",
          "name": "stdout",
          "text": [
            "CPU times: user 31.7 s, sys: 178 ms, total: 31.8 s\n",
            "Wall time: 20.4 s\n"
          ]
        }
      ]
    },
    {
      "cell_type": "code",
      "source": [
        "# Создание модели FastText\n",
        "%%time\n",
        "modelFT = FastText(data['processed_text'], size=300, min_count=2, window=3, seed=RANDOM_STATE, workers=NUM_THREADS)"
      ],
      "metadata": {
        "id": "OOvhV5cS6Fo0",
        "colab": {
          "base_uri": "https://localhost:8080/"
        },
        "outputId": "f63e8164-b88e-476d-b13f-05ab351d6c28"
      },
      "execution_count": 18,
      "outputs": [
        {
          "output_type": "stream",
          "name": "stdout",
          "text": [
            "CPU times: user 2min 16s, sys: 5.9 s, total: 2min 21s\n",
            "Wall time: 1min 23s\n"
          ]
        }
      ]
    },
    {
      "cell_type": "code",
      "source": [
        "%%time\n",
        "w2v_index = annoy.AnnoyIndex(300 ,'angular')\n",
        "ft_index = annoy.AnnoyIndex(300 ,'angular')\n",
        "\n",
        "counter = 0\n",
        "index_map = {}\n",
        "\n",
        "for line in data['text']:\n",
        "    n_w2v = 0\n",
        "    n_ft = 0\n",
        "    index_map[counter] = line\n",
        "    text = preprocess_txt(line)\n",
        "    \n",
        "    vector_w2v = np.zeros(300)\n",
        "    vector_ft = np.zeros(300)\n",
        "    for word in text:\n",
        "        if word in modelW2V.wv:\n",
        "            vector_w2v += modelW2V.wv[word]\n",
        "            n_w2v += 1\n",
        "        if word in modelFT.wv:\n",
        "            vector_ft += modelFT.wv[word]\n",
        "            n_ft += 1\n",
        "    if n_w2v > 0:\n",
        "        vector_w2v = vector_w2v / n_w2v\n",
        "    if n_ft > 0:\n",
        "        vector_ft = vector_ft / n_ft\n",
        "    w2v_index.add_item(counter, vector_w2v)\n",
        "    ft_index.add_item(counter, vector_ft)\n",
        "    counter += 1\n",
        "\n",
        "    if counter > 100000:\n",
        "        break\n",
        "\n",
        "w2v_index.build(10)\n",
        "ft_index.build(10)"
      ],
      "metadata": {
        "id": "zz03f_Q46gzh",
        "colab": {
          "base_uri": "https://localhost:8080/"
        },
        "outputId": "5ad0320b-2020-49ac-f5f4-b57cabd894dc"
      },
      "execution_count": 19,
      "outputs": [
        {
          "output_type": "stream",
          "name": "stdout",
          "text": [
            "CPU times: user 7min 2s, sys: 627 ms, total: 7min 2s\n",
            "Wall time: 7min 3s\n"
          ]
        },
        {
          "output_type": "execute_result",
          "data": {
            "text/plain": [
              "True"
            ]
          },
          "metadata": {},
          "execution_count": 19
        }
      ]
    },
    {
      "cell_type": "code",
      "source": [
        "def get_response(question, index, model, index_map):\n",
        "    question = preprocess_txt(question)\n",
        "    vector = np.zeros(300)\n",
        "    norm = 0\n",
        "    for word in question:\n",
        "        if word in model.wv:\n",
        "            vector += model.wv[word]\n",
        "            norm += 1\n",
        "    if norm > 0:\n",
        "        vector = vector / norm\n",
        "    answers = index.get_nns_by_vector(vector, 5, )\n",
        "    return [index_map[i] for i in answers]"
      ],
      "metadata": {
        "id": "0rNTaepq6rLn"
      },
      "execution_count": 20,
      "outputs": []
    },
    {
      "cell_type": "markdown",
      "source": [
        "Проверка работы модели"
      ],
      "metadata": {
        "id": "u4g-1BhMDgLr"
      }
    },
    {
      "cell_type": "code",
      "source": [
        "TEXT = \"чемпионат мира по футболу\""
      ],
      "metadata": {
        "id": "wEudh_zjDgrU"
      },
      "execution_count": 21,
      "outputs": []
    },
    {
      "cell_type": "code",
      "source": [
        "get_response(TEXT, w2v_index, modelW2V, index_map)"
      ],
      "metadata": {
        "id": "VMiCiw34DjRm",
        "colab": {
          "base_uri": "https://localhost:8080/"
        },
        "outputId": "ceccc0d6-a734-40ae-c26e-0838ae2a1ade"
      },
      "execution_count": 22,
      "outputs": [
        {
          "output_type": "execute_result",
          "data": {
            "text/plain": [
              "['Женская сборная России по биатлону финишировала пятой в эстафете на шестом этапе Кубка мира в итальянском Антхольце, передаетnUra.run.nВ составе команды выступали Виктория Сливко, Татьяна Акимова, Екатерина Глазырина и Ольга Подчуфарова.nЗолото завоевали немецкие спортсменки, серебро — Франция, а бронзу — Италия.nБиатлон. Кубок мира. Шестой этап. Антхольц, ИталияnnЖенщины. Эстафета 4x6 кмn1. Германия — 1:13:57.2.nn2. Франция +24.2.nn3. Италия +33.4.nn«Газета.Ru» велаnтекстовую онлайн-трансляциюnгонки.',\n",
              " 'Россиянка Валерия Васнецова завоевала золотую медаль чемпионата мира по биатлону среди юниоров в гонке преследования.nВторой стала Микела Каррара из Италии, замкнула тройку призеров Ингрид Тандревольд из Норвегии.nПобеда в пасьюте стала для россиянки первой личной золотой медалью на крупных международных стартах.nБиатлон. Чемпионат мира среди юниоров.nnЮниорки. Гонка преследования. 12,5 км.nn1. Валерия Васнецова (Россия) — 31.49,5.nn2 . Микела Каррара (Италия) — +10,0.nn3. Ингрид Тандревольд (Норвегия) — +10,8. n',\n",
              " 'Известный немецкий политологnАлександр Рарnподелился мыслями после вылета сборной Германии с чемпионата мира — 2018, передаетnНСН.nДействующие чемпионы мира потерпели поражение от команды Южной Кореи (0:2) в заключительном матче третьего тура мундиаля, лишившись шансов на выход в плей-офф турнира.n«В Германии футбол – это национальный спорт. Более важного спорта, который смотрят такое количество людей, миллионы людей, в Германии просто нет. Для Германии чемпионат мира по футболу важнее, чем Олимпийские игры. Там проиграть против Южной Кореи, против Мексики и еле-еле выиграть против Швеции и уже в первой групповой фазе вылететь из турнира — это неописуемая катастрофа! Германия в полном трауре!» — заявил Рар.nРанее сообщалось, чтоnэкс-тренер сборной России считает закономерным поражение Германии от Южной Кореи.',\n",
              " 'Действующая чемпионка мира в прыжках в высоту россиянка Мария Ласицкене номинирована Европейской легкоатлетической ассоциацией (EAA) на звание лучшей спортсменки года, сообщаетnофициальный сайтnЕАА.nОбъявление победителей состоится 14 октября на гала-вечере в Вильнюсе.nЛасицкене в 2017 году выиграла на чемпионате мира по легкой атлетике в Лондоне и победила на финальном этапе Бриллиантовой лиги.',\n",
              " 'Двукратная олимпийская чемпионка в прыжке с шестом Елена Исинбаева выступит на этапе Бриллиантовой лиги в Шанхае, сообщается на официальном сайтеnВсероссийской федерации легкой атлетикиnСвое участие, помимо Исинбаевой, на этом старте подтвердили олимпийский чемпион и рекордсмен мира в барьерном спринте американец Эрайс Мэррит, действующий чемпион мира и призер Олимпийских игр на стометровке Йохан Блэйк с Ямайки, чемпион мира и Олимпийских игр в беге на 400 м, а также олимпийский чемпион Лондона метатель копья Кешорн Уолкотт.']"
            ]
          },
          "metadata": {},
          "execution_count": 22
        }
      ]
    },
    {
      "cell_type": "code",
      "source": [
        "get_response(TEXT, ft_index, modelFT, index_map)"
      ],
      "metadata": {
        "id": "fgS9nQiiDk_8",
        "colab": {
          "base_uri": "https://localhost:8080/"
        },
        "outputId": "4835ffda-9ec0-4508-a6cf-9b7b8fb98056"
      },
      "execution_count": 23,
      "outputs": [
        {
          "output_type": "execute_result",
          "data": {
            "text/plain": [
              "['Известный немецкий политологnАлександр Рарnподелился мыслями после вылета сборной Германии с чемпионата мира — 2018, передаетnНСН.nДействующие чемпионы мира потерпели поражение от команды Южной Кореи (0:2) в заключительном матче третьего тура мундиаля, лишившись шансов на выход в плей-офф турнира.n«В Германии футбол – это национальный спорт. Более важного спорта, который смотрят такое количество людей, миллионы людей, в Германии просто нет. Для Германии чемпионат мира по футболу важнее, чем Олимпийские игры. Там проиграть против Южной Кореи, против Мексики и еле-еле выиграть против Швеции и уже в первой групповой фазе вылететь из турнира — это неописуемая катастрофа! Германия в полном трауре!» — заявил Рар.nРанее сообщалось, чтоnэкс-тренер сборной России считает закономерным поражение Германии от Южной Кореи.',\n",
              " 'Сборная России взяла золото в женской эстафете на четвертом этапе Кубка мира по биатлону, сообщаетn«Советский спорт».nНациональную команду в эстафете представилиnЕвгения Павловаn,nМаргарита Васильеваn,nЛариса Куклинаnи Екатерина Юрлова-Перхт. Российские девушки показали результат 1:18:46.3.nТаким образом, российские биатлонистки впервые за семь лет стали первыми в эстафете на этапах Кубка мира.n«Газета.Ru» велаnтекстовую онлайн-трансляциюnгонки.nРанее сообщалось, чтоnроссиянин выиграл первое золото на Кубке мира по биатлону за десять месяцев.',\n",
              " 'Капитан сборной Швеции по хоккею Микаэль Баклунд выделил трех хоккеистов в составе команды России на чемпионате мира, который проходит в Дании.n«Конечно,nПавел Дацюкn.nКирилл Капризовn— очень классный нападающий. Также выделюnЕвгения Дадоноваn, который провел отличный сезон в НХЛ за «Флориду Пантерз». В целом вся команда России — очень высокого уровня. Готовимся к матчу против нее со всей серьезностью», — цитируетnБаклундаnгазетаn«Известия»n.n15 мая сборная Швеции встретится с командой России в заключительном туре группового этапа чемпионата мира. «Газета.Ru» проведет текстовую онлайн-трансляциюnматчаn.',\n",
              " 'Нападающий клуба «Хоффенхайм» и сборной Хорватии АндрейnКрамаричnпопал в сферу интересов мюнхенской «Баварии». Об этом сообщаетnDPA.nОтмечается, что хорватский форвард может выступить в качестве заменыnРоберту Левандовскиn, который намеревается покинуть немецкий клуб этим летом.nСам Крамарич заявил, что пока сосредоточен на игре в сборной, которая выступает на чемпионате мира — 2018 в России.nРанееnсборная Хорватии оказалась сильнее Нигерии по итогам матча группового этапа чемпионата мира по футболу в России.',\n",
              " 'Болельщики сборной Бразилии закидали автобус с игроками команды яйцами после вылета команды с чемпионата мира по футболу, сообщаетn«Советский спорт»n.nКак отмечает AS, также фанаты использовали в качестве снарядов овощи.nНа чемпионате мира 2018 года сборная Бразилии дошла до стадии 1/4 финала, где уступила команде Бельгии со счетом 1:2.n«Газета.Ru» ведетnонлайн-трансляциюnглавных событий 26-го дня мирового первенства.nРанееnзащитник сборной Бразилии Марсело прокомментировал вылет своей команды с чемпионата мира — 2018n.nВосторженные болельщики Бразилии встречают свою сборную дома.npic.twitter.com/b4I1ASe6e8']"
            ]
          },
          "metadata": {},
          "execution_count": 23
        }
      ]
    }
  ]
}
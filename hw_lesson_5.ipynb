{
  "nbformat": 4,
  "nbformat_minor": 0,
  "metadata": {
    "colab": {
      "provenance": []
    },
    "kernelspec": {
      "name": "python3",
      "display_name": "Python 3"
    },
    "language_info": {
      "name": "python"
    },
    "gpuClass": "standard"
  },
  "cells": [
    {
      "cell_type": "markdown",
      "source": [
        "##Тема «POS-tagger и NER»"
      ],
      "metadata": {
        "id": "sAaFrux6wAhL"
      }
    },
    {
      "cell_type": "markdown",
      "source": [
        "Задание. Написать теггер на данных с русским языком\n",
        "* проверить UnigramTagger, BigramTagger, TrigramTagger и их комбинации\n",
        "* написать свой теггер как на занятии, попробовать разные векторайзеры, добавить знание не только букв но и слов\n",
        "* сравнить все реализованные методы, сделать выводы\n",
        " \n",
        "\n"
      ],
      "metadata": {
        "id": "MudO2dSmwHRf"
      }
    },
    {
      "cell_type": "code",
      "source": [
        "pip install pyconll"
      ],
      "metadata": {
        "colab": {
          "base_uri": "https://localhost:8080/"
        },
        "id": "kOnYDdnl9Uf1",
        "outputId": "f16131be-748c-4617-ee5f-9b2a9d7b8841"
      },
      "execution_count": null,
      "outputs": [
        {
          "output_type": "stream",
          "name": "stdout",
          "text": [
            "Looking in indexes: https://pypi.org/simple, https://us-python.pkg.dev/colab-wheels/public/simple/\n",
            "Collecting pyconll\n",
            "  Downloading pyconll-3.1.0-py3-none-any.whl (26 kB)\n",
            "Installing collected packages: pyconll\n",
            "Successfully installed pyconll-3.1.0\n"
          ]
        }
      ]
    },
    {
      "cell_type": "code",
      "execution_count": null,
      "metadata": {
        "id": "rRl2yxJdv5-I"
      },
      "outputs": [],
      "source": [
        "import pandas as pd\n",
        "import nltk\n",
        "from nltk.tag import UnigramTagger, BigramTagger, TrigramTagger, DefaultTagger\n",
        "import pyconll\n",
        "from sklearn.feature_extraction.text import HashingVectorizer, TfidfVectorizer, CountVectorizer\n",
        "from sklearn.linear_model import LogisticRegression\n",
        "from sklearn.metrics import accuracy_score"
      ]
    },
    {
      "cell_type": "code",
      "source": [
        "nltk.download('tagsets')"
      ],
      "metadata": {
        "colab": {
          "base_uri": "https://localhost:8080/"
        },
        "id": "8e9UDIE48c2N",
        "outputId": "cb0335fd-390e-4cb9-e89e-891de42756ee"
      },
      "execution_count": null,
      "outputs": [
        {
          "output_type": "stream",
          "name": "stderr",
          "text": [
            "[nltk_data] Downloading package tagsets to /root/nltk_data...\n",
            "[nltk_data]   Unzipping help/tagsets.zip.\n"
          ]
        },
        {
          "output_type": "execute_result",
          "data": {
            "text/plain": [
              "True"
            ]
          },
          "metadata": {},
          "execution_count": 6
        }
      ]
    },
    {
      "cell_type": "code",
      "source": [
        "RANDOM_STATE = 42"
      ],
      "metadata": {
        "id": "9nx4j6DOSS-x"
      },
      "execution_count": null,
      "outputs": []
    },
    {
      "cell_type": "code",
      "source": [
        "!wget ./dataset_ru/ru_syntagrus-ud-train-a.conllu https://raw.githubusercontent.com/UniversalDependencies/UD_Russian-SynTagRus/master/ru_syntagrus-ud-train-a.conllu\n",
        "!wget ./dataset_ru/ru_syntagrus-ud-train-b.conllu https://raw.githubusercontent.com/UniversalDependencies/UD_Russian-SynTagRus/master/ru_syntagrus-ud-train-b.conllu\n",
        "!wget ./dataset_ru/ru_syntagrus-ud-train-c.conllu https://raw.githubusercontent.com/UniversalDependencies/UD_Russian-SynTagRus/master/ru_syntagrus-ud-train-c.conllu\n",
        "!wget ./datasets/ru_syntagrus-ud-dev.conllu https://raw.githubusercontent.com/UniversalDependencies/UD_Russian-SynTagRus/master/ru_syntagrus-ud-dev.conllu"
      ],
      "metadata": {
        "id": "t9Bdyr9h6Pd9",
        "colab": {
          "base_uri": "https://localhost:8080/"
        },
        "outputId": "2ccbf2bd-f62a-44bf-df33-faf94ca8342a"
      },
      "execution_count": null,
      "outputs": [
        {
          "output_type": "stream",
          "name": "stdout",
          "text": [
            "--2022-12-14 09:31:45--  http://./dataset_ru/ru_syntagrus-ud-train-a.conllu\n",
            "Resolving . (.)... failed: No address associated with hostname.\n",
            "wget: unable to resolve host address ‘.’\n",
            "--2022-12-14 09:31:45--  https://raw.githubusercontent.com/UniversalDependencies/UD_Russian-SynTagRus/master/ru_syntagrus-ud-train-a.conllu\n",
            "Resolving raw.githubusercontent.com (raw.githubusercontent.com)... 185.199.109.133, 185.199.111.133, 185.199.110.133, ...\n",
            "Connecting to raw.githubusercontent.com (raw.githubusercontent.com)|185.199.109.133|:443... connected.\n",
            "HTTP request sent, awaiting response... 200 OK\n",
            "Length: 40736581 (39M) [text/plain]\n",
            "Saving to: ‘ru_syntagrus-ud-train-a.conllu’\n",
            "\n",
            "ru_syntagrus-ud-tra 100%[===================>]  38.85M   157MB/s    in 0.2s    \n",
            "\n",
            "2022-12-14 09:31:48 (157 MB/s) - ‘ru_syntagrus-ud-train-a.conllu’ saved [40736581/40736581]\n",
            "\n",
            "FINISHED --2022-12-14 09:31:48--\n",
            "Total wall clock time: 3.2s\n",
            "Downloaded: 1 files, 39M in 0.2s (157 MB/s)\n",
            "--2022-12-14 09:31:48--  http://./dataset_ru/ru_syntagrus-ud-train-b.conllu\n",
            "Resolving . (.)... failed: No address associated with hostname.\n",
            "wget: unable to resolve host address ‘.’\n",
            "--2022-12-14 09:31:48--  https://raw.githubusercontent.com/UniversalDependencies/UD_Russian-SynTagRus/master/ru_syntagrus-ud-train-b.conllu\n",
            "Resolving raw.githubusercontent.com (raw.githubusercontent.com)... 185.199.108.133, 185.199.109.133, 185.199.110.133, ...\n",
            "Connecting to raw.githubusercontent.com (raw.githubusercontent.com)|185.199.108.133|:443... connected.\n",
            "HTTP request sent, awaiting response... 200 OK\n",
            "Length: 42819832 (41M) [text/plain]\n",
            "Saving to: ‘ru_syntagrus-ud-train-b.conllu’\n",
            "\n",
            "ru_syntagrus-ud-tra 100%[===================>]  40.84M   163MB/s    in 0.3s    \n",
            "\n",
            "2022-12-14 09:31:51 (163 MB/s) - ‘ru_syntagrus-ud-train-b.conllu’ saved [42819832/42819832]\n",
            "\n",
            "FINISHED --2022-12-14 09:31:51--\n",
            "Total wall clock time: 3.2s\n",
            "Downloaded: 1 files, 41M in 0.3s (163 MB/s)\n",
            "--2022-12-14 09:31:51--  http://./dataset_ru/ru_syntagrus-ud-train-c.conllu\n",
            "Resolving . (.)... failed: No address associated with hostname.\n",
            "wget: unable to resolve host address ‘.’\n",
            "--2022-12-14 09:31:51--  https://raw.githubusercontent.com/UniversalDependencies/UD_Russian-SynTagRus/master/ru_syntagrus-ud-train-c.conllu\n",
            "Resolving raw.githubusercontent.com (raw.githubusercontent.com)... 185.199.110.133, 185.199.109.133, 185.199.111.133, ...\n",
            "Connecting to raw.githubusercontent.com (raw.githubusercontent.com)|185.199.110.133|:443... connected.\n",
            "HTTP request sent, awaiting response... 200 OK\n",
            "Length: 32367510 (31M) [text/plain]\n",
            "Saving to: ‘ru_syntagrus-ud-train-c.conllu’\n",
            "\n",
            "ru_syntagrus-ud-tra 100%[===================>]  30.87M   132MB/s    in 0.2s    \n",
            "\n",
            "2022-12-14 09:31:55 (132 MB/s) - ‘ru_syntagrus-ud-train-c.conllu’ saved [32367510/32367510]\n",
            "\n",
            "FINISHED --2022-12-14 09:31:55--\n",
            "Total wall clock time: 3.6s\n",
            "Downloaded: 1 files, 31M in 0.2s (132 MB/s)\n"
          ]
        }
      ]
    },
    {
      "cell_type": "markdown",
      "source": [
        "Загрузка данных"
      ],
      "metadata": {
        "id": "1ZrorRKjBSBt"
      }
    },
    {
      "cell_type": "code",
      "source": [
        "full_train = pyconll.load_from_file('ru_syntagrus-ud-train-a.conllu')\n",
        "full_train_b = pyconll.load_from_file('ru_syntagrus-ud-train-b.conllu')\n",
        "full_train_c = pyconll.load_from_file('ru_syntagrus-ud-train-c.conllu')\n",
        "\n",
        "full_train.extend([*full_train_b, *full_train_c]) # объединяем\n",
        "\n",
        "full_test = pyconll.load_from_file('ru_syntagrus-ud-dev.conllu')"
      ],
      "metadata": {
        "id": "WTWKGIoW-7pd"
      },
      "execution_count": null,
      "outputs": []
    },
    {
      "cell_type": "code",
      "source": [
        "fdata_train = []\n",
        "for sent in full_train:\n",
        "    fdata_train.append([(token.form, token.upos) for token in sent])\n",
        "    \n",
        "fdata_test = []\n",
        "for sent in full_test:\n",
        "    fdata_test.append([(token.form, token.upos) for token in sent])\n",
        "\n",
        "fdata_sent_test = []\n",
        "for sent in full_test[:]:\n",
        "    fdata_sent_test.append([token.form for token in sent])"
      ],
      "metadata": {
        "id": "iO71eMs4Alza"
      },
      "execution_count": null,
      "outputs": []
    },
    {
      "cell_type": "code",
      "source": [
        "MAX_SENT_LEN = max(len(sent) for sent in full_train)\n",
        "MAX_ORIG_TOKEN_LEN = max(len(\"\" if token.form is None else token.form) for sent in full_train for token in sent)\n",
        "print('Наибольшая длина предложения', MAX_SENT_LEN)\n",
        "print('Наибольшая длина токена', MAX_ORIG_TOKEN_LEN)"
      ],
      "metadata": {
        "colab": {
          "base_uri": "https://localhost:8080/"
        },
        "id": "QYFwrK9vBQ83",
        "outputId": "1ddc6746-8032-4146-e06e-53492600971b"
      },
      "execution_count": null,
      "outputs": [
        {
          "output_type": "stream",
          "name": "stdout",
          "text": [
            "Наибольшая длина предложения 205\n",
            "Наибольшая длина токена 47\n"
          ]
        }
      ]
    },
    {
      "cell_type": "code",
      "source": [
        "all_train_texts = [' '.join(\"\" if token.form is None else token.form for token in sent) for sent in full_train]\n",
        "all_test_texts = [' '.join(\"\" if token.form is None else token.form for token in sent) for sent in full_test]\n",
        "\n",
        "all_train_labels = [' '.join(\"\" if token.upos is None else token.upos for token in sent) for sent in full_train]\n",
        "all_test_labels = [' '.join(\"\" if token.upos is None else token.upos for token in sent) for sent in full_test]\n",
        "print('\\n'.join(all_train_texts[:10]))"
      ],
      "metadata": {
        "colab": {
          "base_uri": "https://localhost:8080/"
        },
        "id": "IfRO0JvYBQ6y",
        "outputId": "afb836af-8a60-451c-c4ab-cf66b1b7a18c"
      },
      "execution_count": null,
      "outputs": [
        {
          "output_type": "stream",
          "name": "stdout",
          "text": [
            "Анкета .\n",
            "Начальник областного управления связи Семен Еремеевич был человек простой , приходил на работу всегда вовремя , здоровался с секретаршей за руку и иногда даже писал в стенгазету заметки под псевдонимом \" Муха \" .\n",
            "В приемной его с утра ожидали посетители , - кое-кто с важными делами , а кое-кто и с такими , которые легко можно было решить в нижестоящих инстанциях , не затрудняя Семена Еремеевича .\n",
            "Однако стиль работы Семена Еремеевича заключался в том , чтобы принимать всех желающих и лично вникать в дело .\n",
            "Приемная была обставлена просто , но по-деловому .\n",
            "У двери стоял стол секретарши , на столе - пишущая машинка с широкой кареткой .\n",
            "В углу висел репродуктор и играло радио для развлечения ожидающих и еще для того , чтобы заглушать голос начальника , доносившийся из кабинета , так как , бесспорно , среди посетителей могли находиться и случайные люди .\n",
            "Кабинет отличался скромностью , присущей Семену Еремеевичу .\n",
            "В глубине стоял широкий письменный стол с бронзовыми чернильницами и перед ним два кожаных кресла .\n",
            "Справа был стол для заседаний - длинный , накрытый зеленым сукном и с обеих сторон аккуратно заставленный стульями .\n"
          ]
        }
      ]
    },
    {
      "cell_type": "markdown",
      "source": [
        "Тест различных тэггеров и их комбинации.\n",
        "Внесём получившиеся значения accuracy в таблицу:"
      ],
      "metadata": {
        "id": "qjg_r0EGSuoa"
      }
    },
    {
      "cell_type": "code",
      "source": [
        "%%time\n",
        "\n",
        "default_tagger = DefaultTagger('NOUN') #NOUN\n",
        "possible_options = {\n",
        "    'Trigram': 'TrigramTagger(fdata_train)',\n",
        "    'Bigram': 'BigramTagger(fdata_train)',\n",
        "    'Unigram': 'UnigramTagger(fdata_train)',\n",
        "    'Default': 'default_tagger',\n",
        "    'Trigram + Default': 'TrigramTagger(fdata_train, backoff=default_tagger)',\n",
        "    'Trigram + Bigram': 'TrigramTagger(fdata_train, backoff=BigramTagger(fdata_train))',\n",
        "    'Trigram + Bigram + Default': 'TrigramTagger(fdata_train, backoff=BigramTagger(fdata_train, backoff=default_tagger))',\n",
        "    'Trigram + Unigram': 'TrigramTagger(fdata_train, backoff=UnigramTagger(fdata_train))',\n",
        "    'Trigram + Unigram + Default': 'TrigramTagger(fdata_train, backoff=UnigramTagger(fdata_train, backoff=default_tagger))',\n",
        "    'Trigram + Bigram + Unigram': 'TrigramTagger(fdata_train, backoff=BigramTagger(fdata_train, backoff=UnigramTagger(fdata_train)))',\n",
        "    'Trigram + Bigram + Unigram + Default': 'TrigramTagger(fdata_train, backoff=BigramTagger(fdata_train, backoff=UnigramTagger(fdata_train, backoff=default_tagger)))',\n",
        "    'Bigram + Default': 'BigramTagger(fdata_train, backoff=default_tagger)',\n",
        "    'Bigram + Unigram': 'BigramTagger(fdata_train, backoff=UnigramTagger(fdata_train))',\n",
        "    'Bigram + Unigram + Default': 'BigramTagger(fdata_train, backoff=UnigramTagger(fdata_train, backoff=default_tagger))',\n",
        "    'Unigram + Default': 'UnigramTagger(fdata_train, backoff=default_tagger)'    \n",
        "}\n",
        "\n",
        "scores = []\n",
        "\n",
        "for name, tagger in possible_options.items():\n",
        "    scores.append((round(eval(tagger).accuracy(fdata_test), 3)))"
      ],
      "metadata": {
        "colab": {
          "base_uri": "https://localhost:8080/"
        },
        "id": "5V-3vQZnBQ3_",
        "outputId": "e7e5f2d0-1977-4117-f95c-4bcc2de3f215"
      },
      "execution_count": null,
      "outputs": [
        {
          "output_type": "stream",
          "name": "stdout",
          "text": [
            "CPU times: user 2min 32s, sys: 427 ms, total: 2min 33s\n",
            "Wall time: 2min 33s\n"
          ]
        }
      ]
    },
    {
      "cell_type": "code",
      "source": [
        "comparison = pd.DataFrame(scores, index=possible_options.keys(), columns=['Score']).sort_values('Score', ascending=False)\n",
        "comparison"
      ],
      "metadata": {
        "colab": {
          "base_uri": "https://localhost:8080/",
          "height": 520
        },
        "id": "Ijts83eUC2oC",
        "outputId": "fede2cb8-e9ac-48b1-99ba-ff85c81ac0a8"
      },
      "execution_count": null,
      "outputs": [
        {
          "output_type": "execute_result",
          "data": {
            "text/plain": [
              "                                      Score\n",
              "Trigram + Unigram + Default           0.912\n",
              "Trigram + Bigram + Unigram + Default  0.912\n",
              "Bigram + Unigram + Default            0.912\n",
              "Unigram + Default                     0.906\n",
              "Bigram + Unigram                      0.884\n",
              "Trigram + Unigram                     0.883\n",
              "Trigram + Bigram + Unigram            0.883\n",
              "Unigram                               0.878\n",
              "Trigram + Bigram + Default            0.861\n",
              "Bigram + Default                      0.861\n",
              "Trigram + Default                     0.791\n",
              "Bigram                                0.710\n",
              "Trigram + Bigram                      0.703\n",
              "Trigram                               0.407\n",
              "Default                               0.236"
            ],
            "text/html": [
              "\n",
              "  <div id=\"df-4aca3b3a-dcb4-42e7-9507-a5245acbd07d\">\n",
              "    <div class=\"colab-df-container\">\n",
              "      <div>\n",
              "<style scoped>\n",
              "    .dataframe tbody tr th:only-of-type {\n",
              "        vertical-align: middle;\n",
              "    }\n",
              "\n",
              "    .dataframe tbody tr th {\n",
              "        vertical-align: top;\n",
              "    }\n",
              "\n",
              "    .dataframe thead th {\n",
              "        text-align: right;\n",
              "    }\n",
              "</style>\n",
              "<table border=\"1\" class=\"dataframe\">\n",
              "  <thead>\n",
              "    <tr style=\"text-align: right;\">\n",
              "      <th></th>\n",
              "      <th>Score</th>\n",
              "    </tr>\n",
              "  </thead>\n",
              "  <tbody>\n",
              "    <tr>\n",
              "      <th>Trigram + Unigram + Default</th>\n",
              "      <td>0.912</td>\n",
              "    </tr>\n",
              "    <tr>\n",
              "      <th>Trigram + Bigram + Unigram + Default</th>\n",
              "      <td>0.912</td>\n",
              "    </tr>\n",
              "    <tr>\n",
              "      <th>Bigram + Unigram + Default</th>\n",
              "      <td>0.912</td>\n",
              "    </tr>\n",
              "    <tr>\n",
              "      <th>Unigram + Default</th>\n",
              "      <td>0.906</td>\n",
              "    </tr>\n",
              "    <tr>\n",
              "      <th>Bigram + Unigram</th>\n",
              "      <td>0.884</td>\n",
              "    </tr>\n",
              "    <tr>\n",
              "      <th>Trigram + Unigram</th>\n",
              "      <td>0.883</td>\n",
              "    </tr>\n",
              "    <tr>\n",
              "      <th>Trigram + Bigram + Unigram</th>\n",
              "      <td>0.883</td>\n",
              "    </tr>\n",
              "    <tr>\n",
              "      <th>Unigram</th>\n",
              "      <td>0.878</td>\n",
              "    </tr>\n",
              "    <tr>\n",
              "      <th>Trigram + Bigram + Default</th>\n",
              "      <td>0.861</td>\n",
              "    </tr>\n",
              "    <tr>\n",
              "      <th>Bigram + Default</th>\n",
              "      <td>0.861</td>\n",
              "    </tr>\n",
              "    <tr>\n",
              "      <th>Trigram + Default</th>\n",
              "      <td>0.791</td>\n",
              "    </tr>\n",
              "    <tr>\n",
              "      <th>Bigram</th>\n",
              "      <td>0.710</td>\n",
              "    </tr>\n",
              "    <tr>\n",
              "      <th>Trigram + Bigram</th>\n",
              "      <td>0.703</td>\n",
              "    </tr>\n",
              "    <tr>\n",
              "      <th>Trigram</th>\n",
              "      <td>0.407</td>\n",
              "    </tr>\n",
              "    <tr>\n",
              "      <th>Default</th>\n",
              "      <td>0.236</td>\n",
              "    </tr>\n",
              "  </tbody>\n",
              "</table>\n",
              "</div>\n",
              "      <button class=\"colab-df-convert\" onclick=\"convertToInteractive('df-4aca3b3a-dcb4-42e7-9507-a5245acbd07d')\"\n",
              "              title=\"Convert this dataframe to an interactive table.\"\n",
              "              style=\"display:none;\">\n",
              "        \n",
              "  <svg xmlns=\"http://www.w3.org/2000/svg\" height=\"24px\"viewBox=\"0 0 24 24\"\n",
              "       width=\"24px\">\n",
              "    <path d=\"M0 0h24v24H0V0z\" fill=\"none\"/>\n",
              "    <path d=\"M18.56 5.44l.94 2.06.94-2.06 2.06-.94-2.06-.94-.94-2.06-.94 2.06-2.06.94zm-11 1L8.5 8.5l.94-2.06 2.06-.94-2.06-.94L8.5 2.5l-.94 2.06-2.06.94zm10 10l.94 2.06.94-2.06 2.06-.94-2.06-.94-.94-2.06-.94 2.06-2.06.94z\"/><path d=\"M17.41 7.96l-1.37-1.37c-.4-.4-.92-.59-1.43-.59-.52 0-1.04.2-1.43.59L10.3 9.45l-7.72 7.72c-.78.78-.78 2.05 0 2.83L4 21.41c.39.39.9.59 1.41.59.51 0 1.02-.2 1.41-.59l7.78-7.78 2.81-2.81c.8-.78.8-2.07 0-2.86zM5.41 20L4 18.59l7.72-7.72 1.47 1.35L5.41 20z\"/>\n",
              "  </svg>\n",
              "      </button>\n",
              "      \n",
              "  <style>\n",
              "    .colab-df-container {\n",
              "      display:flex;\n",
              "      flex-wrap:wrap;\n",
              "      gap: 12px;\n",
              "    }\n",
              "\n",
              "    .colab-df-convert {\n",
              "      background-color: #E8F0FE;\n",
              "      border: none;\n",
              "      border-radius: 50%;\n",
              "      cursor: pointer;\n",
              "      display: none;\n",
              "      fill: #1967D2;\n",
              "      height: 32px;\n",
              "      padding: 0 0 0 0;\n",
              "      width: 32px;\n",
              "    }\n",
              "\n",
              "    .colab-df-convert:hover {\n",
              "      background-color: #E2EBFA;\n",
              "      box-shadow: 0px 1px 2px rgba(60, 64, 67, 0.3), 0px 1px 3px 1px rgba(60, 64, 67, 0.15);\n",
              "      fill: #174EA6;\n",
              "    }\n",
              "\n",
              "    [theme=dark] .colab-df-convert {\n",
              "      background-color: #3B4455;\n",
              "      fill: #D2E3FC;\n",
              "    }\n",
              "\n",
              "    [theme=dark] .colab-df-convert:hover {\n",
              "      background-color: #434B5C;\n",
              "      box-shadow: 0px 1px 3px 1px rgba(0, 0, 0, 0.15);\n",
              "      filter: drop-shadow(0px 1px 2px rgba(0, 0, 0, 0.3));\n",
              "      fill: #FFFFFF;\n",
              "    }\n",
              "  </style>\n",
              "\n",
              "      <script>\n",
              "        const buttonEl =\n",
              "          document.querySelector('#df-4aca3b3a-dcb4-42e7-9507-a5245acbd07d button.colab-df-convert');\n",
              "        buttonEl.style.display =\n",
              "          google.colab.kernel.accessAllowed ? 'block' : 'none';\n",
              "\n",
              "        async function convertToInteractive(key) {\n",
              "          const element = document.querySelector('#df-4aca3b3a-dcb4-42e7-9507-a5245acbd07d');\n",
              "          const dataTable =\n",
              "            await google.colab.kernel.invokeFunction('convertToInteractive',\n",
              "                                                     [key], {});\n",
              "          if (!dataTable) return;\n",
              "\n",
              "          const docLinkHtml = 'Like what you see? Visit the ' +\n",
              "            '<a target=\"_blank\" href=https://colab.research.google.com/notebooks/data_table.ipynb>data table notebook</a>'\n",
              "            + ' to learn more about interactive tables.';\n",
              "          element.innerHTML = '';\n",
              "          dataTable['output_type'] = 'display_data';\n",
              "          await google.colab.output.renderOutput(dataTable, element);\n",
              "          const docLink = document.createElement('div');\n",
              "          docLink.innerHTML = docLinkHtml;\n",
              "          element.appendChild(docLink);\n",
              "        }\n",
              "      </script>\n",
              "    </div>\n",
              "  </div>\n",
              "  "
            ]
          },
          "metadata": {},
          "execution_count": 68
        }
      ]
    },
    {
      "cell_type": "markdown",
      "source": [
        "Лучшим среди одиночных тэггеров оказался Unigram, поэтому все\n",
        "лучшие комбинации были с ним в составе. Добавление в качестве\n",
        "последнего тэггера дефолтный даёт прирост всем комбинациям, что\n",
        "довольно логично, ведь мы вместо None на незнакомых словах ставим\n",
        "тэг существительного, и иногда попадаем.\n",
        "\n"
      ],
      "metadata": {
        "id": "cZOQIqFlS_Me"
      }
    },
    {
      "cell_type": "markdown",
      "source": [
        "Тэггер, который является аналогом Unigram:"
      ],
      "metadata": {
        "id": "spDJtASGLMJD"
      }
    },
    {
      "cell_type": "code",
      "source": [
        "from collections import defaultdict"
      ],
      "metadata": {
        "id": "Qm7zeMDiLbcC"
      },
      "execution_count": null,
      "outputs": []
    },
    {
      "cell_type": "code",
      "source": [
        "class MyUniTagger(nltk.tag.SequentialBackoffTagger):\n",
        "    def __init__(self, train, *args, **kwargs):\n",
        "        super().__init__(*args, **kwargs)\n",
        "        \n",
        "        # В ключах defaultdict будут тэги текущего слова\n",
        "        self.dictionary = {}\n",
        "        \n",
        "        for sent in train:\n",
        "            for word, tag in sent:\n",
        "                if word is None:\n",
        "                    continue\n",
        "                    \n",
        "                word = word.lower()\n",
        "                if word not in self.dictionary:\n",
        "                    self.dictionary[word] = defaultdict(int)\n",
        "                self.dictionary[word][tag] += 1\n",
        "            \n",
        "    \n",
        "    def choose_tag(self, tokens, index, history):\n",
        "        word = tokens[index]\n",
        "        if word is None:\n",
        "            return None\n",
        "        word = word.lower()\n",
        "        \n",
        "        # Возвращаем наиболее популярный тэг текущего слова\n",
        "        if word in self.dictionary:\n",
        "            return sorted(self.dictionary[word].items(), key=lambda x: x[1], reverse=True)[0][0]\n",
        "        \n",
        "        return None"
      ],
      "metadata": {
        "id": "H-C-WnorEJ1A"
      },
      "execution_count": null,
      "outputs": []
    },
    {
      "cell_type": "markdown",
      "source": [
        "Оценка тэггера:"
      ],
      "metadata": {
        "id": "AhSKAlJGTg2s"
      }
    },
    {
      "cell_type": "code",
      "source": [
        "my_unitagger = MyUniTagger(fdata_train)"
      ],
      "metadata": {
        "id": "DjWbEqxUBQwC"
      },
      "execution_count": null,
      "outputs": []
    },
    {
      "cell_type": "code",
      "source": [
        "my_unitagger.accuracy(fdata_test)"
      ],
      "metadata": {
        "colab": {
          "base_uri": "https://localhost:8080/"
        },
        "id": "PPysgVXKBQtV",
        "outputId": "3e35b60f-8bee-44fe-c57f-71f8c834e50a"
      },
      "execution_count": null,
      "outputs": [
        {
          "output_type": "execute_result",
          "data": {
            "text/plain": [
              "0.8829611302819194"
            ]
          },
          "metadata": {},
          "execution_count": 72
        }
      ]
    },
    {
      "cell_type": "markdown",
      "source": [
        "Добавление в таблицу метрик новые данные"
      ],
      "metadata": {
        "id": "1GvgxbQ3Mklm"
      }
    },
    {
      "cell_type": "code",
      "source": [
        "comparison_mytaggers = pd.concat((comparison, pd.DataFrame(round(my_unitagger.accuracy(fdata_test), 3), \n",
        "                                                       index=['MyUniTagger'], columns=['Score'])), axis=0)\n",
        "\n",
        "comparison_mytaggers = pd.concat((comparison_mytaggers, pd.DataFrame(round(MyUniTagger(fdata_train, backoff=default_tagger)\\\n",
        "                                                             .accuracy(fdata_test), 3), \n",
        "                                                       index=['MyUniTagger + Default'], columns=['Score'])), axis=0)\n",
        "\n",
        "comparison_mytaggers.sort_values('Score', ascending=False, inplace=True)\n",
        "comparison_mytaggers"
      ],
      "metadata": {
        "colab": {
          "base_uri": "https://localhost:8080/",
          "height": 582
        },
        "id": "laV81T3cBQqq",
        "outputId": "d10d1a8a-c3bd-4bb8-cb29-9c3253ee4c09"
      },
      "execution_count": null,
      "outputs": [
        {
          "output_type": "execute_result",
          "data": {
            "text/plain": [
              "                                      Score\n",
              "Trigram + Unigram + Default           0.912\n",
              "Trigram + Bigram + Unigram + Default  0.912\n",
              "Bigram + Unigram + Default            0.912\n",
              "MyUniTagger + Default                 0.908\n",
              "Unigram + Default                     0.906\n",
              "Bigram + Unigram                      0.884\n",
              "Trigram + Unigram                     0.883\n",
              "Trigram + Bigram + Unigram            0.883\n",
              "MyUniTagger                           0.883\n",
              "Unigram                               0.878\n",
              "Bigram + Default                      0.861\n",
              "Trigram + Bigram + Default            0.861\n",
              "Trigram + Default                     0.791\n",
              "Bigram                                0.710\n",
              "Trigram + Bigram                      0.703\n",
              "Trigram                               0.407\n",
              "Default                               0.236"
            ],
            "text/html": [
              "\n",
              "  <div id=\"df-b78714f8-d5bf-4fe3-b1bf-7a744f7a1fa3\">\n",
              "    <div class=\"colab-df-container\">\n",
              "      <div>\n",
              "<style scoped>\n",
              "    .dataframe tbody tr th:only-of-type {\n",
              "        vertical-align: middle;\n",
              "    }\n",
              "\n",
              "    .dataframe tbody tr th {\n",
              "        vertical-align: top;\n",
              "    }\n",
              "\n",
              "    .dataframe thead th {\n",
              "        text-align: right;\n",
              "    }\n",
              "</style>\n",
              "<table border=\"1\" class=\"dataframe\">\n",
              "  <thead>\n",
              "    <tr style=\"text-align: right;\">\n",
              "      <th></th>\n",
              "      <th>Score</th>\n",
              "    </tr>\n",
              "  </thead>\n",
              "  <tbody>\n",
              "    <tr>\n",
              "      <th>Trigram + Unigram + Default</th>\n",
              "      <td>0.912</td>\n",
              "    </tr>\n",
              "    <tr>\n",
              "      <th>Trigram + Bigram + Unigram + Default</th>\n",
              "      <td>0.912</td>\n",
              "    </tr>\n",
              "    <tr>\n",
              "      <th>Bigram + Unigram + Default</th>\n",
              "      <td>0.912</td>\n",
              "    </tr>\n",
              "    <tr>\n",
              "      <th>MyUniTagger + Default</th>\n",
              "      <td>0.908</td>\n",
              "    </tr>\n",
              "    <tr>\n",
              "      <th>Unigram + Default</th>\n",
              "      <td>0.906</td>\n",
              "    </tr>\n",
              "    <tr>\n",
              "      <th>Bigram + Unigram</th>\n",
              "      <td>0.884</td>\n",
              "    </tr>\n",
              "    <tr>\n",
              "      <th>Trigram + Unigram</th>\n",
              "      <td>0.883</td>\n",
              "    </tr>\n",
              "    <tr>\n",
              "      <th>Trigram + Bigram + Unigram</th>\n",
              "      <td>0.883</td>\n",
              "    </tr>\n",
              "    <tr>\n",
              "      <th>MyUniTagger</th>\n",
              "      <td>0.883</td>\n",
              "    </tr>\n",
              "    <tr>\n",
              "      <th>Unigram</th>\n",
              "      <td>0.878</td>\n",
              "    </tr>\n",
              "    <tr>\n",
              "      <th>Bigram + Default</th>\n",
              "      <td>0.861</td>\n",
              "    </tr>\n",
              "    <tr>\n",
              "      <th>Trigram + Bigram + Default</th>\n",
              "      <td>0.861</td>\n",
              "    </tr>\n",
              "    <tr>\n",
              "      <th>Trigram + Default</th>\n",
              "      <td>0.791</td>\n",
              "    </tr>\n",
              "    <tr>\n",
              "      <th>Bigram</th>\n",
              "      <td>0.710</td>\n",
              "    </tr>\n",
              "    <tr>\n",
              "      <th>Trigram + Bigram</th>\n",
              "      <td>0.703</td>\n",
              "    </tr>\n",
              "    <tr>\n",
              "      <th>Trigram</th>\n",
              "      <td>0.407</td>\n",
              "    </tr>\n",
              "    <tr>\n",
              "      <th>Default</th>\n",
              "      <td>0.236</td>\n",
              "    </tr>\n",
              "  </tbody>\n",
              "</table>\n",
              "</div>\n",
              "      <button class=\"colab-df-convert\" onclick=\"convertToInteractive('df-b78714f8-d5bf-4fe3-b1bf-7a744f7a1fa3')\"\n",
              "              title=\"Convert this dataframe to an interactive table.\"\n",
              "              style=\"display:none;\">\n",
              "        \n",
              "  <svg xmlns=\"http://www.w3.org/2000/svg\" height=\"24px\"viewBox=\"0 0 24 24\"\n",
              "       width=\"24px\">\n",
              "    <path d=\"M0 0h24v24H0V0z\" fill=\"none\"/>\n",
              "    <path d=\"M18.56 5.44l.94 2.06.94-2.06 2.06-.94-2.06-.94-.94-2.06-.94 2.06-2.06.94zm-11 1L8.5 8.5l.94-2.06 2.06-.94-2.06-.94L8.5 2.5l-.94 2.06-2.06.94zm10 10l.94 2.06.94-2.06 2.06-.94-2.06-.94-.94-2.06-.94 2.06-2.06.94z\"/><path d=\"M17.41 7.96l-1.37-1.37c-.4-.4-.92-.59-1.43-.59-.52 0-1.04.2-1.43.59L10.3 9.45l-7.72 7.72c-.78.78-.78 2.05 0 2.83L4 21.41c.39.39.9.59 1.41.59.51 0 1.02-.2 1.41-.59l7.78-7.78 2.81-2.81c.8-.78.8-2.07 0-2.86zM5.41 20L4 18.59l7.72-7.72 1.47 1.35L5.41 20z\"/>\n",
              "  </svg>\n",
              "      </button>\n",
              "      \n",
              "  <style>\n",
              "    .colab-df-container {\n",
              "      display:flex;\n",
              "      flex-wrap:wrap;\n",
              "      gap: 12px;\n",
              "    }\n",
              "\n",
              "    .colab-df-convert {\n",
              "      background-color: #E8F0FE;\n",
              "      border: none;\n",
              "      border-radius: 50%;\n",
              "      cursor: pointer;\n",
              "      display: none;\n",
              "      fill: #1967D2;\n",
              "      height: 32px;\n",
              "      padding: 0 0 0 0;\n",
              "      width: 32px;\n",
              "    }\n",
              "\n",
              "    .colab-df-convert:hover {\n",
              "      background-color: #E2EBFA;\n",
              "      box-shadow: 0px 1px 2px rgba(60, 64, 67, 0.3), 0px 1px 3px 1px rgba(60, 64, 67, 0.15);\n",
              "      fill: #174EA6;\n",
              "    }\n",
              "\n",
              "    [theme=dark] .colab-df-convert {\n",
              "      background-color: #3B4455;\n",
              "      fill: #D2E3FC;\n",
              "    }\n",
              "\n",
              "    [theme=dark] .colab-df-convert:hover {\n",
              "      background-color: #434B5C;\n",
              "      box-shadow: 0px 1px 3px 1px rgba(0, 0, 0, 0.15);\n",
              "      filter: drop-shadow(0px 1px 2px rgba(0, 0, 0, 0.3));\n",
              "      fill: #FFFFFF;\n",
              "    }\n",
              "  </style>\n",
              "\n",
              "      <script>\n",
              "        const buttonEl =\n",
              "          document.querySelector('#df-b78714f8-d5bf-4fe3-b1bf-7a744f7a1fa3 button.colab-df-convert');\n",
              "        buttonEl.style.display =\n",
              "          google.colab.kernel.accessAllowed ? 'block' : 'none';\n",
              "\n",
              "        async function convertToInteractive(key) {\n",
              "          const element = document.querySelector('#df-b78714f8-d5bf-4fe3-b1bf-7a744f7a1fa3');\n",
              "          const dataTable =\n",
              "            await google.colab.kernel.invokeFunction('convertToInteractive',\n",
              "                                                     [key], {});\n",
              "          if (!dataTable) return;\n",
              "\n",
              "          const docLinkHtml = 'Like what you see? Visit the ' +\n",
              "            '<a target=\"_blank\" href=https://colab.research.google.com/notebooks/data_table.ipynb>data table notebook</a>'\n",
              "            + ' to learn more about interactive tables.';\n",
              "          element.innerHTML = '';\n",
              "          dataTable['output_type'] = 'display_data';\n",
              "          await google.colab.output.renderOutput(dataTable, element);\n",
              "          const docLink = document.createElement('div');\n",
              "          docLink.innerHTML = docLinkHtml;\n",
              "          element.appendChild(docLink);\n",
              "        }\n",
              "      </script>\n",
              "    </div>\n",
              "  </div>\n",
              "  "
            ]
          },
          "metadata": {},
          "execution_count": 73
        }
      ]
    },
    {
      "cell_type": "markdown",
      "source": [
        "Наш тэггер оказался чуть лучше Unigram тэггера nltk, а его комбинация\n",
        "с дефолтным вошла в топ 5 результатов.\n",
        "\n",
        "Теперь обучим логистическую регрессию на мультиклассовую\n",
        "классификацию, чтобы предсказывать тэги. \n"
      ],
      "metadata": {
        "id": "TZCVea5INrYf"
      }
    },
    {
      "cell_type": "markdown",
      "source": [
        "Сделаем предобработку:"
      ],
      "metadata": {
        "id": "-nHDGRFaUO96"
      }
    },
    {
      "cell_type": "code",
      "source": [
        "train_tok = []\n",
        "y_train = []\n",
        "for sent in fdata_train[:]:\n",
        "    for tok in sent:\n",
        "        if (tok[0] is None) or (tok[1] is None):\n",
        "            continue\n",
        "        train_tok.append(tok[0])\n",
        "        y_train.append('NO_TAG' if tok[1] is None else tok[1])\n",
        "        \n",
        "test_tok = []\n",
        "y_test = []\n",
        "for sent in fdata_test[:]:\n",
        "    for tok in sent:\n",
        "        if (tok[0] is None) or (tok[1] is None):\n",
        "            continue\n",
        "        test_tok.append(tok[0])\n",
        "        y_test.append('NO_TAG' if tok[1] is None else tok[1])"
      ],
      "metadata": {
        "id": "TGKt6h9HNlii"
      },
      "execution_count": null,
      "outputs": []
    },
    {
      "cell_type": "code",
      "source": [
        "#  Распределение классов\n",
        "pd.Series(y_test).value_counts(normalize=True)"
      ],
      "metadata": {
        "colab": {
          "base_uri": "https://localhost:8080/"
        },
        "id": "U8H6a8CaNlfV",
        "outputId": "4a4220b3-d94d-452b-d429-25b178a06647"
      },
      "execution_count": null,
      "outputs": [
        {
          "output_type": "execute_result",
          "data": {
            "text/plain": [
              "NOUN     0.236348\n",
              "PUNCT    0.190354\n",
              "VERB     0.111593\n",
              "ADJ      0.098503\n",
              "ADP      0.089464\n",
              "ADV      0.050761\n",
              "PRON     0.048550\n",
              "CCONJ    0.036993\n",
              "PROPN    0.035695\n",
              "PART     0.033426\n",
              "DET      0.027817\n",
              "SCONJ    0.018686\n",
              "NUM      0.011309\n",
              "AUX      0.009066\n",
              "X        0.000874\n",
              "SYM      0.000404\n",
              "INTJ     0.000157\n",
              "dtype: float64"
            ]
          },
          "metadata": {},
          "execution_count": 75
        }
      ]
    },
    {
      "cell_type": "markdown",
      "source": [
        "Самый\n",
        "популярный класс имеет долю 23%, а это далеко от метрики лучших тэггеров.\n",
        "\n",
        "\n"
      ],
      "metadata": {
        "id": "74iWkDPOOiF3"
      }
    },
    {
      "cell_type": "markdown",
      "source": [
        "Сначала применим векторизацию по символам:"
      ],
      "metadata": {
        "id": "bPMUb-2aOjxi"
      }
    },
    {
      "cell_type": "markdown",
      "source": [
        "## TfidfVectorizer"
      ],
      "metadata": {
        "id": "9KXG8hZJW5d2"
      }
    },
    {
      "cell_type": "code",
      "source": [
        "vectorizer_char = TfidfVectorizer(ngram_range=(1, 6), analyzer='char')"
      ],
      "metadata": {
        "id": "BRSKn6KRNlcT"
      },
      "execution_count": null,
      "outputs": []
    },
    {
      "cell_type": "code",
      "source": [
        "X_train = vectorizer_char.fit_transform(train_tok)\n",
        "X_test = vectorizer_char.transform(test_tok)"
      ],
      "metadata": {
        "id": "iB6ThST0NlY4"
      },
      "execution_count": null,
      "outputs": []
    },
    {
      "cell_type": "code",
      "source": [
        "X_train.shape, X_test.shape"
      ],
      "metadata": {
        "colab": {
          "base_uri": "https://localhost:8080/"
        },
        "id": "cy42WD-pNlV4",
        "outputId": "7a3a9ec5-420d-4a6c-dc19-6fed659b8b42"
      },
      "execution_count": null,
      "outputs": [
        {
          "output_type": "execute_result",
          "data": {
            "text/plain": [
              "((1204640, 304810), (153325, 304810))"
            ]
          },
          "metadata": {},
          "execution_count": 78
        }
      ]
    },
    {
      "cell_type": "code",
      "source": [
        "%%time\n",
        "lr_char = LogisticRegression(random_state=RANDOM_STATE, solver='sag')\n",
        "lr_char.fit(X_train, y_train)"
      ],
      "metadata": {
        "colab": {
          "base_uri": "https://localhost:8080/"
        },
        "id": "LUQ7HzneNlSq",
        "outputId": "0be923db-0408-4433-ffad-cc133823459b"
      },
      "execution_count": null,
      "outputs": [
        {
          "output_type": "stream",
          "name": "stdout",
          "text": [
            "CPU times: user 1min 30s, sys: 80.6 ms, total: 1min 30s\n",
            "Wall time: 1min 30s\n"
          ]
        },
        {
          "output_type": "execute_result",
          "data": {
            "text/plain": [
              "LogisticRegression(random_state=42, solver='sag')"
            ]
          },
          "metadata": {},
          "execution_count": 79
        }
      ]
    },
    {
      "cell_type": "code",
      "source": [
        "pred = lr_char.predict(X_test)"
      ],
      "metadata": {
        "id": "jRq_uinPQkbw"
      },
      "execution_count": null,
      "outputs": []
    },
    {
      "cell_type": "code",
      "source": [
        "lr_char_score_tfdf = accuracy_score(y_test, pred)\n",
        "lr_char_score_tfdf"
      ],
      "metadata": {
        "colab": {
          "base_uri": "https://localhost:8080/"
        },
        "id": "uxbti9EcQprM",
        "outputId": "666614a9-d573-4d91-f7e4-0fe62ff80ff6"
      },
      "execution_count": null,
      "outputs": [
        {
          "output_type": "execute_result",
          "data": {
            "text/plain": [
              "0.946518832545247"
            ]
          },
          "metadata": {},
          "execution_count": 81
        }
      ]
    },
    {
      "cell_type": "markdown",
      "source": [
        "## HashingVectorizer"
      ],
      "metadata": {
        "id": "Bl8SofDEXXbA"
      }
    },
    {
      "cell_type": "code",
      "source": [
        "vectorizer_char = HashingVectorizer(ngram_range=(1, 6), analyzer='char')"
      ],
      "metadata": {
        "id": "Ie9UXhM5XdmS"
      },
      "execution_count": null,
      "outputs": []
    },
    {
      "cell_type": "code",
      "source": [
        "X_train = vectorizer_char.fit_transform(train_tok)\n",
        "X_test = vectorizer_char.transform(test_tok)"
      ],
      "metadata": {
        "id": "PhbXMFTEXdjr"
      },
      "execution_count": null,
      "outputs": []
    },
    {
      "cell_type": "code",
      "source": [
        "X_train.shape, X_test.shape"
      ],
      "metadata": {
        "colab": {
          "base_uri": "https://localhost:8080/"
        },
        "id": "XApfumWUXdgE",
        "outputId": "4a9f50d9-67bb-4372-82dc-237bc377848e"
      },
      "execution_count": null,
      "outputs": [
        {
          "output_type": "execute_result",
          "data": {
            "text/plain": [
              "((1204640, 1048576), (153325, 1048576))"
            ]
          },
          "metadata": {},
          "execution_count": 84
        }
      ]
    },
    {
      "cell_type": "code",
      "source": [
        "%%time\n",
        "lr_char = LogisticRegression(random_state=RANDOM_STATE, solver='sag')\n",
        "lr_char.fit(X_train, y_train)"
      ],
      "metadata": {
        "colab": {
          "base_uri": "https://localhost:8080/"
        },
        "id": "jOhwvzmhXdeC",
        "outputId": "217ab051-534f-4ef0-eb8c-bc512e2aa7d1"
      },
      "execution_count": null,
      "outputs": [
        {
          "output_type": "stream",
          "name": "stdout",
          "text": [
            "CPU times: user 2min 7s, sys: 337 ms, total: 2min 7s\n",
            "Wall time: 2min 6s\n"
          ]
        },
        {
          "output_type": "execute_result",
          "data": {
            "text/plain": [
              "LogisticRegression(random_state=42, solver='sag')"
            ]
          },
          "metadata": {},
          "execution_count": 85
        }
      ]
    },
    {
      "cell_type": "code",
      "source": [
        "pred = lr_char.predict(X_test)"
      ],
      "metadata": {
        "id": "k7RFWEwJXdcY"
      },
      "execution_count": null,
      "outputs": []
    },
    {
      "cell_type": "code",
      "source": [
        "lr_char_score_hv = accuracy_score(y_test, pred)\n",
        "lr_char_score_hv"
      ],
      "metadata": {
        "colab": {
          "base_uri": "https://localhost:8080/"
        },
        "id": "dDB9M3MDXdX8",
        "outputId": "5d8130d7-f94c-4c6f-c664-22f26c55e01f"
      },
      "execution_count": null,
      "outputs": [
        {
          "output_type": "execute_result",
          "data": {
            "text/plain": [
              "0.9425403554541008"
            ]
          },
          "metadata": {},
          "execution_count": 87
        }
      ]
    },
    {
      "cell_type": "markdown",
      "source": [
        "## CountVectorizer"
      ],
      "metadata": {
        "id": "34oTUiilXxNJ"
      }
    },
    {
      "cell_type": "code",
      "source": [
        "vectorizer_char = CountVectorizer(ngram_range=(1, 6), analyzer='char')"
      ],
      "metadata": {
        "id": "oK2qgBQ7X4Lg"
      },
      "execution_count": null,
      "outputs": []
    },
    {
      "cell_type": "code",
      "source": [
        "X_train = vectorizer_char.fit_transform(train_tok)\n",
        "X_test = vectorizer_char.transform(test_tok)"
      ],
      "metadata": {
        "id": "2D-Lz1SJX4GY"
      },
      "execution_count": null,
      "outputs": []
    },
    {
      "cell_type": "code",
      "source": [
        "X_train.shape, X_test.shape"
      ],
      "metadata": {
        "colab": {
          "base_uri": "https://localhost:8080/"
        },
        "id": "MF6DpdNoX4Dl",
        "outputId": "5b1ec629-d8aa-472a-b7dd-785909b2c888"
      },
      "execution_count": null,
      "outputs": [
        {
          "output_type": "execute_result",
          "data": {
            "text/plain": [
              "((1204640, 304810), (153325, 304810))"
            ]
          },
          "metadata": {},
          "execution_count": 96
        }
      ]
    },
    {
      "cell_type": "code",
      "source": [
        "%%time\n",
        "lr_char = LogisticRegression(random_state=RANDOM_STATE, solver='sag')\n",
        "lr_char.fit(X_train, y_train)"
      ],
      "metadata": {
        "colab": {
          "base_uri": "https://localhost:8080/"
        },
        "id": "cKUpQKYAX4At",
        "outputId": "2314250c-3fe7-49c6-be2f-3b1bcc9692d1"
      },
      "execution_count": null,
      "outputs": [
        {
          "output_type": "stream",
          "name": "stdout",
          "text": [
            "CPU times: user 7min 50s, sys: 475 ms, total: 7min 50s\n",
            "Wall time: 7min 48s\n"
          ]
        },
        {
          "output_type": "stream",
          "name": "stderr",
          "text": [
            "/usr/local/lib/python3.8/dist-packages/sklearn/linear_model/_sag.py:352: ConvergenceWarning: The max_iter was reached which means the coef_ did not converge\n",
            "  warnings.warn(\n"
          ]
        },
        {
          "output_type": "execute_result",
          "data": {
            "text/plain": [
              "LogisticRegression(random_state=42, solver='sag')"
            ]
          },
          "metadata": {},
          "execution_count": 97
        }
      ]
    },
    {
      "cell_type": "code",
      "source": [
        "pred = lr_char.predict(X_test)"
      ],
      "metadata": {
        "id": "h716fZQ-X39v"
      },
      "execution_count": null,
      "outputs": []
    },
    {
      "cell_type": "code",
      "source": [
        "lr_char_score_cv = accuracy_score(y_test, pred)\n",
        "lr_char_score_cv"
      ],
      "metadata": {
        "colab": {
          "base_uri": "https://localhost:8080/"
        },
        "id": "tpuDRPdbX817",
        "outputId": "2def3327-7a6f-4c52-a7d0-de9ddc6be423"
      },
      "execution_count": null,
      "outputs": [
        {
          "output_type": "execute_result",
          "data": {
            "text/plain": [
              "0.9509669003750204"
            ]
          },
          "metadata": {},
          "execution_count": 99
        }
      ]
    },
    {
      "cell_type": "markdown",
      "source": [
        "Значительынй прирост в метрике. Лучший результат показал CountVectorizer, но модель обучалась значительно дольше."
      ],
      "metadata": {
        "id": "8lwZkL4IUzkD"
      }
    },
    {
      "cell_type": "markdown",
      "source": [
        "Применим векторизацию по словам:"
      ],
      "metadata": {
        "id": "EZwPJxszPrFO"
      }
    },
    {
      "cell_type": "markdown",
      "source": [
        "## TfidfVectorizer"
      ],
      "metadata": {
        "id": "0msluEiPlqUx"
      }
    },
    {
      "cell_type": "code",
      "source": [
        "vectorizer_word = TfidfVectorizer(ngram_range=(1, 2), analyzer='word')"
      ],
      "metadata": {
        "id": "b1uOJ0mDNlPg"
      },
      "execution_count": null,
      "outputs": []
    },
    {
      "cell_type": "code",
      "source": [
        "X_train = vectorizer_word.fit_transform(train_tok)\n",
        "X_test = vectorizer_word.transform(test_tok)"
      ],
      "metadata": {
        "id": "WexiUavYNlMh"
      },
      "execution_count": null,
      "outputs": []
    },
    {
      "cell_type": "code",
      "source": [
        "%%time\n",
        "lr_word = LogisticRegression(random_state=RANDOM_STATE, solver='sag')\n",
        "lr_word.fit(X_train, y_train)"
      ],
      "metadata": {
        "colab": {
          "base_uri": "https://localhost:8080/"
        },
        "id": "sc6JE4GXNlJn",
        "outputId": "9aa7e37f-97fd-47b2-8f9b-93cf9f02f413"
      },
      "execution_count": null,
      "outputs": [
        {
          "output_type": "stream",
          "name": "stdout",
          "text": [
            "CPU times: user 52.9 s, sys: 290 ms, total: 53.2 s\n",
            "Wall time: 52.9 s\n"
          ]
        },
        {
          "output_type": "execute_result",
          "data": {
            "text/plain": [
              "LogisticRegression(random_state=42, solver='sag')"
            ]
          },
          "metadata": {},
          "execution_count": 102
        }
      ]
    },
    {
      "cell_type": "code",
      "source": [
        "pred = lr_word.predict(X_test)"
      ],
      "metadata": {
        "id": "TMhIK9K9P0I2"
      },
      "execution_count": null,
      "outputs": []
    },
    {
      "cell_type": "code",
      "source": [
        "lr_word_score_tfdf = accuracy_score(y_test, pred)\n",
        "lr_word_score_tfdf"
      ],
      "metadata": {
        "colab": {
          "base_uri": "https://localhost:8080/"
        },
        "id": "IpP55RmXP0GO",
        "outputId": "d6dde797-d0f6-4626-d8a8-1f5f8e9bccec"
      },
      "execution_count": null,
      "outputs": [
        {
          "output_type": "execute_result",
          "data": {
            "text/plain": [
              "0.7632806130767976"
            ]
          },
          "metadata": {},
          "execution_count": 105
        }
      ]
    },
    {
      "cell_type": "markdown",
      "source": [
        "## HashingVectorizer"
      ],
      "metadata": {
        "id": "tLg5YpTTlsnw"
      }
    },
    {
      "cell_type": "code",
      "source": [
        "vectorizer_word = HashingVectorizer(ngram_range=(1, 2), analyzer='word')"
      ],
      "metadata": {
        "id": "-uTNlUA2lxrM"
      },
      "execution_count": null,
      "outputs": []
    },
    {
      "cell_type": "code",
      "source": [
        "X_train = vectorizer_word.fit_transform(train_tok)\n",
        "X_test = vectorizer_word.transform(test_tok)"
      ],
      "metadata": {
        "id": "0r3ISlCMlxoU"
      },
      "execution_count": null,
      "outputs": []
    },
    {
      "cell_type": "code",
      "source": [
        "%%time\n",
        "lr_word = LogisticRegression(random_state=RANDOM_STATE, solver='sag')\n",
        "lr_word.fit(X_train, y_train)"
      ],
      "metadata": {
        "colab": {
          "base_uri": "https://localhost:8080/"
        },
        "id": "IWaDu6rqlxmG",
        "outputId": "7779a651-699f-42bd-b64b-6a4a5858cfaf"
      },
      "execution_count": null,
      "outputs": [
        {
          "output_type": "stream",
          "name": "stdout",
          "text": [
            "CPU times: user 53.4 s, sys: 437 ms, total: 53.8 s\n",
            "Wall time: 53.7 s\n"
          ]
        },
        {
          "output_type": "execute_result",
          "data": {
            "text/plain": [
              "LogisticRegression(random_state=42, solver='sag')"
            ]
          },
          "metadata": {},
          "execution_count": 108
        }
      ]
    },
    {
      "cell_type": "code",
      "source": [
        "pred = lr_word.predict(X_test)"
      ],
      "metadata": {
        "id": "HXNEQ6JClxji"
      },
      "execution_count": null,
      "outputs": []
    },
    {
      "cell_type": "code",
      "source": [
        "lr_word_score_hv = accuracy_score(y_test, pred)\n",
        "lr_word_score_hv"
      ],
      "metadata": {
        "colab": {
          "base_uri": "https://localhost:8080/"
        },
        "id": "_fXvpvljlxgu",
        "outputId": "916ee0c3-6021-4c69-a9e7-fdba09302a1d"
      },
      "execution_count": null,
      "outputs": [
        {
          "output_type": "execute_result",
          "data": {
            "text/plain": [
              "0.7609326593836622"
            ]
          },
          "metadata": {},
          "execution_count": 110
        }
      ]
    },
    {
      "cell_type": "markdown",
      "source": [
        "## CountVectorizer"
      ],
      "metadata": {
        "id": "rv1J2jUSmHK8"
      }
    },
    {
      "cell_type": "code",
      "source": [
        "vectorizer_word = CountVectorizer(ngram_range=(1, 2), analyzer='word')"
      ],
      "metadata": {
        "id": "bab2xaxwmOJW"
      },
      "execution_count": null,
      "outputs": []
    },
    {
      "cell_type": "code",
      "source": [
        "X_train = vectorizer_word.fit_transform(train_tok)\n",
        "X_test = vectorizer_word.transform(test_tok)"
      ],
      "metadata": {
        "id": "Wj5r5CPEmOEy"
      },
      "execution_count": null,
      "outputs": []
    },
    {
      "cell_type": "code",
      "source": [
        "%%time\n",
        "lr_word = LogisticRegression(random_state=RANDOM_STATE, solver='sag')\n",
        "lr_word.fit(X_train, y_train)"
      ],
      "metadata": {
        "colab": {
          "base_uri": "https://localhost:8080/"
        },
        "id": "yvuvsMdzmN_P",
        "outputId": "8b81afda-4756-41ed-d91d-3f3c0be9fef0"
      },
      "execution_count": null,
      "outputs": [
        {
          "output_type": "stream",
          "name": "stdout",
          "text": [
            "CPU times: user 1min 29s, sys: 99.9 ms, total: 1min 29s\n",
            "Wall time: 1min 29s\n"
          ]
        },
        {
          "output_type": "execute_result",
          "data": {
            "text/plain": [
              "LogisticRegression(random_state=42, solver='sag')"
            ]
          },
          "metadata": {},
          "execution_count": 113
        }
      ]
    },
    {
      "cell_type": "code",
      "source": [
        "pred = lr_word.predict(X_test)"
      ],
      "metadata": {
        "id": "go7jmBWTmN47"
      },
      "execution_count": null,
      "outputs": []
    },
    {
      "cell_type": "code",
      "source": [
        "lr_word_score_cv = accuracy_score(y_test, pred)\n",
        "lr_word_score_cv"
      ],
      "metadata": {
        "colab": {
          "base_uri": "https://localhost:8080/"
        },
        "id": "puaYWKJHlxeD",
        "outputId": "6a5eecd2-0fda-41af-8c77-f03d211c4c56"
      },
      "execution_count": null,
      "outputs": [
        {
          "output_type": "execute_result",
          "data": {
            "text/plain": [
              "0.7632480026088374"
            ]
          },
          "metadata": {},
          "execution_count": 115
        }
      ]
    },
    {
      "cell_type": "markdown",
      "source": [
        "Tfidf показал чуть лучше результат чем CountVectorizer.\n",
        "HashingVectorizer хуже остальных.\n"
      ],
      "metadata": {
        "id": "Tmi7KN3tP30Q"
      }
    },
    {
      "cell_type": "markdown",
      "source": [
        "Внесём все данные в таблицу:"
      ],
      "metadata": {
        "id": "WAh3yRCuP5PW"
      }
    },
    {
      "cell_type": "code",
      "source": [
        "comparison_mytaggers_vectorizers = pd.concat((comparison_mytaggers, \n",
        "                                              pd.DataFrame(round(lr_char_score_tfdf, 3), index=['Char Tfidf + Logistic Regression'], \n",
        "                                                                                    columns=['Score'])), axis=0)\n",
        "comparison_mytaggers_vectorizers = pd.concat((comparison_mytaggers_vectorizers, \n",
        "                                              pd.DataFrame(round(lr_char_score_hv, 3), index=['Char HashingVectorizer + Logistic Regression'], \n",
        "                                                                                    columns=['Score'])), axis=0)\n",
        "comparison_mytaggers_vectorizers = pd.concat((comparison_mytaggers_vectorizers, \n",
        "                                              pd.DataFrame(round(lr_char_score_cv, 3), index=['Char CountVectorizer + Logistic Regression'], \n",
        "                                                                                    columns=['Score'])), axis=0)\n",
        "comparison_mytaggers_vectorizers = pd.concat((comparison_mytaggers_vectorizers, \n",
        "                                              pd.DataFrame(round(lr_word_score_tfdt, 3), index=['Word Tfidf + Logistic Regression'], \n",
        "                                                                                    columns=['Score'])), axis=0)\n",
        "comparison_mytaggers_vectorizers = pd.concat((comparison_mytaggers_vectorizers, \n",
        "                                              pd.DataFrame(round(lr_word_score_hv, 3), index=['Word HashingVectorizer + Logistic Regression'], \n",
        "                                                                                    columns=['Score'])), axis=0)\n",
        "comparison_mytaggers_vectorizers = pd.concat((comparison_mytaggers_vectorizers, \n",
        "                                              pd.DataFrame(round(lr_word_score_cv, 3), index=['Word CountVectorizer + Logistic Regression'], \n",
        "                                                                                    columns=['Score'])), axis=0)\n",
        "\n",
        "comparison_mytaggers_vectorizers.sort_values('Score', ascending=False, inplace=True)\n",
        "comparison_mytaggers_vectorizers"
      ],
      "metadata": {
        "colab": {
          "base_uri": "https://localhost:8080/",
          "height": 771
        },
        "id": "5Nlt807dP0Dp",
        "outputId": "ff229c43-f5f2-4235-b2c1-8369ac7ca521"
      },
      "execution_count": null,
      "outputs": [
        {
          "output_type": "execute_result",
          "data": {
            "text/plain": [
              "                                              Score\n",
              "Char CountVectorizer + Logistic Regression    0.951\n",
              "Char Tfidf + Logistic Regression              0.947\n",
              "Char HashingVectorizer + Logistic Regression  0.943\n",
              "Trigram + Unigram + Default                   0.912\n",
              "Bigram + Unigram + Default                    0.912\n",
              "Trigram + Bigram + Unigram + Default          0.912\n",
              "MyUniTagger + Default                         0.908\n",
              "Unigram + Default                             0.906\n",
              "Bigram + Unigram                              0.884\n",
              "Trigram + Unigram                             0.883\n",
              "Trigram + Bigram + Unigram                    0.883\n",
              "MyUniTagger                                   0.883\n",
              "Unigram                                       0.878\n",
              "Trigram + Bigram + Default                    0.861\n",
              "Bigram + Default                              0.861\n",
              "Trigram + Default                             0.791\n",
              "Word Tfidf + Logistic Regression              0.763\n",
              "Word CountVectorizer + Logistic Regression    0.763\n",
              "Word HashingVectorizer + Logistic Regression  0.761\n",
              "Bigram                                        0.710\n",
              "Trigram + Bigram                              0.703\n",
              "Trigram                                       0.407\n",
              "Default                                       0.236"
            ],
            "text/html": [
              "\n",
              "  <div id=\"df-42d22fbf-cdfc-4bb4-9f22-616188779b0d\">\n",
              "    <div class=\"colab-df-container\">\n",
              "      <div>\n",
              "<style scoped>\n",
              "    .dataframe tbody tr th:only-of-type {\n",
              "        vertical-align: middle;\n",
              "    }\n",
              "\n",
              "    .dataframe tbody tr th {\n",
              "        vertical-align: top;\n",
              "    }\n",
              "\n",
              "    .dataframe thead th {\n",
              "        text-align: right;\n",
              "    }\n",
              "</style>\n",
              "<table border=\"1\" class=\"dataframe\">\n",
              "  <thead>\n",
              "    <tr style=\"text-align: right;\">\n",
              "      <th></th>\n",
              "      <th>Score</th>\n",
              "    </tr>\n",
              "  </thead>\n",
              "  <tbody>\n",
              "    <tr>\n",
              "      <th>Char CountVectorizer + Logistic Regression</th>\n",
              "      <td>0.951</td>\n",
              "    </tr>\n",
              "    <tr>\n",
              "      <th>Char Tfidf + Logistic Regression</th>\n",
              "      <td>0.947</td>\n",
              "    </tr>\n",
              "    <tr>\n",
              "      <th>Char HashingVectorizer + Logistic Regression</th>\n",
              "      <td>0.943</td>\n",
              "    </tr>\n",
              "    <tr>\n",
              "      <th>Trigram + Unigram + Default</th>\n",
              "      <td>0.912</td>\n",
              "    </tr>\n",
              "    <tr>\n",
              "      <th>Bigram + Unigram + Default</th>\n",
              "      <td>0.912</td>\n",
              "    </tr>\n",
              "    <tr>\n",
              "      <th>Trigram + Bigram + Unigram + Default</th>\n",
              "      <td>0.912</td>\n",
              "    </tr>\n",
              "    <tr>\n",
              "      <th>MyUniTagger + Default</th>\n",
              "      <td>0.908</td>\n",
              "    </tr>\n",
              "    <tr>\n",
              "      <th>Unigram + Default</th>\n",
              "      <td>0.906</td>\n",
              "    </tr>\n",
              "    <tr>\n",
              "      <th>Bigram + Unigram</th>\n",
              "      <td>0.884</td>\n",
              "    </tr>\n",
              "    <tr>\n",
              "      <th>Trigram + Unigram</th>\n",
              "      <td>0.883</td>\n",
              "    </tr>\n",
              "    <tr>\n",
              "      <th>Trigram + Bigram + Unigram</th>\n",
              "      <td>0.883</td>\n",
              "    </tr>\n",
              "    <tr>\n",
              "      <th>MyUniTagger</th>\n",
              "      <td>0.883</td>\n",
              "    </tr>\n",
              "    <tr>\n",
              "      <th>Unigram</th>\n",
              "      <td>0.878</td>\n",
              "    </tr>\n",
              "    <tr>\n",
              "      <th>Trigram + Bigram + Default</th>\n",
              "      <td>0.861</td>\n",
              "    </tr>\n",
              "    <tr>\n",
              "      <th>Bigram + Default</th>\n",
              "      <td>0.861</td>\n",
              "    </tr>\n",
              "    <tr>\n",
              "      <th>Trigram + Default</th>\n",
              "      <td>0.791</td>\n",
              "    </tr>\n",
              "    <tr>\n",
              "      <th>Word Tfidf + Logistic Regression</th>\n",
              "      <td>0.763</td>\n",
              "    </tr>\n",
              "    <tr>\n",
              "      <th>Word CountVectorizer + Logistic Regression</th>\n",
              "      <td>0.763</td>\n",
              "    </tr>\n",
              "    <tr>\n",
              "      <th>Word HashingVectorizer + Logistic Regression</th>\n",
              "      <td>0.761</td>\n",
              "    </tr>\n",
              "    <tr>\n",
              "      <th>Bigram</th>\n",
              "      <td>0.710</td>\n",
              "    </tr>\n",
              "    <tr>\n",
              "      <th>Trigram + Bigram</th>\n",
              "      <td>0.703</td>\n",
              "    </tr>\n",
              "    <tr>\n",
              "      <th>Trigram</th>\n",
              "      <td>0.407</td>\n",
              "    </tr>\n",
              "    <tr>\n",
              "      <th>Default</th>\n",
              "      <td>0.236</td>\n",
              "    </tr>\n",
              "  </tbody>\n",
              "</table>\n",
              "</div>\n",
              "      <button class=\"colab-df-convert\" onclick=\"convertToInteractive('df-42d22fbf-cdfc-4bb4-9f22-616188779b0d')\"\n",
              "              title=\"Convert this dataframe to an interactive table.\"\n",
              "              style=\"display:none;\">\n",
              "        \n",
              "  <svg xmlns=\"http://www.w3.org/2000/svg\" height=\"24px\"viewBox=\"0 0 24 24\"\n",
              "       width=\"24px\">\n",
              "    <path d=\"M0 0h24v24H0V0z\" fill=\"none\"/>\n",
              "    <path d=\"M18.56 5.44l.94 2.06.94-2.06 2.06-.94-2.06-.94-.94-2.06-.94 2.06-2.06.94zm-11 1L8.5 8.5l.94-2.06 2.06-.94-2.06-.94L8.5 2.5l-.94 2.06-2.06.94zm10 10l.94 2.06.94-2.06 2.06-.94-2.06-.94-.94-2.06-.94 2.06-2.06.94z\"/><path d=\"M17.41 7.96l-1.37-1.37c-.4-.4-.92-.59-1.43-.59-.52 0-1.04.2-1.43.59L10.3 9.45l-7.72 7.72c-.78.78-.78 2.05 0 2.83L4 21.41c.39.39.9.59 1.41.59.51 0 1.02-.2 1.41-.59l7.78-7.78 2.81-2.81c.8-.78.8-2.07 0-2.86zM5.41 20L4 18.59l7.72-7.72 1.47 1.35L5.41 20z\"/>\n",
              "  </svg>\n",
              "      </button>\n",
              "      \n",
              "  <style>\n",
              "    .colab-df-container {\n",
              "      display:flex;\n",
              "      flex-wrap:wrap;\n",
              "      gap: 12px;\n",
              "    }\n",
              "\n",
              "    .colab-df-convert {\n",
              "      background-color: #E8F0FE;\n",
              "      border: none;\n",
              "      border-radius: 50%;\n",
              "      cursor: pointer;\n",
              "      display: none;\n",
              "      fill: #1967D2;\n",
              "      height: 32px;\n",
              "      padding: 0 0 0 0;\n",
              "      width: 32px;\n",
              "    }\n",
              "\n",
              "    .colab-df-convert:hover {\n",
              "      background-color: #E2EBFA;\n",
              "      box-shadow: 0px 1px 2px rgba(60, 64, 67, 0.3), 0px 1px 3px 1px rgba(60, 64, 67, 0.15);\n",
              "      fill: #174EA6;\n",
              "    }\n",
              "\n",
              "    [theme=dark] .colab-df-convert {\n",
              "      background-color: #3B4455;\n",
              "      fill: #D2E3FC;\n",
              "    }\n",
              "\n",
              "    [theme=dark] .colab-df-convert:hover {\n",
              "      background-color: #434B5C;\n",
              "      box-shadow: 0px 1px 3px 1px rgba(0, 0, 0, 0.15);\n",
              "      filter: drop-shadow(0px 1px 2px rgba(0, 0, 0, 0.3));\n",
              "      fill: #FFFFFF;\n",
              "    }\n",
              "  </style>\n",
              "\n",
              "      <script>\n",
              "        const buttonEl =\n",
              "          document.querySelector('#df-42d22fbf-cdfc-4bb4-9f22-616188779b0d button.colab-df-convert');\n",
              "        buttonEl.style.display =\n",
              "          google.colab.kernel.accessAllowed ? 'block' : 'none';\n",
              "\n",
              "        async function convertToInteractive(key) {\n",
              "          const element = document.querySelector('#df-42d22fbf-cdfc-4bb4-9f22-616188779b0d');\n",
              "          const dataTable =\n",
              "            await google.colab.kernel.invokeFunction('convertToInteractive',\n",
              "                                                     [key], {});\n",
              "          if (!dataTable) return;\n",
              "\n",
              "          const docLinkHtml = 'Like what you see? Visit the ' +\n",
              "            '<a target=\"_blank\" href=https://colab.research.google.com/notebooks/data_table.ipynb>data table notebook</a>'\n",
              "            + ' to learn more about interactive tables.';\n",
              "          element.innerHTML = '';\n",
              "          dataTable['output_type'] = 'display_data';\n",
              "          await google.colab.output.renderOutput(dataTable, element);\n",
              "          const docLink = document.createElement('div');\n",
              "          docLink.innerHTML = docLinkHtml;\n",
              "          element.appendChild(docLink);\n",
              "        }\n",
              "      </script>\n",
              "    </div>\n",
              "  </div>\n",
              "  "
            ]
          },
          "metadata": {},
          "execution_count": 117
        }
      ]
    },
    {
      "cell_type": "markdown",
      "source": [
        "С большим отрывом лидируют логистическая регрессия с Tfidf, CountVectorizer и HashingVectorizer векторизацией\n",
        "по символам. Лучший результат CountVectorizer. Векторизация по словам оказалась значительно хуже, и это объяснимо:\n",
        "ведь о части речи может говорить какая-то часть слова, например, окончание, а не\n",
        "всё слово целиком."
      ],
      "metadata": {
        "id": "iPbkIW6bP_a5"
      }
    }
  ]
}